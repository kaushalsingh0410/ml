{
 "cells": [
  {
   "cell_type": "code",
   "execution_count": 28,
   "id": "b365ccbf-dce2-4064-a7ec-008b35740300",
   "metadata": {},
   "outputs": [],
   "source": [
    "from sklearn.datasets import make_regression\n",
    "from sklearn.linear_model import LinearRegression\n",
    "import numpy as np\n",
    "import pandas as pd\n",
    "import matplotlib.pyplot as plt\n",
    "import plotly.graph_objs as go"
   ]
  },
  {
   "cell_type": "code",
   "execution_count": 10,
   "id": "101717c1-ade3-4250-9716-0cff70efc713",
   "metadata": {},
   "outputs": [
    {
     "data": {
      "text/plain": [
       "array([  7.21786552,  16.04609925, -27.83756166, 144.36688189])"
      ]
     },
     "execution_count": 10,
     "metadata": {},
     "output_type": "execute_result"
    }
   ],
   "source": [
    "x,y = make_regression(n_samples=4, n_features=1, n_informative=1, n_targets=1,noise=80,random_state=13)\n",
    "y"
   ]
  },
  {
   "cell_type": "code",
   "execution_count": 13,
   "id": "de8011d4-e22a-40e3-ba87-516f176723e9",
   "metadata": {},
   "outputs": [
    {
     "data": {
      "image/png": "[encoded data removed]",
      "text/plain": [
       "<Figure size 640x480 with 1 Axes>"
      ]
     },
     "metadata": {},
     "output_type": "display_data"
    }
   ],
   "source": [
    "plt.scatter(x,y)\n",
    "plt.show()"
   ]
  },
  {
   "cell_type": "code",
   "execution_count": 15,
   "id": "a2dbb34a-fdd9-4501-a2f9-ac3573ad730d",
   "metadata": {},
   "outputs": [
    {
     "data": {
      "text/html": [
       "<style>#sk-container-id-1 {\n",
       "  /* Definition of color scheme common for light and dark mode */\n",
       "  --sklearn-color-text: black;\n",
       "  --sklearn-color-line: gray;\n",
       "  /* Definition of color scheme for unfitted estimators */\n",
       "  --sklearn-color-unfitted-level-0: #fff5e6;\n",
       "  --sklearn-color-unfitted-level-1: #f6e4d2;\n",
       "  --sklearn-color-unfitted-level-2: #ffe0b3;\n",
       "  --sklearn-color-unfitted-level-3: chocolate;\n",
       "  /* Definition of color scheme for fitted estimators */\n",
       "  --sklearn-color-fitted-level-0: #f0f8ff;\n",
       "  --sklearn-color-fitted-level-1: #d4ebff;\n",
       "  --sklearn-color-fitted-level-2: #b3dbfd;\n",
       "  --sklearn-color-fitted-level-3: cornflowerblue;\n",
       "\n",
       "  /* Specific color for light theme */\n",
       "  --sklearn-color-text-on-default-background: var(--sg-text-color, var(--theme-code-foreground, var(--jp-content-font-color1, black)));\n",
       "  --sklearn-color-background: var(--sg-background-color, var(--theme-background, var(--jp-layout-color0, white)));\n",
       "  --sklearn-color-border-box: var(--sg-text-color, var(--theme-code-foreground, var(--jp-content-font-color1, black)));\n",
       "  --sklearn-color-icon: #696969;\n",
       "\n",
       "  @media (prefers-color-scheme: dark) {\n",
       "    /* Redefinition of color scheme for dark theme */\n",
       "    --sklearn-color-text-on-default-background: var(--sg-text-color, var(--theme-code-foreground, var(--jp-content-font-color1, white)));\n",
       "    --sklearn-color-background: var(--sg-background-color, var(--theme-background, var(--jp-layout-color0, #111)));\n",
       "    --sklearn-color-border-box: var(--sg-text-color, var(--theme-code-foreground, var(--jp-content-font-color1, white)));\n",
       "    --sklearn-color-icon: #878787;\n",
       "  }\n",
       "}\n",
       "\n",
       "#sk-container-id-1 {\n",
       "  color: var(--sklearn-color-text);\n",
       "}\n",
       "\n",
       "#sk-container-id-1 pre {\n",
       "  padding: 0;\n",
       "}\n",
       "\n",
       "#sk-container-id-1 input.sk-hidden--visually {\n",
       "  border: 0;\n",
       "  clip: rect(1px 1px 1px 1px);\n",
       "  clip: rect(1px, 1px, 1px, 1px);\n",
       "  height: 1px;\n",
       "  margin: -1px;\n",
       "  overflow: hidden;\n",
       "  padding: 0;\n",
       "  position: absolute;\n",
       "  width: 1px;\n",
       "}\n",
       "\n",
       "#sk-container-id-1 div.sk-dashed-wrapped {\n",
       "  border: 1px dashed var(--sklearn-color-line);\n",
       "  margin: 0 0.4em 0.5em 0.4em;\n",
       "  box-sizing: border-box;\n",
       "  padding-bottom: 0.4em;\n",
       "  background-color: var(--sklearn-color-background);\n",
       "}\n",
       "\n",
       "#sk-container-id-1 div.sk-container {\n",
       "  /* jupyter's `normalize.less` sets `[hidden] { display: none; }`\n",
       "     but bootstrap.min.css set `[hidden] { display: none !important; }`\n",
       "     so we also need the `!important` here to be able to override the\n",
       "     default hidden behavior on the sphinx rendered scikit-learn.org.\n",
       "     See: https://github.com/scikit-learn/scikit-learn/issues/21755 */\n",
       "  display: inline-block !important;\n",
       "  position: relative;\n",
       "}\n",
       "\n",
       "#sk-container-id-1 div.sk-text-repr-fallback {\n",
       "  display: none;\n",
       "}\n",
       "\n",
       "div.sk-parallel-item,\n",
       "div.sk-serial,\n",
       "div.sk-item {\n",
       "  /* draw centered vertical line to link estimators */\n",
       "  background-image: linear-gradient(var(--sklearn-color-text-on-default-background), var(--sklearn-color-text-on-default-background));\n",
       "  background-size: 2px 100%;\n",
       "  background-repeat: no-repeat;\n",
       "  background-position: center center;\n",
       "}\n",
       "\n",
       "/* Parallel-specific style estimator block */\n",
       "\n",
       "#sk-container-id-1 div.sk-parallel-item::after {\n",
       "  content: \"\";\n",
       "  width: 100%;\n",
       "  border-bottom: 2px solid var(--sklearn-color-text-on-default-background);\n",
       "  flex-grow: 1;\n",
       "}\n",
       "\n",
       "#sk-container-id-1 div.sk-parallel {\n",
       "  display: flex;\n",
       "  align-items: stretch;\n",
       "  justify-content: center;\n",
       "  background-color: var(--sklearn-color-background);\n",
       "  position: relative;\n",
       "}\n",
       "\n",
       "#sk-container-id-1 div.sk-parallel-item {\n",
       "  display: flex;\n",
       "  flex-direction: column;\n",
       "}\n",
       "\n",
       "#sk-container-id-1 div.sk-parallel-item:first-child::after {\n",
       "  align-self: flex-end;\n",
       "  width: 50%;\n",
       "}\n",
       "\n",
       "#sk-container-id-1 div.sk-parallel-item:last-child::after {\n",
       "  align-self: flex-start;\n",
       "  width: 50%;\n",
       "}\n",
       "\n",
       "#sk-container-id-1 div.sk-parallel-item:only-child::after {\n",
       "  width: 0;\n",
       "}\n",
       "\n",
       "/* Serial-specific style estimator block */\n",
       "\n",
       "#sk-container-id-1 div.sk-serial {\n",
       "  display: flex;\n",
       "  flex-direction: column;\n",
       "  align-items: center;\n",
       "  background-color: var(--sklearn-color-background);\n",
       "  padding-right: 1em;\n",
       "  padding-left: 1em;\n",
       "}\n",
       "\n",
       "\n",
       "/* Toggleable style: style used for estimator/Pipeline/ColumnTransformer box that is\n",
       "clickable and can be expanded/collapsed.\n",
       "- Pipeline and ColumnTransformer use this feature and define the default style\n",
       "- Estimators will overwrite some part of the style using the `sk-estimator` class\n",
       "*/\n",
       "\n",
       "/* Pipeline and ColumnTransformer style (default) */\n",
       "\n",
       "#sk-container-id-1 div.sk-toggleable {\n",
       "  /* Default theme specific background. It is overwritten whether we have a\n",
       "  specific estimator or a Pipeline/ColumnTransformer */\n",
       "  background-color: var(--sklearn-color-background);\n",
       "}\n",
       "\n",
       "/* Toggleable label */\n",
       "#sk-container-id-1 label.sk-toggleable__label {\n",
       "  cursor: pointer;\n",
       "  display: block;\n",
       "  width: 100%;\n",
       "  margin-bottom: 0;\n",
       "  padding: 0.5em;\n",
       "  box-sizing: border-box;\n",
       "  text-align: center;\n",
       "}\n",
       "\n",
       "#sk-container-id-1 label.sk-toggleable__label-arrow:before {\n",
       "  /* Arrow on the left of the label */\n",
       "  content: \"▸\";\n",
       "  float: left;\n",
       "  margin-right: 0.25em;\n",
       "  color: var(--sklearn-color-icon);\n",
       "}\n",
       "\n",
       "#sk-container-id-1 label.sk-toggleable__label-arrow:hover:before {\n",
       "  color: var(--sklearn-color-text);\n",
       "}\n",
       "\n",
       "/* Toggleable content - dropdown */\n",
       "\n",
       "#sk-container-id-1 div.sk-toggleable__content {\n",
       "  max-height: 0;\n",
       "  max-width: 0;\n",
       "  overflow: hidden;\n",
       "  text-align: left;\n",
       "  /* unfitted */\n",
       "  background-color: var(--sklearn-color-unfitted-level-0);\n",
       "}\n",
       "\n",
       "#sk-container-id-1 div.sk-toggleable__content.fitted {\n",
       "  /* fitted */\n",
       "  background-color: var(--sklearn-color-fitted-level-0);\n",
       "}\n",
       "\n",
       "#sk-container-id-1 div.sk-toggleable__content pre {\n",
       "  margin: 0.2em;\n",
       "  border-radius: 0.25em;\n",
       "  color: var(--sklearn-color-text);\n",
       "  /* unfitted */\n",
       "  background-color: var(--sklearn-color-unfitted-level-0);\n",
       "}\n",
       "\n",
       "#sk-container-id-1 div.sk-toggleable__content.fitted pre {\n",
       "  /* unfitted */\n",
       "  background-color: var(--sklearn-color-fitted-level-0);\n",
       "}\n",
       "\n",
       "#sk-container-id-1 input.sk-toggleable__control:checked~div.sk-toggleable__content {\n",
       "  /* Expand drop-down */\n",
       "  max-height: 200px;\n",
       "  max-width: 100%;\n",
       "  overflow: auto;\n",
       "}\n",
       "\n",
       "#sk-container-id-1 input.sk-toggleable__control:checked~label.sk-toggleable__label-arrow:before {\n",
       "  content: \"▾\";\n",
       "}\n",
       "\n",
       "/* Pipeline/ColumnTransformer-specific style */\n",
       "\n",
       "#sk-container-id-1 div.sk-label input.sk-toggleable__control:checked~label.sk-toggleable__label {\n",
       "  color: var(--sklearn-color-text);\n",
       "  background-color: var(--sklearn-color-unfitted-level-2);\n",
       "}\n",
       "\n",
       "#sk-container-id-1 div.sk-label.fitted input.sk-toggleable__control:checked~label.sk-toggleable__label {\n",
       "  background-color: var(--sklearn-color-fitted-level-2);\n",
       "}\n",
       "\n",
       "/* Estimator-specific style */\n",
       "\n",
       "/* Colorize estimator box */\n",
       "#sk-container-id-1 div.sk-estimator input.sk-toggleable__control:checked~label.sk-toggleable__label {\n",
       "  /* unfitted */\n",
       "  background-color: var(--sklearn-color-unfitted-level-2);\n",
       "}\n",
       "\n",
       "#sk-container-id-1 div.sk-estimator.fitted input.sk-toggleable__control:checked~label.sk-toggleable__label {\n",
       "  /* fitted */\n",
       "  background-color: var(--sklearn-color-fitted-level-2);\n",
       "}\n",
       "\n",
       "#sk-container-id-1 div.sk-label label.sk-toggleable__label,\n",
       "#sk-container-id-1 div.sk-label label {\n",
       "  /* The background is the default theme color */\n",
       "  color: var(--sklearn-color-text-on-default-background);\n",
       "}\n",
       "\n",
       "/* On hover, darken the color of the background */\n",
       "#sk-container-id-1 div.sk-label:hover label.sk-toggleable__label {\n",
       "  color: var(--sklearn-color-text);\n",
       "  background-color: var(--sklearn-color-unfitted-level-2);\n",
       "}\n",
       "\n",
       "/* Label box, darken color on hover, fitted */\n",
       "#sk-container-id-1 div.sk-label.fitted:hover label.sk-toggleable__label.fitted {\n",
       "  color: var(--sklearn-color-text);\n",
       "  background-color: var(--sklearn-color-fitted-level-2);\n",
       "}\n",
       "\n",
       "/* Estimator label */\n",
       "\n",
       "#sk-container-id-1 div.sk-label label {\n",
       "  font-family: monospace;\n",
       "  font-weight: bold;\n",
       "  display: inline-block;\n",
       "  line-height: 1.2em;\n",
       "}\n",
       "\n",
       "#sk-container-id-1 div.sk-label-container {\n",
       "  text-align: center;\n",
       "}\n",
       "\n",
       "/* Estimator-specific */\n",
       "#sk-container-id-1 div.sk-estimator {\n",
       "  font-family: monospace;\n",
       "  border: 1px dotted var(--sklearn-color-border-box);\n",
       "  border-radius: 0.25em;\n",
       "  box-sizing: border-box;\n",
       "  margin-bottom: 0.5em;\n",
       "  /* unfitted */\n",
       "  background-color: var(--sklearn-color-unfitted-level-0);\n",
       "}\n",
       "\n",
       "#sk-container-id-1 div.sk-estimator.fitted {\n",
       "  /* fitted */\n",
       "  background-color: var(--sklearn-color-fitted-level-0);\n",
       "}\n",
       "\n",
       "/* on hover */\n",
       "#sk-container-id-1 div.sk-estimator:hover {\n",
       "  /* unfitted */\n",
       "  background-color: var(--sklearn-color-unfitted-level-2);\n",
       "}\n",
       "\n",
       "#sk-container-id-1 div.sk-estimator.fitted:hover {\n",
       "  /* fitted */\n",
       "  background-color: var(--sklearn-color-fitted-level-2);\n",
       "}\n",
       "\n",
       "/* Specification for estimator info (e.g. \"i\" and \"?\") */\n",
       "\n",
       "/* Common style for \"i\" and \"?\" */\n",
       "\n",
       ".sk-estimator-doc-link,\n",
       "a:link.sk-estimator-doc-link,\n",
       "a:visited.sk-estimator-doc-link {\n",
       "  float: right;\n",
       "  font-size: smaller;\n",
       "  line-height: 1em;\n",
       "  font-family: monospace;\n",
       "  background-color: var(--sklearn-color-background);\n",
       "  border-radius: 1em;\n",
       "  height: 1em;\n",
       "  width: 1em;\n",
       "  text-decoration: none !important;\n",
       "  margin-left: 1ex;\n",
       "  /* unfitted */\n",
       "  border: var(--sklearn-color-unfitted-level-1) 1pt solid;\n",
       "  color: var(--sklearn-color-unfitted-level-1);\n",
       "}\n",
       "\n",
       ".sk-estimator-doc-link.fitted,\n",
       "a:link.sk-estimator-doc-link.fitted,\n",
       "a:visited.sk-estimator-doc-link.fitted {\n",
       "  /* fitted */\n",
       "  border: var(--sklearn-color-fitted-level-1) 1pt solid;\n",
       "  color: var(--sklearn-color-fitted-level-1);\n",
       "}\n",
       "\n",
       "/* On hover */\n",
       "div.sk-estimator:hover .sk-estimator-doc-link:hover,\n",
       ".sk-estimator-doc-link:hover,\n",
       "div.sk-label-container:hover .sk-estimator-doc-link:hover,\n",
       ".sk-estimator-doc-link:hover {\n",
       "  /* unfitted */\n",
       "  background-color: var(--sklearn-color-unfitted-level-3);\n",
       "  color: var(--sklearn-color-background);\n",
       "  text-decoration: none;\n",
       "}\n",
       "\n",
       "div.sk-estimator.fitted:hover .sk-estimator-doc-link.fitted:hover,\n",
       ".sk-estimator-doc-link.fitted:hover,\n",
       "div.sk-label-container:hover .sk-estimator-doc-link.fitted:hover,\n",
       ".sk-estimator-doc-link.fitted:hover {\n",
       "  /* fitted */\n",
       "  background-color: var(--sklearn-color-fitted-level-3);\n",
       "  color: var(--sklearn-color-background);\n",
       "  text-decoration: none;\n",
       "}\n",
       "\n",
       "/* Span, style for the box shown on hovering the info icon */\n",
       ".sk-estimator-doc-link span {\n",
       "  display: none;\n",
       "  z-index: 9999;\n",
       "  position: relative;\n",
       "  font-weight: normal;\n",
       "  right: .2ex;\n",
       "  padding: .5ex;\n",
       "  margin: .5ex;\n",
       "  width: min-content;\n",
       "  min-width: 20ex;\n",
       "  max-width: 50ex;\n",
       "  color: var(--sklearn-color-text);\n",
       "  box-shadow: 2pt 2pt 4pt #999;\n",
       "  /* unfitted */\n",
       "  background: var(--sklearn-color-unfitted-level-0);\n",
       "  border: .5pt solid var(--sklearn-color-unfitted-level-3);\n",
       "}\n",
       "\n",
       ".sk-estimator-doc-link.fitted span {\n",
       "  /* fitted */\n",
       "  background: var(--sklearn-color-fitted-level-0);\n",
       "  border: var(--sklearn-color-fitted-level-3);\n",
       "}\n",
       "\n",
       ".sk-estimator-doc-link:hover span {\n",
       "  display: block;\n",
       "}\n",
       "\n",
       "/* \"?\"-specific style due to the `<a>` HTML tag */\n",
       "\n",
       "#sk-container-id-1 a.estimator_doc_link {\n",
       "  float: right;\n",
       "  font-size: 1rem;\n",
       "  line-height: 1em;\n",
       "  font-family: monospace;\n",
       "  background-color: var(--sklearn-color-background);\n",
       "  border-radius: 1rem;\n",
       "  height: 1rem;\n",
       "  width: 1rem;\n",
       "  text-decoration: none;\n",
       "  /* unfitted */\n",
       "  color: var(--sklearn-color-unfitted-level-1);\n",
       "  border: var(--sklearn-color-unfitted-level-1) 1pt solid;\n",
       "}\n",
       "\n",
       "#sk-container-id-1 a.estimator_doc_link.fitted {\n",
       "  /* fitted */\n",
       "  border: var(--sklearn-color-fitted-level-1) 1pt solid;\n",
       "  color: var(--sklearn-color-fitted-level-1);\n",
       "}\n",
       "\n",
       "/* On hover */\n",
       "#sk-container-id-1 a.estimator_doc_link:hover {\n",
       "  /* unfitted */\n",
       "  background-color: var(--sklearn-color-unfitted-level-3);\n",
       "  color: var(--sklearn-color-background);\n",
       "  text-decoration: none;\n",
       "}\n",
       "\n",
       "#sk-container-id-1 a.estimator_doc_link.fitted:hover {\n",
       "  /* fitted */\n",
       "  background-color: var(--sklearn-color-fitted-level-3);\n",
       "}\n",
       "</style><div id=\"sk-container-id-1\" class=\"sk-top-container\"><div class=\"sk-text-repr-fallback\"><pre>LinearRegression()</pre><b>In a Jupyter environment, please rerun this cell to show the HTML representation or trust the notebook. <br />On GitHub, the HTML representation is unable to render, please try loading this page with nbviewer.org.</b></div><div class=\"sk-container\" hidden><div class=\"sk-item\"><div class=\"sk-estimator fitted sk-toggleable\"><input class=\"sk-toggleable__control sk-hidden--visually\" id=\"sk-estimator-id-1\" type=\"checkbox\" checked><label for=\"sk-estimator-id-1\" class=\"sk-toggleable__label fitted sk-toggleable__label-arrow fitted\">&nbsp;&nbsp;LinearRegression<a class=\"sk-estimator-doc-link fitted\" rel=\"noreferrer\" target=\"_blank\" href=\"https://scikit-learn.org/1.5/modules/generated/sklearn.linear_model.LinearRegression.html\">?<span>Documentation for LinearRegression</span></a><span class=\"sk-estimator-doc-link fitted\">i<span>Fitted</span></span></label><div class=\"sk-toggleable__content fitted\"><pre>LinearRegression()</pre></div> </div></div></div></div>"
      ],
      "text/plain": [
       "LinearRegression()"
      ]
     },
     "execution_count": 15,
     "metadata": {},
     "output_type": "execute_result"
    }
   ],
   "source": [
    "reg = LinearRegression()\n",
    "reg.fit(x,y)"
   ]
  },
  {
   "cell_type": "code",
   "execution_count": 16,
   "id": "771646bb-296b-45c8-beb0-16018db096e7",
   "metadata": {},
   "outputs": [
    {
     "data": {
      "text/plain": [
       "array([78.35063668])"
      ]
     },
     "execution_count": 16,
     "metadata": {},
     "output_type": "execute_result"
    }
   ],
   "source": [
    "reg.coef_"
   ]
  },
  {
   "cell_type": "code",
   "execution_count": 17,
   "id": "fd87a7aa-8ce4-4aba-80dd-8231caea9ea0",
   "metadata": {},
   "outputs": [
    {
     "data": {
      "text/plain": [
       "np.float64(26.15963284313262)"
      ]
     },
     "execution_count": 17,
     "metadata": {},
     "output_type": "execute_result"
    }
   ],
   "source": [
    "reg.intercept_"
   ]
  },
  {
   "cell_type": "code",
   "execution_count": 18,
   "id": "04c05a35-3db8-4d5c-96b4-0a6510af915e",
   "metadata": {},
   "outputs": [
    {
     "data": {
      "text/plain": [
       "array([-29.65662909,  61.55941724,  22.67278832,  85.21770852])"
      ]
     },
     "execution_count": 18,
     "metadata": {},
     "output_type": "execute_result"
    }
   ],
   "source": [
    "reg.predict(x)"
   ]
  },
  {
   "cell_type": "code",
   "execution_count": 19,
   "id": "440e6c65-58ca-4a45-82a4-47ee12f0fff0",
   "metadata": {},
   "outputs": [
    {
     "data": {
      "text/plain": [
       "array([  7.21786552,  16.04609925, -27.83756166, 144.36688189])"
      ]
     },
     "execution_count": 19,
     "metadata": {},
     "output_type": "execute_result"
    }
   ],
   "source": [
    "y"
   ]
  },
  {
   "cell_type": "code",
   "execution_count": 21,
   "id": "cba4c3f2-d994-4ca9-a932-9e2552d347b9",
   "metadata": {},
   "outputs": [
    {
     "data": {
      "text/plain": [
       "array([[-0.71239066],\n",
       "       [ 0.45181234],\n",
       "       [-0.04450308],\n",
       "       [ 0.75376638]])"
      ]
     },
     "execution_count": 21,
     "metadata": {},
     "output_type": "execute_result"
    }
   ],
   "source": [
    "x"
   ]
  },
  {
   "cell_type": "code",
   "execution_count": 20,
   "id": "5338513b-d5d0-424f-b11b-176d3fdae0a8",
   "metadata": {},
   "outputs": [
    {
     "data": {
      "text/plain": [
       "[<matplotlib.lines.Line2D at 0x2eae859ee20>]"
      ]
     },
     "execution_count": 20,
     "metadata": {},
     "output_type": "execute_result"
    },
    {
     "data": {
      "image/png": "[encoded data removed]",
      "text/plain": [
       "<Figure size 640x480 with 1 Axes>"
      ]
     },
     "metadata": {},
     "output_type": "display_data"
    }
   ],
   "source": [
    "plt.scatter(x,y)\n",
    "plt.plot(x,reg.predict(x),color='r')"
   ]
  },
  {
   "cell_type": "code",
   "execution_count": 64,
   "id": "a834b757-016a-4235-aae8-1504a3677f91",
   "metadata": {},
   "outputs": [
    {
     "data": {
      "application/vnd.plotly.v1+json": {
       "config": {
        "plotlyServerURL": "https://plot.ly"
       },
       "data": [
        {
         "mode": "markers",
         "type": "scatter",
         "x": [
          -0.712390662050588,
          0.45181233874578974,
          -0.044503078338053455,
          0.753766378659703
         ],
         "y": [
          7.217865516301067,
          16.046099246372442,
          -27.837561663487357,
          144.36688189113022
         ]
        },
        {
         "mode": "markers+lines",
         "type": "scatter",
         "x": [
          -0.712390662050588,
          0.45181233874578974,
          -0.044503078338053455,
          0.753766378659703
         ],
         "y": [
          -29.65662909304364,
          61.559417243507866,
          22.672788321149582,
          85.21770851870257
         ]
        }
       ],
       "layout": {
        "autosize": true,
        "height": 360,
        "template": {
         "data": {
          "bar": [
           {
            "error_x": {
             "color": "#2a3f5f"
            },
            "error_y": {
             "color": "#2a3f5f"
            },
            "marker": {
             "line": {
              "color": "#E5ECF6",
              "width": 0.5
             },
             "pattern": {
              "fillmode": "overlay",
              "size": 10,
              "solidity": 0.2
             }
            },
            "type": "bar"
           }
          ],
          "barpolar": [
           {
            "marker": {
             "line": {
              "color": "#E5ECF6",
              "width": 0.5
             },
             "pattern": {
              "fillmode": "overlay",
              "size": 10,
              "solidity": 0.2
             }
            },
            "type": "barpolar"
           }
          ],
          "carpet": [
           {
            "aaxis": {
             "endlinecolor": "#2a3f5f",
             "gridcolor": "white",
             "linecolor": "white",
             "minorgridcolor": "white",
             "startlinecolor": "#2a3f5f"
            },
            "baxis": {
             "endlinecolor": "#2a3f5f",
             "gridcolor": "white",
             "linecolor": "white",
             "minorgridcolor": "white",
             "startlinecolor": "#2a3f5f"
            },
            "type": "carpet"
           }
          ],
          "choropleth": [
           {
            "colorbar": {
             "outlinewidth": 0,
             "ticks": ""
            },
            "type": "choropleth"
           }
          ],
          "contour": [
           {
            "colorbar": {
             "outlinewidth": 0,
             "ticks": ""
            },
            "colorscale": [
             [
              0,
              "#0d0887"
             ],
             [
              0.1111111111111111,
              "#46039f"
             ],
             [
              0.2222222222222222,
              "#7201a8"
             ],
             [
              0.3333333333333333,
              "#9c179e"
             ],
             [
              0.4444444444444444,
              "#bd3786"
             ],
             [
              0.5555555555555556,
              "#d8576b"
             ],
             [
              0.6666666666666666,
              "#ed7953"
             ],
             [
              0.7777777777777778,
              "#fb9f3a"
             ],
             [
              0.8888888888888888,
              "#fdca26"
             ],
             [
              1,
              "#f0f921"
             ]
            ],
            "type": "contour"
           }
          ],
          "contourcarpet": [
           {
            "colorbar": {
             "outlinewidth": 0,
             "ticks": ""
            },
            "type": "contourcarpet"
           }
          ],
          "heatmap": [
           {
            "colorbar": {
             "outlinewidth": 0,
             "ticks": ""
            },
            "colorscale": [
             [
              0,
              "#0d0887"
             ],
             [
              0.1111111111111111,
              "#46039f"
             ],
             [
              0.2222222222222222,
              "#7201a8"
             ],
             [
              0.3333333333333333,
              "#9c179e"
             ],
             [
              0.4444444444444444,
              "#bd3786"
             ],
             [
              0.5555555555555556,
              "#d8576b"
             ],
             [
              0.6666666666666666,
              "#ed7953"
             ],
             [
              0.7777777777777778,
              "#fb9f3a"
             ],
             [
              0.8888888888888888,
              "#fdca26"
             ],
             [
              1,
              "#f0f921"
             ]
            ],
            "type": "heatmap"
           }
          ],
          "heatmapgl": [
           {
            "colorbar": {
             "outlinewidth": 0,
             "ticks": ""
            },
            "colorscale": [
             [
              0,
              "#0d0887"
             ],
             [
              0.1111111111111111,
              "#46039f"
             ],
             [
              0.2222222222222222,
              "#7201a8"
             ],
             [
              0.3333333333333333,
              "#9c179e"
             ],
             [
              0.4444444444444444,
              "#bd3786"
             ],
             [
              0.5555555555555556,
              "#d8576b"
             ],
             [
              0.6666666666666666,
              "#ed7953"
             ],
             [
              0.7777777777777778,
              "#fb9f3a"
             ],
             [
              0.8888888888888888,
              "#fdca26"
             ],
             [
              1,
              "#f0f921"
             ]
            ],
            "type": "heatmapgl"
           }
          ],
          "histogram": [
           {
            "marker": {
             "pattern": {
              "fillmode": "overlay",
              "size": 10,
              "solidity": 0.2
             }
            },
            "type": "histogram"
           }
          ],
          "histogram2d": [
           {
            "colorbar": {
             "outlinewidth": 0,
             "ticks": ""
            },
            "colorscale": [
             [
              0,
              "#0d0887"
             ],
             [
              0.1111111111111111,
              "#46039f"
             ],
             [
              0.2222222222222222,
              "#7201a8"
             ],
             [
              0.3333333333333333,
              "#9c179e"
             ],
             [
              0.4444444444444444,
              "#bd3786"
             ],
             [
              0.5555555555555556,
              "#d8576b"
             ],
             [
              0.6666666666666666,
              "#ed7953"
             ],
             [
              0.7777777777777778,
              "#fb9f3a"
             ],
             [
              0.8888888888888888,
              "#fdca26"
             ],
             [
              1,
              "#f0f921"
             ]
            ],
            "type": "histogram2d"
           }
          ],
          "histogram2dcontour": [
           {
            "colorbar": {
             "outlinewidth": 0,
             "ticks": ""
            },
            "colorscale": [
             [
              0,
              "#0d0887"
             ],
             [
              0.1111111111111111,
              "#46039f"
             ],
             [
              0.2222222222222222,
              "#7201a8"
             ],
             [
              0.3333333333333333,
              "#9c179e"
             ],
             [
              0.4444444444444444,
              "#bd3786"
             ],
             [
              0.5555555555555556,
              "#d8576b"
             ],
             [
              0.6666666666666666,
              "#ed7953"
             ],
             [
              0.7777777777777778,
              "#fb9f3a"
             ],
             [
              0.8888888888888888,
              "#fdca26"
             ],
             [
              1,
              "#f0f921"
             ]
            ],
            "type": "histogram2dcontour"
           }
          ],
          "mesh3d": [
           {
            "colorbar": {
             "outlinewidth": 0,
             "ticks": ""
            },
            "type": "mesh3d"
           }
          ],
          "parcoords": [
           {
            "line": {
             "colorbar": {
              "outlinewidth": 0,
              "ticks": ""
             }
            },
            "type": "parcoords"
           }
          ],
          "pie": [
           {
            "automargin": true,
            "type": "pie"
           }
          ],
          "scatter": [
           {
            "fillpattern": {
             "fillmode": "overlay",
             "size": 10,
             "solidity": 0.2
            },
            "type": "scatter"
           }
          ],
          "scatter3d": [
           {
            "line": {
             "colorbar": {
              "outlinewidth": 0,
              "ticks": ""
             }
            },
            "marker": {
             "colorbar": {
              "outlinewidth": 0,
              "ticks": ""
             }
            },
            "type": "scatter3d"
           }
          ],
          "scattercarpet": [
           {
            "marker": {
             "colorbar": {
              "outlinewidth": 0,
              "ticks": ""
             }
            },
            "type": "scattercarpet"
           }
          ],
          "scattergeo": [
           {
            "marker": {
             "colorbar": {
              "outlinewidth": 0,
              "ticks": ""
             }
            },
            "type": "scattergeo"
           }
          ],
          "scattergl": [
           {
            "marker": {
             "colorbar": {
              "outlinewidth": 0,
              "ticks": ""
             }
            },
            "type": "scattergl"
           }
          ],
          "scattermapbox": [
           {
            "marker": {
             "colorbar": {
              "outlinewidth": 0,
              "ticks": ""
             }
            },
            "type": "scattermapbox"
           }
          ],
          "scatterpolar": [
           {
            "marker": {
             "colorbar": {
              "outlinewidth": 0,
              "ticks": ""
             }
            },
            "type": "scatterpolar"
           }
          ],
          "scatterpolargl": [
           {
            "marker": {
             "colorbar": {
              "outlinewidth": 0,
              "ticks": ""
             }
            },
            "type": "scatterpolargl"
           }
          ],
          "scatterternary": [
           {
            "marker": {
             "colorbar": {
              "outlinewidth": 0,
              "ticks": ""
             }
            },
            "type": "scatterternary"
           }
          ],
          "surface": [
           {
            "colorbar": {
             "outlinewidth": 0,
             "ticks": ""
            },
            "colorscale": [
             [
              0,
              "#0d0887"
             ],
             [
              0.1111111111111111,
              "#46039f"
             ],
             [
              0.2222222222222222,
              "#7201a8"
             ],
             [
              0.3333333333333333,
              "#9c179e"
             ],
             [
              0.4444444444444444,
              "#bd3786"
             ],
             [
              0.5555555555555556,
              "#d8576b"
             ],
             [
              0.6666666666666666,
              "#ed7953"
             ],
             [
              0.7777777777777778,
              "#fb9f3a"
             ],
             [
              0.8888888888888888,
              "#fdca26"
             ],
             [
              1,
              "#f0f921"
             ]
            ],
            "type": "surface"
           }
          ],
          "table": [
           {
            "cells": {
             "fill": {
              "color": "#EBF0F8"
             },
             "line": {
              "color": "white"
             }
            },
            "header": {
             "fill": {
              "color": "#C8D4E3"
             },
             "line": {
              "color": "white"
             }
            },
            "type": "table"
           }
          ]
         },
         "layout": {
          "annotationdefaults": {
           "arrowcolor": "#2a3f5f",
           "arrowhead": 0,
           "arrowwidth": 1
          },
          "autotypenumbers": "strict",
          "coloraxis": {
           "colorbar": {
            "outlinewidth": 0,
            "ticks": ""
           }
          },
          "colorscale": {
           "diverging": [
            [
             0,
             "#8e0152"
            ],
            [
             0.1,
             "#c51b7d"
            ],
            [
             0.2,
             "#de77ae"
            ],
            [
             0.3,
             "#f1b6da"
            ],
            [
             0.4,
             "#fde0ef"
            ],
            [
             0.5,
             "#f7f7f7"
            ],
            [
             0.6,
             "#e6f5d0"
            ],
            [
             0.7,
             "#b8e186"
            ],
            [
             0.8,
             "#7fbc41"
            ],
            [
             0.9,
             "#4d9221"
            ],
            [
             1,
             "#276419"
            ]
           ],
           "sequential": [
            [
             0,
             "#0d0887"
            ],
            [
             0.1111111111111111,
             "#46039f"
            ],
            [
             0.2222222222222222,
             "#7201a8"
            ],
            [
             0.3333333333333333,
             "#9c179e"
            ],
            [
             0.4444444444444444,
             "#bd3786"
            ],
            [
             0.5555555555555556,
             "#d8576b"
            ],
            [
             0.6666666666666666,
             "#ed7953"
            ],
            [
             0.7777777777777778,
             "#fb9f3a"
            ],
            [
             0.8888888888888888,
             "#fdca26"
            ],
            [
             1,
             "#f0f921"
            ]
           ],
           "sequentialminus": [
            [
             0,
             "#0d0887"
            ],
            [
             0.1111111111111111,
             "#46039f"
            ],
            [
             0.2222222222222222,
             "#7201a8"
            ],
            [
             0.3333333333333333,
             "#9c179e"
            ],
            [
             0.4444444444444444,
             "#bd3786"
            ],
            [
             0.5555555555555556,
             "#d8576b"
            ],
            [
             0.6666666666666666,
             "#ed7953"
            ],
            [
             0.7777777777777778,
             "#fb9f3a"
            ],
            [
             0.8888888888888888,
             "#fdca26"
            ],
            [
             1,
             "#f0f921"
            ]
           ]
          },
          "colorway": [
           "#636efa",
           "#EF553B",
           "#00cc96",
           "#ab63fa",
           "#FFA15A",
           "#19d3f3",
           "#FF6692",
           "#B6E880",
           "#FF97FF",
           "#FECB52"
          ],
          "font": {
           "color": "#2a3f5f"
          },
          "geo": {
           "bgcolor": "white",
           "lakecolor": "white",
           "landcolor": "#E5ECF6",
           "showlakes": true,
           "showland": true,
           "subunitcolor": "white"
          },
          "hoverlabel": {
           "align": "left"
          },
          "hovermode": "closest",
          "mapbox": {
           "style": "light"
          },
          "paper_bgcolor": "white",
          "plot_bgcolor": "#E5ECF6",
          "polar": {
           "angularaxis": {
            "gridcolor": "white",
            "linecolor": "white",
            "ticks": ""
           },
           "bgcolor": "#E5ECF6",
           "radialaxis": {
            "gridcolor": "white",
            "linecolor": "white",
            "ticks": ""
           }
          },
          "scene": {
           "xaxis": {
            "backgroundcolor": "#E5ECF6",
            "gridcolor": "white",
            "gridwidth": 2,
            "linecolor": "white",
            "showbackground": true,
            "ticks": "",
            "zerolinecolor": "white"
           },
           "yaxis": {
            "backgroundcolor": "#E5ECF6",
            "gridcolor": "white",
            "gridwidth": 2,
            "linecolor": "white",
            "showbackground": true,
            "ticks": "",
            "zerolinecolor": "white"
           },
           "zaxis": {
            "backgroundcolor": "#E5ECF6",
            "gridcolor": "white",
            "gridwidth": 2,
            "linecolor": "white",
            "showbackground": true,
            "ticks": "",
            "zerolinecolor": "white"
           }
          },
          "shapedefaults": {
           "line": {
            "color": "#2a3f5f"
           }
          },
          "ternary": {
           "aaxis": {
            "gridcolor": "white",
            "linecolor": "white",
            "ticks": ""
           },
           "baxis": {
            "gridcolor": "white",
            "linecolor": "white",
            "ticks": ""
           },
           "bgcolor": "#E5ECF6",
           "caxis": {
            "gridcolor": "white",
            "linecolor": "white",
            "ticks": ""
           }
          },
          "title": {
           "x": 0.05
          },
          "xaxis": {
           "automargin": true,
           "gridcolor": "white",
           "linecolor": "white",
           "ticks": "",
           "title": {
            "standoff": 15
           },
           "zerolinecolor": "white",
           "zerolinewidth": 2
          },
          "yaxis": {
           "automargin": true,
           "gridcolor": "white",
           "linecolor": "white",
           "ticks": "",
           "title": {
            "standoff": 15
           },
           "zerolinecolor": "white",
           "zerolinewidth": 2
          }
         }
        },
        "xaxis": {
         "autorange": true,
         "range": [
          -0.8014138280912376,
          0.8427895447003526
         ],
         "type": "linear"
        },
        "yaxis": {
         "autorange": true,
         "range": [
          -44.017792620863816,
          158.7280454189504
         ],
         "type": "linear"
        }
       }
      },
      "image/png": "[encoded data removed]",
      "text/html": [
       "<div>                            <div id=\"cc14f3c9-6489-463a-862d-faa839ea8846\" class=\"plotly-graph-div\" style=\"height:525px; width:100%;\"></div>            <script type=\"text/javascript\">                require([\"plotly\"], function(Plotly) {                    window.PLOTLYENV=window.PLOTLYENV || {};                                    if (document.getElementById(\"cc14f3c9-6489-463a-862d-faa839ea8846\")) {                    Plotly.newPlot(                        \"cc14f3c9-6489-463a-862d-faa839ea8846\",                        [{\"mode\":\"markers\",\"x\":[-0.712390662050588,0.45181233874578974,-0.044503078338053455,0.753766378659703],\"y\":[7.217865516301067,16.046099246372442,-27.837561663487357,144.36688189113022],\"type\":\"scatter\"},{\"mode\":\"markers+lines\",\"x\":[-0.712390662050588,0.45181233874578974,-0.044503078338053455,0.753766378659703],\"y\":[-29.65662909304364,61.559417243507866,22.672788321149582,85.21770851870257],\"type\":\"scatter\"}],                        {\"template\":{\"data\":{\"histogram2dcontour\":[{\"type\":\"histogram2dcontour\",\"colorbar\":{\"outlinewidth\":0,\"ticks\":\"\"},\"colorscale\":[[0.0,\"#0d0887\"],[0.1111111111111111,\"#46039f\"],[0.2222222222222222,\"#7201a8\"],[0.3333333333333333,\"#9c179e\"],[0.4444444444444444,\"#bd3786\"],[0.5555555555555556,\"#d8576b\"],[0.6666666666666666,\"#ed7953\"],[0.7777777777777778,\"#fb9f3a\"],[0.8888888888888888,\"#fdca26\"],[1.0,\"#f0f921\"]]}],\"choropleth\":[{\"type\":\"choropleth\",\"colorbar\":{\"outlinewidth\":0,\"ticks\":\"\"}}],\"histogram2d\":[{\"type\":\"histogram2d\",\"colorbar\":{\"outlinewidth\":0,\"ticks\":\"\"},\"colorscale\":[[0.0,\"#0d0887\"],[0.1111111111111111,\"#46039f\"],[0.2222222222222222,\"#7201a8\"],[0.3333333333333333,\"#9c179e\"],[0.4444444444444444,\"#bd3786\"],[0.5555555555555556,\"#d8576b\"],[0.6666666666666666,\"#ed7953\"],[0.7777777777777778,\"#fb9f3a\"],[0.8888888888888888,\"#fdca26\"],[1.0,\"#f0f921\"]]}],\"heatmap\":[{\"type\":\"heatmap\",\"colorbar\":{\"outlinewidth\":0,\"ticks\":\"\"},\"colorscale\":[[0.0,\"#0d0887\"],[0.1111111111111111,\"#46039f\"],[0.2222222222222222,\"#7201a8\"],[0.3333333333333333,\"#9c179e\"],[0.4444444444444444,\"#bd3786\"],[0.5555555555555556,\"#d8576b\"],[0.6666666666666666,\"#ed7953\"],[0.7777777777777778,\"#fb9f3a\"],[0.8888888888888888,\"#fdca26\"],[1.0,\"#f0f921\"]]}],\"heatmapgl\":[{\"type\":\"heatmapgl\",\"colorbar\":{\"outlinewidth\":0,\"ticks\":\"\"},\"colorscale\":[[0.0,\"#0d0887\"],[0.1111111111111111,\"#46039f\"],[0.2222222222222222,\"#7201a8\"],[0.3333333333333333,\"#9c179e\"],[0.4444444444444444,\"#bd3786\"],[0.5555555555555556,\"#d8576b\"],[0.6666666666666666,\"#ed7953\"],[0.7777777777777778,\"#fb9f3a\"],[0.8888888888888888,\"#fdca26\"],[1.0,\"#f0f921\"]]}],\"contourcarpet\":[{\"type\":\"contourcarpet\",\"colorbar\":{\"outlinewidth\":0,\"ticks\":\"\"}}],\"contour\":[{\"type\":\"contour\",\"colorbar\":{\"outlinewidth\":0,\"ticks\":\"\"},\"colorscale\":[[0.0,\"#0d0887\"],[0.1111111111111111,\"#46039f\"],[0.2222222222222222,\"#7201a8\"],[0.3333333333333333,\"#9c179e\"],[0.4444444444444444,\"#bd3786\"],[0.5555555555555556,\"#d8576b\"],[0.6666666666666666,\"#ed7953\"],[0.7777777777777778,\"#fb9f3a\"],[0.8888888888888888,\"#fdca26\"],[1.0,\"#f0f921\"]]}],\"surface\":[{\"type\":\"surface\",\"colorbar\":{\"outlinewidth\":0,\"ticks\":\"\"},\"colorscale\":[[0.0,\"#0d0887\"],[0.1111111111111111,\"#46039f\"],[0.2222222222222222,\"#7201a8\"],[0.3333333333333333,\"#9c179e\"],[0.4444444444444444,\"#bd3786\"],[0.5555555555555556,\"#d8576b\"],[0.6666666666666666,\"#ed7953\"],[0.7777777777777778,\"#fb9f3a\"],[0.8888888888888888,\"#fdca26\"],[1.0,\"#f0f921\"]]}],\"mesh3d\":[{\"type\":\"mesh3d\",\"colorbar\":{\"outlinewidth\":0,\"ticks\":\"\"}}],\"scatter\":[{\"fillpattern\":{\"fillmode\":\"overlay\",\"size\":10,\"solidity\":0.2},\"type\":\"scatter\"}],\"parcoords\":[{\"type\":\"parcoords\",\"line\":{\"colorbar\":{\"outlinewidth\":0,\"ticks\":\"\"}}}],\"scatterpolargl\":[{\"type\":\"scatterpolargl\",\"marker\":{\"colorbar\":{\"outlinewidth\":0,\"ticks\":\"\"}}}],\"bar\":[{\"error_x\":{\"color\":\"#2a3f5f\"},\"error_y\":{\"color\":\"#2a3f5f\"},\"marker\":{\"line\":{\"color\":\"#E5ECF6\",\"width\":0.5},\"pattern\":{\"fillmode\":\"overlay\",\"size\":10,\"solidity\":0.2}},\"type\":\"bar\"}],\"scattergeo\":[{\"type\":\"scattergeo\",\"marker\":{\"colorbar\":{\"outlinewidth\":0,\"ticks\":\"\"}}}],\"scatterpolar\":[{\"type\":\"scatterpolar\",\"marker\":{\"colorbar\":{\"outlinewidth\":0,\"ticks\":\"\"}}}],\"histogram\":[{\"marker\":{\"pattern\":{\"fillmode\":\"overlay\",\"size\":10,\"solidity\":0.2}},\"type\":\"histogram\"}],\"scattergl\":[{\"type\":\"scattergl\",\"marker\":{\"colorbar\":{\"outlinewidth\":0,\"ticks\":\"\"}}}],\"scatter3d\":[{\"type\":\"scatter3d\",\"line\":{\"colorbar\":{\"outlinewidth\":0,\"ticks\":\"\"}},\"marker\":{\"colorbar\":{\"outlinewidth\":0,\"ticks\":\"\"}}}],\"scattermapbox\":[{\"type\":\"scattermapbox\",\"marker\":{\"colorbar\":{\"outlinewidth\":0,\"ticks\":\"\"}}}],\"scatterternary\":[{\"type\":\"scatterternary\",\"marker\":{\"colorbar\":{\"outlinewidth\":0,\"ticks\":\"\"}}}],\"scattercarpet\":[{\"type\":\"scattercarpet\",\"marker\":{\"colorbar\":{\"outlinewidth\":0,\"ticks\":\"\"}}}],\"carpet\":[{\"aaxis\":{\"endlinecolor\":\"#2a3f5f\",\"gridcolor\":\"white\",\"linecolor\":\"white\",\"minorgridcolor\":\"white\",\"startlinecolor\":\"#2a3f5f\"},\"baxis\":{\"endlinecolor\":\"#2a3f5f\",\"gridcolor\":\"white\",\"linecolor\":\"white\",\"minorgridcolor\":\"white\",\"startlinecolor\":\"#2a3f5f\"},\"type\":\"carpet\"}],\"table\":[{\"cells\":{\"fill\":{\"color\":\"#EBF0F8\"},\"line\":{\"color\":\"white\"}},\"header\":{\"fill\":{\"color\":\"#C8D4E3\"},\"line\":{\"color\":\"white\"}},\"type\":\"table\"}],\"barpolar\":[{\"marker\":{\"line\":{\"color\":\"#E5ECF6\",\"width\":0.5},\"pattern\":{\"fillmode\":\"overlay\",\"size\":10,\"solidity\":0.2}},\"type\":\"barpolar\"}],\"pie\":[{\"automargin\":true,\"type\":\"pie\"}]},\"layout\":{\"autotypenumbers\":\"strict\",\"colorway\":[\"#636efa\",\"#EF553B\",\"#00cc96\",\"#ab63fa\",\"#FFA15A\",\"#19d3f3\",\"#FF6692\",\"#B6E880\",\"#FF97FF\",\"#FECB52\"],\"font\":{\"color\":\"#2a3f5f\"},\"hovermode\":\"closest\",\"hoverlabel\":{\"align\":\"left\"},\"paper_bgcolor\":\"white\",\"plot_bgcolor\":\"#E5ECF6\",\"polar\":{\"bgcolor\":\"#E5ECF6\",\"angularaxis\":{\"gridcolor\":\"white\",\"linecolor\":\"white\",\"ticks\":\"\"},\"radialaxis\":{\"gridcolor\":\"white\",\"linecolor\":\"white\",\"ticks\":\"\"}},\"ternary\":{\"bgcolor\":\"#E5ECF6\",\"aaxis\":{\"gridcolor\":\"white\",\"linecolor\":\"white\",\"ticks\":\"\"},\"baxis\":{\"gridcolor\":\"white\",\"linecolor\":\"white\",\"ticks\":\"\"},\"caxis\":{\"gridcolor\":\"white\",\"linecolor\":\"white\",\"ticks\":\"\"}},\"coloraxis\":{\"colorbar\":{\"outlinewidth\":0,\"ticks\":\"\"}},\"colorscale\":{\"sequential\":[[0.0,\"#0d0887\"],[0.1111111111111111,\"#46039f\"],[0.2222222222222222,\"#7201a8\"],[0.3333333333333333,\"#9c179e\"],[0.4444444444444444,\"#bd3786\"],[0.5555555555555556,\"#d8576b\"],[0.6666666666666666,\"#ed7953\"],[0.7777777777777778,\"#fb9f3a\"],[0.8888888888888888,\"#fdca26\"],[1.0,\"#f0f921\"]],\"sequentialminus\":[[0.0,\"#0d0887\"],[0.1111111111111111,\"#46039f\"],[0.2222222222222222,\"#7201a8\"],[0.3333333333333333,\"#9c179e\"],[0.4444444444444444,\"#bd3786\"],[0.5555555555555556,\"#d8576b\"],[0.6666666666666666,\"#ed7953\"],[0.7777777777777778,\"#fb9f3a\"],[0.8888888888888888,\"#fdca26\"],[1.0,\"#f0f921\"]],\"diverging\":[[0,\"#8e0152\"],[0.1,\"#c51b7d\"],[0.2,\"#de77ae\"],[0.3,\"#f1b6da\"],[0.4,\"#fde0ef\"],[0.5,\"#f7f7f7\"],[0.6,\"#e6f5d0\"],[0.7,\"#b8e186\"],[0.8,\"#7fbc41\"],[0.9,\"#4d9221\"],[1,\"#276419\"]]},\"xaxis\":{\"gridcolor\":\"white\",\"linecolor\":\"white\",\"ticks\":\"\",\"title\":{\"standoff\":15},\"zerolinecolor\":\"white\",\"automargin\":true,\"zerolinewidth\":2},\"yaxis\":{\"gridcolor\":\"white\",\"linecolor\":\"white\",\"ticks\":\"\",\"title\":{\"standoff\":15},\"zerolinecolor\":\"white\",\"automargin\":true,\"zerolinewidth\":2},\"scene\":{\"xaxis\":{\"backgroundcolor\":\"#E5ECF6\",\"gridcolor\":\"white\",\"linecolor\":\"white\",\"showbackground\":true,\"ticks\":\"\",\"zerolinecolor\":\"white\",\"gridwidth\":2},\"yaxis\":{\"backgroundcolor\":\"#E5ECF6\",\"gridcolor\":\"white\",\"linecolor\":\"white\",\"showbackground\":true,\"ticks\":\"\",\"zerolinecolor\":\"white\",\"gridwidth\":2},\"zaxis\":{\"backgroundcolor\":\"#E5ECF6\",\"gridcolor\":\"white\",\"linecolor\":\"white\",\"showbackground\":true,\"ticks\":\"\",\"zerolinecolor\":\"white\",\"gridwidth\":2}},\"shapedefaults\":{\"line\":{\"color\":\"#2a3f5f\"}},\"annotationdefaults\":{\"arrowcolor\":\"#2a3f5f\",\"arrowhead\":0,\"arrowwidth\":1},\"geo\":{\"bgcolor\":\"white\",\"landcolor\":\"#E5ECF6\",\"subunitcolor\":\"white\",\"showland\":true,\"showlakes\":true,\"lakecolor\":\"white\"},\"title\":{\"x\":0.05},\"mapbox\":{\"style\":\"light\"}}}},                        {\"responsive\": true}                    ).then(function(){\n",
       "                            \n",
       "var gd = document.getElementById('cc14f3c9-6489-463a-862d-faa839ea8846');\n",
       "var x = new MutationObserver(function (mutations, observer) {{\n",
       "        var display = window.getComputedStyle(gd).display;\n",
       "        if (!display || display === 'none') {{\n",
       "            console.log([gd, 'removed!']);\n",
       "            Plotly.purge(gd);\n",
       "            observer.disconnect();\n",
       "        }}\n",
       "}});\n",
       "\n",
       "// Listen for the removal of the full notebook cells\n",
       "var notebookContainer = gd.closest('#notebook-container');\n",
       "if (notebookContainer) {{\n",
       "    x.observe(notebookContainer, {childList: true});\n",
       "}}\n",
       "\n",
       "// Listen for the clearing of the current output cell\n",
       "var outputEl = gd.closest('.output');\n",
       "if (outputEl) {{\n",
       "    x.observe(outputEl, {childList: true});\n",
       "}}\n",
       "\n",
       "                        })                };                });            </script>        </div>"
      ]
     },
     "metadata": {},
     "output_type": "display_data"
    }
   ],
   "source": [
    "df = pd.DataFrame(x,columns = ['x'])\n",
    "fig = go.Figure()\n",
    "fig.add_trace(go.Scatter(x = df['x'],y=y,mode = 'markers'))\n",
    "fig.add_trace(go.Scatter(x = df['x'],y=reg.predict(x),mode = 'markers+lines'))"
   ]
  },
  {
   "cell_type": "code",
   "execution_count": 131,
   "id": "1c5d8eb1-0fbb-4ef7-bdfb-9a3865f5a28e",
   "metadata": {},
   "outputs": [
    {
     "data": {
      "text/plain": [
       "array([ 44.18419163, 135.39949674,  96.51318381, 159.05759577])"
      ]
     },
     "execution_count": 131,
     "metadata": {},
     "output_type": "execute_result"
    }
   ],
   "source": [
    "y_pre = ((78.35*x)+100).ravel()\n",
    "y_pre"
   ]
  },
  {
   "cell_type": "code",
   "execution_count": 133,
   "id": "8573200f-fd19-42f8-bbfa-b5bfbccf797a",
   "metadata": {},
   "outputs": [
    {
     "data": {
      "application/vnd.plotly.v1+json": {
       "config": {
        "plotlyServerURL": "https://plot.ly"
       },
       "data": [
        {
         "mode": "markers",
         "type": "scatter",
         "x": [
          -0.712390662050588,
          0.45181233874578974,
          -0.044503078338053455,
          0.753766378659703
         ],
         "y": [
          7.217865516301067,
          16.046099246372442,
          -27.837561663487357,
          144.36688189113022
         ]
        },
        {
         "mode": "markers+lines",
         "name": "ols",
         "type": "scatter",
         "x": [
          -0.712390662050588,
          0.45181233874578974,
          -0.044503078338053455,
          0.753766378659703
         ],
         "y": [
          -29.65662909304364,
          61.559417243507866,
          22.672788321149582,
          85.21770851870257
         ]
        },
        {
         "mode": "markers+lines",
         "name": "b=100",
         "type": "scatter",
         "x": [
          -0.712390662050588,
          0.45181233874578974,
          -0.044503078338053455,
          0.753766378659703
         ],
         "y": [
          44.184191628336436,
          135.39949674073262,
          96.51318381221351,
          159.05759576798772
         ]
        }
       ],
       "layout": {
        "autosize": true,
        "height": 360,
        "template": {
         "data": {
          "bar": [
           {
            "error_x": {
             "color": "#2a3f5f"
            },
            "error_y": {
             "color": "#2a3f5f"
            },
            "marker": {
             "line": {
              "color": "#E5ECF6",
              "width": 0.5
             },
             "pattern": {
              "fillmode": "overlay",
              "size": 10,
              "solidity": 0.2
             }
            },
            "type": "bar"
           }
          ],
          "barpolar": [
           {
            "marker": {
             "line": {
              "color": "#E5ECF6",
              "width": 0.5
             },
             "pattern": {
              "fillmode": "overlay",
              "size": 10,
              "solidity": 0.2
             }
            },
            "type": "barpolar"
           }
          ],
          "carpet": [
           {
            "aaxis": {
             "endlinecolor": "#2a3f5f",
             "gridcolor": "white",
             "linecolor": "white",
             "minorgridcolor": "white",
             "startlinecolor": "#2a3f5f"
            },
            "baxis": {
             "endlinecolor": "#2a3f5f",
             "gridcolor": "white",
             "linecolor": "white",
             "minorgridcolor": "white",
             "startlinecolor": "#2a3f5f"
            },
            "type": "carpet"
           }
          ],
          "choropleth": [
           {
            "colorbar": {
             "outlinewidth": 0,
             "ticks": ""
            },
            "type": "choropleth"
           }
          ],
          "contour": [
           {
            "colorbar": {
             "outlinewidth": 0,
             "ticks": ""
            },
            "colorscale": [
             [
              0,
              "#0d0887"
             ],
             [
              0.1111111111111111,
              "#46039f"
             ],
             [
              0.2222222222222222,
              "#7201a8"
             ],
             [
              0.3333333333333333,
              "#9c179e"
             ],
             [
              0.4444444444444444,
              "#bd3786"
             ],
             [
              0.5555555555555556,
              "#d8576b"
             ],
             [
              0.6666666666666666,
              "#ed7953"
             ],
             [
              0.7777777777777778,
              "#fb9f3a"
             ],
             [
              0.8888888888888888,
              "#fdca26"
             ],
             [
              1,
              "#f0f921"
             ]
            ],
            "type": "contour"
           }
          ],
          "contourcarpet": [
           {
            "colorbar": {
             "outlinewidth": 0,
             "ticks": ""
            },
            "type": "contourcarpet"
           }
          ],
          "heatmap": [
           {
            "colorbar": {
             "outlinewidth": 0,
             "ticks": ""
            },
            "colorscale": [
             [
              0,
              "#0d0887"
             ],
             [
              0.1111111111111111,
              "#46039f"
             ],
             [
              0.2222222222222222,
              "#7201a8"
             ],
             [
              0.3333333333333333,
              "#9c179e"
             ],
             [
              0.4444444444444444,
              "#bd3786"
             ],
             [
              0.5555555555555556,
              "#d8576b"
             ],
             [
              0.6666666666666666,
              "#ed7953"
             ],
             [
              0.7777777777777778,
              "#fb9f3a"
             ],
             [
              0.8888888888888888,
              "#fdca26"
             ],
             [
              1,
              "#f0f921"
             ]
            ],
            "type": "heatmap"
           }
          ],
          "heatmapgl": [
           {
            "colorbar": {
             "outlinewidth": 0,
             "ticks": ""
            },
            "colorscale": [
             [
              0,
              "#0d0887"
             ],
             [
              0.1111111111111111,
              "#46039f"
             ],
             [
              0.2222222222222222,
              "#7201a8"
             ],
             [
              0.3333333333333333,
              "#9c179e"
             ],
             [
              0.4444444444444444,
              "#bd3786"
             ],
             [
              0.5555555555555556,
              "#d8576b"
             ],
             [
              0.6666666666666666,
              "#ed7953"
             ],
             [
              0.7777777777777778,
              "#fb9f3a"
             ],
             [
              0.8888888888888888,
              "#fdca26"
             ],
             [
              1,
              "#f0f921"
             ]
            ],
            "type": "heatmapgl"
           }
          ],
          "histogram": [
           {
            "marker": {
             "pattern": {
              "fillmode": "overlay",
              "size": 10,
              "solidity": 0.2
             }
            },
            "type": "histogram"
           }
          ],
          "histogram2d": [
           {
            "colorbar": {
             "outlinewidth": 0,
             "ticks": ""
            },
            "colorscale": [
             [
              0,
              "#0d0887"
             ],
             [
              0.1111111111111111,
              "#46039f"
             ],
             [
              0.2222222222222222,
              "#7201a8"
             ],
             [
              0.3333333333333333,
              "#9c179e"
             ],
             [
              0.4444444444444444,
              "#bd3786"
             ],
             [
              0.5555555555555556,
              "#d8576b"
             ],
             [
              0.6666666666666666,
              "#ed7953"
             ],
             [
              0.7777777777777778,
              "#fb9f3a"
             ],
             [
              0.8888888888888888,
              "#fdca26"
             ],
             [
              1,
              "#f0f921"
             ]
            ],
            "type": "histogram2d"
           }
          ],
          "histogram2dcontour": [
           {
            "colorbar": {
             "outlinewidth": 0,
             "ticks": ""
            },
            "colorscale": [
             [
              0,
              "#0d0887"
             ],
             [
              0.1111111111111111,
              "#46039f"
             ],
             [
              0.2222222222222222,
              "#7201a8"
             ],
             [
              0.3333333333333333,
              "#9c179e"
             ],
             [
              0.4444444444444444,
              "#bd3786"
             ],
             [
              0.5555555555555556,
              "#d8576b"
             ],
             [
              0.6666666666666666,
              "#ed7953"
             ],
             [
              0.7777777777777778,
              "#fb9f3a"
             ],
             [
              0.8888888888888888,
              "#fdca26"
             ],
             [
              1,
              "#f0f921"
             ]
            ],
            "type": "histogram2dcontour"
           }
          ],
          "mesh3d": [
           {
            "colorbar": {
             "outlinewidth": 0,
             "ticks": ""
            },
            "type": "mesh3d"
           }
          ],
          "parcoords": [
           {
            "line": {
             "colorbar": {
              "outlinewidth": 0,
              "ticks": ""
             }
            },
            "type": "parcoords"
           }
          ],
          "pie": [
           {
            "automargin": true,
            "type": "pie"
           }
          ],
          "scatter": [
           {
            "fillpattern": {
             "fillmode": "overlay",
             "size": 10,
             "solidity": 0.2
            },
            "type": "scatter"
           }
          ],
          "scatter3d": [
           {
            "line": {
             "colorbar": {
              "outlinewidth": 0,
              "ticks": ""
             }
            },
            "marker": {
             "colorbar": {
              "outlinewidth": 0,
              "ticks": ""
             }
            },
            "type": "scatter3d"
           }
          ],
          "scattercarpet": [
           {
            "marker": {
             "colorbar": {
              "outlinewidth": 0,
              "ticks": ""
             }
            },
            "type": "scattercarpet"
           }
          ],
          "scattergeo": [
           {
            "marker": {
             "colorbar": {
              "outlinewidth": 0,
              "ticks": ""
             }
            },
            "type": "scattergeo"
           }
          ],
          "scattergl": [
           {
            "marker": {
             "colorbar": {
              "outlinewidth": 0,
              "ticks": ""
             }
            },
            "type": "scattergl"
           }
          ],
          "scattermapbox": [
           {
            "marker": {
             "colorbar": {
              "outlinewidth": 0,
              "ticks": ""
             }
            },
            "type": "scattermapbox"
           }
          ],
          "scatterpolar": [
           {
            "marker": {
             "colorbar": {
              "outlinewidth": 0,
              "ticks": ""
             }
            },
            "type": "scatterpolar"
           }
          ],
          "scatterpolargl": [
           {
            "marker": {
             "colorbar": {
              "outlinewidth": 0,
              "ticks": ""
             }
            },
            "type": "scatterpolargl"
           }
          ],
          "scatterternary": [
           {
            "marker": {
             "colorbar": {
              "outlinewidth": 0,
              "ticks": ""
             }
            },
            "type": "scatterternary"
           }
          ],
          "surface": [
           {
            "colorbar": {
             "outlinewidth": 0,
             "ticks": ""
            },
            "colorscale": [
             [
              0,
              "#0d0887"
             ],
             [
              0.1111111111111111,
              "#46039f"
             ],
             [
              0.2222222222222222,
              "#7201a8"
             ],
             [
              0.3333333333333333,
              "#9c179e"
             ],
             [
              0.4444444444444444,
              "#bd3786"
             ],
             [
              0.5555555555555556,
              "#d8576b"
             ],
             [
              0.6666666666666666,
              "#ed7953"
             ],
             [
              0.7777777777777778,
              "#fb9f3a"
             ],
             [
              0.8888888888888888,
              "#fdca26"
             ],
             [
              1,
              "#f0f921"
             ]
            ],
            "type": "surface"
           }
          ],
          "table": [
           {
            "cells": {
             "fill": {
              "color": "#EBF0F8"
             },
             "line": {
              "color": "white"
             }
            },
            "header": {
             "fill": {
              "color": "#C8D4E3"
             },
             "line": {
              "color": "white"
             }
            },
            "type": "table"
           }
          ]
         },
         "layout": {
          "annotationdefaults": {
           "arrowcolor": "#2a3f5f",
           "arrowhead": 0,
           "arrowwidth": 1
          },
          "autotypenumbers": "strict",
          "coloraxis": {
           "colorbar": {
            "outlinewidth": 0,
            "ticks": ""
           }
          },
          "colorscale": {
           "diverging": [
            [
             0,
             "#8e0152"
            ],
            [
             0.1,
             "#c51b7d"
            ],
            [
             0.2,
             "#de77ae"
            ],
            [
             0.3,
             "#f1b6da"
            ],
            [
             0.4,
             "#fde0ef"
            ],
            [
             0.5,
             "#f7f7f7"
            ],
            [
             0.6,
             "#e6f5d0"
            ],
            [
             0.7,
             "#b8e186"
            ],
            [
             0.8,
             "#7fbc41"
            ],
            [
             0.9,
             "#4d9221"
            ],
            [
             1,
             "#276419"
            ]
           ],
           "sequential": [
            [
             0,
             "#0d0887"
            ],
            [
             0.1111111111111111,
             "#46039f"
            ],
            [
             0.2222222222222222,
             "#7201a8"
            ],
            [
             0.3333333333333333,
             "#9c179e"
            ],
            [
             0.4444444444444444,
             "#bd3786"
            ],
            [
             0.5555555555555556,
             "#d8576b"
            ],
            [
             0.6666666666666666,
             "#ed7953"
            ],
            [
             0.7777777777777778,
             "#fb9f3a"
            ],
            [
             0.8888888888888888,
             "#fdca26"
            ],
            [
             1,
             "#f0f921"
            ]
           ],
           "sequentialminus": [
            [
             0,
             "#0d0887"
            ],
            [
             0.1111111111111111,
             "#46039f"
            ],
            [
             0.2222222222222222,
             "#7201a8"
            ],
            [
             0.3333333333333333,
             "#9c179e"
            ],
            [
             0.4444444444444444,
             "#bd3786"
            ],
            [
             0.5555555555555556,
             "#d8576b"
            ],
            [
             0.6666666666666666,
             "#ed7953"
            ],
            [
             0.7777777777777778,
             "#fb9f3a"
            ],
            [
             0.8888888888888888,
             "#fdca26"
            ],
            [
             1,
             "#f0f921"
            ]
           ]
          },
          "colorway": [
           "#636efa",
           "#EF553B",
           "#00cc96",
           "#ab63fa",
           "#FFA15A",
           "#19d3f3",
           "#FF6692",
           "#B6E880",
           "#FF97FF",
           "#FECB52"
          ],
          "font": {
           "color": "#2a3f5f"
          },
          "geo": {
           "bgcolor": "white",
           "lakecolor": "white",
           "landcolor": "#E5ECF6",
           "showlakes": true,
           "showland": true,
           "subunitcolor": "white"
          },
          "hoverlabel": {
           "align": "left"
          },
          "hovermode": "closest",
          "mapbox": {
           "style": "light"
          },
          "paper_bgcolor": "white",
          "plot_bgcolor": "#E5ECF6",
          "polar": {
           "angularaxis": {
            "gridcolor": "white",
            "linecolor": "white",
            "ticks": ""
           },
           "bgcolor": "#E5ECF6",
           "radialaxis": {
            "gridcolor": "white",
            "linecolor": "white",
            "ticks": ""
           }
          },
          "scene": {
           "xaxis": {
            "backgroundcolor": "#E5ECF6",
            "gridcolor": "white",
            "gridwidth": 2,
            "linecolor": "white",
            "showbackground": true,
            "ticks": "",
            "zerolinecolor": "white"
           },
           "yaxis": {
            "backgroundcolor": "#E5ECF6",
            "gridcolor": "white",
            "gridwidth": 2,
            "linecolor": "white",
            "showbackground": true,
            "ticks": "",
            "zerolinecolor": "white"
           },
           "zaxis": {
            "backgroundcolor": "#E5ECF6",
            "gridcolor": "white",
            "gridwidth": 2,
            "linecolor": "white",
            "showbackground": true,
            "ticks": "",
            "zerolinecolor": "white"
           }
          },
          "shapedefaults": {
           "line": {
            "color": "#2a3f5f"
           }
          },
          "ternary": {
           "aaxis": {
            "gridcolor": "white",
            "linecolor": "white",
            "ticks": ""
           },
           "baxis": {
            "gridcolor": "white",
            "linecolor": "white",
            "ticks": ""
           },
           "bgcolor": "#E5ECF6",
           "caxis": {
            "gridcolor": "white",
            "linecolor": "white",
            "ticks": ""
           }
          },
          "title": {
           "x": 0.05
          },
          "xaxis": {
           "automargin": true,
           "gridcolor": "white",
           "linecolor": "white",
           "ticks": "",
           "title": {
            "standoff": 15
           },
           "zerolinecolor": "white",
           "zerolinewidth": 2
          },
          "yaxis": {
           "automargin": true,
           "gridcolor": "white",
           "linecolor": "white",
           "ticks": "",
           "title": {
            "standoff": 15
           },
           "zerolinecolor": "white",
           "zerolinewidth": 2
          }
         }
        },
        "xaxis": {
         "autorange": true,
         "range": [
          -0.8014138280912376,
          0.8427895447003526
         ],
         "type": "linear"
        },
        "yaxis": {
         "autorange": true,
         "range": [
          -45.230133086429724,
          174.6310997613738
         ],
         "type": "linear"
        }
       }
      },
      "image/png": "[encoded data removed]",
      "text/html": [
       "<div>                            <div id=\"4ad95e44-0097-4345-a4ea-127baedda0e8\" class=\"plotly-graph-div\" style=\"height:525px; width:100%;\"></div>            <script type=\"text/javascript\">                require([\"plotly\"], function(Plotly) {                    window.PLOTLYENV=window.PLOTLYENV || {};                                    if (document.getElementById(\"4ad95e44-0097-4345-a4ea-127baedda0e8\")) {                    Plotly.newPlot(                        \"4ad95e44-0097-4345-a4ea-127baedda0e8\",                        [{\"mode\":\"markers\",\"x\":[-0.712390662050588,0.45181233874578974,-0.044503078338053455,0.753766378659703],\"y\":[7.217865516301067,16.046099246372442,-27.837561663487357,144.36688189113022],\"type\":\"scatter\"},{\"mode\":\"markers+lines\",\"name\":\"ols\",\"x\":[-0.712390662050588,0.45181233874578974,-0.044503078338053455,0.753766378659703],\"y\":[-29.65662909304364,61.559417243507866,22.672788321149582,85.21770851870257],\"type\":\"scatter\"},{\"mode\":\"markers+lines\",\"name\":\"b=100\",\"x\":[-0.712390662050588,0.45181233874578974,-0.044503078338053455,0.753766378659703],\"y\":[44.184191628336436,135.39949674073262,96.51318381221351,159.05759576798772],\"type\":\"scatter\"}],                        {\"template\":{\"data\":{\"histogram2dcontour\":[{\"type\":\"histogram2dcontour\",\"colorbar\":{\"outlinewidth\":0,\"ticks\":\"\"},\"colorscale\":[[0.0,\"#0d0887\"],[0.1111111111111111,\"#46039f\"],[0.2222222222222222,\"#7201a8\"],[0.3333333333333333,\"#9c179e\"],[0.4444444444444444,\"#bd3786\"],[0.5555555555555556,\"#d8576b\"],[0.6666666666666666,\"#ed7953\"],[0.7777777777777778,\"#fb9f3a\"],[0.8888888888888888,\"#fdca26\"],[1.0,\"#f0f921\"]]}],\"choropleth\":[{\"type\":\"choropleth\",\"colorbar\":{\"outlinewidth\":0,\"ticks\":\"\"}}],\"histogram2d\":[{\"type\":\"histogram2d\",\"colorbar\":{\"outlinewidth\":0,\"ticks\":\"\"},\"colorscale\":[[0.0,\"#0d0887\"],[0.1111111111111111,\"#46039f\"],[0.2222222222222222,\"#7201a8\"],[0.3333333333333333,\"#9c179e\"],[0.4444444444444444,\"#bd3786\"],[0.5555555555555556,\"#d8576b\"],[0.6666666666666666,\"#ed7953\"],[0.7777777777777778,\"#fb9f3a\"],[0.8888888888888888,\"#fdca26\"],[1.0,\"#f0f921\"]]}],\"heatmap\":[{\"type\":\"heatmap\",\"colorbar\":{\"outlinewidth\":0,\"ticks\":\"\"},\"colorscale\":[[0.0,\"#0d0887\"],[0.1111111111111111,\"#46039f\"],[0.2222222222222222,\"#7201a8\"],[0.3333333333333333,\"#9c179e\"],[0.4444444444444444,\"#bd3786\"],[0.5555555555555556,\"#d8576b\"],[0.6666666666666666,\"#ed7953\"],[0.7777777777777778,\"#fb9f3a\"],[0.8888888888888888,\"#fdca26\"],[1.0,\"#f0f921\"]]}],\"heatmapgl\":[{\"type\":\"heatmapgl\",\"colorbar\":{\"outlinewidth\":0,\"ticks\":\"\"},\"colorscale\":[[0.0,\"#0d0887\"],[0.1111111111111111,\"#46039f\"],[0.2222222222222222,\"#7201a8\"],[0.3333333333333333,\"#9c179e\"],[0.4444444444444444,\"#bd3786\"],[0.5555555555555556,\"#d8576b\"],[0.6666666666666666,\"#ed7953\"],[0.7777777777777778,\"#fb9f3a\"],[0.8888888888888888,\"#fdca26\"],[1.0,\"#f0f921\"]]}],\"contourcarpet\":[{\"type\":\"contourcarpet\",\"colorbar\":{\"outlinewidth\":0,\"ticks\":\"\"}}],\"contour\":[{\"type\":\"contour\",\"colorbar\":{\"outlinewidth\":0,\"ticks\":\"\"},\"colorscale\":[[0.0,\"#0d0887\"],[0.1111111111111111,\"#46039f\"],[0.2222222222222222,\"#7201a8\"],[0.3333333333333333,\"#9c179e\"],[0.4444444444444444,\"#bd3786\"],[0.5555555555555556,\"#d8576b\"],[0.6666666666666666,\"#ed7953\"],[0.7777777777777778,\"#fb9f3a\"],[0.8888888888888888,\"#fdca26\"],[1.0,\"#f0f921\"]]}],\"surface\":[{\"type\":\"surface\",\"colorbar\":{\"outlinewidth\":0,\"ticks\":\"\"},\"colorscale\":[[0.0,\"#0d0887\"],[0.1111111111111111,\"#46039f\"],[0.2222222222222222,\"#7201a8\"],[0.3333333333333333,\"#9c179e\"],[0.4444444444444444,\"#bd3786\"],[0.5555555555555556,\"#d8576b\"],[0.6666666666666666,\"#ed7953\"],[0.7777777777777778,\"#fb9f3a\"],[0.8888888888888888,\"#fdca26\"],[1.0,\"#f0f921\"]]}],\"mesh3d\":[{\"type\":\"mesh3d\",\"colorbar\":{\"outlinewidth\":0,\"ticks\":\"\"}}],\"scatter\":[{\"fillpattern\":{\"fillmode\":\"overlay\",\"size\":10,\"solidity\":0.2},\"type\":\"scatter\"}],\"parcoords\":[{\"type\":\"parcoords\",\"line\":{\"colorbar\":{\"outlinewidth\":0,\"ticks\":\"\"}}}],\"scatterpolargl\":[{\"type\":\"scatterpolargl\",\"marker\":{\"colorbar\":{\"outlinewidth\":0,\"ticks\":\"\"}}}],\"bar\":[{\"error_x\":{\"color\":\"#2a3f5f\"},\"error_y\":{\"color\":\"#2a3f5f\"},\"marker\":{\"line\":{\"color\":\"#E5ECF6\",\"width\":0.5},\"pattern\":{\"fillmode\":\"overlay\",\"size\":10,\"solidity\":0.2}},\"type\":\"bar\"}],\"scattergeo\":[{\"type\":\"scattergeo\",\"marker\":{\"colorbar\":{\"outlinewidth\":0,\"ticks\":\"\"}}}],\"scatterpolar\":[{\"type\":\"scatterpolar\",\"marker\":{\"colorbar\":{\"outlinewidth\":0,\"ticks\":\"\"}}}],\"histogram\":[{\"marker\":{\"pattern\":{\"fillmode\":\"overlay\",\"size\":10,\"solidity\":0.2}},\"type\":\"histogram\"}],\"scattergl\":[{\"type\":\"scattergl\",\"marker\":{\"colorbar\":{\"outlinewidth\":0,\"ticks\":\"\"}}}],\"scatter3d\":[{\"type\":\"scatter3d\",\"line\":{\"colorbar\":{\"outlinewidth\":0,\"ticks\":\"\"}},\"marker\":{\"colorbar\":{\"outlinewidth\":0,\"ticks\":\"\"}}}],\"scattermapbox\":[{\"type\":\"scattermapbox\",\"marker\":{\"colorbar\":{\"outlinewidth\":0,\"ticks\":\"\"}}}],\"scatterternary\":[{\"type\":\"scatterternary\",\"marker\":{\"colorbar\":{\"outlinewidth\":0,\"ticks\":\"\"}}}],\"scattercarpet\":[{\"type\":\"scattercarpet\",\"marker\":{\"colorbar\":{\"outlinewidth\":0,\"ticks\":\"\"}}}],\"carpet\":[{\"aaxis\":{\"endlinecolor\":\"#2a3f5f\",\"gridcolor\":\"white\",\"linecolor\":\"white\",\"minorgridcolor\":\"white\",\"startlinecolor\":\"#2a3f5f\"},\"baxis\":{\"endlinecolor\":\"#2a3f5f\",\"gridcolor\":\"white\",\"linecolor\":\"white\",\"minorgridcolor\":\"white\",\"startlinecolor\":\"#2a3f5f\"},\"type\":\"carpet\"}],\"table\":[{\"cells\":{\"fill\":{\"color\":\"#EBF0F8\"},\"line\":{\"color\":\"white\"}},\"header\":{\"fill\":{\"color\":\"#C8D4E3\"},\"line\":{\"color\":\"white\"}},\"type\":\"table\"}],\"barpolar\":[{\"marker\":{\"line\":{\"color\":\"#E5ECF6\",\"width\":0.5},\"pattern\":{\"fillmode\":\"overlay\",\"size\":10,\"solidity\":0.2}},\"type\":\"barpolar\"}],\"pie\":[{\"automargin\":true,\"type\":\"pie\"}]},\"layout\":{\"autotypenumbers\":\"strict\",\"colorway\":[\"#636efa\",\"#EF553B\",\"#00cc96\",\"#ab63fa\",\"#FFA15A\",\"#19d3f3\",\"#FF6692\",\"#B6E880\",\"#FF97FF\",\"#FECB52\"],\"font\":{\"color\":\"#2a3f5f\"},\"hovermode\":\"closest\",\"hoverlabel\":{\"align\":\"left\"},\"paper_bgcolor\":\"white\",\"plot_bgcolor\":\"#E5ECF6\",\"polar\":{\"bgcolor\":\"#E5ECF6\",\"angularaxis\":{\"gridcolor\":\"white\",\"linecolor\":\"white\",\"ticks\":\"\"},\"radialaxis\":{\"gridcolor\":\"white\",\"linecolor\":\"white\",\"ticks\":\"\"}},\"ternary\":{\"bgcolor\":\"#E5ECF6\",\"aaxis\":{\"gridcolor\":\"white\",\"linecolor\":\"white\",\"ticks\":\"\"},\"baxis\":{\"gridcolor\":\"white\",\"linecolor\":\"white\",\"ticks\":\"\"},\"caxis\":{\"gridcolor\":\"white\",\"linecolor\":\"white\",\"ticks\":\"\"}},\"coloraxis\":{\"colorbar\":{\"outlinewidth\":0,\"ticks\":\"\"}},\"colorscale\":{\"sequential\":[[0.0,\"#0d0887\"],[0.1111111111111111,\"#46039f\"],[0.2222222222222222,\"#7201a8\"],[0.3333333333333333,\"#9c179e\"],[0.4444444444444444,\"#bd3786\"],[0.5555555555555556,\"#d8576b\"],[0.6666666666666666,\"#ed7953\"],[0.7777777777777778,\"#fb9f3a\"],[0.8888888888888888,\"#fdca26\"],[1.0,\"#f0f921\"]],\"sequentialminus\":[[0.0,\"#0d0887\"],[0.1111111111111111,\"#46039f\"],[0.2222222222222222,\"#7201a8\"],[0.3333333333333333,\"#9c179e\"],[0.4444444444444444,\"#bd3786\"],[0.5555555555555556,\"#d8576b\"],[0.6666666666666666,\"#ed7953\"],[0.7777777777777778,\"#fb9f3a\"],[0.8888888888888888,\"#fdca26\"],[1.0,\"#f0f921\"]],\"diverging\":[[0,\"#8e0152\"],[0.1,\"#c51b7d\"],[0.2,\"#de77ae\"],[0.3,\"#f1b6da\"],[0.4,\"#fde0ef\"],[0.5,\"#f7f7f7\"],[0.6,\"#e6f5d0\"],[0.7,\"#b8e186\"],[0.8,\"#7fbc41\"],[0.9,\"#4d9221\"],[1,\"#276419\"]]},\"xaxis\":{\"gridcolor\":\"white\",\"linecolor\":\"white\",\"ticks\":\"\",\"title\":{\"standoff\":15},\"zerolinecolor\":\"white\",\"automargin\":true,\"zerolinewidth\":2},\"yaxis\":{\"gridcolor\":\"white\",\"linecolor\":\"white\",\"ticks\":\"\",\"title\":{\"standoff\":15},\"zerolinecolor\":\"white\",\"automargin\":true,\"zerolinewidth\":2},\"scene\":{\"xaxis\":{\"backgroundcolor\":\"#E5ECF6\",\"gridcolor\":\"white\",\"linecolor\":\"white\",\"showbackground\":true,\"ticks\":\"\",\"zerolinecolor\":\"white\",\"gridwidth\":2},\"yaxis\":{\"backgroundcolor\":\"#E5ECF6\",\"gridcolor\":\"white\",\"linecolor\":\"white\",\"showbackground\":true,\"ticks\":\"\",\"zerolinecolor\":\"white\",\"gridwidth\":2},\"zaxis\":{\"backgroundcolor\":\"#E5ECF6\",\"gridcolor\":\"white\",\"linecolor\":\"white\",\"showbackground\":true,\"ticks\":\"\",\"zerolinecolor\":\"white\",\"gridwidth\":2}},\"shapedefaults\":{\"line\":{\"color\":\"#2a3f5f\"}},\"annotationdefaults\":{\"arrowcolor\":\"#2a3f5f\",\"arrowhead\":0,\"arrowwidth\":1},\"geo\":{\"bgcolor\":\"white\",\"landcolor\":\"#E5ECF6\",\"subunitcolor\":\"white\",\"showland\":true,\"showlakes\":true,\"lakecolor\":\"white\"},\"title\":{\"x\":0.05},\"mapbox\":{\"style\":\"light\"}}}},                        {\"responsive\": true}                    ).then(function(){\n",
       "                            \n",
       "var gd = document.getElementById('4ad95e44-0097-4345-a4ea-127baedda0e8');\n",
       "var x = new MutationObserver(function (mutations, observer) {{\n",
       "        var display = window.getComputedStyle(gd).display;\n",
       "        if (!display || display === 'none') {{\n",
       "            console.log([gd, 'removed!']);\n",
       "            Plotly.purge(gd);\n",
       "            observer.disconnect();\n",
       "        }}\n",
       "}});\n",
       "\n",
       "// Listen for the removal of the full notebook cells\n",
       "var notebookContainer = gd.closest('#notebook-container');\n",
       "if (notebookContainer) {{\n",
       "    x.observe(notebookContainer, {childList: true});\n",
       "}}\n",
       "\n",
       "// Listen for the clearing of the current output cell\n",
       "var outputEl = gd.closest('.output');\n",
       "if (outputEl) {{\n",
       "    x.observe(outputEl, {childList: true});\n",
       "}}\n",
       "\n",
       "                        })                };                });            </script>        </div>"
      ]
     },
     "metadata": {},
     "output_type": "display_data"
    }
   ],
   "source": [
    "fig = go.Figure()\n",
    "fig.add_trace(go.Scatter(x=df['x'],y=df['y'],mode = 'markers'))\n",
    "fig.add_trace(go.Scatter(x=df['x'],y=df['predict'],mode = 'markers+lines',name='ols'))\n",
    "fig.add_trace(go.Scatter(x=df['x'],y=y_pre,mode = 'markers+lines',name = 'b=100'))"
   ]
  },
  {
   "cell_type": "code",
   "execution_count": 134,
   "id": "555d7d82-2fc1-43bc-98f3-c19d92577b48",
   "metadata": {},
   "outputs": [
    {
     "data": {
      "text/plain": [
       "array([-14.88855566,  76.32749067,  37.44086175,  99.98578195])"
      ]
     },
     "execution_count": 134,
     "metadata": {},
     "output_type": "execute_result"
    }
   ],
   "source": [
    "m = 78.35\n",
    "b= 100\n",
    "learing_rate = 0.1\n",
    "\n",
    "loss_slope = -2*np.sum(y - reg.coef_*x.ravel()-b)\n",
    "b=b - learing_rate*loss_slope\n",
    "y_pre1 = (reg.coef_*x.ravel()+b)\n",
    "y_pre1"
   ]
  },
  {
   "cell_type": "code",
   "execution_count": 135,
   "id": "b27c48b9-771d-42ee-bc2d-620697926481",
   "metadata": {},
   "outputs": [
    {
     "data": {
      "application/vnd.plotly.v1+json": {
       "config": {
        "plotlyServerURL": "https://plot.ly"
       },
       "data": [
        {
         "mode": "markers",
         "type": "scatter",
         "x": [
          -0.712390662050588,
          0.45181233874578974,
          -0.044503078338053455,
          0.753766378659703
         ],
         "y": [
          7.217865516301067,
          16.046099246372442,
          -27.837561663487357,
          144.36688189113022
         ]
        },
        {
         "mode": "markers+lines",
         "name": "ols",
         "type": "scatter",
         "x": [
          -0.712390662050588,
          0.45181233874578974,
          -0.044503078338053455,
          0.753766378659703
         ],
         "y": [
          -29.65662909304364,
          61.559417243507866,
          22.672788321149582,
          85.21770851870257
         ]
        },
        {
         "mode": "markers+lines",
         "name": "y pre",
         "type": "scatter",
         "x": [
          -0.712390662050588,
          0.45181233874578974,
          -0.044503078338053455,
          0.753766378659703
         ],
         "y": [
          44.184191628336436,
          135.39949674073262,
          96.51318381221351,
          159.05759576798772
         ]
        },
        {
         "mode": "markers+lines",
         "name": "y pre1",
         "type": "scatter",
         "x": [
          -0.712390662050588,
          0.45181233874578974,
          -0.044503078338053455,
          0.753766378659703
         ],
         "y": [
          -14.888555661670175,
          76.32749067488133,
          37.44086175252305,
          99.98578195007603
         ]
        }
       ],
       "layout": {
        "autosize": true,
        "height": 360,
        "template": {
         "data": {
          "bar": [
           {
            "error_x": {
             "color": "#2a3f5f"
            },
            "error_y": {
             "color": "#2a3f5f"
            },
            "marker": {
             "line": {
              "color": "#E5ECF6",
              "width": 0.5
             },
             "pattern": {
              "fillmode": "overlay",
              "size": 10,
              "solidity": 0.2
             }
            },
            "type": "bar"
           }
          ],
          "barpolar": [
           {
            "marker": {
             "line": {
              "color": "#E5ECF6",
              "width": 0.5
             },
             "pattern": {
              "fillmode": "overlay",
              "size": 10,
              "solidity": 0.2
             }
            },
            "type": "barpolar"
           }
          ],
          "carpet": [
           {
            "aaxis": {
             "endlinecolor": "#2a3f5f",
             "gridcolor": "white",
             "linecolor": "white",
             "minorgridcolor": "white",
             "startlinecolor": "#2a3f5f"
            },
            "baxis": {
             "endlinecolor": "#2a3f5f",
             "gridcolor": "white",
             "linecolor": "white",
             "minorgridcolor": "white",
             "startlinecolor": "#2a3f5f"
            },
            "type": "carpet"
           }
          ],
          "choropleth": [
           {
            "colorbar": {
             "outlinewidth": 0,
             "ticks": ""
            },
            "type": "choropleth"
           }
          ],
          "contour": [
           {
            "colorbar": {
             "outlinewidth": 0,
             "ticks": ""
            },
            "colorscale": [
             [
              0,
              "#0d0887"
             ],
             [
              0.1111111111111111,
              "#46039f"
             ],
             [
              0.2222222222222222,
              "#7201a8"
             ],
             [
              0.3333333333333333,
              "#9c179e"
             ],
             [
              0.4444444444444444,
              "#bd3786"
             ],
             [
              0.5555555555555556,
              "#d8576b"
             ],
             [
              0.6666666666666666,
              "#ed7953"
             ],
             [
              0.7777777777777778,
              "#fb9f3a"
             ],
             [
              0.8888888888888888,
              "#fdca26"
             ],
             [
              1,
              "#f0f921"
             ]
            ],
            "type": "contour"
           }
          ],
          "contourcarpet": [
           {
            "colorbar": {
             "outlinewidth": 0,
             "ticks": ""
            },
            "type": "contourcarpet"
           }
          ],
          "heatmap": [
           {
            "colorbar": {
             "outlinewidth": 0,
             "ticks": ""
            },
            "colorscale": [
             [
              0,
              "#0d0887"
             ],
             [
              0.1111111111111111,
              "#46039f"
             ],
             [
              0.2222222222222222,
              "#7201a8"
             ],
             [
              0.3333333333333333,
              "#9c179e"
             ],
             [
              0.4444444444444444,
              "#bd3786"
             ],
             [
              0.5555555555555556,
              "#d8576b"
             ],
             [
              0.6666666666666666,
              "#ed7953"
             ],
             [
              0.7777777777777778,
              "#fb9f3a"
             ],
             [
              0.8888888888888888,
              "#fdca26"
             ],
             [
              1,
              "#f0f921"
             ]
            ],
            "type": "heatmap"
           }
          ],
          "heatmapgl": [
           {
            "colorbar": {
             "outlinewidth": 0,
             "ticks": ""
            },
            "colorscale": [
             [
              0,
              "#0d0887"
             ],
             [
              0.1111111111111111,
              "#46039f"
             ],
             [
              0.2222222222222222,
              "#7201a8"
             ],
             [
              0.3333333333333333,
              "#9c179e"
             ],
             [
              0.4444444444444444,
              "#bd3786"
             ],
             [
              0.5555555555555556,
              "#d8576b"
             ],
             [
              0.6666666666666666,
              "#ed7953"
             ],
             [
              0.7777777777777778,
              "#fb9f3a"
             ],
             [
              0.8888888888888888,
              "#fdca26"
             ],
             [
              1,
              "#f0f921"
             ]
            ],
            "type": "heatmapgl"
           }
          ],
          "histogram": [
           {
            "marker": {
             "pattern": {
              "fillmode": "overlay",
              "size": 10,
              "solidity": 0.2
             }
            },
            "type": "histogram"
           }
          ],
          "histogram2d": [
           {
            "colorbar": {
             "outlinewidth": 0,
             "ticks": ""
            },
            "colorscale": [
             [
              0,
              "#0d0887"
             ],
             [
              0.1111111111111111,
              "#46039f"
             ],
             [
              0.2222222222222222,
              "#7201a8"
             ],
             [
              0.3333333333333333,
              "#9c179e"
             ],
             [
              0.4444444444444444,
              "#bd3786"
             ],
             [
              0.5555555555555556,
              "#d8576b"
             ],
             [
              0.6666666666666666,
              "#ed7953"
             ],
             [
              0.7777777777777778,
              "#fb9f3a"
             ],
             [
              0.8888888888888888,
              "#fdca26"
             ],
             [
              1,
              "#f0f921"
             ]
            ],
            "type": "histogram2d"
           }
          ],
          "histogram2dcontour": [
           {
            "colorbar": {
             "outlinewidth": 0,
             "ticks": ""
            },
            "colorscale": [
             [
              0,
              "#0d0887"
             ],
             [
              0.1111111111111111,
              "#46039f"
             ],
             [
              0.2222222222222222,
              "#7201a8"
             ],
             [
              0.3333333333333333,
              "#9c179e"
             ],
             [
              0.4444444444444444,
              "#bd3786"
             ],
             [
              0.5555555555555556,
              "#d8576b"
             ],
             [
              0.6666666666666666,
              "#ed7953"
             ],
             [
              0.7777777777777778,
              "#fb9f3a"
             ],
             [
              0.8888888888888888,
              "#fdca26"
             ],
             [
              1,
              "#f0f921"
             ]
            ],
            "type": "histogram2dcontour"
           }
          ],
          "mesh3d": [
           {
            "colorbar": {
             "outlinewidth": 0,
             "ticks": ""
            },
            "type": "mesh3d"
           }
          ],
          "parcoords": [
           {
            "line": {
             "colorbar": {
              "outlinewidth": 0,
              "ticks": ""
             }
            },
            "type": "parcoords"
           }
          ],
          "pie": [
           {
            "automargin": true,
            "type": "pie"
           }
          ],
          "scatter": [
           {
            "fillpattern": {
             "fillmode": "overlay",
             "size": 10,
             "solidity": 0.2
            },
            "type": "scatter"
           }
          ],
          "scatter3d": [
           {
            "line": {
             "colorbar": {
              "outlinewidth": 0,
              "ticks": ""
             }
            },
            "marker": {
             "colorbar": {
              "outlinewidth": 0,
              "ticks": ""
             }
            },
            "type": "scatter3d"
           }
          ],
          "scattercarpet": [
           {
            "marker": {
             "colorbar": {
              "outlinewidth": 0,
              "ticks": ""
             }
            },
            "type": "scattercarpet"
           }
          ],
          "scattergeo": [
           {
            "marker": {
             "colorbar": {
              "outlinewidth": 0,
              "ticks": ""
             }
            },
            "type": "scattergeo"
           }
          ],
          "scattergl": [
           {
            "marker": {
             "colorbar": {
              "outlinewidth": 0,
              "ticks": ""
             }
            },
            "type": "scattergl"
           }
          ],
          "scattermapbox": [
           {
            "marker": {
             "colorbar": {
              "outlinewidth": 0,
              "ticks": ""
             }
            },
            "type": "scattermapbox"
           }
          ],
          "scatterpolar": [
           {
            "marker": {
             "colorbar": {
              "outlinewidth": 0,
              "ticks": ""
             }
            },
            "type": "scatterpolar"
           }
          ],
          "scatterpolargl": [
           {
            "marker": {
             "colorbar": {
              "outlinewidth": 0,
              "ticks": ""
             }
            },
            "type": "scatterpolargl"
           }
          ],
          "scatterternary": [
           {
            "marker": {
             "colorbar": {
              "outlinewidth": 0,
              "ticks": ""
             }
            },
            "type": "scatterternary"
           }
          ],
          "surface": [
           {
            "colorbar": {
             "outlinewidth": 0,
             "ticks": ""
            },
            "colorscale": [
             [
              0,
              "#0d0887"
             ],
             [
              0.1111111111111111,
              "#46039f"
             ],
             [
              0.2222222222222222,
              "#7201a8"
             ],
             [
              0.3333333333333333,
              "#9c179e"
             ],
             [
              0.4444444444444444,
              "#bd3786"
             ],
             [
              0.5555555555555556,
              "#d8576b"
             ],
             [
              0.6666666666666666,
              "#ed7953"
             ],
             [
              0.7777777777777778,
              "#fb9f3a"
             ],
             [
              0.8888888888888888,
              "#fdca26"
             ],
             [
              1,
              "#f0f921"
             ]
            ],
            "type": "surface"
           }
          ],
          "table": [
           {
            "cells": {
             "fill": {
              "color": "#EBF0F8"
             },
             "line": {
              "color": "white"
             }
            },
            "header": {
             "fill": {
              "color": "#C8D4E3"
             },
             "line": {
              "color": "white"
             }
            },
            "type": "table"
           }
          ]
         },
         "layout": {
          "annotationdefaults": {
           "arrowcolor": "#2a3f5f",
           "arrowhead": 0,
           "arrowwidth": 1
          },
          "autotypenumbers": "strict",
          "coloraxis": {
           "colorbar": {
            "outlinewidth": 0,
            "ticks": ""
           }
          },
          "colorscale": {
           "diverging": [
            [
             0,
             "#8e0152"
            ],
            [
             0.1,
             "#c51b7d"
            ],
            [
             0.2,
             "#de77ae"
            ],
            [
             0.3,
             "#f1b6da"
            ],
            [
             0.4,
             "#fde0ef"
            ],
            [
             0.5,
             "#f7f7f7"
            ],
            [
             0.6,
             "#e6f5d0"
            ],
            [
             0.7,
             "#b8e186"
            ],
            [
             0.8,
             "#7fbc41"
            ],
            [
             0.9,
             "#4d9221"
            ],
            [
             1,
             "#276419"
            ]
           ],
           "sequential": [
            [
             0,
             "#0d0887"
            ],
            [
             0.1111111111111111,
             "#46039f"
            ],
            [
             0.2222222222222222,
             "#7201a8"
            ],
            [
             0.3333333333333333,
             "#9c179e"
            ],
            [
             0.4444444444444444,
             "#bd3786"
            ],
            [
             0.5555555555555556,
             "#d8576b"
            ],
            [
             0.6666666666666666,
             "#ed7953"
            ],
            [
             0.7777777777777778,
             "#fb9f3a"
            ],
            [
             0.8888888888888888,
             "#fdca26"
            ],
            [
             1,
             "#f0f921"
            ]
           ],
           "sequentialminus": [
            [
             0,
             "#0d0887"
            ],
            [
             0.1111111111111111,
             "#46039f"
            ],
            [
             0.2222222222222222,
             "#7201a8"
            ],
            [
             0.3333333333333333,
             "#9c179e"
            ],
            [
             0.4444444444444444,
             "#bd3786"
            ],
            [
             0.5555555555555556,
             "#d8576b"
            ],
            [
             0.6666666666666666,
             "#ed7953"
            ],
            [
             0.7777777777777778,
             "#fb9f3a"
            ],
            [
             0.8888888888888888,
             "#fdca26"
            ],
            [
             1,
             "#f0f921"
            ]
           ]
          },
          "colorway": [
           "#636efa",
           "#EF553B",
           "#00cc96",
           "#ab63fa",
           "#FFA15A",
           "#19d3f3",
           "#FF6692",
           "#B6E880",
           "#FF97FF",
           "#FECB52"
          ],
          "font": {
           "color": "#2a3f5f"
          },
          "geo": {
           "bgcolor": "white",
           "lakecolor": "white",
           "landcolor": "#E5ECF6",
           "showlakes": true,
           "showland": true,
           "subunitcolor": "white"
          },
          "hoverlabel": {
           "align": "left"
          },
          "hovermode": "closest",
          "mapbox": {
           "style": "light"
          },
          "paper_bgcolor": "white",
          "plot_bgcolor": "#E5ECF6",
          "polar": {
           "angularaxis": {
            "gridcolor": "white",
            "linecolor": "white",
            "ticks": ""
           },
           "bgcolor": "#E5ECF6",
           "radialaxis": {
            "gridcolor": "white",
            "linecolor": "white",
            "ticks": ""
           }
          },
          "scene": {
           "xaxis": {
            "backgroundcolor": "#E5ECF6",
            "gridcolor": "white",
            "gridwidth": 2,
            "linecolor": "white",
            "showbackground": true,
            "ticks": "",
            "zerolinecolor": "white"
           },
           "yaxis": {
            "backgroundcolor": "#E5ECF6",
            "gridcolor": "white",
            "gridwidth": 2,
            "linecolor": "white",
            "showbackground": true,
            "ticks": "",
            "zerolinecolor": "white"
           },
           "zaxis": {
            "backgroundcolor": "#E5ECF6",
            "gridcolor": "white",
            "gridwidth": 2,
            "linecolor": "white",
            "showbackground": true,
            "ticks": "",
            "zerolinecolor": "white"
           }
          },
          "shapedefaults": {
           "line": {
            "color": "#2a3f5f"
           }
          },
          "ternary": {
           "aaxis": {
            "gridcolor": "white",
            "linecolor": "white",
            "ticks": ""
           },
           "baxis": {
            "gridcolor": "white",
            "linecolor": "white",
            "ticks": ""
           },
           "bgcolor": "#E5ECF6",
           "caxis": {
            "gridcolor": "white",
            "linecolor": "white",
            "ticks": ""
           }
          },
          "title": {
           "x": 0.05
          },
          "xaxis": {
           "automargin": true,
           "gridcolor": "white",
           "linecolor": "white",
           "ticks": "",
           "title": {
            "standoff": 15
           },
           "zerolinecolor": "white",
           "zerolinewidth": 2
          },
          "yaxis": {
           "automargin": true,
           "gridcolor": "white",
           "linecolor": "white",
           "ticks": "",
           "title": {
            "standoff": 15
           },
           "zerolinecolor": "white",
           "zerolinewidth": 2
          }
         }
        },
        "xaxis": {
         "autorange": true,
         "range": [
          -0.8014138280912376,
          0.8427895447003526
         ],
         "type": "linear"
        },
        "yaxis": {
         "autorange": true,
         "range": [
          -45.230133086429724,
          174.6310997613738
         ],
         "type": "linear"
        }
       }
      },
      "image/png": "[encoded data removed]",
      "text/html": [
       "<div>                            <div id=\"1ac8e0c4-a083-4a50-a3e8-5e3b49054949\" class=\"plotly-graph-div\" style=\"height:525px; width:100%;\"></div>            <script type=\"text/javascript\">                require([\"plotly\"], function(Plotly) {                    window.PLOTLYENV=window.PLOTLYENV || {};                                    if (document.getElementById(\"1ac8e0c4-a083-4a50-a3e8-5e3b49054949\")) {                    Plotly.newPlot(                        \"1ac8e0c4-a083-4a50-a3e8-5e3b49054949\",                        [{\"mode\":\"markers\",\"x\":[-0.712390662050588,0.45181233874578974,-0.044503078338053455,0.753766378659703],\"y\":[7.217865516301067,16.046099246372442,-27.837561663487357,144.36688189113022],\"type\":\"scatter\"},{\"mode\":\"markers+lines\",\"name\":\"ols\",\"x\":[-0.712390662050588,0.45181233874578974,-0.044503078338053455,0.753766378659703],\"y\":[-29.65662909304364,61.559417243507866,22.672788321149582,85.21770851870257],\"type\":\"scatter\"},{\"mode\":\"markers+lines\",\"name\":\"y pre\",\"x\":[-0.712390662050588,0.45181233874578974,-0.044503078338053455,0.753766378659703],\"y\":[44.184191628336436,135.39949674073262,96.51318381221351,159.05759576798772],\"type\":\"scatter\"},{\"mode\":\"markers+lines\",\"name\":\"y pre1\",\"x\":[-0.712390662050588,0.45181233874578974,-0.044503078338053455,0.753766378659703],\"y\":[-14.888555661670175,76.32749067488133,37.44086175252305,99.98578195007603],\"type\":\"scatter\"}],                        {\"template\":{\"data\":{\"histogram2dcontour\":[{\"type\":\"histogram2dcontour\",\"colorbar\":{\"outlinewidth\":0,\"ticks\":\"\"},\"colorscale\":[[0.0,\"#0d0887\"],[0.1111111111111111,\"#46039f\"],[0.2222222222222222,\"#7201a8\"],[0.3333333333333333,\"#9c179e\"],[0.4444444444444444,\"#bd3786\"],[0.5555555555555556,\"#d8576b\"],[0.6666666666666666,\"#ed7953\"],[0.7777777777777778,\"#fb9f3a\"],[0.8888888888888888,\"#fdca26\"],[1.0,\"#f0f921\"]]}],\"choropleth\":[{\"type\":\"choropleth\",\"colorbar\":{\"outlinewidth\":0,\"ticks\":\"\"}}],\"histogram2d\":[{\"type\":\"histogram2d\",\"colorbar\":{\"outlinewidth\":0,\"ticks\":\"\"},\"colorscale\":[[0.0,\"#0d0887\"],[0.1111111111111111,\"#46039f\"],[0.2222222222222222,\"#7201a8\"],[0.3333333333333333,\"#9c179e\"],[0.4444444444444444,\"#bd3786\"],[0.5555555555555556,\"#d8576b\"],[0.6666666666666666,\"#ed7953\"],[0.7777777777777778,\"#fb9f3a\"],[0.8888888888888888,\"#fdca26\"],[1.0,\"#f0f921\"]]}],\"heatmap\":[{\"type\":\"heatmap\",\"colorbar\":{\"outlinewidth\":0,\"ticks\":\"\"},\"colorscale\":[[0.0,\"#0d0887\"],[0.1111111111111111,\"#46039f\"],[0.2222222222222222,\"#7201a8\"],[0.3333333333333333,\"#9c179e\"],[0.4444444444444444,\"#bd3786\"],[0.5555555555555556,\"#d8576b\"],[0.6666666666666666,\"#ed7953\"],[0.7777777777777778,\"#fb9f3a\"],[0.8888888888888888,\"#fdca26\"],[1.0,\"#f0f921\"]]}],\"heatmapgl\":[{\"type\":\"heatmapgl\",\"colorbar\":{\"outlinewidth\":0,\"ticks\":\"\"},\"colorscale\":[[0.0,\"#0d0887\"],[0.1111111111111111,\"#46039f\"],[0.2222222222222222,\"#7201a8\"],[0.3333333333333333,\"#9c179e\"],[0.4444444444444444,\"#bd3786\"],[0.5555555555555556,\"#d8576b\"],[0.6666666666666666,\"#ed7953\"],[0.7777777777777778,\"#fb9f3a\"],[0.8888888888888888,\"#fdca26\"],[1.0,\"#f0f921\"]]}],\"contourcarpet\":[{\"type\":\"contourcarpet\",\"colorbar\":{\"outlinewidth\":0,\"ticks\":\"\"}}],\"contour\":[{\"type\":\"contour\",\"colorbar\":{\"outlinewidth\":0,\"ticks\":\"\"},\"colorscale\":[[0.0,\"#0d0887\"],[0.1111111111111111,\"#46039f\"],[0.2222222222222222,\"#7201a8\"],[0.3333333333333333,\"#9c179e\"],[0.4444444444444444,\"#bd3786\"],[0.5555555555555556,\"#d8576b\"],[0.6666666666666666,\"#ed7953\"],[0.7777777777777778,\"#fb9f3a\"],[0.8888888888888888,\"#fdca26\"],[1.0,\"#f0f921\"]]}],\"surface\":[{\"type\":\"surface\",\"colorbar\":{\"outlinewidth\":0,\"ticks\":\"\"},\"colorscale\":[[0.0,\"#0d0887\"],[0.1111111111111111,\"#46039f\"],[0.2222222222222222,\"#7201a8\"],[0.3333333333333333,\"#9c179e\"],[0.4444444444444444,\"#bd3786\"],[0.5555555555555556,\"#d8576b\"],[0.6666666666666666,\"#ed7953\"],[0.7777777777777778,\"#fb9f3a\"],[0.8888888888888888,\"#fdca26\"],[1.0,\"#f0f921\"]]}],\"mesh3d\":[{\"type\":\"mesh3d\",\"colorbar\":{\"outlinewidth\":0,\"ticks\":\"\"}}],\"scatter\":[{\"fillpattern\":{\"fillmode\":\"overlay\",\"size\":10,\"solidity\":0.2},\"type\":\"scatter\"}],\"parcoords\":[{\"type\":\"parcoords\",\"line\":{\"colorbar\":{\"outlinewidth\":0,\"ticks\":\"\"}}}],\"scatterpolargl\":[{\"type\":\"scatterpolargl\",\"marker\":{\"colorbar\":{\"outlinewidth\":0,\"ticks\":\"\"}}}],\"bar\":[{\"error_x\":{\"color\":\"#2a3f5f\"},\"error_y\":{\"color\":\"#2a3f5f\"},\"marker\":{\"line\":{\"color\":\"#E5ECF6\",\"width\":0.5},\"pattern\":{\"fillmode\":\"overlay\",\"size\":10,\"solidity\":0.2}},\"type\":\"bar\"}],\"scattergeo\":[{\"type\":\"scattergeo\",\"marker\":{\"colorbar\":{\"outlinewidth\":0,\"ticks\":\"\"}}}],\"scatterpolar\":[{\"type\":\"scatterpolar\",\"marker\":{\"colorbar\":{\"outlinewidth\":0,\"ticks\":\"\"}}}],\"histogram\":[{\"marker\":{\"pattern\":{\"fillmode\":\"overlay\",\"size\":10,\"solidity\":0.2}},\"type\":\"histogram\"}],\"scattergl\":[{\"type\":\"scattergl\",\"marker\":{\"colorbar\":{\"outlinewidth\":0,\"ticks\":\"\"}}}],\"scatter3d\":[{\"type\":\"scatter3d\",\"line\":{\"colorbar\":{\"outlinewidth\":0,\"ticks\":\"\"}},\"marker\":{\"colorbar\":{\"outlinewidth\":0,\"ticks\":\"\"}}}],\"scattermapbox\":[{\"type\":\"scattermapbox\",\"marker\":{\"colorbar\":{\"outlinewidth\":0,\"ticks\":\"\"}}}],\"scatterternary\":[{\"type\":\"scatterternary\",\"marker\":{\"colorbar\":{\"outlinewidth\":0,\"ticks\":\"\"}}}],\"scattercarpet\":[{\"type\":\"scattercarpet\",\"marker\":{\"colorbar\":{\"outlinewidth\":0,\"ticks\":\"\"}}}],\"carpet\":[{\"aaxis\":{\"endlinecolor\":\"#2a3f5f\",\"gridcolor\":\"white\",\"linecolor\":\"white\",\"minorgridcolor\":\"white\",\"startlinecolor\":\"#2a3f5f\"},\"baxis\":{\"endlinecolor\":\"#2a3f5f\",\"gridcolor\":\"white\",\"linecolor\":\"white\",\"minorgridcolor\":\"white\",\"startlinecolor\":\"#2a3f5f\"},\"type\":\"carpet\"}],\"table\":[{\"cells\":{\"fill\":{\"color\":\"#EBF0F8\"},\"line\":{\"color\":\"white\"}},\"header\":{\"fill\":{\"color\":\"#C8D4E3\"},\"line\":{\"color\":\"white\"}},\"type\":\"table\"}],\"barpolar\":[{\"marker\":{\"line\":{\"color\":\"#E5ECF6\",\"width\":0.5},\"pattern\":{\"fillmode\":\"overlay\",\"size\":10,\"solidity\":0.2}},\"type\":\"barpolar\"}],\"pie\":[{\"automargin\":true,\"type\":\"pie\"}]},\"layout\":{\"autotypenumbers\":\"strict\",\"colorway\":[\"#636efa\",\"#EF553B\",\"#00cc96\",\"#ab63fa\",\"#FFA15A\",\"#19d3f3\",\"#FF6692\",\"#B6E880\",\"#FF97FF\",\"#FECB52\"],\"font\":{\"color\":\"#2a3f5f\"},\"hovermode\":\"closest\",\"hoverlabel\":{\"align\":\"left\"},\"paper_bgcolor\":\"white\",\"plot_bgcolor\":\"#E5ECF6\",\"polar\":{\"bgcolor\":\"#E5ECF6\",\"angularaxis\":{\"gridcolor\":\"white\",\"linecolor\":\"white\",\"ticks\":\"\"},\"radialaxis\":{\"gridcolor\":\"white\",\"linecolor\":\"white\",\"ticks\":\"\"}},\"ternary\":{\"bgcolor\":\"#E5ECF6\",\"aaxis\":{\"gridcolor\":\"white\",\"linecolor\":\"white\",\"ticks\":\"\"},\"baxis\":{\"gridcolor\":\"white\",\"linecolor\":\"white\",\"ticks\":\"\"},\"caxis\":{\"gridcolor\":\"white\",\"linecolor\":\"white\",\"ticks\":\"\"}},\"coloraxis\":{\"colorbar\":{\"outlinewidth\":0,\"ticks\":\"\"}},\"colorscale\":{\"sequential\":[[0.0,\"#0d0887\"],[0.1111111111111111,\"#46039f\"],[0.2222222222222222,\"#7201a8\"],[0.3333333333333333,\"#9c179e\"],[0.4444444444444444,\"#bd3786\"],[0.5555555555555556,\"#d8576b\"],[0.6666666666666666,\"#ed7953\"],[0.7777777777777778,\"#fb9f3a\"],[0.8888888888888888,\"#fdca26\"],[1.0,\"#f0f921\"]],\"sequentialminus\":[[0.0,\"#0d0887\"],[0.1111111111111111,\"#46039f\"],[0.2222222222222222,\"#7201a8\"],[0.3333333333333333,\"#9c179e\"],[0.4444444444444444,\"#bd3786\"],[0.5555555555555556,\"#d8576b\"],[0.6666666666666666,\"#ed7953\"],[0.7777777777777778,\"#fb9f3a\"],[0.8888888888888888,\"#fdca26\"],[1.0,\"#f0f921\"]],\"diverging\":[[0,\"#8e0152\"],[0.1,\"#c51b7d\"],[0.2,\"#de77ae\"],[0.3,\"#f1b6da\"],[0.4,\"#fde0ef\"],[0.5,\"#f7f7f7\"],[0.6,\"#e6f5d0\"],[0.7,\"#b8e186\"],[0.8,\"#7fbc41\"],[0.9,\"#4d9221\"],[1,\"#276419\"]]},\"xaxis\":{\"gridcolor\":\"white\",\"linecolor\":\"white\",\"ticks\":\"\",\"title\":{\"standoff\":15},\"zerolinecolor\":\"white\",\"automargin\":true,\"zerolinewidth\":2},\"yaxis\":{\"gridcolor\":\"white\",\"linecolor\":\"white\",\"ticks\":\"\",\"title\":{\"standoff\":15},\"zerolinecolor\":\"white\",\"automargin\":true,\"zerolinewidth\":2},\"scene\":{\"xaxis\":{\"backgroundcolor\":\"#E5ECF6\",\"gridcolor\":\"white\",\"linecolor\":\"white\",\"showbackground\":true,\"ticks\":\"\",\"zerolinecolor\":\"white\",\"gridwidth\":2},\"yaxis\":{\"backgroundcolor\":\"#E5ECF6\",\"gridcolor\":\"white\",\"linecolor\":\"white\",\"showbackground\":true,\"ticks\":\"\",\"zerolinecolor\":\"white\",\"gridwidth\":2},\"zaxis\":{\"backgroundcolor\":\"#E5ECF6\",\"gridcolor\":\"white\",\"linecolor\":\"white\",\"showbackground\":true,\"ticks\":\"\",\"zerolinecolor\":\"white\",\"gridwidth\":2}},\"shapedefaults\":{\"line\":{\"color\":\"#2a3f5f\"}},\"annotationdefaults\":{\"arrowcolor\":\"#2a3f5f\",\"arrowhead\":0,\"arrowwidth\":1},\"geo\":{\"bgcolor\":\"white\",\"landcolor\":\"#E5ECF6\",\"subunitcolor\":\"white\",\"showland\":true,\"showlakes\":true,\"lakecolor\":\"white\"},\"title\":{\"x\":0.05},\"mapbox\":{\"style\":\"light\"}}}},                        {\"responsive\": true}                    ).then(function(){\n",
       "                            \n",
       "var gd = document.getElementById('1ac8e0c4-a083-4a50-a3e8-5e3b49054949');\n",
       "var x = new MutationObserver(function (mutations, observer) {{\n",
       "        var display = window.getComputedStyle(gd).display;\n",
       "        if (!display || display === 'none') {{\n",
       "            console.log([gd, 'removed!']);\n",
       "            Plotly.purge(gd);\n",
       "            observer.disconnect();\n",
       "        }}\n",
       "}});\n",
       "\n",
       "// Listen for the removal of the full notebook cells\n",
       "var notebookContainer = gd.closest('#notebook-container');\n",
       "if (notebookContainer) {{\n",
       "    x.observe(notebookContainer, {childList: true});\n",
       "}}\n",
       "\n",
       "// Listen for the clearing of the current output cell\n",
       "var outputEl = gd.closest('.output');\n",
       "if (outputEl) {{\n",
       "    x.observe(outputEl, {childList: true});\n",
       "}}\n",
       "\n",
       "                        })                };                });            </script>        </div>"
      ]
     },
     "metadata": {},
     "output_type": "display_data"
    }
   ],
   "source": [
    "fig = go.Figure()\n",
    "fig.add_trace(go.Scatter(x=x.ravel(),y=y,mode = 'markers'))\n",
    "fig.add_trace(go.Scatter(x=x.ravel(),y=reg.predict(x),mode = 'markers+lines',name = 'ols'))\n",
    "fig.add_trace(go.Scatter(x=x.ravel(),y=y_pre,mode = 'markers+lines',name = 'y pre'))\n",
    "fig.add_trace(go.Scatter(x=x.ravel(),y=y_pre1,mode = 'markers+lines',name = 'y pre1'))"
   ]
  },
  {
   "cell_type": "code",
   "execution_count": 136,
   "id": "ba204ab2-0c49-4dcf-a19f-4a6a39c93941",
   "metadata": {},
   "outputs": [
    {
     "data": {
      "text/plain": [
       "array([-26.70301441,  64.51303193,  25.62640301,  88.1713232 ])"
      ]
     },
     "execution_count": 136,
     "metadata": {},
     "output_type": "execute_result"
    }
   ],
   "source": [
    "loss_slope = -2*np.sum(y-reg.coef_*x.ravel() - b)\n",
    "b=b - learing_rate*loss_slope\n",
    "y_pre2 = ((reg.coef_*x.ravel())+b)\n",
    "y_pre2"
   ]
  },
  {
   "cell_type": "code",
   "execution_count": 137,
   "id": "a5047522-0687-4b05-b4a5-614f38f36fdb",
   "metadata": {},
   "outputs": [
    {
     "data": {
      "application/vnd.plotly.v1+json": {
       "config": {
        "plotlyServerURL": "https://plot.ly"
       },
       "data": [
        {
         "mode": "markers",
         "type": "scatter",
         "x": [
          -0.712390662050588,
          0.45181233874578974,
          -0.044503078338053455,
          0.753766378659703
         ],
         "y": [
          7.217865516301067,
          16.046099246372442,
          -27.837561663487357,
          144.36688189113022
         ]
        },
        {
         "mode": "markers+lines",
         "name": "ols",
         "type": "scatter",
         "x": [
          -0.712390662050588,
          0.45181233874578974,
          -0.044503078338053455,
          0.753766378659703
         ],
         "y": [
          -29.65662909304364,
          61.559417243507866,
          22.672788321149582,
          85.21770851870257
         ]
        },
        {
         "mode": "markers+lines",
         "name": "y pre",
         "type": "scatter",
         "x": [
          -0.712390662050588,
          0.45181233874578974,
          -0.044503078338053455,
          0.753766378659703
         ],
         "y": [
          44.184191628336436,
          135.39949674073262,
          96.51318381221351,
          159.05759576798772
         ]
        },
        {
         "mode": "markers+lines",
         "name": "y pre1",
         "type": "scatter",
         "x": [
          -0.712390662050588,
          0.45181233874578974,
          -0.044503078338053455,
          0.753766378659703
         ],
         "y": [
          -14.888555661670175,
          76.32749067488133,
          37.44086175252305,
          99.98578195007603
         ]
        },
        {
         "mode": "markers+lines",
         "name": "y pre2",
         "type": "scatter",
         "x": [
          -0.712390662050588,
          0.45181233874578974,
          -0.044503078338053455,
          0.753766378659703
         ],
         "y": [
          -26.70301440676895,
          64.51303192978256,
          25.626403007424273,
          88.17132320497726
         ]
        }
       ],
       "layout": {
        "autosize": true,
        "height": 360,
        "template": {
         "data": {
          "bar": [
           {
            "error_x": {
             "color": "#2a3f5f"
            },
            "error_y": {
             "color": "#2a3f5f"
            },
            "marker": {
             "line": {
              "color": "#E5ECF6",
              "width": 0.5
             },
             "pattern": {
              "fillmode": "overlay",
              "size": 10,
              "solidity": 0.2
             }
            },
            "type": "bar"
           }
          ],
          "barpolar": [
           {
            "marker": {
             "line": {
              "color": "#E5ECF6",
              "width": 0.5
             },
             "pattern": {
              "fillmode": "overlay",
              "size": 10,
              "solidity": 0.2
             }
            },
            "type": "barpolar"
           }
          ],
          "carpet": [
           {
            "aaxis": {
             "endlinecolor": "#2a3f5f",
             "gridcolor": "white",
             "linecolor": "white",
             "minorgridcolor": "white",
             "startlinecolor": "#2a3f5f"
            },
            "baxis": {
             "endlinecolor": "#2a3f5f",
             "gridcolor": "white",
             "linecolor": "white",
             "minorgridcolor": "white",
             "startlinecolor": "#2a3f5f"
            },
            "type": "carpet"
           }
          ],
          "choropleth": [
           {
            "colorbar": {
             "outlinewidth": 0,
             "ticks": ""
            },
            "type": "choropleth"
           }
          ],
          "contour": [
           {
            "colorbar": {
             "outlinewidth": 0,
             "ticks": ""
            },
            "colorscale": [
             [
              0,
              "#0d0887"
             ],
             [
              0.1111111111111111,
              "#46039f"
             ],
             [
              0.2222222222222222,
              "#7201a8"
             ],
             [
              0.3333333333333333,
              "#9c179e"
             ],
             [
              0.4444444444444444,
              "#bd3786"
             ],
             [
              0.5555555555555556,
              "#d8576b"
             ],
             [
              0.6666666666666666,
              "#ed7953"
             ],
             [
              0.7777777777777778,
              "#fb9f3a"
             ],
             [
              0.8888888888888888,
              "#fdca26"
             ],
             [
              1,
              "#f0f921"
             ]
            ],
            "type": "contour"
           }
          ],
          "contourcarpet": [
           {
            "colorbar": {
             "outlinewidth": 0,
             "ticks": ""
            },
            "type": "contourcarpet"
           }
          ],
          "heatmap": [
           {
            "colorbar": {
             "outlinewidth": 0,
             "ticks": ""
            },
            "colorscale": [
             [
              0,
              "#0d0887"
             ],
             [
              0.1111111111111111,
              "#46039f"
             ],
             [
              0.2222222222222222,
              "#7201a8"
             ],
             [
              0.3333333333333333,
              "#9c179e"
             ],
             [
              0.4444444444444444,
              "#bd3786"
             ],
             [
              0.5555555555555556,
              "#d8576b"
             ],
             [
              0.6666666666666666,
              "#ed7953"
             ],
             [
              0.7777777777777778,
              "#fb9f3a"
             ],
             [
              0.8888888888888888,
              "#fdca26"
             ],
             [
              1,
              "#f0f921"
             ]
            ],
            "type": "heatmap"
           }
          ],
          "heatmapgl": [
           {
            "colorbar": {
             "outlinewidth": 0,
             "ticks": ""
            },
            "colorscale": [
             [
              0,
              "#0d0887"
             ],
             [
              0.1111111111111111,
              "#46039f"
             ],
             [
              0.2222222222222222,
              "#7201a8"
             ],
             [
              0.3333333333333333,
              "#9c179e"
             ],
             [
              0.4444444444444444,
              "#bd3786"
             ],
             [
              0.5555555555555556,
              "#d8576b"
             ],
             [
              0.6666666666666666,
              "#ed7953"
             ],
             [
              0.7777777777777778,
              "#fb9f3a"
             ],
             [
              0.8888888888888888,
              "#fdca26"
             ],
             [
              1,
              "#f0f921"
             ]
            ],
            "type": "heatmapgl"
           }
          ],
          "histogram": [
           {
            "marker": {
             "pattern": {
              "fillmode": "overlay",
              "size": 10,
              "solidity": 0.2
             }
            },
            "type": "histogram"
           }
          ],
          "histogram2d": [
           {
            "colorbar": {
             "outlinewidth": 0,
             "ticks": ""
            },
            "colorscale": [
             [
              0,
              "#0d0887"
             ],
             [
              0.1111111111111111,
              "#46039f"
             ],
             [
              0.2222222222222222,
              "#7201a8"
             ],
             [
              0.3333333333333333,
              "#9c179e"
             ],
             [
              0.4444444444444444,
              "#bd3786"
             ],
             [
              0.5555555555555556,
              "#d8576b"
             ],
             [
              0.6666666666666666,
              "#ed7953"
             ],
             [
              0.7777777777777778,
              "#fb9f3a"
             ],
             [
              0.8888888888888888,
              "#fdca26"
             ],
             [
              1,
              "#f0f921"
             ]
            ],
            "type": "histogram2d"
           }
          ],
          "histogram2dcontour": [
           {
            "colorbar": {
             "outlinewidth": 0,
             "ticks": ""
            },
            "colorscale": [
             [
              0,
              "#0d0887"
             ],
             [
              0.1111111111111111,
              "#46039f"
             ],
             [
              0.2222222222222222,
              "#7201a8"
             ],
             [
              0.3333333333333333,
              "#9c179e"
             ],
             [
              0.4444444444444444,
              "#bd3786"
             ],
             [
              0.5555555555555556,
              "#d8576b"
             ],
             [
              0.6666666666666666,
              "#ed7953"
             ],
             [
              0.7777777777777778,
              "#fb9f3a"
             ],
             [
              0.8888888888888888,
              "#fdca26"
             ],
             [
              1,
              "#f0f921"
             ]
            ],
            "type": "histogram2dcontour"
           }
          ],
          "mesh3d": [
           {
            "colorbar": {
             "outlinewidth": 0,
             "ticks": ""
            },
            "type": "mesh3d"
           }
          ],
          "parcoords": [
           {
            "line": {
             "colorbar": {
              "outlinewidth": 0,
              "ticks": ""
             }
            },
            "type": "parcoords"
           }
          ],
          "pie": [
           {
            "automargin": true,
            "type": "pie"
           }
          ],
          "scatter": [
           {
            "fillpattern": {
             "fillmode": "overlay",
             "size": 10,
             "solidity": 0.2
            },
            "type": "scatter"
           }
          ],
          "scatter3d": [
           {
            "line": {
             "colorbar": {
              "outlinewidth": 0,
              "ticks": ""
             }
            },
            "marker": {
             "colorbar": {
              "outlinewidth": 0,
              "ticks": ""
             }
            },
            "type": "scatter3d"
           }
          ],
          "scattercarpet": [
           {
            "marker": {
             "colorbar": {
              "outlinewidth": 0,
              "ticks": ""
             }
            },
            "type": "scattercarpet"
           }
          ],
          "scattergeo": [
           {
            "marker": {
             "colorbar": {
              "outlinewidth": 0,
              "ticks": ""
             }
            },
            "type": "scattergeo"
           }
          ],
          "scattergl": [
           {
            "marker": {
             "colorbar": {
              "outlinewidth": 0,
              "ticks": ""
             }
            },
            "type": "scattergl"
           }
          ],
          "scattermapbox": [
           {
            "marker": {
             "colorbar": {
              "outlinewidth": 0,
              "ticks": ""
             }
            },
            "type": "scattermapbox"
           }
          ],
          "scatterpolar": [
           {
            "marker": {
             "colorbar": {
              "outlinewidth": 0,
              "ticks": ""
             }
            },
            "type": "scatterpolar"
           }
          ],
          "scatterpolargl": [
           {
            "marker": {
             "colorbar": {
              "outlinewidth": 0,
              "ticks": ""
             }
            },
            "type": "scatterpolargl"
           }
          ],
          "scatterternary": [
           {
            "marker": {
             "colorbar": {
              "outlinewidth": 0,
              "ticks": ""
             }
            },
            "type": "scatterternary"
           }
          ],
          "surface": [
           {
            "colorbar": {
             "outlinewidth": 0,
             "ticks": ""
            },
            "colorscale": [
             [
              0,
              "#0d0887"
             ],
             [
              0.1111111111111111,
              "#46039f"
             ],
             [
              0.2222222222222222,
              "#7201a8"
             ],
             [
              0.3333333333333333,
              "#9c179e"
             ],
             [
              0.4444444444444444,
              "#bd3786"
             ],
             [
              0.5555555555555556,
              "#d8576b"
             ],
             [
              0.6666666666666666,
              "#ed7953"
             ],
             [
              0.7777777777777778,
              "#fb9f3a"
             ],
             [
              0.8888888888888888,
              "#fdca26"
             ],
             [
              1,
              "#f0f921"
             ]
            ],
            "type": "surface"
           }
          ],
          "table": [
           {
            "cells": {
             "fill": {
              "color": "#EBF0F8"
             },
             "line": {
              "color": "white"
             }
            },
            "header": {
             "fill": {
              "color": "#C8D4E3"
             },
             "line": {
              "color": "white"
             }
            },
            "type": "table"
           }
          ]
         },
         "layout": {
          "annotationdefaults": {
           "arrowcolor": "#2a3f5f",
           "arrowhead": 0,
           "arrowwidth": 1
          },
          "autotypenumbers": "strict",
          "coloraxis": {
           "colorbar": {
            "outlinewidth": 0,
            "ticks": ""
           }
          },
          "colorscale": {
           "diverging": [
            [
             0,
             "#8e0152"
            ],
            [
             0.1,
             "#c51b7d"
            ],
            [
             0.2,
             "#de77ae"
            ],
            [
             0.3,
             "#f1b6da"
            ],
            [
             0.4,
             "#fde0ef"
            ],
            [
             0.5,
             "#f7f7f7"
            ],
            [
             0.6,
             "#e6f5d0"
            ],
            [
             0.7,
             "#b8e186"
            ],
            [
             0.8,
             "#7fbc41"
            ],
            [
             0.9,
             "#4d9221"
            ],
            [
             1,
             "#276419"
            ]
           ],
           "sequential": [
            [
             0,
             "#0d0887"
            ],
            [
             0.1111111111111111,
             "#46039f"
            ],
            [
             0.2222222222222222,
             "#7201a8"
            ],
            [
             0.3333333333333333,
             "#9c179e"
            ],
            [
             0.4444444444444444,
             "#bd3786"
            ],
            [
             0.5555555555555556,
             "#d8576b"
            ],
            [
             0.6666666666666666,
             "#ed7953"
            ],
            [
             0.7777777777777778,
             "#fb9f3a"
            ],
            [
             0.8888888888888888,
             "#fdca26"
            ],
            [
             1,
             "#f0f921"
            ]
           ],
           "sequentialminus": [
            [
             0,
             "#0d0887"
            ],
            [
             0.1111111111111111,
             "#46039f"
            ],
            [
             0.2222222222222222,
             "#7201a8"
            ],
            [
             0.3333333333333333,
             "#9c179e"
            ],
            [
             0.4444444444444444,
             "#bd3786"
            ],
            [
             0.5555555555555556,
             "#d8576b"
            ],
            [
             0.6666666666666666,
             "#ed7953"
            ],
            [
             0.7777777777777778,
             "#fb9f3a"
            ],
            [
             0.8888888888888888,
             "#fdca26"
            ],
            [
             1,
             "#f0f921"
            ]
           ]
          },
          "colorway": [
           "#636efa",
           "#EF553B",
           "#00cc96",
           "#ab63fa",
           "#FFA15A",
           "#19d3f3",
           "#FF6692",
           "#B6E880",
           "#FF97FF",
           "#FECB52"
          ],
          "font": {
           "color": "#2a3f5f"
          },
          "geo": {
           "bgcolor": "white",
           "lakecolor": "white",
           "landcolor": "#E5ECF6",
           "showlakes": true,
           "showland": true,
           "subunitcolor": "white"
          },
          "hoverlabel": {
           "align": "left"
          },
          "hovermode": "closest",
          "mapbox": {
           "style": "light"
          },
          "paper_bgcolor": "white",
          "plot_bgcolor": "#E5ECF6",
          "polar": {
           "angularaxis": {
            "gridcolor": "white",
            "linecolor": "white",
            "ticks": ""
           },
           "bgcolor": "#E5ECF6",
           "radialaxis": {
            "gridcolor": "white",
            "linecolor": "white",
            "ticks": ""
           }
          },
          "scene": {
           "xaxis": {
            "backgroundcolor": "#E5ECF6",
            "gridcolor": "white",
            "gridwidth": 2,
            "linecolor": "white",
            "showbackground": true,
            "ticks": "",
            "zerolinecolor": "white"
           },
           "yaxis": {
            "backgroundcolor": "#E5ECF6",
            "gridcolor": "white",
            "gridwidth": 2,
            "linecolor": "white",
            "showbackground": true,
            "ticks": "",
            "zerolinecolor": "white"
           },
           "zaxis": {
            "backgroundcolor": "#E5ECF6",
            "gridcolor": "white",
            "gridwidth": 2,
            "linecolor": "white",
            "showbackground": true,
            "ticks": "",
            "zerolinecolor": "white"
           }
          },
          "shapedefaults": {
           "line": {
            "color": "#2a3f5f"
           }
          },
          "ternary": {
           "aaxis": {
            "gridcolor": "white",
            "linecolor": "white",
            "ticks": ""
           },
           "baxis": {
            "gridcolor": "white",
            "linecolor": "white",
            "ticks": ""
           },
           "bgcolor": "#E5ECF6",
           "caxis": {
            "gridcolor": "white",
            "linecolor": "white",
            "ticks": ""
           }
          },
          "title": {
           "x": 0.05
          },
          "xaxis": {
           "automargin": true,
           "gridcolor": "white",
           "linecolor": "white",
           "ticks": "",
           "title": {
            "standoff": 15
           },
           "zerolinecolor": "white",
           "zerolinewidth": 2
          },
          "yaxis": {
           "automargin": true,
           "gridcolor": "white",
           "linecolor": "white",
           "ticks": "",
           "title": {
            "standoff": 15
           },
           "zerolinecolor": "white",
           "zerolinewidth": 2
          }
         }
        },
        "xaxis": {
         "autorange": true,
         "range": [
          -0.8014138280912376,
          0.8427895447003526
         ],
         "type": "linear"
        },
        "yaxis": {
         "autorange": true,
         "range": [
          -45.230133086429724,
          174.6310997613738
         ],
         "type": "linear"
        }
       }
      },
      "image/png": "[encoded data removed]",
      "text/html": [
       "<div>                            <div id=\"e5062a85-7216-490c-8a48-b125be699e85\" class=\"plotly-graph-div\" style=\"height:525px; width:100%;\"></div>            <script type=\"text/javascript\">                require([\"plotly\"], function(Plotly) {                    window.PLOTLYENV=window.PLOTLYENV || {};                                    if (document.getElementById(\"e5062a85-7216-490c-8a48-b125be699e85\")) {                    Plotly.newPlot(                        \"e5062a85-7216-490c-8a48-b125be699e85\",                        [{\"mode\":\"markers\",\"x\":[-0.712390662050588,0.45181233874578974,-0.044503078338053455,0.753766378659703],\"y\":[7.217865516301067,16.046099246372442,-27.837561663487357,144.36688189113022],\"type\":\"scatter\"},{\"mode\":\"markers+lines\",\"name\":\"ols\",\"x\":[-0.712390662050588,0.45181233874578974,-0.044503078338053455,0.753766378659703],\"y\":[-29.65662909304364,61.559417243507866,22.672788321149582,85.21770851870257],\"type\":\"scatter\"},{\"mode\":\"markers+lines\",\"name\":\"y pre\",\"x\":[-0.712390662050588,0.45181233874578974,-0.044503078338053455,0.753766378659703],\"y\":[44.184191628336436,135.39949674073262,96.51318381221351,159.05759576798772],\"type\":\"scatter\"},{\"mode\":\"markers+lines\",\"name\":\"y pre1\",\"x\":[-0.712390662050588,0.45181233874578974,-0.044503078338053455,0.753766378659703],\"y\":[-14.888555661670175,76.32749067488133,37.44086175252305,99.98578195007603],\"type\":\"scatter\"},{\"mode\":\"markers+lines\",\"name\":\"y pre2\",\"x\":[-0.712390662050588,0.45181233874578974,-0.044503078338053455,0.753766378659703],\"y\":[-26.70301440676895,64.51303192978256,25.626403007424273,88.17132320497726],\"type\":\"scatter\"}],                        {\"template\":{\"data\":{\"histogram2dcontour\":[{\"type\":\"histogram2dcontour\",\"colorbar\":{\"outlinewidth\":0,\"ticks\":\"\"},\"colorscale\":[[0.0,\"#0d0887\"],[0.1111111111111111,\"#46039f\"],[0.2222222222222222,\"#7201a8\"],[0.3333333333333333,\"#9c179e\"],[0.4444444444444444,\"#bd3786\"],[0.5555555555555556,\"#d8576b\"],[0.6666666666666666,\"#ed7953\"],[0.7777777777777778,\"#fb9f3a\"],[0.8888888888888888,\"#fdca26\"],[1.0,\"#f0f921\"]]}],\"choropleth\":[{\"type\":\"choropleth\",\"colorbar\":{\"outlinewidth\":0,\"ticks\":\"\"}}],\"histogram2d\":[{\"type\":\"histogram2d\",\"colorbar\":{\"outlinewidth\":0,\"ticks\":\"\"},\"colorscale\":[[0.0,\"#0d0887\"],[0.1111111111111111,\"#46039f\"],[0.2222222222222222,\"#7201a8\"],[0.3333333333333333,\"#9c179e\"],[0.4444444444444444,\"#bd3786\"],[0.5555555555555556,\"#d8576b\"],[0.6666666666666666,\"#ed7953\"],[0.7777777777777778,\"#fb9f3a\"],[0.8888888888888888,\"#fdca26\"],[1.0,\"#f0f921\"]]}],\"heatmap\":[{\"type\":\"heatmap\",\"colorbar\":{\"outlinewidth\":0,\"ticks\":\"\"},\"colorscale\":[[0.0,\"#0d0887\"],[0.1111111111111111,\"#46039f\"],[0.2222222222222222,\"#7201a8\"],[0.3333333333333333,\"#9c179e\"],[0.4444444444444444,\"#bd3786\"],[0.5555555555555556,\"#d8576b\"],[0.6666666666666666,\"#ed7953\"],[0.7777777777777778,\"#fb9f3a\"],[0.8888888888888888,\"#fdca26\"],[1.0,\"#f0f921\"]]}],\"heatmapgl\":[{\"type\":\"heatmapgl\",\"colorbar\":{\"outlinewidth\":0,\"ticks\":\"\"},\"colorscale\":[[0.0,\"#0d0887\"],[0.1111111111111111,\"#46039f\"],[0.2222222222222222,\"#7201a8\"],[0.3333333333333333,\"#9c179e\"],[0.4444444444444444,\"#bd3786\"],[0.5555555555555556,\"#d8576b\"],[0.6666666666666666,\"#ed7953\"],[0.7777777777777778,\"#fb9f3a\"],[0.8888888888888888,\"#fdca26\"],[1.0,\"#f0f921\"]]}],\"contourcarpet\":[{\"type\":\"contourcarpet\",\"colorbar\":{\"outlinewidth\":0,\"ticks\":\"\"}}],\"contour\":[{\"type\":\"contour\",\"colorbar\":{\"outlinewidth\":0,\"ticks\":\"\"},\"colorscale\":[[0.0,\"#0d0887\"],[0.1111111111111111,\"#46039f\"],[0.2222222222222222,\"#7201a8\"],[0.3333333333333333,\"#9c179e\"],[0.4444444444444444,\"#bd3786\"],[0.5555555555555556,\"#d8576b\"],[0.6666666666666666,\"#ed7953\"],[0.7777777777777778,\"#fb9f3a\"],[0.8888888888888888,\"#fdca26\"],[1.0,\"#f0f921\"]]}],\"surface\":[{\"type\":\"surface\",\"colorbar\":{\"outlinewidth\":0,\"ticks\":\"\"},\"colorscale\":[[0.0,\"#0d0887\"],[0.1111111111111111,\"#46039f\"],[0.2222222222222222,\"#7201a8\"],[0.3333333333333333,\"#9c179e\"],[0.4444444444444444,\"#bd3786\"],[0.5555555555555556,\"#d8576b\"],[0.6666666666666666,\"#ed7953\"],[0.7777777777777778,\"#fb9f3a\"],[0.8888888888888888,\"#fdca26\"],[1.0,\"#f0f921\"]]}],\"mesh3d\":[{\"type\":\"mesh3d\",\"colorbar\":{\"outlinewidth\":0,\"ticks\":\"\"}}],\"scatter\":[{\"fillpattern\":{\"fillmode\":\"overlay\",\"size\":10,\"solidity\":0.2},\"type\":\"scatter\"}],\"parcoords\":[{\"type\":\"parcoords\",\"line\":{\"colorbar\":{\"outlinewidth\":0,\"ticks\":\"\"}}}],\"scatterpolargl\":[{\"type\":\"scatterpolargl\",\"marker\":{\"colorbar\":{\"outlinewidth\":0,\"ticks\":\"\"}}}],\"bar\":[{\"error_x\":{\"color\":\"#2a3f5f\"},\"error_y\":{\"color\":\"#2a3f5f\"},\"marker\":{\"line\":{\"color\":\"#E5ECF6\",\"width\":0.5},\"pattern\":{\"fillmode\":\"overlay\",\"size\":10,\"solidity\":0.2}},\"type\":\"bar\"}],\"scattergeo\":[{\"type\":\"scattergeo\",\"marker\":{\"colorbar\":{\"outlinewidth\":0,\"ticks\":\"\"}}}],\"scatterpolar\":[{\"type\":\"scatterpolar\",\"marker\":{\"colorbar\":{\"outlinewidth\":0,\"ticks\":\"\"}}}],\"histogram\":[{\"marker\":{\"pattern\":{\"fillmode\":\"overlay\",\"size\":10,\"solidity\":0.2}},\"type\":\"histogram\"}],\"scattergl\":[{\"type\":\"scattergl\",\"marker\":{\"colorbar\":{\"outlinewidth\":0,\"ticks\":\"\"}}}],\"scatter3d\":[{\"type\":\"scatter3d\",\"line\":{\"colorbar\":{\"outlinewidth\":0,\"ticks\":\"\"}},\"marker\":{\"colorbar\":{\"outlinewidth\":0,\"ticks\":\"\"}}}],\"scattermapbox\":[{\"type\":\"scattermapbox\",\"marker\":{\"colorbar\":{\"outlinewidth\":0,\"ticks\":\"\"}}}],\"scatterternary\":[{\"type\":\"scatterternary\",\"marker\":{\"colorbar\":{\"outlinewidth\":0,\"ticks\":\"\"}}}],\"scattercarpet\":[{\"type\":\"scattercarpet\",\"marker\":{\"colorbar\":{\"outlinewidth\":0,\"ticks\":\"\"}}}],\"carpet\":[{\"aaxis\":{\"endlinecolor\":\"#2a3f5f\",\"gridcolor\":\"white\",\"linecolor\":\"white\",\"minorgridcolor\":\"white\",\"startlinecolor\":\"#2a3f5f\"},\"baxis\":{\"endlinecolor\":\"#2a3f5f\",\"gridcolor\":\"white\",\"linecolor\":\"white\",\"minorgridcolor\":\"white\",\"startlinecolor\":\"#2a3f5f\"},\"type\":\"carpet\"}],\"table\":[{\"cells\":{\"fill\":{\"color\":\"#EBF0F8\"},\"line\":{\"color\":\"white\"}},\"header\":{\"fill\":{\"color\":\"#C8D4E3\"},\"line\":{\"color\":\"white\"}},\"type\":\"table\"}],\"barpolar\":[{\"marker\":{\"line\":{\"color\":\"#E5ECF6\",\"width\":0.5},\"pattern\":{\"fillmode\":\"overlay\",\"size\":10,\"solidity\":0.2}},\"type\":\"barpolar\"}],\"pie\":[{\"automargin\":true,\"type\":\"pie\"}]},\"layout\":{\"autotypenumbers\":\"strict\",\"colorway\":[\"#636efa\",\"#EF553B\",\"#00cc96\",\"#ab63fa\",\"#FFA15A\",\"#19d3f3\",\"#FF6692\",\"#B6E880\",\"#FF97FF\",\"#FECB52\"],\"font\":{\"color\":\"#2a3f5f\"},\"hovermode\":\"closest\",\"hoverlabel\":{\"align\":\"left\"},\"paper_bgcolor\":\"white\",\"plot_bgcolor\":\"#E5ECF6\",\"polar\":{\"bgcolor\":\"#E5ECF6\",\"angularaxis\":{\"gridcolor\":\"white\",\"linecolor\":\"white\",\"ticks\":\"\"},\"radialaxis\":{\"gridcolor\":\"white\",\"linecolor\":\"white\",\"ticks\":\"\"}},\"ternary\":{\"bgcolor\":\"#E5ECF6\",\"aaxis\":{\"gridcolor\":\"white\",\"linecolor\":\"white\",\"ticks\":\"\"},\"baxis\":{\"gridcolor\":\"white\",\"linecolor\":\"white\",\"ticks\":\"\"},\"caxis\":{\"gridcolor\":\"white\",\"linecolor\":\"white\",\"ticks\":\"\"}},\"coloraxis\":{\"colorbar\":{\"outlinewidth\":0,\"ticks\":\"\"}},\"colorscale\":{\"sequential\":[[0.0,\"#0d0887\"],[0.1111111111111111,\"#46039f\"],[0.2222222222222222,\"#7201a8\"],[0.3333333333333333,\"#9c179e\"],[0.4444444444444444,\"#bd3786\"],[0.5555555555555556,\"#d8576b\"],[0.6666666666666666,\"#ed7953\"],[0.7777777777777778,\"#fb9f3a\"],[0.8888888888888888,\"#fdca26\"],[1.0,\"#f0f921\"]],\"sequentialminus\":[[0.0,\"#0d0887\"],[0.1111111111111111,\"#46039f\"],[0.2222222222222222,\"#7201a8\"],[0.3333333333333333,\"#9c179e\"],[0.4444444444444444,\"#bd3786\"],[0.5555555555555556,\"#d8576b\"],[0.6666666666666666,\"#ed7953\"],[0.7777777777777778,\"#fb9f3a\"],[0.8888888888888888,\"#fdca26\"],[1.0,\"#f0f921\"]],\"diverging\":[[0,\"#8e0152\"],[0.1,\"#c51b7d\"],[0.2,\"#de77ae\"],[0.3,\"#f1b6da\"],[0.4,\"#fde0ef\"],[0.5,\"#f7f7f7\"],[0.6,\"#e6f5d0\"],[0.7,\"#b8e186\"],[0.8,\"#7fbc41\"],[0.9,\"#4d9221\"],[1,\"#276419\"]]},\"xaxis\":{\"gridcolor\":\"white\",\"linecolor\":\"white\",\"ticks\":\"\",\"title\":{\"standoff\":15},\"zerolinecolor\":\"white\",\"automargin\":true,\"zerolinewidth\":2},\"yaxis\":{\"gridcolor\":\"white\",\"linecolor\":\"white\",\"ticks\":\"\",\"title\":{\"standoff\":15},\"zerolinecolor\":\"white\",\"automargin\":true,\"zerolinewidth\":2},\"scene\":{\"xaxis\":{\"backgroundcolor\":\"#E5ECF6\",\"gridcolor\":\"white\",\"linecolor\":\"white\",\"showbackground\":true,\"ticks\":\"\",\"zerolinecolor\":\"white\",\"gridwidth\":2},\"yaxis\":{\"backgroundcolor\":\"#E5ECF6\",\"gridcolor\":\"white\",\"linecolor\":\"white\",\"showbackground\":true,\"ticks\":\"\",\"zerolinecolor\":\"white\",\"gridwidth\":2},\"zaxis\":{\"backgroundcolor\":\"#E5ECF6\",\"gridcolor\":\"white\",\"linecolor\":\"white\",\"showbackground\":true,\"ticks\":\"\",\"zerolinecolor\":\"white\",\"gridwidth\":2}},\"shapedefaults\":{\"line\":{\"color\":\"#2a3f5f\"}},\"annotationdefaults\":{\"arrowcolor\":\"#2a3f5f\",\"arrowhead\":0,\"arrowwidth\":1},\"geo\":{\"bgcolor\":\"white\",\"landcolor\":\"#E5ECF6\",\"subunitcolor\":\"white\",\"showland\":true,\"showlakes\":true,\"lakecolor\":\"white\"},\"title\":{\"x\":0.05},\"mapbox\":{\"style\":\"light\"}}}},                        {\"responsive\": true}                    ).then(function(){\n",
       "                            \n",
       "var gd = document.getElementById('e5062a85-7216-490c-8a48-b125be699e85');\n",
       "var x = new MutationObserver(function (mutations, observer) {{\n",
       "        var display = window.getComputedStyle(gd).display;\n",
       "        if (!display || display === 'none') {{\n",
       "            console.log([gd, 'removed!']);\n",
       "            Plotly.purge(gd);\n",
       "            observer.disconnect();\n",
       "        }}\n",
       "}});\n",
       "\n",
       "// Listen for the removal of the full notebook cells\n",
       "var notebookContainer = gd.closest('#notebook-container');\n",
       "if (notebookContainer) {{\n",
       "    x.observe(notebookContainer, {childList: true});\n",
       "}}\n",
       "\n",
       "// Listen for the clearing of the current output cell\n",
       "var outputEl = gd.closest('.output');\n",
       "if (outputEl) {{\n",
       "    x.observe(outputEl, {childList: true});\n",
       "}}\n",
       "\n",
       "                        })                };                });            </script>        </div>"
      ]
     },
     "metadata": {},
     "output_type": "display_data"
    }
   ],
   "source": [
    "fig = go.Figure()\n",
    "fig.add_trace(go.Scatter(x=x.ravel(),y=y,mode = 'markers'))\n",
    "fig.add_trace(go.Scatter(x=x.ravel(),y=reg.predict(x),mode = 'markers+lines',name = 'ols'))\n",
    "fig.add_trace(go.Scatter(x=x.ravel(),y=y_pre,mode = 'markers+lines',name = 'y pre'))\n",
    "fig.add_trace(go.Scatter(x=x.ravel(),y=y_pre1,mode = 'markers+lines',name = 'y pre1'))\n",
    "fig.add_trace(go.Scatter(x=x.ravel(),y=y_pre2,mode = 'markers+lines',name = 'y pre2'))"
   ]
  },
  {
   "cell_type": "code",
   "execution_count": 138,
   "id": "d46c984d-d157-43c5-bcb4-37a319bd10fa",
   "metadata": {},
   "outputs": [
    {
     "data": {
      "text/plain": [
       "array([-29.06590616,  62.15014018,  23.26351126,  85.80843146])"
      ]
     },
     "execution_count": 138,
     "metadata": {},
     "output_type": "execute_result"
    }
   ],
   "source": [
    "loss_slope = -2*np.sum(y-reg.coef_*x.ravel() - b)\n",
    "b=b - learing_rate*loss_slope\n",
    "y_pre3 = ((reg.coef_*x.ravel())+b)\n",
    "y_pre3"
   ]
  },
  {
   "cell_type": "code",
   "execution_count": 139,
   "id": "de81f6ab-082d-4079-b01e-c770eef876d6",
   "metadata": {},
   "outputs": [
    {
     "data": {
      "application/vnd.plotly.v1+json": {
       "config": {
        "plotlyServerURL": "https://plot.ly"
       },
       "data": [
        {
         "mode": "markers",
         "type": "scatter",
         "x": [
          -0.712390662050588,
          0.45181233874578974,
          -0.044503078338053455,
          0.753766378659703
         ],
         "y": [
          7.217865516301067,
          16.046099246372442,
          -27.837561663487357,
          144.36688189113022
         ]
        },
        {
         "mode": "markers+lines",
         "name": "ols",
         "type": "scatter",
         "x": [
          -0.712390662050588,
          0.45181233874578974,
          -0.044503078338053455,
          0.753766378659703
         ],
         "y": [
          -29.65662909304364,
          61.559417243507866,
          22.672788321149582,
          85.21770851870257
         ]
        },
        {
         "mode": "markers+lines",
         "name": "y pre",
         "type": "scatter",
         "x": [
          -0.712390662050588,
          0.45181233874578974,
          -0.044503078338053455,
          0.753766378659703
         ],
         "y": [
          44.184191628336436,
          135.39949674073262,
          96.51318381221351,
          159.05759576798772
         ]
        },
        {
         "mode": "markers+lines",
         "name": "y pre1",
         "type": "scatter",
         "x": [
          -0.712390662050588,
          0.45181233874578974,
          -0.044503078338053455,
          0.753766378659703
         ],
         "y": [
          -14.888555661670175,
          76.32749067488133,
          37.44086175252305,
          99.98578195007603
         ]
        },
        {
         "mode": "markers+lines",
         "name": "y pre2",
         "type": "scatter",
         "x": [
          -0.712390662050588,
          0.45181233874578974,
          -0.044503078338053455,
          0.753766378659703
         ],
         "y": [
          -26.70301440676895,
          64.51303192978256,
          25.626403007424273,
          88.17132320497726
         ]
        },
        {
         "mode": "markers+lines",
         "name": "y pre3",
         "type": "scatter",
         "x": [
          -0.712390662050588,
          0.45181233874578974,
          -0.044503078338053455,
          0.753766378659703
         ],
         "y": [
          -29.065906155788703,
          62.150140180762804,
          23.26351125840452,
          85.8084314559575
         ]
        }
       ],
       "layout": {
        "autosize": true,
        "height": 360,
        "template": {
         "data": {
          "bar": [
           {
            "error_x": {
             "color": "#2a3f5f"
            },
            "error_y": {
             "color": "#2a3f5f"
            },
            "marker": {
             "line": {
              "color": "#E5ECF6",
              "width": 0.5
             },
             "pattern": {
              "fillmode": "overlay",
              "size": 10,
              "solidity": 0.2
             }
            },
            "type": "bar"
           }
          ],
          "barpolar": [
           {
            "marker": {
             "line": {
              "color": "#E5ECF6",
              "width": 0.5
             },
             "pattern": {
              "fillmode": "overlay",
              "size": 10,
              "solidity": 0.2
             }
            },
            "type": "barpolar"
           }
          ],
          "carpet": [
           {
            "aaxis": {
             "endlinecolor": "#2a3f5f",
             "gridcolor": "white",
             "linecolor": "white",
             "minorgridcolor": "white",
             "startlinecolor": "#2a3f5f"
            },
            "baxis": {
             "endlinecolor": "#2a3f5f",
             "gridcolor": "white",
             "linecolor": "white",
             "minorgridcolor": "white",
             "startlinecolor": "#2a3f5f"
            },
            "type": "carpet"
           }
          ],
          "choropleth": [
           {
            "colorbar": {
             "outlinewidth": 0,
             "ticks": ""
            },
            "type": "choropleth"
           }
          ],
          "contour": [
           {
            "colorbar": {
             "outlinewidth": 0,
             "ticks": ""
            },
            "colorscale": [
             [
              0,
              "#0d0887"
             ],
             [
              0.1111111111111111,
              "#46039f"
             ],
             [
              0.2222222222222222,
              "#7201a8"
             ],
             [
              0.3333333333333333,
              "#9c179e"
             ],
             [
              0.4444444444444444,
              "#bd3786"
             ],
             [
              0.5555555555555556,
              "#d8576b"
             ],
             [
              0.6666666666666666,
              "#ed7953"
             ],
             [
              0.7777777777777778,
              "#fb9f3a"
             ],
             [
              0.8888888888888888,
              "#fdca26"
             ],
             [
              1,
              "#f0f921"
             ]
            ],
            "type": "contour"
           }
          ],
          "contourcarpet": [
           {
            "colorbar": {
             "outlinewidth": 0,
             "ticks": ""
            },
            "type": "contourcarpet"
           }
          ],
          "heatmap": [
           {
            "colorbar": {
             "outlinewidth": 0,
             "ticks": ""
            },
            "colorscale": [
             [
              0,
              "#0d0887"
             ],
             [
              0.1111111111111111,
              "#46039f"
             ],
             [
              0.2222222222222222,
              "#7201a8"
             ],
             [
              0.3333333333333333,
              "#9c179e"
             ],
             [
              0.4444444444444444,
              "#bd3786"
             ],
             [
              0.5555555555555556,
              "#d8576b"
             ],
             [
              0.6666666666666666,
              "#ed7953"
             ],
             [
              0.7777777777777778,
              "#fb9f3a"
             ],
             [
              0.8888888888888888,
              "#fdca26"
             ],
             [
              1,
              "#f0f921"
             ]
            ],
            "type": "heatmap"
           }
          ],
          "heatmapgl": [
           {
            "colorbar": {
             "outlinewidth": 0,
             "ticks": ""
            },
            "colorscale": [
             [
              0,
              "#0d0887"
             ],
             [
              0.1111111111111111,
              "#46039f"
             ],
             [
              0.2222222222222222,
              "#7201a8"
             ],
             [
              0.3333333333333333,
              "#9c179e"
             ],
             [
              0.4444444444444444,
              "#bd3786"
             ],
             [
              0.5555555555555556,
              "#d8576b"
             ],
             [
              0.6666666666666666,
              "#ed7953"
             ],
             [
              0.7777777777777778,
              "#fb9f3a"
             ],
             [
              0.8888888888888888,
              "#fdca26"
             ],
             [
              1,
              "#f0f921"
             ]
            ],
            "type": "heatmapgl"
           }
          ],
          "histogram": [
           {
            "marker": {
             "pattern": {
              "fillmode": "overlay",
              "size": 10,
              "solidity": 0.2
             }
            },
            "type": "histogram"
           }
          ],
          "histogram2d": [
           {
            "colorbar": {
             "outlinewidth": 0,
             "ticks": ""
            },
            "colorscale": [
             [
              0,
              "#0d0887"
             ],
             [
              0.1111111111111111,
              "#46039f"
             ],
             [
              0.2222222222222222,
              "#7201a8"
             ],
             [
              0.3333333333333333,
              "#9c179e"
             ],
             [
              0.4444444444444444,
              "#bd3786"
             ],
             [
              0.5555555555555556,
              "#d8576b"
             ],
             [
              0.6666666666666666,
              "#ed7953"
             ],
             [
              0.7777777777777778,
              "#fb9f3a"
             ],
             [
              0.8888888888888888,
              "#fdca26"
             ],
             [
              1,
              "#f0f921"
             ]
            ],
            "type": "histogram2d"
           }
          ],
          "histogram2dcontour": [
           {
            "colorbar": {
             "outlinewidth": 0,
             "ticks": ""
            },
            "colorscale": [
             [
              0,
              "#0d0887"
             ],
             [
              0.1111111111111111,
              "#46039f"
             ],
             [
              0.2222222222222222,
              "#7201a8"
             ],
             [
              0.3333333333333333,
              "#9c179e"
             ],
             [
              0.4444444444444444,
              "#bd3786"
             ],
             [
              0.5555555555555556,
              "#d8576b"
             ],
             [
              0.6666666666666666,
              "#ed7953"
             ],
             [
              0.7777777777777778,
              "#fb9f3a"
             ],
             [
              0.8888888888888888,
              "#fdca26"
             ],
             [
              1,
              "#f0f921"
             ]
            ],
            "type": "histogram2dcontour"
           }
          ],
          "mesh3d": [
           {
            "colorbar": {
             "outlinewidth": 0,
             "ticks": ""
            },
            "type": "mesh3d"
           }
          ],
          "parcoords": [
           {
            "line": {
             "colorbar": {
              "outlinewidth": 0,
              "ticks": ""
             }
            },
            "type": "parcoords"
           }
          ],
          "pie": [
           {
            "automargin": true,
            "type": "pie"
           }
          ],
          "scatter": [
           {
            "fillpattern": {
             "fillmode": "overlay",
             "size": 10,
             "solidity": 0.2
            },
            "type": "scatter"
           }
          ],
          "scatter3d": [
           {
            "line": {
             "colorbar": {
              "outlinewidth": 0,
              "ticks": ""
             }
            },
            "marker": {
             "colorbar": {
              "outlinewidth": 0,
              "ticks": ""
             }
            },
            "type": "scatter3d"
           }
          ],
          "scattercarpet": [
           {
            "marker": {
             "colorbar": {
              "outlinewidth": 0,
              "ticks": ""
             }
            },
            "type": "scattercarpet"
           }
          ],
          "scattergeo": [
           {
            "marker": {
             "colorbar": {
              "outlinewidth": 0,
              "ticks": ""
             }
            },
            "type": "scattergeo"
           }
          ],
          "scattergl": [
           {
            "marker": {
             "colorbar": {
              "outlinewidth": 0,
              "ticks": ""
             }
            },
            "type": "scattergl"
           }
          ],
          "scattermapbox": [
           {
            "marker": {
             "colorbar": {
              "outlinewidth": 0,
              "ticks": ""
             }
            },
            "type": "scattermapbox"
           }
          ],
          "scatterpolar": [
           {
            "marker": {
             "colorbar": {
              "outlinewidth": 0,
              "ticks": ""
             }
            },
            "type": "scatterpolar"
           }
          ],
          "scatterpolargl": [
           {
            "marker": {
             "colorbar": {
              "outlinewidth": 0,
              "ticks": ""
             }
            },
            "type": "scatterpolargl"
           }
          ],
          "scatterternary": [
           {
            "marker": {
             "colorbar": {
              "outlinewidth": 0,
              "ticks": ""
             }
            },
            "type": "scatterternary"
           }
          ],
          "surface": [
           {
            "colorbar": {
             "outlinewidth": 0,
             "ticks": ""
            },
            "colorscale": [
             [
              0,
              "#0d0887"
             ],
             [
              0.1111111111111111,
              "#46039f"
             ],
             [
              0.2222222222222222,
              "#7201a8"
             ],
             [
              0.3333333333333333,
              "#9c179e"
             ],
             [
              0.4444444444444444,
              "#bd3786"
             ],
             [
              0.5555555555555556,
              "#d8576b"
             ],
             [
              0.6666666666666666,
              "#ed7953"
             ],
             [
              0.7777777777777778,
              "#fb9f3a"
             ],
             [
              0.8888888888888888,
              "#fdca26"
             ],
             [
              1,
              "#f0f921"
             ]
            ],
            "type": "surface"
           }
          ],
          "table": [
           {
            "cells": {
             "fill": {
              "color": "#EBF0F8"
             },
             "line": {
              "color": "white"
             }
            },
            "header": {
             "fill": {
              "color": "#C8D4E3"
             },
             "line": {
              "color": "white"
             }
            },
            "type": "table"
           }
          ]
         },
         "layout": {
          "annotationdefaults": {
           "arrowcolor": "#2a3f5f",
           "arrowhead": 0,
           "arrowwidth": 1
          },
          "autotypenumbers": "strict",
          "coloraxis": {
           "colorbar": {
            "outlinewidth": 0,
            "ticks": ""
           }
          },
          "colorscale": {
           "diverging": [
            [
             0,
             "#8e0152"
            ],
            [
             0.1,
             "#c51b7d"
            ],
            [
             0.2,
             "#de77ae"
            ],
            [
             0.3,
             "#f1b6da"
            ],
            [
             0.4,
             "#fde0ef"
            ],
            [
             0.5,
             "#f7f7f7"
            ],
            [
             0.6,
             "#e6f5d0"
            ],
            [
             0.7,
             "#b8e186"
            ],
            [
             0.8,
             "#7fbc41"
            ],
            [
             0.9,
             "#4d9221"
            ],
            [
             1,
             "#276419"
            ]
           ],
           "sequential": [
            [
             0,
             "#0d0887"
            ],
            [
             0.1111111111111111,
             "#46039f"
            ],
            [
             0.2222222222222222,
             "#7201a8"
            ],
            [
             0.3333333333333333,
             "#9c179e"
            ],
            [
             0.4444444444444444,
             "#bd3786"
            ],
            [
             0.5555555555555556,
             "#d8576b"
            ],
            [
             0.6666666666666666,
             "#ed7953"
            ],
            [
             0.7777777777777778,
             "#fb9f3a"
            ],
            [
             0.8888888888888888,
             "#fdca26"
            ],
            [
             1,
             "#f0f921"
            ]
           ],
           "sequentialminus": [
            [
             0,
             "#0d0887"
            ],
            [
             0.1111111111111111,
             "#46039f"
            ],
            [
             0.2222222222222222,
             "#7201a8"
            ],
            [
             0.3333333333333333,
             "#9c179e"
            ],
            [
             0.4444444444444444,
             "#bd3786"
            ],
            [
             0.5555555555555556,
             "#d8576b"
            ],
            [
             0.6666666666666666,
             "#ed7953"
            ],
            [
             0.7777777777777778,
             "#fb9f3a"
            ],
            [
             0.8888888888888888,
             "#fdca26"
            ],
            [
             1,
             "#f0f921"
            ]
           ]
          },
          "colorway": [
           "#636efa",
           "#EF553B",
           "#00cc96",
           "#ab63fa",
           "#FFA15A",
           "#19d3f3",
           "#FF6692",
           "#B6E880",
           "#FF97FF",
           "#FECB52"
          ],
          "font": {
           "color": "#2a3f5f"
          },
          "geo": {
           "bgcolor": "white",
           "lakecolor": "white",
           "landcolor": "#E5ECF6",
           "showlakes": true,
           "showland": true,
           "subunitcolor": "white"
          },
          "hoverlabel": {
           "align": "left"
          },
          "hovermode": "closest",
          "mapbox": {
           "style": "light"
          },
          "paper_bgcolor": "white",
          "plot_bgcolor": "#E5ECF6",
          "polar": {
           "angularaxis": {
            "gridcolor": "white",
            "linecolor": "white",
            "ticks": ""
           },
           "bgcolor": "#E5ECF6",
           "radialaxis": {
            "gridcolor": "white",
            "linecolor": "white",
            "ticks": ""
           }
          },
          "scene": {
           "xaxis": {
            "backgroundcolor": "#E5ECF6",
            "gridcolor": "white",
            "gridwidth": 2,
            "linecolor": "white",
            "showbackground": true,
            "ticks": "",
            "zerolinecolor": "white"
           },
           "yaxis": {
            "backgroundcolor": "#E5ECF6",
            "gridcolor": "white",
            "gridwidth": 2,
            "linecolor": "white",
            "showbackground": true,
            "ticks": "",
            "zerolinecolor": "white"
           },
           "zaxis": {
            "backgroundcolor": "#E5ECF6",
            "gridcolor": "white",
            "gridwidth": 2,
            "linecolor": "white",
            "showbackground": true,
            "ticks": "",
            "zerolinecolor": "white"
           }
          },
          "shapedefaults": {
           "line": {
            "color": "#2a3f5f"
           }
          },
          "ternary": {
           "aaxis": {
            "gridcolor": "white",
            "linecolor": "white",
            "ticks": ""
           },
           "baxis": {
            "gridcolor": "white",
            "linecolor": "white",
            "ticks": ""
           },
           "bgcolor": "#E5ECF6",
           "caxis": {
            "gridcolor": "white",
            "linecolor": "white",
            "ticks": ""
           }
          },
          "title": {
           "x": 0.05
          },
          "xaxis": {
           "automargin": true,
           "gridcolor": "white",
           "linecolor": "white",
           "ticks": "",
           "title": {
            "standoff": 15
           },
           "zerolinecolor": "white",
           "zerolinewidth": 2
          },
          "yaxis": {
           "automargin": true,
           "gridcolor": "white",
           "linecolor": "white",
           "ticks": "",
           "title": {
            "standoff": 15
           },
           "zerolinecolor": "white",
           "zerolinewidth": 2
          }
         }
        },
        "xaxis": {
         "autorange": true,
         "range": [
          -0.8014138280912376,
          0.8427895447003526
         ],
         "type": "linear"
        },
        "yaxis": {
         "autorange": true,
         "range": [
          -45.230133086429724,
          174.6310997613738
         ],
         "type": "linear"
        }
       }
      },
      "image/png": "[encoded data removed]",
      "text/html": [
       "<div>                            <div id=\"f6eeafb4-8648-4967-9ddc-18ab546c5f77\" class=\"plotly-graph-div\" style=\"height:525px; width:100%;\"></div>            <script type=\"text/javascript\">                require([\"plotly\"], function(Plotly) {                    window.PLOTLYENV=window.PLOTLYENV || {};                                    if (document.getElementById(\"f6eeafb4-8648-4967-9ddc-18ab546c5f77\")) {                    Plotly.newPlot(                        \"f6eeafb4-8648-4967-9ddc-18ab546c5f77\",                        [{\"mode\":\"markers\",\"x\":[-0.712390662050588,0.45181233874578974,-0.044503078338053455,0.753766378659703],\"y\":[7.217865516301067,16.046099246372442,-27.837561663487357,144.36688189113022],\"type\":\"scatter\"},{\"mode\":\"markers+lines\",\"name\":\"ols\",\"x\":[-0.712390662050588,0.45181233874578974,-0.044503078338053455,0.753766378659703],\"y\":[-29.65662909304364,61.559417243507866,22.672788321149582,85.21770851870257],\"type\":\"scatter\"},{\"mode\":\"markers+lines\",\"name\":\"y pre\",\"x\":[-0.712390662050588,0.45181233874578974,-0.044503078338053455,0.753766378659703],\"y\":[44.184191628336436,135.39949674073262,96.51318381221351,159.05759576798772],\"type\":\"scatter\"},{\"mode\":\"markers+lines\",\"name\":\"y pre1\",\"x\":[-0.712390662050588,0.45181233874578974,-0.044503078338053455,0.753766378659703],\"y\":[-14.888555661670175,76.32749067488133,37.44086175252305,99.98578195007603],\"type\":\"scatter\"},{\"mode\":\"markers+lines\",\"name\":\"y pre2\",\"x\":[-0.712390662050588,0.45181233874578974,-0.044503078338053455,0.753766378659703],\"y\":[-26.70301440676895,64.51303192978256,25.626403007424273,88.17132320497726],\"type\":\"scatter\"},{\"mode\":\"markers+lines\",\"name\":\"y pre3\",\"x\":[-0.712390662050588,0.45181233874578974,-0.044503078338053455,0.753766378659703],\"y\":[-29.065906155788703,62.150140180762804,23.26351125840452,85.8084314559575],\"type\":\"scatter\"}],                        {\"template\":{\"data\":{\"histogram2dcontour\":[{\"type\":\"histogram2dcontour\",\"colorbar\":{\"outlinewidth\":0,\"ticks\":\"\"},\"colorscale\":[[0.0,\"#0d0887\"],[0.1111111111111111,\"#46039f\"],[0.2222222222222222,\"#7201a8\"],[0.3333333333333333,\"#9c179e\"],[0.4444444444444444,\"#bd3786\"],[0.5555555555555556,\"#d8576b\"],[0.6666666666666666,\"#ed7953\"],[0.7777777777777778,\"#fb9f3a\"],[0.8888888888888888,\"#fdca26\"],[1.0,\"#f0f921\"]]}],\"choropleth\":[{\"type\":\"choropleth\",\"colorbar\":{\"outlinewidth\":0,\"ticks\":\"\"}}],\"histogram2d\":[{\"type\":\"histogram2d\",\"colorbar\":{\"outlinewidth\":0,\"ticks\":\"\"},\"colorscale\":[[0.0,\"#0d0887\"],[0.1111111111111111,\"#46039f\"],[0.2222222222222222,\"#7201a8\"],[0.3333333333333333,\"#9c179e\"],[0.4444444444444444,\"#bd3786\"],[0.5555555555555556,\"#d8576b\"],[0.6666666666666666,\"#ed7953\"],[0.7777777777777778,\"#fb9f3a\"],[0.8888888888888888,\"#fdca26\"],[1.0,\"#f0f921\"]]}],\"heatmap\":[{\"type\":\"heatmap\",\"colorbar\":{\"outlinewidth\":0,\"ticks\":\"\"},\"colorscale\":[[0.0,\"#0d0887\"],[0.1111111111111111,\"#46039f\"],[0.2222222222222222,\"#7201a8\"],[0.3333333333333333,\"#9c179e\"],[0.4444444444444444,\"#bd3786\"],[0.5555555555555556,\"#d8576b\"],[0.6666666666666666,\"#ed7953\"],[0.7777777777777778,\"#fb9f3a\"],[0.8888888888888888,\"#fdca26\"],[1.0,\"#f0f921\"]]}],\"heatmapgl\":[{\"type\":\"heatmapgl\",\"colorbar\":{\"outlinewidth\":0,\"ticks\":\"\"},\"colorscale\":[[0.0,\"#0d0887\"],[0.1111111111111111,\"#46039f\"],[0.2222222222222222,\"#7201a8\"],[0.3333333333333333,\"#9c179e\"],[0.4444444444444444,\"#bd3786\"],[0.5555555555555556,\"#d8576b\"],[0.6666666666666666,\"#ed7953\"],[0.7777777777777778,\"#fb9f3a\"],[0.8888888888888888,\"#fdca26\"],[1.0,\"#f0f921\"]]}],\"contourcarpet\":[{\"type\":\"contourcarpet\",\"colorbar\":{\"outlinewidth\":0,\"ticks\":\"\"}}],\"contour\":[{\"type\":\"contour\",\"colorbar\":{\"outlinewidth\":0,\"ticks\":\"\"},\"colorscale\":[[0.0,\"#0d0887\"],[0.1111111111111111,\"#46039f\"],[0.2222222222222222,\"#7201a8\"],[0.3333333333333333,\"#9c179e\"],[0.4444444444444444,\"#bd3786\"],[0.5555555555555556,\"#d8576b\"],[0.6666666666666666,\"#ed7953\"],[0.7777777777777778,\"#fb9f3a\"],[0.8888888888888888,\"#fdca26\"],[1.0,\"#f0f921\"]]}],\"surface\":[{\"type\":\"surface\",\"colorbar\":{\"outlinewidth\":0,\"ticks\":\"\"},\"colorscale\":[[0.0,\"#0d0887\"],[0.1111111111111111,\"#46039f\"],[0.2222222222222222,\"#7201a8\"],[0.3333333333333333,\"#9c179e\"],[0.4444444444444444,\"#bd3786\"],[0.5555555555555556,\"#d8576b\"],[0.6666666666666666,\"#ed7953\"],[0.7777777777777778,\"#fb9f3a\"],[0.8888888888888888,\"#fdca26\"],[1.0,\"#f0f921\"]]}],\"mesh3d\":[{\"type\":\"mesh3d\",\"colorbar\":{\"outlinewidth\":0,\"ticks\":\"\"}}],\"scatter\":[{\"fillpattern\":{\"fillmode\":\"overlay\",\"size\":10,\"solidity\":0.2},\"type\":\"scatter\"}],\"parcoords\":[{\"type\":\"parcoords\",\"line\":{\"colorbar\":{\"outlinewidth\":0,\"ticks\":\"\"}}}],\"scatterpolargl\":[{\"type\":\"scatterpolargl\",\"marker\":{\"colorbar\":{\"outlinewidth\":0,\"ticks\":\"\"}}}],\"bar\":[{\"error_x\":{\"color\":\"#2a3f5f\"},\"error_y\":{\"color\":\"#2a3f5f\"},\"marker\":{\"line\":{\"color\":\"#E5ECF6\",\"width\":0.5},\"pattern\":{\"fillmode\":\"overlay\",\"size\":10,\"solidity\":0.2}},\"type\":\"bar\"}],\"scattergeo\":[{\"type\":\"scattergeo\",\"marker\":{\"colorbar\":{\"outlinewidth\":0,\"ticks\":\"\"}}}],\"scatterpolar\":[{\"type\":\"scatterpolar\",\"marker\":{\"colorbar\":{\"outlinewidth\":0,\"ticks\":\"\"}}}],\"histogram\":[{\"marker\":{\"pattern\":{\"fillmode\":\"overlay\",\"size\":10,\"solidity\":0.2}},\"type\":\"histogram\"}],\"scattergl\":[{\"type\":\"scattergl\",\"marker\":{\"colorbar\":{\"outlinewidth\":0,\"ticks\":\"\"}}}],\"scatter3d\":[{\"type\":\"scatter3d\",\"line\":{\"colorbar\":{\"outlinewidth\":0,\"ticks\":\"\"}},\"marker\":{\"colorbar\":{\"outlinewidth\":0,\"ticks\":\"\"}}}],\"scattermapbox\":[{\"type\":\"scattermapbox\",\"marker\":{\"colorbar\":{\"outlinewidth\":0,\"ticks\":\"\"}}}],\"scatterternary\":[{\"type\":\"scatterternary\",\"marker\":{\"colorbar\":{\"outlinewidth\":0,\"ticks\":\"\"}}}],\"scattercarpet\":[{\"type\":\"scattercarpet\",\"marker\":{\"colorbar\":{\"outlinewidth\":0,\"ticks\":\"\"}}}],\"carpet\":[{\"aaxis\":{\"endlinecolor\":\"#2a3f5f\",\"gridcolor\":\"white\",\"linecolor\":\"white\",\"minorgridcolor\":\"white\",\"startlinecolor\":\"#2a3f5f\"},\"baxis\":{\"endlinecolor\":\"#2a3f5f\",\"gridcolor\":\"white\",\"linecolor\":\"white\",\"minorgridcolor\":\"white\",\"startlinecolor\":\"#2a3f5f\"},\"type\":\"carpet\"}],\"table\":[{\"cells\":{\"fill\":{\"color\":\"#EBF0F8\"},\"line\":{\"color\":\"white\"}},\"header\":{\"fill\":{\"color\":\"#C8D4E3\"},\"line\":{\"color\":\"white\"}},\"type\":\"table\"}],\"barpolar\":[{\"marker\":{\"line\":{\"color\":\"#E5ECF6\",\"width\":0.5},\"pattern\":{\"fillmode\":\"overlay\",\"size\":10,\"solidity\":0.2}},\"type\":\"barpolar\"}],\"pie\":[{\"automargin\":true,\"type\":\"pie\"}]},\"layout\":{\"autotypenumbers\":\"strict\",\"colorway\":[\"#636efa\",\"#EF553B\",\"#00cc96\",\"#ab63fa\",\"#FFA15A\",\"#19d3f3\",\"#FF6692\",\"#B6E880\",\"#FF97FF\",\"#FECB52\"],\"font\":{\"color\":\"#2a3f5f\"},\"hovermode\":\"closest\",\"hoverlabel\":{\"align\":\"left\"},\"paper_bgcolor\":\"white\",\"plot_bgcolor\":\"#E5ECF6\",\"polar\":{\"bgcolor\":\"#E5ECF6\",\"angularaxis\":{\"gridcolor\":\"white\",\"linecolor\":\"white\",\"ticks\":\"\"},\"radialaxis\":{\"gridcolor\":\"white\",\"linecolor\":\"white\",\"ticks\":\"\"}},\"ternary\":{\"bgcolor\":\"#E5ECF6\",\"aaxis\":{\"gridcolor\":\"white\",\"linecolor\":\"white\",\"ticks\":\"\"},\"baxis\":{\"gridcolor\":\"white\",\"linecolor\":\"white\",\"ticks\":\"\"},\"caxis\":{\"gridcolor\":\"white\",\"linecolor\":\"white\",\"ticks\":\"\"}},\"coloraxis\":{\"colorbar\":{\"outlinewidth\":0,\"ticks\":\"\"}},\"colorscale\":{\"sequential\":[[0.0,\"#0d0887\"],[0.1111111111111111,\"#46039f\"],[0.2222222222222222,\"#7201a8\"],[0.3333333333333333,\"#9c179e\"],[0.4444444444444444,\"#bd3786\"],[0.5555555555555556,\"#d8576b\"],[0.6666666666666666,\"#ed7953\"],[0.7777777777777778,\"#fb9f3a\"],[0.8888888888888888,\"#fdca26\"],[1.0,\"#f0f921\"]],\"sequentialminus\":[[0.0,\"#0d0887\"],[0.1111111111111111,\"#46039f\"],[0.2222222222222222,\"#7201a8\"],[0.3333333333333333,\"#9c179e\"],[0.4444444444444444,\"#bd3786\"],[0.5555555555555556,\"#d8576b\"],[0.6666666666666666,\"#ed7953\"],[0.7777777777777778,\"#fb9f3a\"],[0.8888888888888888,\"#fdca26\"],[1.0,\"#f0f921\"]],\"diverging\":[[0,\"#8e0152\"],[0.1,\"#c51b7d\"],[0.2,\"#de77ae\"],[0.3,\"#f1b6da\"],[0.4,\"#fde0ef\"],[0.5,\"#f7f7f7\"],[0.6,\"#e6f5d0\"],[0.7,\"#b8e186\"],[0.8,\"#7fbc41\"],[0.9,\"#4d9221\"],[1,\"#276419\"]]},\"xaxis\":{\"gridcolor\":\"white\",\"linecolor\":\"white\",\"ticks\":\"\",\"title\":{\"standoff\":15},\"zerolinecolor\":\"white\",\"automargin\":true,\"zerolinewidth\":2},\"yaxis\":{\"gridcolor\":\"white\",\"linecolor\":\"white\",\"ticks\":\"\",\"title\":{\"standoff\":15},\"zerolinecolor\":\"white\",\"automargin\":true,\"zerolinewidth\":2},\"scene\":{\"xaxis\":{\"backgroundcolor\":\"#E5ECF6\",\"gridcolor\":\"white\",\"linecolor\":\"white\",\"showbackground\":true,\"ticks\":\"\",\"zerolinecolor\":\"white\",\"gridwidth\":2},\"yaxis\":{\"backgroundcolor\":\"#E5ECF6\",\"gridcolor\":\"white\",\"linecolor\":\"white\",\"showbackground\":true,\"ticks\":\"\",\"zerolinecolor\":\"white\",\"gridwidth\":2},\"zaxis\":{\"backgroundcolor\":\"#E5ECF6\",\"gridcolor\":\"white\",\"linecolor\":\"white\",\"showbackground\":true,\"ticks\":\"\",\"zerolinecolor\":\"white\",\"gridwidth\":2}},\"shapedefaults\":{\"line\":{\"color\":\"#2a3f5f\"}},\"annotationdefaults\":{\"arrowcolor\":\"#2a3f5f\",\"arrowhead\":0,\"arrowwidth\":1},\"geo\":{\"bgcolor\":\"white\",\"landcolor\":\"#E5ECF6\",\"subunitcolor\":\"white\",\"showland\":true,\"showlakes\":true,\"lakecolor\":\"white\"},\"title\":{\"x\":0.05},\"mapbox\":{\"style\":\"light\"}}}},                        {\"responsive\": true}                    ).then(function(){\n",
       "                            \n",
       "var gd = document.getElementById('f6eeafb4-8648-4967-9ddc-18ab546c5f77');\n",
       "var x = new MutationObserver(function (mutations, observer) {{\n",
       "        var display = window.getComputedStyle(gd).display;\n",
       "        if (!display || display === 'none') {{\n",
       "            console.log([gd, 'removed!']);\n",
       "            Plotly.purge(gd);\n",
       "            observer.disconnect();\n",
       "        }}\n",
       "}});\n",
       "\n",
       "// Listen for the removal of the full notebook cells\n",
       "var notebookContainer = gd.closest('#notebook-container');\n",
       "if (notebookContainer) {{\n",
       "    x.observe(notebookContainer, {childList: true});\n",
       "}}\n",
       "\n",
       "// Listen for the clearing of the current output cell\n",
       "var outputEl = gd.closest('.output');\n",
       "if (outputEl) {{\n",
       "    x.observe(outputEl, {childList: true});\n",
       "}}\n",
       "\n",
       "                        })                };                });            </script>        </div>"
      ]
     },
     "metadata": {},
     "output_type": "display_data"
    }
   ],
   "source": [
    "fig = go.Figure()\n",
    "fig.add_trace(go.Scatter(x=x.ravel(),y=y,mode = 'markers'))\n",
    "fig.add_trace(go.Scatter(x=x.ravel(),y=reg.predict(x),mode = 'markers+lines',name = 'ols'))\n",
    "fig.add_trace(go.Scatter(x=x.ravel(),y=y_pre,mode = 'markers+lines',name = 'y pre'))\n",
    "fig.add_trace(go.Scatter(x=x.ravel(),y=y_pre1,mode = 'markers+lines',name = 'y pre1'))\n",
    "fig.add_trace(go.Scatter(x=x.ravel(),y=y_pre2,mode = 'markers+lines',name = 'y pre2'))\n",
    "fig.add_trace(go.Scatter(x=x.ravel(),y=y_pre3,mode = 'markers+lines',name = 'y pre3'))"
   ]
  },
  {
   "cell_type": "code",
   "execution_count": null,
   "id": "923c7e93-ee30-4db4-9c59-e34a8b5b9fe0",
   "metadata": {},
   "outputs": [
    {
     "data": {
      "application/vnd.plotly.v1+json": {
       "config": {
        "plotlyServerURL": "https://plot.ly"
       },
       "data": [
        {
         "mode": "markers",
         "type": "scatter",
         "x": [
          -0.712390662050588,
          0.45181233874578974,
          -0.044503078338053455,
          0.753766378659703
         ],
         "y": [
          7.217865516301067,
          16.046099246372442,
          -27.837561663487357,
          144.36688189113022
         ]
        },
        {
         "mode": "markers+lines",
         "name": "ols",
         "type": "scatter",
         "x": [
          -0.712390662050588,
          0.45181233874578974,
          -0.044503078338053455,
          0.753766378659703
         ],
         "y": [
          -29.65662909304364,
          61.559417243507866,
          22.672788321149582,
          85.21770851870257
         ]
        },
        {
         "mode": "markers+lines",
         "name": "y pred 0",
         "type": "scatter",
         "x": [
          -0.712390662050588,
          0.45181233874578974,
          -0.044503078338053455,
          0.753766378659703
         ],
         "y": [
          -145.72303203084266,
          -54.50772691844646,
          -93.39403984696557,
          -30.84962789119136
         ]
        },
        {
         "mode": "markers+lines",
         "name": "y pred 1",
         "type": "scatter",
         "x": [
          -0.712390662050588,
          0.45181233874578974,
          -0.044503078338053455,
          0.753766378659703
         ],
         "y": [
          -136.4376777972874,
          -45.222372684891205,
          -84.10868561341032,
          -21.564273657636107
         ]
        },
        {
         "mode": "markers+lines",
         "name": "y pred 2",
         "type": "scatter",
         "x": [
          -0.712390662050588,
          0.45181233874578974,
          -0.044503078338053455,
          0.753766378659703
         ],
         "y": [
          -127.89515190241656,
          -36.67984679002037,
          -75.56615971853948,
          -13.021747762765273
         ]
        },
        {
         "mode": "markers+lines",
         "name": "y pred 3",
         "type": "scatter",
         "x": [
          -0.712390662050588,
          0.45181233874578974,
          -0.044503078338053455,
          0.753766378659703
         ],
         "y": [
          -120.03602807913539,
          -28.820722966739204,
          -67.70703589525831,
          -5.1626239394841065
         ]
        },
        {
         "mode": "markers+lines",
         "name": "y pred 4",
         "type": "scatter",
         "x": [
          -0.712390662050588,
          0.45181233874578974,
          -0.044503078338053455,
          0.753766378659703
         ],
         "y": [
          -112.80563416171672,
          -21.590329049320538,
          -60.47664197783965,
          2.06776997793456
         ]
        },
        {
         "mode": "markers+lines",
         "name": "y pred 5",
         "type": "scatter",
         "x": [
          -0.712390662050588,
          0.45181233874578974,
          -0.044503078338053455,
          0.753766378659703
         ],
         "y": [
          -106.15367175769154,
          -14.93836664529536,
          -53.82467957381447,
          8.719732381959737
         ]
        },
        {
         "mode": "markers+lines",
         "name": "y pred 6",
         "type": "scatter",
         "x": [
          -0.712390662050588,
          0.45181233874578974,
          -0.044503078338053455,
          0.753766378659703
         ],
         "y": [
          -100.03386634598839,
          -8.818561233592199,
          -47.70487416211131,
          14.839537793662899
         ]
        },
        {
         "mode": "markers+lines",
         "name": "y pred 7",
         "type": "scatter",
         "x": [
          -0.712390662050588,
          0.45181233874578974,
          -0.044503078338053455,
          0.753766378659703
         ],
         "y": [
          -94.40364536722149,
          -3.1883402548252917,
          -42.0746531833444,
          20.469758772429806
         ]
        },
        {
         "mode": "markers+lines",
         "name": "y pred 8",
         "type": "scatter",
         "x": [
          -0.712390662050588,
          0.45181233874578974,
          -0.044503078338053455,
          0.753766378659703
         ],
         "y": [
          -89.22384206675592,
          1.9914630456402662,
          -36.894849882878844,
          25.649562072895364
         ]
        },
        {
         "mode": "markers+lines",
         "name": "y pred 9",
         "type": "scatter",
         "x": [
          -0.712390662050588,
          0.45181233874578974,
          -0.044503078338053455,
          0.753766378659703
         ],
         "y": [
          -84.45842303032761,
          6.756882082068579,
          -32.12943084645053,
          30.414981109323676
         ]
        },
        {
         "mode": "markers+lines",
         "name": "y pred 10",
         "type": "scatter",
         "x": [
          -0.712390662050588,
          0.45181233874578974,
          -0.044503078338053455,
          0.753766378659703
         ],
         "y": [
          -80.07423751681357,
          11.141067595582623,
          -27.745245332936488,
          34.79916662283772
         ]
        },
        {
         "mode": "markers+lines",
         "name": "y pred 11",
         "type": "scatter",
         "x": [
          -0.712390662050588,
          0.45181233874578974,
          -0.044503078338053455,
          0.753766378659703
         ],
         "y": [
          -76.04078684438065,
          15.174518268015547,
          -23.711794660503564,
          38.832617295270644
         ]
        },
        {
         "mode": "markers+lines",
         "name": "y pred 12",
         "type": "scatter",
         "x": [
          -0.712390662050588,
          0.45181233874578974,
          -0.044503078338053455,
          0.753766378659703
         ],
         "y": [
          -72.33001222574235,
          18.885292886653836,
          -20.001020041865274,
          42.543391913908934
         ]
        },
        {
         "mode": "markers+lines",
         "name": "y pred 13",
         "type": "scatter",
         "x": [
          -0.712390662050588,
          0.45181233874578974,
          -0.044503078338053455,
          0.753766378659703
         ],
         "y": [
          -68.91609957659513,
          22.29920553580106,
          -16.58710739271805,
          45.957304563056155
         ]
        },
        {
         "mode": "markers+lines",
         "name": "y pred 14",
         "type": "scatter",
         "x": [
          -0.712390662050588,
          0.45181233874578974,
          -0.044503078338053455,
          0.753766378659703
         ],
         "y": [
          -65.77529993937968,
          25.44000517301651,
          -13.446307755502602,
          49.09810420027161
         ]
        },
        {
         "mode": "markers+lines",
         "name": "y pred 15",
         "type": "scatter",
         "x": [
          -0.712390662050588,
          0.45181233874578974,
          -0.044503078338053455,
          0.753766378659703
         ],
         "y": [
          -62.88576427314147,
          28.32954083925472,
          -10.556772089264392,
          51.98763986650982
         ]
        },
        {
         "mode": "markers+lines",
         "name": "y pred 16",
         "type": "scatter",
         "x": [
          -0.712390662050588,
          0.45181233874578974,
          -0.044503078338053455,
          0.753766378659703
         ],
         "y": [
          -60.22739146020231,
          30.987913652193875,
          -7.898399276325237,
          54.64601267944897
         ]
        },
        {
         "mode": "markers+lines",
         "name": "y pred 17",
         "type": "scatter",
         "x": [
          -0.712390662050588,
          0.45181233874578974,
          -0.044503078338053455,
          0.753766378659703
         ],
         "y": [
          -57.78168847229829,
          33.433616640097895,
          -5.452696288421215,
          57.09171566735299
         ]
        },
        {
         "mode": "markers+lines",
         "name": "y pred 18",
         "type": "scatter",
         "x": [
          -0.712390662050588,
          0.45181233874578974,
          -0.044503078338053455,
          0.753766378659703
         ],
         "y": [
          -55.53164172342659,
          35.68366338896959,
          -3.2026495395495154,
          59.3417624162247
         ]
        },
        {
         "mode": "markers+lines",
         "name": "y pred 19",
         "type": "scatter",
         "x": [
          -0.712390662050588,
          0.45181233874578974,
          -0.044503078338053455,
          0.753766378659703
         ],
         "y": [
          -53.46159871446463,
          37.75370639793156,
          -1.1326065305875517,
          61.41180542518666
         ]
        },
        {
         "mode": "markers+lines",
         "name": "y pred 20",
         "type": "scatter",
         "x": [
          -0.712390662050588,
          0.45181233874578974,
          -0.044503078338053455,
          0.753766378659703
         ],
         "y": [
          -51.55715914621962,
          39.65814596617656,
          0.7718330376574549,
          63.31624499343167
         ]
        },
        {
         "mode": "markers+lines",
         "name": "y pred 21",
         "type": "scatter",
         "x": [
          -0.712390662050588,
          0.45181233874578974,
          -0.044503078338053455,
          0.753766378659703
         ],
         "y": [
          -49.80507474343422,
          41.410230368961976,
          2.5239174404428617,
          65.06832939621707
         ]
        },
        {
         "mode": "markers+lines",
         "name": "y pred 22",
         "type": "scatter",
         "x": [
          -0.712390662050588,
          0.45181233874578974,
          -0.044503078338053455,
          0.753766378659703
         ],
         "y": [
          -48.193157092871644,
          43.02214801952454,
          4.135835091005435,
          66.68024704677964
         ]
        },
        {
         "mode": "markers+lines",
         "name": "y pred 23",
         "type": "scatter",
         "x": [
          -0.712390662050588,
          0.45181233874578974,
          -0.044503078338053455,
          0.753766378659703
         ],
         "y": [
          -46.71019285435408,
          44.50511225804212,
          5.618799329523004,
          68.16321128529721
         ]
        },
        {
         "mode": "markers+lines",
         "name": "y pred 24",
         "type": "scatter",
         "x": [
          -0.712390662050588,
          0.45181233874578974,
          -0.044503078338053455,
          0.753766378659703
         ],
         "y": [
          -45.34586575491791,
          45.86943935747828,
          6.9831264289591655,
          69.52753838473338
         ]
        },
        {
         "mode": "markers+lines",
         "name": "y pred 25",
         "type": "scatter",
         "x": [
          -0.712390662050588,
          0.45181233874578974,
          -0.044503078338053455,
          0.753766378659703
         ],
         "y": [
          -44.090684823436646,
          47.12462028895955,
          8.238307360440434,
          70.78271931621464
         ]
        },
        {
         "mode": "markers+lines",
         "name": "y pred 26",
         "type": "scatter",
         "x": [
          -0.712390662050588,
          0.45181233874578974,
          -0.044503078338053455,
          0.753766378659703
         ],
         "y": [
          -42.93591836647387,
          48.27938674592231,
          9.393073817403202,
          71.93748577317741
         ]
        },
        {
         "mode": "markers+lines",
         "name": "y pred 27",
         "type": "scatter",
         "x": [
          -0.712390662050588,
          0.45181233874578974,
          -0.044503078338053455,
          0.753766378659703
         ],
         "y": [
          -41.873533226068126,
          49.34177188632806,
          10.455458957808949,
          72.99987091358315
         ]
        },
        {
         "mode": "markers+lines",
         "name": "y pred 28",
         "type": "scatter",
         "x": [
          -0.712390662050588,
          0.45181233874578974,
          -0.044503078338053455,
          0.753766378659703
         ],
         "y": [
          -40.89613889689484,
          50.31916621550135,
          11.432853286982235,
          73.97726524275645
         ]
        },
        {
         "mode": "markers+lines",
         "name": "y pred 29",
         "type": "scatter",
         "x": [
          -0.712390662050588,
          0.45181233874578974,
          -0.044503078338053455,
          0.753766378659703
         ],
         "y": [
          -39.996936114055416,
          51.21836899834077,
          12.33205606982166,
          74.87646802559587
         ]
        },
        {
         "mode": "markers+lines",
         "name": "y pred 30",
         "type": "scatter",
         "x": [
          -0.712390662050588,
          0.45181233874578974,
          -0.044503078338053455,
          0.753766378659703
         ],
         "y": [
          -39.16966955384315,
          52.045635558553045,
          13.15932263003393,
          75.70373458580814
         ]
        },
        {
         "mode": "markers+lines",
         "name": "y pred 31",
         "type": "scatter",
         "x": [
          -0.712390662050588,
          0.45181233874578974,
          -0.044503078338053455,
          0.753766378659703
         ],
         "y": [
          -38.40858431844786,
          52.80672079394833,
          13.920407865429219,
          76.46481982120343
         ]
        },
        {
         "mode": "markers+lines",
         "name": "y pred 32",
         "type": "scatter",
         "x": [
          -0.712390662050588,
          0.45181233874578974,
          -0.044503078338053455,
          0.753766378659703
         ],
         "y": [
          -37.70838590188419,
          53.506919210511995,
          14.620606281992885,
          77.1650182377671
         ]
        },
        {
         "mode": "markers+lines",
         "name": "y pred 33",
         "type": "scatter",
         "x": [
          -0.712390662050588,
          0.45181233874578974,
          -0.044503078338053455,
          0.753766378659703
         ],
         "y": [
          -37.06420335864562,
          54.15110175375057,
          15.264788825231456,
          77.80920078100567
         ]
        },
        {
         "mode": "markers+lines",
         "name": "y pred 34",
         "type": "scatter",
         "x": [
          -0.712390662050588,
          0.45181233874578974,
          -0.044503078338053455,
          0.753766378659703
         ],
         "y": [
          -36.47155541886613,
          54.74374969353005,
          15.857436765010942,
          78.40184872078515
         ]
        },
        {
         "mode": "markers+lines",
         "name": "y pred 35",
         "type": "scatter",
         "x": [
          -0.712390662050588,
          0.45181233874578974,
          -0.044503078338053455,
          0.753766378659703
         ],
         "y": [
          -35.92631931426901,
          55.28898579812718,
          16.402672869608068,
          78.94708482538228
         ]
        },
        {
         "mode": "markers+lines",
         "name": "y pred 36",
         "type": "scatter",
         "x": [
          -0.712390662050588,
          0.45181233874578974,
          -0.044503078338053455,
          0.753766378659703
         ],
         "y": [
          -35.42470209803965,
          55.790603014356535,
          16.904290085837424,
          79.44870204161163
         ]
        },
        {
         "mode": "markers+lines",
         "name": "y pred 37",
         "type": "scatter",
         "x": [
          -0.712390662050588,
          0.45181233874578974,
          -0.044503078338053455,
          0.753766378659703
         ],
         "y": [
          -34.96321425910864,
          56.25209085328754,
          17.365777924768434,
          79.91018988054265
         ]
        },
        {
         "mode": "markers+lines",
         "name": "y pred 38",
         "type": "scatter",
         "x": [
          -0.712390662050588,
          0.45181233874578974,
          -0.044503078338053455,
          0.753766378659703
         ],
         "y": [
          -34.53864544729211,
          56.67665966510407,
          17.79034673658496,
          80.33475869235917
         ]
        },
        {
         "mode": "markers+lines",
         "name": "y pred 39",
         "type": "scatter",
         "x": [
          -0.712390662050588,
          0.45181233874578974,
          -0.044503078338053455,
          0.753766378659703
         ],
         "y": [
          -34.14804214042091,
          57.06726297197528,
          18.180950043456168,
          80.72536199923037
         ]
        },
        {
         "mode": "markers+lines",
         "name": "y pred 40",
         "type": "scatter",
         "x": [
          -0.712390662050588,
          0.45181233874578974,
          -0.044503078338053455,
          0.753766378659703
         ],
         "y": [
          -33.7886870980994,
          57.42661801429679,
          18.54030508577768,
          81.08471704155188
         ]
        },
        {
         "mode": "markers+lines",
         "name": "y pred 41",
         "type": "scatter",
         "x": [
          -0.712390662050588,
          0.45181233874578974,
          -0.044503078338053455,
          0.753766378659703
         ],
         "y": [
          -33.45808045916361,
          57.757224653232576,
          18.870911724713466,
          81.41532368048767
         ]
        },
        {
         "mode": "markers+lines",
         "name": "y pred 42",
         "type": "scatter",
         "x": [
          -0.712390662050588,
          0.45181233874578974,
          -0.044503078338053455,
          0.753766378659703
         ],
         "y": [
          -33.153922351342686,
          58.0613827610535,
          19.17506983253439,
          81.7194817883086
         ]
        },
        {
         "mode": "markers+lines",
         "name": "y pred 43",
         "type": "scatter",
         "x": [
          -0.712390662050588,
          0.45181233874578974,
          -0.044503078338053455,
          0.753766378659703
         ],
         "y": [
          -32.874096892147435,
          58.34120822024875,
          19.454895291729642,
          81.99930724750385
         ]
        },
        {
         "mode": "markers+lines",
         "name": "y pred 44",
         "type": "scatter",
         "x": [
          -0.712390662050588,
          0.45181233874578974,
          -0.044503078338053455,
          0.753766378659703
         ],
         "y": [
          -32.61665746968781,
          58.598647642708386,
          19.71233471418927,
          82.25674666996348
         ]
        },
        {
         "mode": "markers+lines",
         "name": "y pred 45",
         "type": "scatter",
         "x": [
          -0.712390662050588,
          0.45181233874578974,
          -0.044503078338053455,
          0.753766378659703
         ],
         "y": [
          -32.379813201024945,
          58.83549191137124,
          19.949178982852132,
          82.49359093862634
         ]
        },
        {
         "mode": "markers+lines",
         "name": "y pred 46",
         "type": "scatter",
         "x": [
          -0.712390662050588,
          0.45181233874578974,
          -0.044503078338053455,
          0.753766378659703
         ],
         "y": [
          -32.161916473855115,
          59.05338863854108,
          20.167075710021965,
          82.71148766579617
         ]
        },
        {
         "mode": "markers+lines",
         "name": "y pred 47",
         "type": "scatter",
         "x": [
          -0.712390662050588,
          0.45181233874578974,
          -0.044503078338053455,
          0.753766378659703
         ],
         "y": [
          -31.961451484858866,
          59.253853627537325,
          20.36754069901821,
          82.91195265479242
         ]
        },
        {
         "mode": "markers+lines",
         "name": "y pred 48",
         "type": "scatter",
         "x": [
          -0.712390662050588,
          0.45181233874578974,
          -0.044503078338053455,
          0.753766378659703
         ],
         "y": [
          -31.777023694982322,
          59.43828141741386,
          20.551968488894754,
          83.09638044466897
         ]
        },
        {
         "mode": "markers+lines",
         "name": "y pred 49",
         "type": "scatter",
         "x": [
          -0.712390662050588,
          0.45181233874578974,
          -0.044503078338053455,
          0.753766378659703
         ],
         "y": [
          -31.6073501282959,
          59.60795498410029,
          20.721642055581178,
          83.26605401135538
         ]
        },
        {
         "mode": "markers+lines",
         "name": "y pred 50",
         "type": "scatter",
         "x": [
          -0.712390662050588,
          0.45181233874578974,
          -0.044503078338053455,
          0.753766378659703
         ],
         "y": [
          -31.45125044694439,
          59.764054665451795,
          20.877741736932688,
          83.4221536927069
         ]
        },
        {
         "mode": "markers+lines",
         "name": "y pred 51",
         "type": "scatter",
         "x": [
          -0.712390662050588,
          0.45181233874578974,
          -0.044503078338053455,
          0.753766378659703
         ],
         "y": [
          -31.307638740101,
          59.90766637229518,
          21.021353443776075,
          83.56576539955029
         ]
        },
        {
         "mode": "markers+lines",
         "name": "y pred 52",
         "type": "scatter",
         "x": [
          -0.712390662050588,
          0.45181233874578974,
          -0.044503078338053455,
          0.753766378659703
         ],
         "y": [
          -31.175515969805087,
          60.039789142591104,
          21.15347621407199,
          83.6978881698462
         ]
        },
        {
         "mode": "markers+lines",
         "name": "y pred 53",
         "type": "scatter",
         "x": [
          -0.712390662050588,
          0.45181233874578974,
          -0.044503078338053455,
          0.753766378659703
         ],
         "y": [
          -31.053963021132844,
          60.16134209126334,
          21.275029162744232,
          83.81944111851844
         ]
        },
        {
         "mode": "markers+lines",
         "name": "y pred 54",
         "type": "scatter",
         "x": [
          -0.712390662050588,
          0.45181233874578974,
          -0.044503078338053455,
          0.753766378659703
         ],
         "y": [
          -30.94213430835438,
          60.27317080404181,
          21.386857875522697,
          83.9312698312969
         ]
        },
        {
         "mode": "markers+lines",
         "name": "y pred 55",
         "type": "scatter",
         "x": [
          -0.712390662050588,
          0.45181233874578974,
          -0.044503078338053455,
          0.753766378659703
         ],
         "y": [
          -30.83925189259819,
          60.376053219797996,
          21.489740291278885,
          84.0341522470531
         ]
        },
        {
         "mode": "markers+lines",
         "name": "y pred 56",
         "type": "scatter",
         "x": [
          -0.712390662050588,
          0.45181233874578974,
          -0.044503078338053455,
          0.753766378659703
         ],
         "y": [
          -30.7446000701025,
          60.47070504229369,
          21.584392113774577,
          84.12880406954878
         ]
        },
        {
         "mode": "markers+lines",
         "name": "y pred 57",
         "type": "scatter",
         "x": [
          -0.712390662050588,
          0.45181233874578974,
          -0.044503078338053455,
          0.753766378659703
         ],
         "y": [
          -30.657520393406465,
          60.55778471898972,
          21.671471790470612,
          84.21588374624483
         ]
        },
        {
         "mode": "markers+lines",
         "name": "y pred 58",
         "type": "scatter",
         "x": [
          -0.712390662050588,
          0.45181233874578974,
          -0.044503078338053455,
          0.753766378659703
         ],
         "y": [
          -30.577407090846112,
          60.63789802155007,
          21.751585093030965,
          84.29599704880518
         ]
        },
        {
         "mode": "markers+lines",
         "name": "y pred 59",
         "type": "scatter",
         "x": [
          -0.712390662050588,
          0.45181233874578974,
          -0.044503078338053455,
          0.753766378659703
         ],
         "y": [
          -30.503702852490587,
          60.711602259905604,
          21.82528933138649,
          84.3697012871607
         ]
        },
        {
         "mode": "markers+lines",
         "name": "y pred 60",
         "type": "scatter",
         "x": [
          -0.712390662050588,
          0.45181233874578974,
          -0.044503078338053455,
          0.753766378659703
         ],
         "y": [
          -30.435894953203505,
          60.77941015919268,
          21.893097230673572,
          84.43750918644778
         ]
        },
        {
         "mode": "markers+lines",
         "name": "y pred 61",
         "type": "scatter",
         "x": [
          -0.712390662050588,
          0.45181233874578974,
          -0.044503078338053455,
          0.753766378659703
         ],
         "y": [
          -30.373511685859388,
          60.841793426536796,
          21.95548049801769,
          84.4998924537919
         ]
        },
        {
         "mode": "markers+lines",
         "name": "y pred 62",
         "type": "scatter",
         "x": [
          -0.712390662050588,
          0.45181233874578974,
          -0.044503078338053455,
          0.753766378659703
         ],
         "y": [
          -30.3161190799028,
          60.89918603249339,
          22.012873103974275,
          84.55728505974848
         ]
        },
        {
         "mode": "markers+lines",
         "name": "y pred 63",
         "type": "scatter",
         "x": [
          -0.712390662050588,
          0.45181233874578974,
          -0.044503078338053455,
          0.753766378659703
         ],
         "y": [
          -30.26331788242274,
          60.95198722997345,
          22.065674301454337,
          84.61008625722855
         ]
        },
        {
         "mode": "markers+lines",
         "name": "y pred 64",
         "type": "scatter",
         "x": [
          -0.712390662050588,
          0.45181233874578974,
          -0.044503078338053455,
          0.753766378659703
         ],
         "y": [
          -30.214740780741085,
          61.0005643316551,
          22.11425140313599,
          84.6586633589102
         ]
        },
        {
         "mode": "markers+lines",
         "name": "y pred 65",
         "type": "scatter",
         "x": [
          -0.712390662050588,
          0.45181233874578974,
          -0.044503078338053455,
          0.753766378659703
         ],
         "y": [
          -30.17004984719396,
          61.04525526520223,
          22.158942336683115,
          84.70335429245732
         ]
        },
        {
         "mode": "markers+lines",
         "name": "y pred 66",
         "type": "scatter",
         "x": [
          -0.712390662050588,
          0.45181233874578974,
          -0.044503078338053455,
          0.753766378659703
         ],
         "y": [
          -30.128934188330607,
          61.08637092406558,
          22.20005799554647,
          84.74446995132068
         ]
        },
        {
         "mode": "markers+lines",
         "name": "y pred 67",
         "type": "scatter",
         "x": [
          -0.712390662050588,
          0.45181233874578974,
          -0.044503078338053455,
          0.753766378659703
         ],
         "y": [
          -30.091107782176323,
          61.124197330219864,
          22.237884401700754,
          84.78229635747496
         ]
        },
        {
         "mode": "markers+lines",
         "name": "y pred 68",
         "type": "scatter",
         "x": [
          -0.712390662050588,
          0.45181233874578974,
          -0.044503078338053455,
          0.753766378659703
         ],
         "y": [
          -30.05630748851438,
          61.1589976238818,
          22.272684695362695,
          84.81709665113691
         ]
        },
        {
         "mode": "markers+lines",
         "name": "y pred 69",
         "type": "scatter",
         "x": [
          -0.712390662050588,
          0.45181233874578974,
          -0.044503078338053455,
          0.753766378659703
         ],
         "y": [
          -30.024291218345393,
          61.1910138940508,
          22.304700965531683,
          84.84911292130589
         ]
        },
        {
         "mode": "markers+lines",
         "name": "y pred 70",
         "type": "scatter",
         "x": [
          -0.712390662050588,
          0.45181233874578974,
          -0.044503078338053455,
          0.753766378659703
         ],
         "y": [
          -29.994836249789927,
          61.22046886260626,
          22.33415593408715,
          84.87856788986136
         ]
        },
        {
         "mode": "markers+lines",
         "name": "y pred 71",
         "type": "scatter",
         "x": [
          -0.712390662050588,
          0.45181233874578974,
          -0.044503078338053455,
          0.753766378659703
         ],
         "y": [
          -29.967737678718898,
          61.24756743367729,
          22.36125450515818,
          84.9056664609324
         ]
        },
        {
         "mode": "markers+lines",
         "name": "y pred 72",
         "type": "scatter",
         "x": [
          -0.712390662050588,
          0.45181233874578974,
          -0.044503078338053455,
          0.753766378659703
         ],
         "y": [
          -29.942806993333548,
          61.27249811906264,
          22.38618519054353,
          84.93059714631774
         ]
        },
        {
         "mode": "markers+lines",
         "name": "y pred 73",
         "type": "scatter",
         "x": [
          -0.712390662050588,
          0.45181233874578974,
          -0.044503078338053455,
          0.753766378659703
         ],
         "y": [
          -29.919870762779027,
          61.29543434961716,
          22.40912142109805,
          84.95353337687226
         ]
        },
        {
         "mode": "markers+lines",
         "name": "y pred 74",
         "type": "scatter",
         "x": [
          -0.712390662050588,
          0.45181233874578974,
          -0.044503078338053455,
          0.753766378659703
         ],
         "y": [
          -29.898769430668867,
          61.316535681727316,
          22.43022275320821,
          84.97463470898242
         ]
        },
        {
         "mode": "markers+lines",
         "name": "y pred 75",
         "type": "scatter",
         "x": [
          -0.712390662050588,
          0.45181233874578974,
          -0.044503078338053455,
          0.753766378659703
         ],
         "y": [
          -29.87935620512752,
          61.335948907268666,
          22.449635978749555,
          84.99404793452376
         ]
        },
        {
         "mode": "markers+lines",
         "name": "y pred 76",
         "type": "scatter",
         "x": [
          -0.712390662050588,
          0.45181233874578974,
          -0.044503078338053455,
          0.753766378659703
         ],
         "y": [
          -29.861496037629482,
          61.3538090747667,
          22.467496146247594,
          85.0119081020218
         ]
        },
        {
         "mode": "markers+lines",
         "name": "y pred 77",
         "type": "scatter",
         "x": [
          -0.712390662050588,
          0.45181233874578974,
          -0.044503078338053455,
          0.753766378659703
         ],
         "y": [
          -29.845064683531287,
          61.3702404288649,
          22.48392750034579,
          85.02833945612
         ]
        },
        {
         "mode": "markers+lines",
         "name": "y pred 78",
         "type": "scatter",
         "x": [
          -0.712390662050588,
          0.45181233874578974,
          -0.044503078338053455,
          0.753766378659703
         ],
         "y": [
          -29.829947837760947,
          61.38535727463524,
          22.49904434611613,
          85.04345630189033
         ]
        },
        {
         "mode": "markers+lines",
         "name": "y pred 79",
         "type": "scatter",
         "x": [
          -0.712390662050588,
          0.45181233874578974,
          -0.044503078338053455,
          0.753766378659703
         ],
         "y": [
          -29.816040339652236,
          61.39926477274395,
          22.51295184422484,
          85.05736379999905
         ]
        },
        {
         "mode": "markers+lines",
         "name": "y pred 80",
         "type": "scatter",
         "x": [
          -0.712390662050588,
          0.45181233874578974,
          -0.044503078338053455,
          0.753766378659703
         ],
         "y": [
          -29.80324544139222,
          61.412059671003966,
          22.525746742484856,
          85.07015869825906
         ]
        },
        {
         "mode": "markers+lines",
         "name": "y pred 81",
         "type": "scatter",
         "x": [
          -0.712390662050588,
          0.45181233874578974,
          -0.044503078338053455,
          0.753766378659703
         ],
         "y": [
          -29.791474134993006,
          61.423830977403185,
          22.53751804888407,
          85.08193000465828
         ]
        },
        {
         "mode": "markers+lines",
         "name": "y pred 82",
         "type": "scatter",
         "x": [
          -0.712390662050588,
          0.45181233874578974,
          -0.044503078338053455,
          0.753766378659703
         ],
         "y": [
          -29.78064453310573,
          61.43466057929046,
          22.548347650771348,
          85.09275960654556
         ]
        },
        {
         "mode": "markers+lines",
         "name": "y pred 83",
         "type": "scatter",
         "x": [
          -0.712390662050588,
          0.45181233874578974,
          -0.044503078338053455,
          0.753766378659703
         ],
         "y": [
          -29.770681299369436,
          61.44462381302675,
          22.55831088450764,
          85.10272284028184
         ]
        },
        {
         "mode": "markers+lines",
         "name": "y pred 84",
         "type": "scatter",
         "x": [
          -0.712390662050588,
          0.45181233874578974,
          -0.044503078338053455,
          0.753766378659703
         ],
         "y": [
          -29.761515124332043,
          61.453789988064145,
          22.567477059545034,
          85.11188901531924
         ]
        },
        {
         "mode": "markers+lines",
         "name": "y pred 85",
         "type": "scatter",
         "x": [
          -0.712390662050588,
          0.45181233874578974,
          -0.044503078338053455,
          0.753766378659703
         ],
         "y": [
          -29.753082243297644,
          61.46222286909854,
          22.575909940579432,
          85.12032189635364
         ]
        },
        {
         "mode": "markers+lines",
         "name": "y pred 86",
         "type": "scatter",
         "x": [
          -0.712390662050588,
          0.45181233874578974,
          -0.044503078338053455,
          0.753766378659703
         ],
         "y": [
          -29.745323992745995,
          61.46998111965019,
          22.583668191131082,
          85.12808014690529
         ]
        },
        {
         "mode": "markers+lines",
         "name": "y pred 87",
         "type": "scatter",
         "x": [
          -0.712390662050588,
          0.45181233874578974,
          -0.044503078338053455,
          0.753766378659703
         ],
         "y": [
          -29.73818640223848,
          61.47711871015771,
          22.590805781638597,
          85.1352177374128
         ]
        },
        {
         "mode": "markers+lines",
         "name": "y pred 88",
         "type": "scatter",
         "x": [
          -0.712390662050588,
          0.45181233874578974,
          -0.044503078338053455,
          0.753766378659703
         ],
         "y": [
          -29.731619818971566,
          61.48368529342462,
          22.59737236490551,
          85.14178432067972
         ]
        },
        {
         "mode": "markers+lines",
         "name": "y pred 89",
         "type": "scatter",
         "x": [
          -0.712390662050588,
          0.45181233874578974,
          -0.044503078338053455,
          0.753766378659703
         ],
         "y": [
          -29.725578562366003,
          61.489726550030184,
          22.603413621511073,
          85.14782557728529
         ]
        },
        {
         "mode": "markers+lines",
         "name": "y pred 90",
         "type": "scatter",
         "x": [
          -0.712390662050588,
          0.45181233874578974,
          -0.044503078338053455,
          0.753766378659703
         ],
         "y": [
          -29.720020606288887,
          61.495284506107296,
          22.60897157758819,
          85.1533835333624
         ]
        },
        {
         "mode": "markers+lines",
         "name": "y pred 91",
         "type": "scatter",
         "x": [
          -0.712390662050588,
          0.45181233874578974,
          -0.044503078338053455,
          0.753766378659703
         ],
         "y": [
          -29.71490728669794,
          61.50039782569824,
          22.614084897179136,
          85.15849685295335
         ]
        },
        {
         "mode": "markers+lines",
         "name": "y pred 92",
         "type": "scatter",
         "x": [
          -0.712390662050588,
          0.45181233874578974,
          -0.044503078338053455,
          0.753766378659703
         ],
         "y": [
          -29.71020303267427,
          61.50510207972192,
          22.618789151202808,
          85.16320110697701
         ]
        },
        {
         "mode": "markers+lines",
         "name": "y pred 93",
         "type": "scatter",
         "x": [
          -0.712390662050588,
          0.45181233874578974,
          -0.044503078338053455,
          0.753766378659703
         ],
         "y": [
          -29.70587511897249,
          61.509429993423694,
          22.623117064904587,
          85.1675290206788
         ]
        },
        {
         "mode": "markers+lines",
         "name": "y pred 94",
         "type": "scatter",
         "x": [
          -0.712390662050588,
          0.45181233874578974,
          -0.044503078338053455,
          0.753766378659703
         ],
         "y": [
          -29.701893438366852,
          61.513411674029335,
          22.627098745510224,
          85.17151070128443
         ]
        },
        {
         "mode": "markers+lines",
         "name": "y pred 95",
         "type": "scatter",
         "x": [
          -0.712390662050588,
          0.45181233874578974,
          -0.044503078338053455,
          0.753766378659703
         ],
         "y": [
          -29.69823029220967,
          61.51707482018652,
          22.630761891667408,
          85.17517384744161
         ]
        },
        {
         "mode": "markers+lines",
         "name": "y pred 96",
         "type": "scatter",
         "x": [
          -0.712390662050588,
          0.45181233874578974,
          -0.044503078338053455,
          0.753766378659703
         ],
         "y": [
          -29.694860197745058,
          61.52044491465113,
          22.63413198613202,
          85.17854394190623
         ]
        },
        {
         "mode": "markers+lines",
         "name": "y pred 97",
         "type": "scatter",
         "x": [
          -0.712390662050588,
          0.45181233874578974,
          -0.044503078338053455,
          0.753766378659703
         ],
         "y": [
          -29.691759710837616,
          61.52354540155857,
          22.63723247303946,
          85.18164442881367
         ]
        },
        {
         "mode": "markers+lines",
         "name": "y pred 98",
         "type": "scatter",
         "x": [
          -0.712390662050588,
          0.45181233874578974,
          -0.044503078338053455,
          0.753766378659703
         ],
         "y": [
          -29.68890726288277,
          61.526397849513415,
          22.64008492099431,
          85.18449687676852
         ]
        },
        {
         "mode": "markers+lines",
         "name": "y pred 99",
         "type": "scatter",
         "x": [
          -0.712390662050588,
          0.45181233874578974,
          -0.044503078338053455,
          0.753766378659703
         ],
         "y": [
          -29.68628301076431,
          61.52902210163188,
          22.642709173112767,
          85.18712112888697
         ]
        }
       ],
       "layout": {
        "height": 360,
        "template": {
         "data": {
          "bar": [
           {
            "error_x": {
             "color": "#2a3f5f"
            },
            "error_y": {
             "color": "#2a3f5f"
            },
            "marker": {
             "line": {
              "color": "#E5ECF6",
              "width": 0.5
             },
             "pattern": {
              "fillmode": "overlay",
              "size": 10,
              "solidity": 0.2
             }
            },
            "type": "bar"
           }
          ],
          "barpolar": [
           {
            "marker": {
             "line": {
              "color": "#E5ECF6",
              "width": 0.5
             },
             "pattern": {
              "fillmode": "overlay",
              "size": 10,
              "solidity": 0.2
             }
            },
            "type": "barpolar"
           }
          ],
          "carpet": [
           {
            "aaxis": {
             "endlinecolor": "#2a3f5f",
             "gridcolor": "white",
             "linecolor": "white",
             "minorgridcolor": "white",
             "startlinecolor": "#2a3f5f"
            },
            "baxis": {
             "endlinecolor": "#2a3f5f",
             "gridcolor": "white",
             "linecolor": "white",
             "minorgridcolor": "white",
             "startlinecolor": "#2a3f5f"
            },
            "type": "carpet"
           }
          ],
          "choropleth": [
           {
            "colorbar": {
             "outlinewidth": 0,
             "ticks": ""
            },
            "type": "choropleth"
           }
          ],
          "contour": [
           {
            "colorbar": {
             "outlinewidth": 0,
             "ticks": ""
            },
            "colorscale": [
             [
              0,
              "#0d0887"
             ],
             [
              0.1111111111111111,
              "#46039f"
             ],
             [
              0.2222222222222222,
              "#7201a8"
             ],
             [
              0.3333333333333333,
              "#9c179e"
             ],
             [
              0.4444444444444444,
              "#bd3786"
             ],
             [
              0.5555555555555556,
              "#d8576b"
             ],
             [
              0.6666666666666666,
              "#ed7953"
             ],
             [
              0.7777777777777778,
              "#fb9f3a"
             ],
             [
              0.8888888888888888,
              "#fdca26"
             ],
             [
              1,
              "#f0f921"
             ]
            ],
            "type": "contour"
           }
          ],
          "contourcarpet": [
           {
            "colorbar": {
             "outlinewidth": 0,
             "ticks": ""
            },
            "type": "contourcarpet"
           }
          ],
          "heatmap": [
           {
            "colorbar": {
             "outlinewidth": 0,
             "ticks": ""
            },
            "colorscale": [
             [
              0,
              "#0d0887"
             ],
             [
              0.1111111111111111,
              "#46039f"
             ],
             [
              0.2222222222222222,
              "#7201a8"
             ],
             [
              0.3333333333333333,
              "#9c179e"
             ],
             [
              0.4444444444444444,
              "#bd3786"
             ],
             [
              0.5555555555555556,
              "#d8576b"
             ],
             [
              0.6666666666666666,
              "#ed7953"
             ],
             [
              0.7777777777777778,
              "#fb9f3a"
             ],
             [
              0.8888888888888888,
              "#fdca26"
             ],
             [
              1,
              "#f0f921"
             ]
            ],
            "type": "heatmap"
           }
          ],
          "heatmapgl": [
           {
            "colorbar": {
             "outlinewidth": 0,
             "ticks": ""
            },
            "colorscale": [
             [
              0,
              "#0d0887"
             ],
             [
              0.1111111111111111,
              "#46039f"
             ],
             [
              0.2222222222222222,
              "#7201a8"
             ],
             [
              0.3333333333333333,
              "#9c179e"
             ],
             [
              0.4444444444444444,
              "#bd3786"
             ],
             [
              0.5555555555555556,
              "#d8576b"
             ],
             [
              0.6666666666666666,
              "#ed7953"
             ],
             [
              0.7777777777777778,
              "#fb9f3a"
             ],
             [
              0.8888888888888888,
              "#fdca26"
             ],
             [
              1,
              "#f0f921"
             ]
            ],
            "type": "heatmapgl"
           }
          ],
          "histogram": [
           {
            "marker": {
             "pattern": {
              "fillmode": "overlay",
              "size": 10,
              "solidity": 0.2
             }
            },
            "type": "histogram"
           }
          ],
          "histogram2d": [
           {
            "colorbar": {
             "outlinewidth": 0,
             "ticks": ""
            },
            "colorscale": [
             [
              0,
              "#0d0887"
             ],
             [
              0.1111111111111111,
              "#46039f"
             ],
             [
              0.2222222222222222,
              "#7201a8"
             ],
             [
              0.3333333333333333,
              "#9c179e"
             ],
             [
              0.4444444444444444,
              "#bd3786"
             ],
             [
              0.5555555555555556,
              "#d8576b"
             ],
             [
              0.6666666666666666,
              "#ed7953"
             ],
             [
              0.7777777777777778,
              "#fb9f3a"
             ],
             [
              0.8888888888888888,
              "#fdca26"
             ],
             [
              1,
              "#f0f921"
             ]
            ],
            "type": "histogram2d"
           }
          ],
          "histogram2dcontour": [
           {
            "colorbar": {
             "outlinewidth": 0,
             "ticks": ""
            },
            "colorscale": [
             [
              0,
              "#0d0887"
             ],
             [
              0.1111111111111111,
              "#46039f"
             ],
             [
              0.2222222222222222,
              "#7201a8"
             ],
             [
              0.3333333333333333,
              "#9c179e"
             ],
             [
              0.4444444444444444,
              "#bd3786"
             ],
             [
              0.5555555555555556,
              "#d8576b"
             ],
             [
              0.6666666666666666,
              "#ed7953"
             ],
             [
              0.7777777777777778,
              "#fb9f3a"
             ],
             [
              0.8888888888888888,
              "#fdca26"
             ],
             [
              1,
              "#f0f921"
             ]
            ],
            "type": "histogram2dcontour"
           }
          ],
          "mesh3d": [
           {
            "colorbar": {
             "outlinewidth": 0,
             "ticks": ""
            },
            "type": "mesh3d"
           }
          ],
          "parcoords": [
           {
            "line": {
             "colorbar": {
              "outlinewidth": 0,
              "ticks": ""
             }
            },
            "type": "parcoords"
           }
          ],
          "pie": [
           {
            "automargin": true,
            "type": "pie"
           }
          ],
          "scatter": [
           {
            "fillpattern": {
             "fillmode": "overlay",
             "size": 10,
             "solidity": 0.2
            },
            "type": "scatter"
           }
          ],
          "scatter3d": [
           {
            "line": {
             "colorbar": {
              "outlinewidth": 0,
              "ticks": ""
             }
            },
            "marker": {
             "colorbar": {
              "outlinewidth": 0,
              "ticks": ""
             }
            },
            "type": "scatter3d"
           }
          ],
          "scattercarpet": [
           {
            "marker": {
             "colorbar": {
              "outlinewidth": 0,
              "ticks": ""
             }
            },
            "type": "scattercarpet"
           }
          ],
          "scattergeo": [
           {
            "marker": {
             "colorbar": {
              "outlinewidth": 0,
              "ticks": ""
             }
            },
            "type": "scattergeo"
           }
          ],
          "scattergl": [
           {
            "marker": {
             "colorbar": {
              "outlinewidth": 0,
              "ticks": ""
             }
            },
            "type": "scattergl"
           }
          ],
          "scattermapbox": [
           {
            "marker": {
             "colorbar": {
              "outlinewidth": 0,
              "ticks": ""
             }
            },
            "type": "scattermapbox"
           }
          ],
          "scatterpolar": [
           {
            "marker": {
             "colorbar": {
              "outlinewidth": 0,
              "ticks": ""
             }
            },
            "type": "scatterpolar"
           }
          ],
          "scatterpolargl": [
           {
            "marker": {
             "colorbar": {
              "outlinewidth": 0,
              "ticks": ""
             }
            },
            "type": "scatterpolargl"
           }
          ],
          "scatterternary": [
           {
            "marker": {
             "colorbar": {
              "outlinewidth": 0,
              "ticks": ""
             }
            },
            "type": "scatterternary"
           }
          ],
          "surface": [
           {
            "colorbar": {
             "outlinewidth": 0,
             "ticks": ""
            },
            "colorscale": [
             [
              0,
              "#0d0887"
             ],
             [
              0.1111111111111111,
              "#46039f"
             ],
             [
              0.2222222222222222,
              "#7201a8"
             ],
             [
              0.3333333333333333,
              "#9c179e"
             ],
             [
              0.4444444444444444,
              "#bd3786"
             ],
             [
              0.5555555555555556,
              "#d8576b"
             ],
             [
              0.6666666666666666,
              "#ed7953"
             ],
             [
              0.7777777777777778,
              "#fb9f3a"
             ],
             [
              0.8888888888888888,
              "#fdca26"
             ],
             [
              1,
              "#f0f921"
             ]
            ],
            "type": "surface"
           }
          ],
          "table": [
           {
            "cells": {
             "fill": {
              "color": "#EBF0F8"
             },
             "line": {
              "color": "white"
             }
            },
            "header": {
             "fill": {
              "color": "#C8D4E3"
             },
             "line": {
              "color": "white"
             }
            },
            "type": "table"
           }
          ]
         },
         "layout": {
          "annotationdefaults": {
           "arrowcolor": "#2a3f5f",
           "arrowhead": 0,
           "arrowwidth": 1
          },
          "autotypenumbers": "strict",
          "coloraxis": {
           "colorbar": {
            "outlinewidth": 0,
            "ticks": ""
           }
          },
          "colorscale": {
           "diverging": [
            [
             0,
             "#8e0152"
            ],
            [
             0.1,
             "#c51b7d"
            ],
            [
             0.2,
             "#de77ae"
            ],
            [
             0.3,
             "#f1b6da"
            ],
            [
             0.4,
             "#fde0ef"
            ],
            [
             0.5,
             "#f7f7f7"
            ],
            [
             0.6,
             "#e6f5d0"
            ],
            [
             0.7,
             "#b8e186"
            ],
            [
             0.8,
             "#7fbc41"
            ],
            [
             0.9,
             "#4d9221"
            ],
            [
             1,
             "#276419"
            ]
           ],
           "sequential": [
            [
             0,
             "#0d0887"
            ],
            [
             0.1111111111111111,
             "#46039f"
            ],
            [
             0.2222222222222222,
             "#7201a8"
            ],
            [
             0.3333333333333333,
             "#9c179e"
            ],
            [
             0.4444444444444444,
             "#bd3786"
            ],
            [
             0.5555555555555556,
             "#d8576b"
            ],
            [
             0.6666666666666666,
             "#ed7953"
            ],
            [
             0.7777777777777778,
             "#fb9f3a"
            ],
            [
             0.8888888888888888,
             "#fdca26"
            ],
            [
             1,
             "#f0f921"
            ]
           ],
           "sequentialminus": [
            [
             0,
             "#0d0887"
            ],
            [
             0.1111111111111111,
             "#46039f"
            ],
            [
             0.2222222222222222,
             "#7201a8"
            ],
            [
             0.3333333333333333,
             "#9c179e"
            ],
            [
             0.4444444444444444,
             "#bd3786"
            ],
            [
             0.5555555555555556,
             "#d8576b"
            ],
            [
             0.6666666666666666,
             "#ed7953"
            ],
            [
             0.7777777777777778,
             "#fb9f3a"
            ],
            [
             0.8888888888888888,
             "#fdca26"
            ],
            [
             1,
             "#f0f921"
            ]
           ]
          },
          "colorway": [
           "#636efa",
           "#EF553B",
           "#00cc96",
           "#ab63fa",
           "#FFA15A",
           "#19d3f3",
           "#FF6692",
           "#B6E880",
           "#FF97FF",
           "#FECB52"
          ],
          "font": {
           "color": "#2a3f5f"
          },
          "geo": {
           "bgcolor": "white",
           "lakecolor": "white",
           "landcolor": "#E5ECF6",
           "showlakes": true,
           "showland": true,
           "subunitcolor": "white"
          },
          "hoverlabel": {
           "align": "left"
          },
          "hovermode": "closest",
          "mapbox": {
           "style": "light"
          },
          "paper_bgcolor": "white",
          "plot_bgcolor": "#E5ECF6",
          "polar": {
           "angularaxis": {
            "gridcolor": "white",
            "linecolor": "white",
            "ticks": ""
           },
           "bgcolor": "#E5ECF6",
           "radialaxis": {
            "gridcolor": "white",
            "linecolor": "white",
            "ticks": ""
           }
          },
          "scene": {
           "xaxis": {
            "backgroundcolor": "#E5ECF6",
            "gridcolor": "white",
            "gridwidth": 2,
            "linecolor": "white",
            "showbackground": true,
            "ticks": "",
            "zerolinecolor": "white"
           },
           "yaxis": {
            "backgroundcolor": "#E5ECF6",
            "gridcolor": "white",
            "gridwidth": 2,
            "linecolor": "white",
            "showbackground": true,
            "ticks": "",
            "zerolinecolor": "white"
           },
           "zaxis": {
            "backgroundcolor": "#E5ECF6",
            "gridcolor": "white",
            "gridwidth": 2,
            "linecolor": "white",
            "showbackground": true,
            "ticks": "",
            "zerolinecolor": "white"
           }
          },
          "shapedefaults": {
           "line": {
            "color": "#2a3f5f"
           }
          },
          "ternary": {
           "aaxis": {
            "gridcolor": "white",
            "linecolor": "white",
            "ticks": ""
           },
           "baxis": {
            "gridcolor": "white",
            "linecolor": "white",
            "ticks": ""
           },
           "bgcolor": "#E5ECF6",
           "caxis": {
            "gridcolor": "white",
            "linecolor": "white",
            "ticks": ""
           }
          },
          "title": {
           "x": 0.05
          },
          "xaxis": {
           "automargin": true,
           "gridcolor": "white",
           "linecolor": "white",
           "ticks": "",
           "title": {
            "standoff": 15
           },
           "zerolinecolor": "white",
           "zerolinewidth": 2
          },
          "yaxis": {
           "automargin": true,
           "gridcolor": "white",
           "linecolor": "white",
           "ticks": "",
           "title": {
            "standoff": 15
           },
           "zerolinecolor": "white",
           "zerolinewidth": 2
          }
         }
        },
        "xaxis": {
         "autorange": true,
         "range": [
          -0.8124574436225274,
          0.8538331602316424
         ],
         "type": "linear"
        },
        "yaxis": {
         "autorange": true,
         "range": [
          -169.6624909467336,
          168.30634080702117
         ],
         "type": "linear"
        }
       }
      },
      "text/html": [
       "<div>                            <div id=\"74f815cb-7937-4683-bd9d-7e5e9302f6c5\" class=\"plotly-graph-div\" style=\"height:525px; width:100%;\"></div>            <script type=\"text/javascript\">                require([\"plotly\"], function(Plotly) {                    window.PLOTLYENV=window.PLOTLYENV || {};                                    if (document.getElementById(\"74f815cb-7937-4683-bd9d-7e5e9302f6c5\")) {                    Plotly.newPlot(                        \"74f815cb-7937-4683-bd9d-7e5e9302f6c5\",                        [{\"mode\":\"markers\",\"x\":[-0.712390662050588,0.45181233874578974,-0.044503078338053455,0.753766378659703],\"y\":[7.217865516301067,16.046099246372442,-27.837561663487357,144.36688189113022],\"type\":\"scatter\"},{\"mode\":\"markers+lines\",\"name\":\"ols\",\"x\":[-0.712390662050588,0.45181233874578974,-0.044503078338053455,0.753766378659703],\"y\":[-29.65662909304364,61.559417243507866,22.672788321149582,85.21770851870257],\"type\":\"scatter\"},{\"mode\":\"markers+lines\",\"name\":\"y pred 0\",\"x\":[-0.712390662050588,0.45181233874578974,-0.044503078338053455,0.753766378659703],\"y\":[-145.72303203084266,-54.50772691844646,-93.39403984696557,-30.84962789119136],\"type\":\"scatter\"},{\"mode\":\"markers+lines\",\"name\":\"y pred 1\",\"x\":[-0.712390662050588,0.45181233874578974,-0.044503078338053455,0.753766378659703],\"y\":[-136.4376777972874,-45.222372684891205,-84.10868561341032,-21.564273657636107],\"type\":\"scatter\"},{\"mode\":\"markers+lines\",\"name\":\"y pred 2\",\"x\":[-0.712390662050588,0.45181233874578974,-0.044503078338053455,0.753766378659703],\"y\":[-127.89515190241656,-36.67984679002037,-75.56615971853948,-13.021747762765273],\"type\":\"scatter\"},{\"mode\":\"markers+lines\",\"name\":\"y pred 3\",\"x\":[-0.712390662050588,0.45181233874578974,-0.044503078338053455,0.753766378659703],\"y\":[-120.03602807913539,-28.820722966739204,-67.70703589525831,-5.1626239394841065],\"type\":\"scatter\"},{\"mode\":\"markers+lines\",\"name\":\"y pred 4\",\"x\":[-0.712390662050588,0.45181233874578974,-0.044503078338053455,0.753766378659703],\"y\":[-112.80563416171672,-21.590329049320538,-60.47664197783965,2.06776997793456],\"type\":\"scatter\"},{\"mode\":\"markers+lines\",\"name\":\"y pred 5\",\"x\":[-0.712390662050588,0.45181233874578974,-0.044503078338053455,0.753766378659703],\"y\":[-106.15367175769154,-14.93836664529536,-53.82467957381447,8.719732381959737],\"type\":\"scatter\"},{\"mode\":\"markers+lines\",\"name\":\"y pred 6\",\"x\":[-0.712390662050588,0.45181233874578974,-0.044503078338053455,0.753766378659703],\"y\":[-100.03386634598839,-8.818561233592199,-47.70487416211131,14.839537793662899],\"type\":\"scatter\"},{\"mode\":\"markers+lines\",\"name\":\"y pred 7\",\"x\":[-0.712390662050588,0.45181233874578974,-0.044503078338053455,0.753766378659703],\"y\":[-94.40364536722149,-3.1883402548252917,-42.0746531833444,20.469758772429806],\"type\":\"scatter\"},{\"mode\":\"markers+lines\",\"name\":\"y pred 8\",\"x\":[-0.712390662050588,0.45181233874578974,-0.044503078338053455,0.753766378659703],\"y\":[-89.22384206675592,1.9914630456402662,-36.894849882878844,25.649562072895364],\"type\":\"scatter\"},{\"mode\":\"markers+lines\",\"name\":\"y pred 9\",\"x\":[-0.712390662050588,0.45181233874578974,-0.044503078338053455,0.753766378659703],\"y\":[-84.45842303032761,6.756882082068579,-32.12943084645053,30.414981109323676],\"type\":\"scatter\"},{\"mode\":\"markers+lines\",\"name\":\"y pred 10\",\"x\":[-0.712390662050588,0.45181233874578974,-0.044503078338053455,0.753766378659703],\"y\":[-80.07423751681357,11.141067595582623,-27.745245332936488,34.79916662283772],\"type\":\"scatter\"},{\"mode\":\"markers+lines\",\"name\":\"y pred 11\",\"x\":[-0.712390662050588,0.45181233874578974,-0.044503078338053455,0.753766378659703],\"y\":[-76.04078684438065,15.174518268015547,-23.711794660503564,38.832617295270644],\"type\":\"scatter\"},{\"mode\":\"markers+lines\",\"name\":\"y pred 12\",\"x\":[-0.712390662050588,0.45181233874578974,-0.044503078338053455,0.753766378659703],\"y\":[-72.33001222574235,18.885292886653836,-20.001020041865274,42.543391913908934],\"type\":\"scatter\"},{\"mode\":\"markers+lines\",\"name\":\"y pred 13\",\"x\":[-0.712390662050588,0.45181233874578974,-0.044503078338053455,0.753766378659703],\"y\":[-68.91609957659513,22.29920553580106,-16.58710739271805,45.957304563056155],\"type\":\"scatter\"},{\"mode\":\"markers+lines\",\"name\":\"y pred 14\",\"x\":[-0.712390662050588,0.45181233874578974,-0.044503078338053455,0.753766378659703],\"y\":[-65.77529993937968,25.44000517301651,-13.446307755502602,49.09810420027161],\"type\":\"scatter\"},{\"mode\":\"markers+lines\",\"name\":\"y pred 15\",\"x\":[-0.712390662050588,0.45181233874578974,-0.044503078338053455,0.753766378659703],\"y\":[-62.88576427314147,28.32954083925472,-10.556772089264392,51.98763986650982],\"type\":\"scatter\"},{\"mode\":\"markers+lines\",\"name\":\"y pred 16\",\"x\":[-0.712390662050588,0.45181233874578974,-0.044503078338053455,0.753766378659703],\"y\":[-60.22739146020231,30.987913652193875,-7.898399276325237,54.64601267944897],\"type\":\"scatter\"},{\"mode\":\"markers+lines\",\"name\":\"y pred 17\",\"x\":[-0.712390662050588,0.45181233874578974,-0.044503078338053455,0.753766378659703],\"y\":[-57.78168847229829,33.433616640097895,-5.452696288421215,57.09171566735299],\"type\":\"scatter\"},{\"mode\":\"markers+lines\",\"name\":\"y pred 18\",\"x\":[-0.712390662050588,0.45181233874578974,-0.044503078338053455,0.753766378659703],\"y\":[-55.53164172342659,35.68366338896959,-3.2026495395495154,59.3417624162247],\"type\":\"scatter\"},{\"mode\":\"markers+lines\",\"name\":\"y pred 19\",\"x\":[-0.712390662050588,0.45181233874578974,-0.044503078338053455,0.753766378659703],\"y\":[-53.46159871446463,37.75370639793156,-1.1326065305875517,61.41180542518666],\"type\":\"scatter\"},{\"mode\":\"markers+lines\",\"name\":\"y pred 20\",\"x\":[-0.712390662050588,0.45181233874578974,-0.044503078338053455,0.753766378659703],\"y\":[-51.55715914621962,39.65814596617656,0.7718330376574549,63.31624499343167],\"type\":\"scatter\"},{\"mode\":\"markers+lines\",\"name\":\"y pred 21\",\"x\":[-0.712390662050588,0.45181233874578974,-0.044503078338053455,0.753766378659703],\"y\":[-49.80507474343422,41.410230368961976,2.5239174404428617,65.06832939621707],\"type\":\"scatter\"},{\"mode\":\"markers+lines\",\"name\":\"y pred 22\",\"x\":[-0.712390662050588,0.45181233874578974,-0.044503078338053455,0.753766378659703],\"y\":[-48.193157092871644,43.02214801952454,4.135835091005435,66.68024704677964],\"type\":\"scatter\"},{\"mode\":\"markers+lines\",\"name\":\"y pred 23\",\"x\":[-0.712390662050588,0.45181233874578974,-0.044503078338053455,0.753766378659703],\"y\":[-46.71019285435408,44.50511225804212,5.618799329523004,68.16321128529721],\"type\":\"scatter\"},{\"mode\":\"markers+lines\",\"name\":\"y pred 24\",\"x\":[-0.712390662050588,0.45181233874578974,-0.044503078338053455,0.753766378659703],\"y\":[-45.34586575491791,45.86943935747828,6.9831264289591655,69.52753838473338],\"type\":\"scatter\"},{\"mode\":\"markers+lines\",\"name\":\"y pred 25\",\"x\":[-0.712390662050588,0.45181233874578974,-0.044503078338053455,0.753766378659703],\"y\":[-44.090684823436646,47.12462028895955,8.238307360440434,70.78271931621464],\"type\":\"scatter\"},{\"mode\":\"markers+lines\",\"name\":\"y pred 26\",\"x\":[-0.712390662050588,0.45181233874578974,-0.044503078338053455,0.753766378659703],\"y\":[-42.93591836647387,48.27938674592231,9.393073817403202,71.93748577317741],\"type\":\"scatter\"},{\"mode\":\"markers+lines\",\"name\":\"y pred 27\",\"x\":[-0.712390662050588,0.45181233874578974,-0.044503078338053455,0.753766378659703],\"y\":[-41.873533226068126,49.34177188632806,10.455458957808949,72.99987091358315],\"type\":\"scatter\"},{\"mode\":\"markers+lines\",\"name\":\"y pred 28\",\"x\":[-0.712390662050588,0.45181233874578974,-0.044503078338053455,0.753766378659703],\"y\":[-40.89613889689484,50.31916621550135,11.432853286982235,73.97726524275645],\"type\":\"scatter\"},{\"mode\":\"markers+lines\",\"name\":\"y pred 29\",\"x\":[-0.712390662050588,0.45181233874578974,-0.044503078338053455,0.753766378659703],\"y\":[-39.996936114055416,51.21836899834077,12.33205606982166,74.87646802559587],\"type\":\"scatter\"},{\"mode\":\"markers+lines\",\"name\":\"y pred 30\",\"x\":[-0.712390662050588,0.45181233874578974,-0.044503078338053455,0.753766378659703],\"y\":[-39.16966955384315,52.045635558553045,13.15932263003393,75.70373458580814],\"type\":\"scatter\"},{\"mode\":\"markers+lines\",\"name\":\"y pred 31\",\"x\":[-0.712390662050588,0.45181233874578974,-0.044503078338053455,0.753766378659703],\"y\":[-38.40858431844786,52.80672079394833,13.920407865429219,76.46481982120343],\"type\":\"scatter\"},{\"mode\":\"markers+lines\",\"name\":\"y pred 32\",\"x\":[-0.712390662050588,0.45181233874578974,-0.044503078338053455,0.753766378659703],\"y\":[-37.70838590188419,53.506919210511995,14.620606281992885,77.1650182377671],\"type\":\"scatter\"},{\"mode\":\"markers+lines\",\"name\":\"y pred 33\",\"x\":[-0.712390662050588,0.45181233874578974,-0.044503078338053455,0.753766378659703],\"y\":[-37.06420335864562,54.15110175375057,15.264788825231456,77.80920078100567],\"type\":\"scatter\"},{\"mode\":\"markers+lines\",\"name\":\"y pred 34\",\"x\":[-0.712390662050588,0.45181233874578974,-0.044503078338053455,0.753766378659703],\"y\":[-36.47155541886613,54.74374969353005,15.857436765010942,78.40184872078515],\"type\":\"scatter\"},{\"mode\":\"markers+lines\",\"name\":\"y pred 35\",\"x\":[-0.712390662050588,0.45181233874578974,-0.044503078338053455,0.753766378659703],\"y\":[-35.92631931426901,55.28898579812718,16.402672869608068,78.94708482538228],\"type\":\"scatter\"},{\"mode\":\"markers+lines\",\"name\":\"y pred 36\",\"x\":[-0.712390662050588,0.45181233874578974,-0.044503078338053455,0.753766378659703],\"y\":[-35.42470209803965,55.790603014356535,16.904290085837424,79.44870204161163],\"type\":\"scatter\"},{\"mode\":\"markers+lines\",\"name\":\"y pred 37\",\"x\":[-0.712390662050588,0.45181233874578974,-0.044503078338053455,0.753766378659703],\"y\":[-34.96321425910864,56.25209085328754,17.365777924768434,79.91018988054265],\"type\":\"scatter\"},{\"mode\":\"markers+lines\",\"name\":\"y pred 38\",\"x\":[-0.712390662050588,0.45181233874578974,-0.044503078338053455,0.753766378659703],\"y\":[-34.53864544729211,56.67665966510407,17.79034673658496,80.33475869235917],\"type\":\"scatter\"},{\"mode\":\"markers+lines\",\"name\":\"y pred 39\",\"x\":[-0.712390662050588,0.45181233874578974,-0.044503078338053455,0.753766378659703],\"y\":[-34.14804214042091,57.06726297197528,18.180950043456168,80.72536199923037],\"type\":\"scatter\"},{\"mode\":\"markers+lines\",\"name\":\"y pred 40\",\"x\":[-0.712390662050588,0.45181233874578974,-0.044503078338053455,0.753766378659703],\"y\":[-33.7886870980994,57.42661801429679,18.54030508577768,81.08471704155188],\"type\":\"scatter\"},{\"mode\":\"markers+lines\",\"name\":\"y pred 41\",\"x\":[-0.712390662050588,0.45181233874578974,-0.044503078338053455,0.753766378659703],\"y\":[-33.45808045916361,57.757224653232576,18.870911724713466,81.41532368048767],\"type\":\"scatter\"},{\"mode\":\"markers+lines\",\"name\":\"y pred 42\",\"x\":[-0.712390662050588,0.45181233874578974,-0.044503078338053455,0.753766378659703],\"y\":[-33.153922351342686,58.0613827610535,19.17506983253439,81.7194817883086],\"type\":\"scatter\"},{\"mode\":\"markers+lines\",\"name\":\"y pred 43\",\"x\":[-0.712390662050588,0.45181233874578974,-0.044503078338053455,0.753766378659703],\"y\":[-32.874096892147435,58.34120822024875,19.454895291729642,81.99930724750385],\"type\":\"scatter\"},{\"mode\":\"markers+lines\",\"name\":\"y pred 44\",\"x\":[-0.712390662050588,0.45181233874578974,-0.044503078338053455,0.753766378659703],\"y\":[-32.61665746968781,58.598647642708386,19.71233471418927,82.25674666996348],\"type\":\"scatter\"},{\"mode\":\"markers+lines\",\"name\":\"y pred 45\",\"x\":[-0.712390662050588,0.45181233874578974,-0.044503078338053455,0.753766378659703],\"y\":[-32.379813201024945,58.83549191137124,19.949178982852132,82.49359093862634],\"type\":\"scatter\"},{\"mode\":\"markers+lines\",\"name\":\"y pred 46\",\"x\":[-0.712390662050588,0.45181233874578974,-0.044503078338053455,0.753766378659703],\"y\":[-32.161916473855115,59.05338863854108,20.167075710021965,82.71148766579617],\"type\":\"scatter\"},{\"mode\":\"markers+lines\",\"name\":\"y pred 47\",\"x\":[-0.712390662050588,0.45181233874578974,-0.044503078338053455,0.753766378659703],\"y\":[-31.961451484858866,59.253853627537325,20.36754069901821,82.91195265479242],\"type\":\"scatter\"},{\"mode\":\"markers+lines\",\"name\":\"y pred 48\",\"x\":[-0.712390662050588,0.45181233874578974,-0.044503078338053455,0.753766378659703],\"y\":[-31.777023694982322,59.43828141741386,20.551968488894754,83.09638044466897],\"type\":\"scatter\"},{\"mode\":\"markers+lines\",\"name\":\"y pred 49\",\"x\":[-0.712390662050588,0.45181233874578974,-0.044503078338053455,0.753766378659703],\"y\":[-31.6073501282959,59.60795498410029,20.721642055581178,83.26605401135538],\"type\":\"scatter\"},{\"mode\":\"markers+lines\",\"name\":\"y pred 50\",\"x\":[-0.712390662050588,0.45181233874578974,-0.044503078338053455,0.753766378659703],\"y\":[-31.45125044694439,59.764054665451795,20.877741736932688,83.4221536927069],\"type\":\"scatter\"},{\"mode\":\"markers+lines\",\"name\":\"y pred 51\",\"x\":[-0.712390662050588,0.45181233874578974,-0.044503078338053455,0.753766378659703],\"y\":[-31.307638740101,59.90766637229518,21.021353443776075,83.56576539955029],\"type\":\"scatter\"},{\"mode\":\"markers+lines\",\"name\":\"y pred 52\",\"x\":[-0.712390662050588,0.45181233874578974,-0.044503078338053455,0.753766378659703],\"y\":[-31.175515969805087,60.039789142591104,21.15347621407199,83.6978881698462],\"type\":\"scatter\"},{\"mode\":\"markers+lines\",\"name\":\"y pred 53\",\"x\":[-0.712390662050588,0.45181233874578974,-0.044503078338053455,0.753766378659703],\"y\":[-31.053963021132844,60.16134209126334,21.275029162744232,83.81944111851844],\"type\":\"scatter\"},{\"mode\":\"markers+lines\",\"name\":\"y pred 54\",\"x\":[-0.712390662050588,0.45181233874578974,-0.044503078338053455,0.753766378659703],\"y\":[-30.94213430835438,60.27317080404181,21.386857875522697,83.9312698312969],\"type\":\"scatter\"},{\"mode\":\"markers+lines\",\"name\":\"y pred 55\",\"x\":[-0.712390662050588,0.45181233874578974,-0.044503078338053455,0.753766378659703],\"y\":[-30.83925189259819,60.376053219797996,21.489740291278885,84.0341522470531],\"type\":\"scatter\"},{\"mode\":\"markers+lines\",\"name\":\"y pred 56\",\"x\":[-0.712390662050588,0.45181233874578974,-0.044503078338053455,0.753766378659703],\"y\":[-30.7446000701025,60.47070504229369,21.584392113774577,84.12880406954878],\"type\":\"scatter\"},{\"mode\":\"markers+lines\",\"name\":\"y pred 57\",\"x\":[-0.712390662050588,0.45181233874578974,-0.044503078338053455,0.753766378659703],\"y\":[-30.657520393406465,60.55778471898972,21.671471790470612,84.21588374624483],\"type\":\"scatter\"},{\"mode\":\"markers+lines\",\"name\":\"y pred 58\",\"x\":[-0.712390662050588,0.45181233874578974,-0.044503078338053455,0.753766378659703],\"y\":[-30.577407090846112,60.63789802155007,21.751585093030965,84.29599704880518],\"type\":\"scatter\"},{\"mode\":\"markers+lines\",\"name\":\"y pred 59\",\"x\":[-0.712390662050588,0.45181233874578974,-0.044503078338053455,0.753766378659703],\"y\":[-30.503702852490587,60.711602259905604,21.82528933138649,84.3697012871607],\"type\":\"scatter\"},{\"mode\":\"markers+lines\",\"name\":\"y pred 60\",\"x\":[-0.712390662050588,0.45181233874578974,-0.044503078338053455,0.753766378659703],\"y\":[-30.435894953203505,60.77941015919268,21.893097230673572,84.43750918644778],\"type\":\"scatter\"},{\"mode\":\"markers+lines\",\"name\":\"y pred 61\",\"x\":[-0.712390662050588,0.45181233874578974,-0.044503078338053455,0.753766378659703],\"y\":[-30.373511685859388,60.841793426536796,21.95548049801769,84.4998924537919],\"type\":\"scatter\"},{\"mode\":\"markers+lines\",\"name\":\"y pred 62\",\"x\":[-0.712390662050588,0.45181233874578974,-0.044503078338053455,0.753766378659703],\"y\":[-30.3161190799028,60.89918603249339,22.012873103974275,84.55728505974848],\"type\":\"scatter\"},{\"mode\":\"markers+lines\",\"name\":\"y pred 63\",\"x\":[-0.712390662050588,0.45181233874578974,-0.044503078338053455,0.753766378659703],\"y\":[-30.26331788242274,60.95198722997345,22.065674301454337,84.61008625722855],\"type\":\"scatter\"},{\"mode\":\"markers+lines\",\"name\":\"y pred 64\",\"x\":[-0.712390662050588,0.45181233874578974,-0.044503078338053455,0.753766378659703],\"y\":[-30.214740780741085,61.0005643316551,22.11425140313599,84.6586633589102],\"type\":\"scatter\"},{\"mode\":\"markers+lines\",\"name\":\"y pred 65\",\"x\":[-0.712390662050588,0.45181233874578974,-0.044503078338053455,0.753766378659703],\"y\":[-30.17004984719396,61.04525526520223,22.158942336683115,84.70335429245732],\"type\":\"scatter\"},{\"mode\":\"markers+lines\",\"name\":\"y pred 66\",\"x\":[-0.712390662050588,0.45181233874578974,-0.044503078338053455,0.753766378659703],\"y\":[-30.128934188330607,61.08637092406558,22.20005799554647,84.74446995132068],\"type\":\"scatter\"},{\"mode\":\"markers+lines\",\"name\":\"y pred 67\",\"x\":[-0.712390662050588,0.45181233874578974,-0.044503078338053455,0.753766378659703],\"y\":[-30.091107782176323,61.124197330219864,22.237884401700754,84.78229635747496],\"type\":\"scatter\"},{\"mode\":\"markers+lines\",\"name\":\"y pred 68\",\"x\":[-0.712390662050588,0.45181233874578974,-0.044503078338053455,0.753766378659703],\"y\":[-30.05630748851438,61.1589976238818,22.272684695362695,84.81709665113691],\"type\":\"scatter\"},{\"mode\":\"markers+lines\",\"name\":\"y pred 69\",\"x\":[-0.712390662050588,0.45181233874578974,-0.044503078338053455,0.753766378659703],\"y\":[-30.024291218345393,61.1910138940508,22.304700965531683,84.84911292130589],\"type\":\"scatter\"},{\"mode\":\"markers+lines\",\"name\":\"y pred 70\",\"x\":[-0.712390662050588,0.45181233874578974,-0.044503078338053455,0.753766378659703],\"y\":[-29.994836249789927,61.22046886260626,22.33415593408715,84.87856788986136],\"type\":\"scatter\"},{\"mode\":\"markers+lines\",\"name\":\"y pred 71\",\"x\":[-0.712390662050588,0.45181233874578974,-0.044503078338053455,0.753766378659703],\"y\":[-29.967737678718898,61.24756743367729,22.36125450515818,84.9056664609324],\"type\":\"scatter\"},{\"mode\":\"markers+lines\",\"name\":\"y pred 72\",\"x\":[-0.712390662050588,0.45181233874578974,-0.044503078338053455,0.753766378659703],\"y\":[-29.942806993333548,61.27249811906264,22.38618519054353,84.93059714631774],\"type\":\"scatter\"},{\"mode\":\"markers+lines\",\"name\":\"y pred 73\",\"x\":[-0.712390662050588,0.45181233874578974,-0.044503078338053455,0.753766378659703],\"y\":[-29.919870762779027,61.29543434961716,22.40912142109805,84.95353337687226],\"type\":\"scatter\"},{\"mode\":\"markers+lines\",\"name\":\"y pred 74\",\"x\":[-0.712390662050588,0.45181233874578974,-0.044503078338053455,0.753766378659703],\"y\":[-29.898769430668867,61.316535681727316,22.43022275320821,84.97463470898242],\"type\":\"scatter\"},{\"mode\":\"markers+lines\",\"name\":\"y pred 75\",\"x\":[-0.712390662050588,0.45181233874578974,-0.044503078338053455,0.753766378659703],\"y\":[-29.87935620512752,61.335948907268666,22.449635978749555,84.99404793452376],\"type\":\"scatter\"},{\"mode\":\"markers+lines\",\"name\":\"y pred 76\",\"x\":[-0.712390662050588,0.45181233874578974,-0.044503078338053455,0.753766378659703],\"y\":[-29.861496037629482,61.3538090747667,22.467496146247594,85.0119081020218],\"type\":\"scatter\"},{\"mode\":\"markers+lines\",\"name\":\"y pred 77\",\"x\":[-0.712390662050588,0.45181233874578974,-0.044503078338053455,0.753766378659703],\"y\":[-29.845064683531287,61.3702404288649,22.48392750034579,85.02833945612],\"type\":\"scatter\"},{\"mode\":\"markers+lines\",\"name\":\"y pred 78\",\"x\":[-0.712390662050588,0.45181233874578974,-0.044503078338053455,0.753766378659703],\"y\":[-29.829947837760947,61.38535727463524,22.49904434611613,85.04345630189033],\"type\":\"scatter\"},{\"mode\":\"markers+lines\",\"name\":\"y pred 79\",\"x\":[-0.712390662050588,0.45181233874578974,-0.044503078338053455,0.753766378659703],\"y\":[-29.816040339652236,61.39926477274395,22.51295184422484,85.05736379999905],\"type\":\"scatter\"},{\"mode\":\"markers+lines\",\"name\":\"y pred 80\",\"x\":[-0.712390662050588,0.45181233874578974,-0.044503078338053455,0.753766378659703],\"y\":[-29.80324544139222,61.412059671003966,22.525746742484856,85.07015869825906],\"type\":\"scatter\"},{\"mode\":\"markers+lines\",\"name\":\"y pred 81\",\"x\":[-0.712390662050588,0.45181233874578974,-0.044503078338053455,0.753766378659703],\"y\":[-29.791474134993006,61.423830977403185,22.53751804888407,85.08193000465828],\"type\":\"scatter\"},{\"mode\":\"markers+lines\",\"name\":\"y pred 82\",\"x\":[-0.712390662050588,0.45181233874578974,-0.044503078338053455,0.753766378659703],\"y\":[-29.78064453310573,61.43466057929046,22.548347650771348,85.09275960654556],\"type\":\"scatter\"},{\"mode\":\"markers+lines\",\"name\":\"y pred 83\",\"x\":[-0.712390662050588,0.45181233874578974,-0.044503078338053455,0.753766378659703],\"y\":[-29.770681299369436,61.44462381302675,22.55831088450764,85.10272284028184],\"type\":\"scatter\"},{\"mode\":\"markers+lines\",\"name\":\"y pred 84\",\"x\":[-0.712390662050588,0.45181233874578974,-0.044503078338053455,0.753766378659703],\"y\":[-29.761515124332043,61.453789988064145,22.567477059545034,85.11188901531924],\"type\":\"scatter\"},{\"mode\":\"markers+lines\",\"name\":\"y pred 85\",\"x\":[-0.712390662050588,0.45181233874578974,-0.044503078338053455,0.753766378659703],\"y\":[-29.753082243297644,61.46222286909854,22.575909940579432,85.12032189635364],\"type\":\"scatter\"},{\"mode\":\"markers+lines\",\"name\":\"y pred 86\",\"x\":[-0.712390662050588,0.45181233874578974,-0.044503078338053455,0.753766378659703],\"y\":[-29.745323992745995,61.46998111965019,22.583668191131082,85.12808014690529],\"type\":\"scatter\"},{\"mode\":\"markers+lines\",\"name\":\"y pred 87\",\"x\":[-0.712390662050588,0.45181233874578974,-0.044503078338053455,0.753766378659703],\"y\":[-29.73818640223848,61.47711871015771,22.590805781638597,85.1352177374128],\"type\":\"scatter\"},{\"mode\":\"markers+lines\",\"name\":\"y pred 88\",\"x\":[-0.712390662050588,0.45181233874578974,-0.044503078338053455,0.753766378659703],\"y\":[-29.731619818971566,61.48368529342462,22.59737236490551,85.14178432067972],\"type\":\"scatter\"},{\"mode\":\"markers+lines\",\"name\":\"y pred 89\",\"x\":[-0.712390662050588,0.45181233874578974,-0.044503078338053455,0.753766378659703],\"y\":[-29.725578562366003,61.489726550030184,22.603413621511073,85.14782557728529],\"type\":\"scatter\"},{\"mode\":\"markers+lines\",\"name\":\"y pred 90\",\"x\":[-0.712390662050588,0.45181233874578974,-0.044503078338053455,0.753766378659703],\"y\":[-29.720020606288887,61.495284506107296,22.60897157758819,85.1533835333624],\"type\":\"scatter\"},{\"mode\":\"markers+lines\",\"name\":\"y pred 91\",\"x\":[-0.712390662050588,0.45181233874578974,-0.044503078338053455,0.753766378659703],\"y\":[-29.71490728669794,61.50039782569824,22.614084897179136,85.15849685295335],\"type\":\"scatter\"},{\"mode\":\"markers+lines\",\"name\":\"y pred 92\",\"x\":[-0.712390662050588,0.45181233874578974,-0.044503078338053455,0.753766378659703],\"y\":[-29.71020303267427,61.50510207972192,22.618789151202808,85.16320110697701],\"type\":\"scatter\"},{\"mode\":\"markers+lines\",\"name\":\"y pred 93\",\"x\":[-0.712390662050588,0.45181233874578974,-0.044503078338053455,0.753766378659703],\"y\":[-29.70587511897249,61.509429993423694,22.623117064904587,85.1675290206788],\"type\":\"scatter\"},{\"mode\":\"markers+lines\",\"name\":\"y pred 94\",\"x\":[-0.712390662050588,0.45181233874578974,-0.044503078338053455,0.753766378659703],\"y\":[-29.701893438366852,61.513411674029335,22.627098745510224,85.17151070128443],\"type\":\"scatter\"},{\"mode\":\"markers+lines\",\"name\":\"y pred 95\",\"x\":[-0.712390662050588,0.45181233874578974,-0.044503078338053455,0.753766378659703],\"y\":[-29.69823029220967,61.51707482018652,22.630761891667408,85.17517384744161],\"type\":\"scatter\"},{\"mode\":\"markers+lines\",\"name\":\"y pred 96\",\"x\":[-0.712390662050588,0.45181233874578974,-0.044503078338053455,0.753766378659703],\"y\":[-29.694860197745058,61.52044491465113,22.63413198613202,85.17854394190623],\"type\":\"scatter\"},{\"mode\":\"markers+lines\",\"name\":\"y pred 97\",\"x\":[-0.712390662050588,0.45181233874578974,-0.044503078338053455,0.753766378659703],\"y\":[-29.691759710837616,61.52354540155857,22.63723247303946,85.18164442881367],\"type\":\"scatter\"},{\"mode\":\"markers+lines\",\"name\":\"y pred 98\",\"x\":[-0.712390662050588,0.45181233874578974,-0.044503078338053455,0.753766378659703],\"y\":[-29.68890726288277,61.526397849513415,22.64008492099431,85.18449687676852],\"type\":\"scatter\"},{\"mode\":\"markers+lines\",\"name\":\"y pred 99\",\"x\":[-0.712390662050588,0.45181233874578974,-0.044503078338053455,0.753766378659703],\"y\":[-29.68628301076431,61.52902210163188,22.642709173112767,85.18712112888697],\"type\":\"scatter\"}],                        {\"template\":{\"data\":{\"histogram2dcontour\":[{\"type\":\"histogram2dcontour\",\"colorbar\":{\"outlinewidth\":0,\"ticks\":\"\"},\"colorscale\":[[0.0,\"#0d0887\"],[0.1111111111111111,\"#46039f\"],[0.2222222222222222,\"#7201a8\"],[0.3333333333333333,\"#9c179e\"],[0.4444444444444444,\"#bd3786\"],[0.5555555555555556,\"#d8576b\"],[0.6666666666666666,\"#ed7953\"],[0.7777777777777778,\"#fb9f3a\"],[0.8888888888888888,\"#fdca26\"],[1.0,\"#f0f921\"]]}],\"choropleth\":[{\"type\":\"choropleth\",\"colorbar\":{\"outlinewidth\":0,\"ticks\":\"\"}}],\"histogram2d\":[{\"type\":\"histogram2d\",\"colorbar\":{\"outlinewidth\":0,\"ticks\":\"\"},\"colorscale\":[[0.0,\"#0d0887\"],[0.1111111111111111,\"#46039f\"],[0.2222222222222222,\"#7201a8\"],[0.3333333333333333,\"#9c179e\"],[0.4444444444444444,\"#bd3786\"],[0.5555555555555556,\"#d8576b\"],[0.6666666666666666,\"#ed7953\"],[0.7777777777777778,\"#fb9f3a\"],[0.8888888888888888,\"#fdca26\"],[1.0,\"#f0f921\"]]}],\"heatmap\":[{\"type\":\"heatmap\",\"colorbar\":{\"outlinewidth\":0,\"ticks\":\"\"},\"colorscale\":[[0.0,\"#0d0887\"],[0.1111111111111111,\"#46039f\"],[0.2222222222222222,\"#7201a8\"],[0.3333333333333333,\"#9c179e\"],[0.4444444444444444,\"#bd3786\"],[0.5555555555555556,\"#d8576b\"],[0.6666666666666666,\"#ed7953\"],[0.7777777777777778,\"#fb9f3a\"],[0.8888888888888888,\"#fdca26\"],[1.0,\"#f0f921\"]]}],\"heatmapgl\":[{\"type\":\"heatmapgl\",\"colorbar\":{\"outlinewidth\":0,\"ticks\":\"\"},\"colorscale\":[[0.0,\"#0d0887\"],[0.1111111111111111,\"#46039f\"],[0.2222222222222222,\"#7201a8\"],[0.3333333333333333,\"#9c179e\"],[0.4444444444444444,\"#bd3786\"],[0.5555555555555556,\"#d8576b\"],[0.6666666666666666,\"#ed7953\"],[0.7777777777777778,\"#fb9f3a\"],[0.8888888888888888,\"#fdca26\"],[1.0,\"#f0f921\"]]}],\"contourcarpet\":[{\"type\":\"contourcarpet\",\"colorbar\":{\"outlinewidth\":0,\"ticks\":\"\"}}],\"contour\":[{\"type\":\"contour\",\"colorbar\":{\"outlinewidth\":0,\"ticks\":\"\"},\"colorscale\":[[0.0,\"#0d0887\"],[0.1111111111111111,\"#46039f\"],[0.2222222222222222,\"#7201a8\"],[0.3333333333333333,\"#9c179e\"],[0.4444444444444444,\"#bd3786\"],[0.5555555555555556,\"#d8576b\"],[0.6666666666666666,\"#ed7953\"],[0.7777777777777778,\"#fb9f3a\"],[0.8888888888888888,\"#fdca26\"],[1.0,\"#f0f921\"]]}],\"surface\":[{\"type\":\"surface\",\"colorbar\":{\"outlinewidth\":0,\"ticks\":\"\"},\"colorscale\":[[0.0,\"#0d0887\"],[0.1111111111111111,\"#46039f\"],[0.2222222222222222,\"#7201a8\"],[0.3333333333333333,\"#9c179e\"],[0.4444444444444444,\"#bd3786\"],[0.5555555555555556,\"#d8576b\"],[0.6666666666666666,\"#ed7953\"],[0.7777777777777778,\"#fb9f3a\"],[0.8888888888888888,\"#fdca26\"],[1.0,\"#f0f921\"]]}],\"mesh3d\":[{\"type\":\"mesh3d\",\"colorbar\":{\"outlinewidth\":0,\"ticks\":\"\"}}],\"scatter\":[{\"fillpattern\":{\"fillmode\":\"overlay\",\"size\":10,\"solidity\":0.2},\"type\":\"scatter\"}],\"parcoords\":[{\"type\":\"parcoords\",\"line\":{\"colorbar\":{\"outlinewidth\":0,\"ticks\":\"\"}}}],\"scatterpolargl\":[{\"type\":\"scatterpolargl\",\"marker\":{\"colorbar\":{\"outlinewidth\":0,\"ticks\":\"\"}}}],\"bar\":[{\"error_x\":{\"color\":\"#2a3f5f\"},\"error_y\":{\"color\":\"#2a3f5f\"},\"marker\":{\"line\":{\"color\":\"#E5ECF6\",\"width\":0.5},\"pattern\":{\"fillmode\":\"overlay\",\"size\":10,\"solidity\":0.2}},\"type\":\"bar\"}],\"scattergeo\":[{\"type\":\"scattergeo\",\"marker\":{\"colorbar\":{\"outlinewidth\":0,\"ticks\":\"\"}}}],\"scatterpolar\":[{\"type\":\"scatterpolar\",\"marker\":{\"colorbar\":{\"outlinewidth\":0,\"ticks\":\"\"}}}],\"histogram\":[{\"marker\":{\"pattern\":{\"fillmode\":\"overlay\",\"size\":10,\"solidity\":0.2}},\"type\":\"histogram\"}],\"scattergl\":[{\"type\":\"scattergl\",\"marker\":{\"colorbar\":{\"outlinewidth\":0,\"ticks\":\"\"}}}],\"scatter3d\":[{\"type\":\"scatter3d\",\"line\":{\"colorbar\":{\"outlinewidth\":0,\"ticks\":\"\"}},\"marker\":{\"colorbar\":{\"outlinewidth\":0,\"ticks\":\"\"}}}],\"scattermapbox\":[{\"type\":\"scattermapbox\",\"marker\":{\"colorbar\":{\"outlinewidth\":0,\"ticks\":\"\"}}}],\"scatterternary\":[{\"type\":\"scatterternary\",\"marker\":{\"colorbar\":{\"outlinewidth\":0,\"ticks\":\"\"}}}],\"scattercarpet\":[{\"type\":\"scattercarpet\",\"marker\":{\"colorbar\":{\"outlinewidth\":0,\"ticks\":\"\"}}}],\"carpet\":[{\"aaxis\":{\"endlinecolor\":\"#2a3f5f\",\"gridcolor\":\"white\",\"linecolor\":\"white\",\"minorgridcolor\":\"white\",\"startlinecolor\":\"#2a3f5f\"},\"baxis\":{\"endlinecolor\":\"#2a3f5f\",\"gridcolor\":\"white\",\"linecolor\":\"white\",\"minorgridcolor\":\"white\",\"startlinecolor\":\"#2a3f5f\"},\"type\":\"carpet\"}],\"table\":[{\"cells\":{\"fill\":{\"color\":\"#EBF0F8\"},\"line\":{\"color\":\"white\"}},\"header\":{\"fill\":{\"color\":\"#C8D4E3\"},\"line\":{\"color\":\"white\"}},\"type\":\"table\"}],\"barpolar\":[{\"marker\":{\"line\":{\"color\":\"#E5ECF6\",\"width\":0.5},\"pattern\":{\"fillmode\":\"overlay\",\"size\":10,\"solidity\":0.2}},\"type\":\"barpolar\"}],\"pie\":[{\"automargin\":true,\"type\":\"pie\"}]},\"layout\":{\"autotypenumbers\":\"strict\",\"colorway\":[\"#636efa\",\"#EF553B\",\"#00cc96\",\"#ab63fa\",\"#FFA15A\",\"#19d3f3\",\"#FF6692\",\"#B6E880\",\"#FF97FF\",\"#FECB52\"],\"font\":{\"color\":\"#2a3f5f\"},\"hovermode\":\"closest\",\"hoverlabel\":{\"align\":\"left\"},\"paper_bgcolor\":\"white\",\"plot_bgcolor\":\"#E5ECF6\",\"polar\":{\"bgcolor\":\"#E5ECF6\",\"angularaxis\":{\"gridcolor\":\"white\",\"linecolor\":\"white\",\"ticks\":\"\"},\"radialaxis\":{\"gridcolor\":\"white\",\"linecolor\":\"white\",\"ticks\":\"\"}},\"ternary\":{\"bgcolor\":\"#E5ECF6\",\"aaxis\":{\"gridcolor\":\"white\",\"linecolor\":\"white\",\"ticks\":\"\"},\"baxis\":{\"gridcolor\":\"white\",\"linecolor\":\"white\",\"ticks\":\"\"},\"caxis\":{\"gridcolor\":\"white\",\"linecolor\":\"white\",\"ticks\":\"\"}},\"coloraxis\":{\"colorbar\":{\"outlinewidth\":0,\"ticks\":\"\"}},\"colorscale\":{\"sequential\":[[0.0,\"#0d0887\"],[0.1111111111111111,\"#46039f\"],[0.2222222222222222,\"#7201a8\"],[0.3333333333333333,\"#9c179e\"],[0.4444444444444444,\"#bd3786\"],[0.5555555555555556,\"#d8576b\"],[0.6666666666666666,\"#ed7953\"],[0.7777777777777778,\"#fb9f3a\"],[0.8888888888888888,\"#fdca26\"],[1.0,\"#f0f921\"]],\"sequentialminus\":[[0.0,\"#0d0887\"],[0.1111111111111111,\"#46039f\"],[0.2222222222222222,\"#7201a8\"],[0.3333333333333333,\"#9c179e\"],[0.4444444444444444,\"#bd3786\"],[0.5555555555555556,\"#d8576b\"],[0.6666666666666666,\"#ed7953\"],[0.7777777777777778,\"#fb9f3a\"],[0.8888888888888888,\"#fdca26\"],[1.0,\"#f0f921\"]],\"diverging\":[[0,\"#8e0152\"],[0.1,\"#c51b7d\"],[0.2,\"#de77ae\"],[0.3,\"#f1b6da\"],[0.4,\"#fde0ef\"],[0.5,\"#f7f7f7\"],[0.6,\"#e6f5d0\"],[0.7,\"#b8e186\"],[0.8,\"#7fbc41\"],[0.9,\"#4d9221\"],[1,\"#276419\"]]},\"xaxis\":{\"gridcolor\":\"white\",\"linecolor\":\"white\",\"ticks\":\"\",\"title\":{\"standoff\":15},\"zerolinecolor\":\"white\",\"automargin\":true,\"zerolinewidth\":2},\"yaxis\":{\"gridcolor\":\"white\",\"linecolor\":\"white\",\"ticks\":\"\",\"title\":{\"standoff\":15},\"zerolinecolor\":\"white\",\"automargin\":true,\"zerolinewidth\":2},\"scene\":{\"xaxis\":{\"backgroundcolor\":\"#E5ECF6\",\"gridcolor\":\"white\",\"linecolor\":\"white\",\"showbackground\":true,\"ticks\":\"\",\"zerolinecolor\":\"white\",\"gridwidth\":2},\"yaxis\":{\"backgroundcolor\":\"#E5ECF6\",\"gridcolor\":\"white\",\"linecolor\":\"white\",\"showbackground\":true,\"ticks\":\"\",\"zerolinecolor\":\"white\",\"gridwidth\":2},\"zaxis\":{\"backgroundcolor\":\"#E5ECF6\",\"gridcolor\":\"white\",\"linecolor\":\"white\",\"showbackground\":true,\"ticks\":\"\",\"zerolinecolor\":\"white\",\"gridwidth\":2}},\"shapedefaults\":{\"line\":{\"color\":\"#2a3f5f\"}},\"annotationdefaults\":{\"arrowcolor\":\"#2a3f5f\",\"arrowhead\":0,\"arrowwidth\":1},\"geo\":{\"bgcolor\":\"white\",\"landcolor\":\"#E5ECF6\",\"subunitcolor\":\"white\",\"showland\":true,\"showlakes\":true,\"lakecolor\":\"white\"},\"title\":{\"x\":0.05},\"mapbox\":{\"style\":\"light\"}}}},                        {\"responsive\": true}                    ).then(function(){\n",
       "                            \n",
       "var gd = document.getElementById('74f815cb-7937-4683-bd9d-7e5e9302f6c5');\n",
       "var x = new MutationObserver(function (mutations, observer) {{\n",
       "        var display = window.getComputedStyle(gd).display;\n",
       "        if (!display || display === 'none') {{\n",
       "            console.log([gd, 'removed!']);\n",
       "            Plotly.purge(gd);\n",
       "            observer.disconnect();\n",
       "        }}\n",
       "}});\n",
       "\n",
       "// Listen for the removal of the full notebook cells\n",
       "var notebookContainer = gd.closest('#notebook-container');\n",
       "if (notebookContainer) {{\n",
       "    x.observe(notebookContainer, {childList: true});\n",
       "}}\n",
       "\n",
       "// Listen for the clearing of the current output cell\n",
       "var outputEl = gd.closest('.output');\n",
       "if (outputEl) {{\n",
       "    x.observe(outputEl, {childList: true});\n",
       "}}\n",
       "\n",
       "                        })                };                });            </script>        </div>"
      ]
     },
     "metadata": {},
     "output_type": "display_data"
    }
   ],
   "source": [
    "m=78.35\n",
    "lr = 0.01\n",
    "b=-100\n",
    "epochs = 100\n",
    "\n",
    "fig = go.Figure()\n",
    "fig.add_trace(go.Scatter(x=x.ravel(),y=y,mode = 'markers'))\n",
    "fig.add_trace(go.Scatter(x=x.ravel(),y=reg.predict(x),mode = 'markers+lines',name = 'ols'))\n",
    "for i in range(epochs):\n",
    "    loss_slope = -2*np.sum(y - m*x.ravel()-b)\n",
    "    b= b - (lr*loss_slope)\n",
    "    y_pred = (m*x)+b\n",
    "    fig.add_trace(go.Scatter(x=x.ravel(),y=y_pred.ravel(),mode = 'markers+lines',name =f'y pred {i}'))\n",
    "fig.show()\n",
    "    "
   ]
  },
  {
   "cell_type": "code",
   "execution_count": 168,
   "id": "1e330ade-6413-4014-b2ec-86b93c96a72f",
   "metadata": {},
   "outputs": [
    {
     "data": {
      "text/plain": [
       "[<matplotlib.lines.Line2D at 0x2eaf56aa520>]"
      ]
     },
     "execution_count": 168,
     "metadata": {},
     "output_type": "execute_result"
    },
    {
     "data": {
      "image/png": "[encoded data removed]",
      "text/plain": [
       "<Figure size 640x480 with 1 Axes>"
      ]
     },
     "metadata": {},
     "output_type": "display_data"
    }
   ],
   "source": [
    "b = -100\n",
    "m = 78.35\n",
    "lr = 0.1\n",
    "\n",
    "epochs = 100\n",
    "\n",
    "for i in range(epochs):\n",
    "  loss_slope = -2 * np.sum(y - m*x.ravel() - b)\n",
    "  b = b - (lr * loss_slope)\n",
    "\n",
    "  y_pred = m * x + b\n",
    "\n",
    "  plt.plot(x,y_pred)\n",
    "\n",
    "plt.scatter(x,y)\n",
    "plt.plot(x,reg.predict(x),label = 'ols')"
   ]
  },
  {
   "cell_type": "code",
   "execution_count": null,
   "id": "b1d7d527-104c-4569-a5a3-e5bd3acd83d2",
   "metadata": {},
   "outputs": [],
   "source": []
  }
 ],
 "metadata": {
  "kernelspec": {
   "display_name": "Python 3 (ipykernel)",
   "language": "python",
   "name": "python3"
  },
  "language_info": {
   "codemirror_mode": {
    "name": "ipython",
    "version": 3
   },
   "file_extension": ".py",
   "mimetype": "text/x-python",
   "name": "python",
   "nbconvert_exporter": "python",
   "pygments_lexer": "ipython3",
   "version": "3.9.2"
  }
 },
 "nbformat": 4,
 "nbformat_minor": 5
}
