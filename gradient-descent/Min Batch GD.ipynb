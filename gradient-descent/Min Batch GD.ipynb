{
 "cells": [
  {
   "cell_type": "code",
   "execution_count": 1,
   "id": "6fb55fdb-db31-498a-a928-3bda533884f3",
   "metadata": {},
   "outputs": [
    {
     "name": "stdout",
     "output_type": "stream",
     "text": [
      "ritu\n"
     ]
    }
   ],
   "source": [
    "print('ritu')"
   ]
  },
  {
   "cell_type": "code",
   "execution_count": 17,
   "id": "6ba8b3e5-2c55-455d-b942-5bdf87cec5f2",
   "metadata": {},
   "outputs": [],
   "source": [
    "import numpy as np\n",
    "from sklearn.datasets import load_diabetes\n",
    "from sklearn.model_selection import train_test_split\n",
    "from sklearn.linear_model import LinearRegression\n",
    "from sklearn.metrics import r2_score\n",
    "import random"
   ]
  },
  {
   "cell_type": "code",
   "execution_count": 7,
   "id": "d8c81c2b-7ca7-4dc0-b64e-b277d815797e",
   "metadata": {},
   "outputs": [],
   "source": [
    "X,y = load_diabetes(return_X_y = True)"
   ]
  },
  {
   "cell_type": "code",
   "execution_count": 8,
   "id": "b222e64f-9a26-4dee-b4b2-1bbdd4499bf4",
   "metadata": {},
   "outputs": [
    {
     "name": "stdout",
     "output_type": "stream",
     "text": [
      "(442, 10)\n",
      "(442,)\n"
     ]
    }
   ],
   "source": [
    "print(X.shape)\n",
    "print(y.shape)"
   ]
  },
  {
   "cell_type": "code",
   "execution_count": 9,
   "id": "f8fb3244-ff56-42e3-be20-c39c99f9f5af",
   "metadata": {},
   "outputs": [],
   "source": [
    "X_train,X_test,y_train,y_test = train_test_split(X,y,test_size = 0.2,random_state = 2)"
   ]
  },
  {
   "cell_type": "code",
   "execution_count": 10,
   "id": "9489ba35-d14f-4a14-810c-dfb1ea6f6839",
   "metadata": {},
   "outputs": [
    {
     "name": "stdout",
     "output_type": "stream",
     "text": [
      "(353, 10)\n",
      "(89, 10)\n",
      "(353,)\n",
      "(89,)\n"
     ]
    }
   ],
   "source": [
    "print(X_train.shape)\n",
    "print(X_test.shape)\n",
    "print(y_train.shape)\n",
    "print(y_test.shape)\n"
   ]
  },
  {
   "cell_type": "code",
   "execution_count": 11,
   "id": "354892e3-b876-4804-919d-11987369f3f3",
   "metadata": {},
   "outputs": [],
   "source": [
    "lr = LinearRegression()\n",
    "lr.fit(X_train,y_train)\n",
    "predict = lr.predict(X_test)"
   ]
  },
  {
   "cell_type": "code",
   "execution_count": 53,
   "id": "5e896878-6e90-431f-ac55-77dc9843ac4e",
   "metadata": {},
   "outputs": [],
   "source": [
    "class MBGDRegressor:\n",
    "    def __init__(self,epoch = 50,learning_rate = 0.01,batch_size = 10):\n",
    "        self.coef_ = None\n",
    "        self.intercept_ = None\n",
    "        self.epoch = epoch\n",
    "        self.learning_rate = learning_rate\n",
    "        self.batch_size = batch_size\n",
    "        \n",
    "    def fit(self,X_train,y_train):\n",
    "        self.coef_ = np.ones(X_train.shape[1])\n",
    "        self.intercept_ = 0\n",
    "\n",
    "        for i in range(self.epoch):\n",
    "            for j in range(int(X_train.shape[0]/self.batch_size)):\n",
    "                idx = random.sample(range(X_train.shape[0]),self.batch_size)\n",
    "                y_hat = self.intercept_ + np.dot(X_train[idx],self.coef_)\n",
    "\n",
    "                self.intercept_ -=  self.learning_rate*(-2*np.mean(y_train[idx] - y_hat))\n",
    "                self.coef_  -=  self.learning_rate*(-2*np.dot((y_train[idx] - y_hat),X_train[idx])/self.batch_size)\n",
    "    \n",
    "    def predict(self,X_test):\n",
    "        return np.dot(X_test,self.coef_)+self.intercept_"
   ]
  },
  {
   "cell_type": "code",
   "execution_count": 57,
   "id": "42c15478-339d-4378-9ce0-63932172384e",
   "metadata": {},
   "outputs": [
    {
     "name": "stdout",
     "output_type": "stream",
     "text": [
      "R2 of lr 0.4399338661568968\n",
      "R2 of mbdg 0.13633819186411433\n"
     ]
    }
   ],
   "source": [
    "mbgd = MBGDRegressor(10,0.1,20)\n",
    "mbgd.fit(X_train,y_train)\n",
    "mbgdPredict = mbgd.predict(X_test)\n",
    "print('R2 of lr',r2_score(y_test,predict))\n",
    "print('R2 of mbdg',r2_score(y_test,mbgdPredict))"
   ]
  },
  {
   "cell_type": "code",
   "execution_count": null,
   "id": "d7c0358e-605e-4be8-8a0e-63121e46e1af",
   "metadata": {},
   "outputs": [],
   "source": []
  },
  {
   "cell_type": "code",
   "execution_count": null,
   "id": "83cdb6cf-d475-4b24-859c-96142fc4e0ce",
   "metadata": {},
   "outputs": [],
   "source": []
  }
 ],
 "metadata": {
  "kernelspec": {
   "display_name": "Python 3 (ipykernel)",
   "language": "python",
   "name": "python3"
  },
  "language_info": {
   "codemirror_mode": {
    "name": "ipython",
    "version": 3
   },
   "file_extension": ".py",
   "mimetype": "text/x-python",
   "name": "python",
   "nbconvert_exporter": "python",
   "pygments_lexer": "ipython3",
   "version": "3.9.2"
  }
 },
 "nbformat": 4,
 "nbformat_minor": 5
}
