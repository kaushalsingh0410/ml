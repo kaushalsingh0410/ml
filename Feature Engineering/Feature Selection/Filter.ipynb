{
 "cells": [
  {
   "cell_type": "code",
   "execution_count": null,
   "id": "64e4c94e-fd6e-41bd-8991-ab29746c1cc8",
   "metadata": {},
   "outputs": [],
   "source": [
    "print('ritu')"
   ]
  },
  {
   "cell_type": "code",
   "execution_count": null,
   "id": "ea209465-47e3-4130-900a-ac69a256a025",
   "metadata": {},
   "outputs": [],
   "source": [
    "import numpy as np\n",
    "import pandas as pd\n",
    "from sklearn.model_selection import train_test_split\n",
    "from sklearn.preprocessing import LabelEncoder\n",
    "from sklearn.linear_model import LogisticRegression\n",
    "from sklearn.metrics import accuracy_score"
   ]
  },
  {
   "cell_type": "code",
   "execution_count": null,
   "id": "9fc96ad8-6887-472a-9718-cfeafdd3800d",
   "metadata": {},
   "outputs": [],
   "source": [
    "df_train = pd.read_csv('Smartphone/train.csv')\n",
    "df_test = pd.read_csv('Smartphone/test.csv')\n",
    "print(df_train.shape,df_test.shape)"
   ]
  },
  {
   "cell_type": "code",
   "execution_count": null,
   "id": "a47fab70-1745-47ab-bc78-d2b90275794b",
   "metadata": {},
   "outputs": [],
   "source": [
    "X_train = df_train.drop(['Activity','subject'],axis = 1)\n",
    "y_train = df_train['Activity']\n",
    "X_test = df_test.drop(['Activity','subject'],axis = 1)\n",
    "y_test = df_test['Activity']\n"
   ]
  },
  {
   "cell_type": "code",
   "execution_count": null,
   "id": "add95b26-9aa5-4fda-9b83-c2f97df90ccd",
   "metadata": {},
   "outputs": [],
   "source": [
    "le = LabelEncoder()\n",
    "y_train_le = le.fit_transform(y_train)\n",
    "y_test_le = le.transform(y_test)\n",
    "# display(y_train_le,y_test_le)"
   ]
  },
  {
   "cell_type": "code",
   "execution_count": null,
   "id": "eeee5a70-6741-4c54-bb98-750231c18a49",
   "metadata": {},
   "outputs": [],
   "source": [
    "print(y_train_le.shape)\n",
    "print(y_test_le.shape)"
   ]
  },
  {
   "cell_type": "code",
   "execution_count": null,
   "id": "c6a41585-4e48-4e74-9b9e-b85abcf58ce3",
   "metadata": {},
   "outputs": [],
   "source": [
    "print(X_train.shape)\n",
    "print(X_test.shape)"
   ]
  },
  {
   "cell_type": "code",
   "execution_count": null,
   "id": "3294afe8-669d-4d0d-95b6-5a8cb0cc0d05",
   "metadata": {},
   "outputs": [],
   "source": [
    "log_reg = LogisticRegression(max_iter = 1000)\n",
    "log_reg.fit(X_train,y_train_le)\n",
    "predict = log_reg.predict(X_test)\n",
    "accuracy = accuracy_score(y_test_le,predict)"
   ]
  },
  {
   "cell_type": "code",
   "execution_count": null,
   "id": "3705224d-826e-4480-afd5-bb7112e92846",
   "metadata": {},
   "outputs": [],
   "source": [
    "print('Test accuracy:',accuracy)"
   ]
  },
  {
   "cell_type": "markdown",
   "id": "f19906b6-0cf6-47e9-8baf-dc060dbaa880",
   "metadata": {},
   "source": [
    "### 1. Removing Duplicate Columns"
   ]
  },
  {
   "cell_type": "code",
   "execution_count": null,
   "id": "febfbcf8-06fc-4fda-9dcf-a7963e623683",
   "metadata": {},
   "outputs": [],
   "source": [
    "def get_duplicate_columns(df):\n",
    "    duplicate_columns = {}\n",
    "    seen_columns = {}\n",
    "    \n",
    "    for column in df.columns:\n",
    "        current_column = df[column]\n",
    "\n",
    "        try:\n",
    "            current_column_hash = current_column.values.tobytes()\n",
    "        except Exception as e:\n",
    "            current_column_hash = current_column.to_string().encode()\n",
    "\n",
    "        if current_column_hash in seen_columns:\n",
    "            if seen_columns[current_column_hash] in duplicate_columns:\n",
    "                duplicate_columns[seen_columns[current_column_hash]].append(column)\n",
    "            else:\n",
    "                duplicate_columns[seen_columns[current_column_hash]] = [column]\n",
    "        else:\n",
    "            seen_columns[current_column_hash]  = column\n",
    "    return duplicate_columns"
   ]
  },
  {
   "cell_type": "code",
   "execution_count": null,
   "id": "0c027213-6434-4f81-b0fe-927378e4341c",
   "metadata": {},
   "outputs": [],
   "source": [
    "duplicates = get_duplicate_columns(X_train)\n",
    "duplicates"
   ]
  },
  {
   "cell_type": "code",
   "execution_count": null,
   "id": "23fa6325-5890-495d-953d-5ce639869fe8",
   "metadata": {},
   "outputs": [],
   "source": [
    "print(X_train.shape)\n",
    "print(X_test.shape)"
   ]
  },
  {
   "cell_type": "code",
   "execution_count": null,
   "id": "48c99957-fc8d-442e-abd8-3f13998983ca",
   "metadata": {},
   "outputs": [],
   "source": [
    "for one_list in duplicates.values():\n",
    "     X_train.drop(columns = one_list,inplace = True)\n",
    "     X_test.drop(columns = one_list,inplace = True)"
   ]
  },
  {
   "cell_type": "code",
   "execution_count": null,
   "id": "8f64240b-d86a-4680-adaa-afc3f0c22dcb",
   "metadata": {},
   "outputs": [],
   "source": [
    "print(X_train.shape)\n",
    "print(X_test.shape)"
   ]
  },
  {
   "cell_type": "markdown",
   "id": "58b92b2e-05a9-4cb6-abf3-d3fdc7b9107d",
   "metadata": {},
   "source": [
    "# Variance Threshold"
   ]
  },
  {
   "cell_type": "code",
   "execution_count": null,
   "id": "5ea14ab8-1bbf-4995-afaf-423b67e858a8",
   "metadata": {},
   "outputs": [],
   "source": [
    "from sklearn.feature_selection import VarianceThreshold\n",
    "vh = VarianceThreshold(threshold = 0.05)"
   ]
  },
  {
   "cell_type": "code",
   "execution_count": null,
   "id": "4912a538-df22-4385-938d-889260f37096",
   "metadata": {},
   "outputs": [],
   "source": [
    "vh.fit(X_train)"
   ]
  },
  {
   "cell_type": "code",
   "execution_count": null,
   "id": "5d311808-bc69-44b3-b6cc-d755eb7c1cc0",
   "metadata": {},
   "outputs": [],
   "source": [
    "sum(vh.get_support())"
   ]
  },
  {
   "cell_type": "code",
   "execution_count": null,
   "id": "112c9419-24be-470a-a362-81ffbaa1a8d8",
   "metadata": {},
   "outputs": [],
   "source": [
    "columns = X_train.columns[vh.get_support()]\n",
    "columns"
   ]
  },
  {
   "cell_type": "code",
   "execution_count": null,
   "id": "640a93da-ff0e-4fd9-b8a7-6bb1077cad04",
   "metadata": {},
   "outputs": [],
   "source": [
    "X_train = vh.transform(X_train)\n",
    "X_test = vh.transform(X_test)"
   ]
  },
  {
   "cell_type": "code",
   "execution_count": null,
   "id": "d0001636-fd6e-4402-b4af-9d44c3cf6366",
   "metadata": {},
   "outputs": [],
   "source": [
    "X_train = pd.DataFrame(X_train,columns = columns)\n",
    "X_test = pd.DataFrame(X_test,columns = columns)\n"
   ]
  },
  {
   "cell_type": "code",
   "execution_count": null,
   "id": "0584691b-de88-47e2-ad8c-c6885d6851f3",
   "metadata": {},
   "outputs": [],
   "source": [
    "X_train.head()"
   ]
  },
  {
   "cell_type": "code",
   "execution_count": null,
   "id": "536a23b8-f2c1-4412-b0d0-19e58745734e",
   "metadata": {},
   "outputs": [],
   "source": [
    "print(X_train.shape)\n",
    "print(X_test.shape)\n",
    "\n"
   ]
  },
  {
   "cell_type": "markdown",
   "id": "65fc8c32-496e-4d7d-a113-970978b571fe",
   "metadata": {},
   "source": [
    "# Correlation"
   ]
  },
  {
   "cell_type": "code",
   "execution_count": null,
   "id": "8be9bb1c-7708-483a-bd0e-4984e03528ea",
   "metadata": {},
   "outputs": [],
   "source": [
    "import seaborn as sns"
   ]
  },
  {
   "cell_type": "code",
   "execution_count": null,
   "id": "5d50f24b-06e9-4796-89cf-55ef85d3ebde",
   "metadata": {},
   "outputs": [],
   "source": [
    "sns.heatmap(X_train.corr())"
   ]
  },
  {
   "cell_type": "code",
   "execution_count": null,
   "id": "c11c87bd-e6fb-4ba5-be27-02acf851cfb6",
   "metadata": {},
   "outputs": [],
   "source": [
    "corr_matrix = X_train.corr()\n",
    "corr_matrix"
   ]
  },
  {
   "cell_type": "code",
   "execution_count": null,
   "id": "cf7a8dca-0583-410e-9860-9790598482fa",
   "metadata": {},
   "outputs": [],
   "source": [
    "columns = corr_matrix.columns\n",
    "\n",
    "columns_to_drop = []\n",
    "for i in range(len(columns)):\n",
    "    for j in range(i+1,len(columns)):\n",
    "        if corr_matrix.loc[columns[i],columns[j]]>0.95:\n",
    "            columns_to_drop.append(columns[j])\n",
    "\n"
   ]
  },
  {
   "cell_type": "code",
   "execution_count": null,
   "id": "4b619150-b4da-408a-aae4-99ae0a1c6f09",
   "metadata": {},
   "outputs": [],
   "source": [
    "print(len(columns_to_drop))"
   ]
  },
  {
   "cell_type": "code",
   "execution_count": null,
   "id": "966aadab-4f77-49e6-8805-2199d756da58",
   "metadata": {},
   "outputs": [],
   "source": [
    "columns_to_drop = set(columns_to_drop)"
   ]
  },
  {
   "cell_type": "code",
   "execution_count": null,
   "id": "58276197-110b-4712-8439-c8f8594013d3",
   "metadata": {},
   "outputs": [],
   "source": [
    "len(columns_to_drop)"
   ]
  },
  {
   "cell_type": "code",
   "execution_count": null,
   "id": "f3550959-3ec3-4d8c-8a27-b34297ad8e87",
   "metadata": {},
   "outputs": [],
   "source": [
    "X_train.drop(columns = columns_to_drop,axis = 1,inplace = True)\n",
    "X_test.drop(columns = columns_to_drop,axis = 1,inplace = True)"
   ]
  },
  {
   "cell_type": "code",
   "execution_count": null,
   "id": "8a8e69f7-f087-4bf4-9450-caf53467e0c1",
   "metadata": {},
   "outputs": [],
   "source": [
    "print(X_train.shape)\n",
    "print(X_test.shape)"
   ]
  },
  {
   "cell_type": "markdown",
   "id": "8a8bd6be-0979-4ecd-b39c-cfe0e6627304",
   "metadata": {},
   "source": [
    "# ANOVA"
   ]
  },
  {
   "cell_type": "code",
   "execution_count": null,
   "id": "554d0a87-358f-41d0-9deb-aa6c05e69ad3",
   "metadata": {},
   "outputs": [],
   "source": [
    "from sklearn.feature_selection import f_classif\n",
    "from sklearn.feature_selection import SelectKBest\n",
    "\n",
    "skb = SelectKBest(f_classif,k=100)\n",
    "skb.fit(X_train,y_train)"
   ]
  },
  {
   "cell_type": "code",
   "execution_count": null,
   "id": "3c590ad8-5cdd-4780-afff-031eaf848b77",
   "metadata": {},
   "outputs": [],
   "source": [
    "columns = X_train.columns[skb.get_support()]\n",
    "len(columns)"
   ]
  },
  {
   "cell_type": "code",
   "execution_count": null,
   "id": "da1ae1ac-0aa2-4e1e-92bb-fd1241b1442e",
   "metadata": {},
   "outputs": [],
   "source": [
    "X_train = skb.transform(X_train)\n",
    "X_test = skb.transform(X_test)\n",
    "\n",
    "X_train = pd.DataFrame(X_train,columns = columns)\n",
    "X_test = pd.DataFrame(X_test,columns = columns)"
   ]
  },
  {
   "cell_type": "code",
   "execution_count": null,
   "id": "599d0574-e793-4370-a729-2520bb206d93",
   "metadata": {},
   "outputs": [],
   "source": [
    "print(X_train.shape)\n",
    "print(X_test.shape)"
   ]
  },
  {
   "cell_type": "markdown",
   "id": "06326888-e053-4a7e-9fb9-3731045f8d07",
   "metadata": {},
   "source": [
    "# Moment of Truth"
   ]
  },
  {
   "cell_type": "code",
   "execution_count": null,
   "id": "6ea0e062-9000-4e37-9dab-a58c8fb049e6",
   "metadata": {},
   "outputs": [],
   "source": [
    "log_new = LogisticRegression(max_iter=1000)  # Increase max_iter if it doesn't converge\n",
    "log_new.fit(X_train, y_train_le)"
   ]
  },
  {
   "cell_type": "code",
   "execution_count": null,
   "id": "9ba0954a-d4c1-46df-b5ae-3956801b01e9",
   "metadata": {},
   "outputs": [],
   "source": [
    "predict_new = log_new.predict(X_test)\n",
    "accuracy_new = accuracy_score(y_test_le,predict_new)\n",
    "print('Old accuracy:',accuracy)\n",
    "print('New accuracy:',accuracy_new)"
   ]
  },
  {
   "cell_type": "markdown",
   "id": "230bd8bb-6eeb-41cf-af5b-eee62488bad4",
   "metadata": {},
   "source": [
    "# Chi-square Test"
   ]
  },
  {
   "cell_type": "code",
   "execution_count": null,
   "id": "36dfc7ef-f4c0-47a2-8638-a5393b9732f3",
   "metadata": {},
   "outputs": [],
   "source": [
    "titanic = pd.read_csv('titanic/train.csv',usecols = ['Survived','Pclass','Sex','SibSp','Parch','Embarked'])\n",
    "titanic.head()"
   ]
  },
  {
   "cell_type": "code",
   "execution_count": null,
   "id": "c53cfca9-24d3-4903-849a-a77874593808",
   "metadata": {},
   "outputs": [],
   "source": [
    "ct = pd.crosstab(titanic['Survived'],titanic['Sex'],margins = True)\n",
    "ct"
   ]
  },
  {
   "cell_type": "code",
   "execution_count": null,
   "id": "0206242b-fceb-4233-a1fa-8921ea75f7ad",
   "metadata": {},
   "outputs": [],
   "source": [
    "from scipy.stats import chi2_contingency\n",
    "chi2_contingency(ct)"
   ]
  },
  {
   "cell_type": "code",
   "execution_count": null,
   "id": "cd3cb13f-7744-4fd4-a8bf-03e617053a26",
   "metadata": {},
   "outputs": [],
   "source": [
    "score = []\n",
    "\n",
    "for column in titanic.columns[1:]:\n",
    "    ct = pd.crosstab(titanic['Survived'],titanic[column])\n",
    "    score.append(chi2_contingency(ct)[1])"
   ]
  },
  {
   "cell_type": "code",
   "execution_count": null,
   "id": "a3907bc5-3397-4351-bbb7-29fe0f22e26d",
   "metadata": {},
   "outputs": [],
   "source": [
    "pd.Series(score,index = titanic.columns[1:]).sort_values().plot(kind = 'bar')"
   ]
  },
  {
   "cell_type": "code",
   "execution_count": null,
   "id": "06943a76-35f0-4129-aa48-6c365ac379b6",
   "metadata": {},
   "outputs": [],
   "source": [
    "from sklearn.preprocessing import LabelEncoder\n",
    "from sklearn.feature_selection import chi2\n",
    "import matplotlib.pyplot as plt\n",
    "\n",
    "le = LabelEncoder()\n",
    "titanic_encoded = titanic.apply(le.fit_transform)\n",
    "\n",
    "X = titanic_encoded.drop('Survived',axis = 1)\n",
    "y = titanic_encoded['Survived']\n",
    "\n",
    "chi2_scores = chi2(X,y)"
   ]
  },
  {
   "cell_type": "code",
   "execution_count": null,
   "id": "0d77ea26-ac9c-4216-b7a1-663e111c2335",
   "metadata": {},
   "outputs": [],
   "source": [
    "chi2_scores"
   ]
  },
  {
   "cell_type": "code",
   "execution_count": null,
   "id": "d3c1afcd-4e04-4f5b-9553-dc53a1745a9f",
   "metadata": {},
   "outputs": [],
   "source": [
    "p_values = pd.Series(chi2_scores[1],index = X.columns).sort_values()\n",
    "p_values"
   ]
  },
  {
   "cell_type": "code",
   "execution_count": null,
   "id": "6b95e62e-00c3-4f87-a3cf-046925ada445",
   "metadata": {},
   "outputs": [],
   "source": [
    "p_values.plot.bar()\n",
    "plt.title('Chi-square test - P-values')\n",
    "plt.xlabel('Feature')\n",
    "plt.ylabel('P-value')\n",
    "\n",
    "plt.show()\n"
   ]
  },
  {
   "cell_type": "code",
   "execution_count": null,
   "id": "0fb29d44-d373-46df-8f61-67d192847125",
   "metadata": {},
   "outputs": [],
   "source": []
  }
 ],
 "metadata": {
  "kernelspec": {
   "display_name": "Python 3 (ipykernel)",
   "language": "python",
   "name": "python3"
  },
  "language_info": {
   "codemirror_mode": {
    "name": "ipython",
    "version": 3
   },
   "file_extension": ".py",
   "mimetype": "text/x-python",
   "name": "python",
   "nbconvert_exporter": "python",
   "pygments_lexer": "ipython3",
   "version": "3.9.2"
  }
 },
 "nbformat": 4,
 "nbformat_minor": 5
}
