{
 "cells": [
  {
   "cell_type": "code",
   "execution_count": 1,
   "id": "99911234-3a5a-47cf-9ed3-4b6e8c91e91b",
   "metadata": {},
   "outputs": [
    {
     "name": "stdout",
     "output_type": "stream",
     "text": [
      "ritu\n"
     ]
    }
   ],
   "source": [
    "print('ritu')"
   ]
  },
  {
   "cell_type": "code",
   "execution_count": 43,
   "id": "e742a922-b224-4480-8c20-13caa51d003d",
   "metadata": {},
   "outputs": [],
   "source": [
    "import numpy as np \n",
    "import plotly.graph_objs as go\n",
    "\n",
    "from sklearn.model_selection import train_test_split\n",
    "from sklearn.linear_model import LinearRegression\n",
    "from sklearn.preprocessing import PolynomialFeatures,StandardScaler\n",
    "from sklearn.metrics import r2_score\n",
    "from sklearn.pipeline import Pipeline"
   ]
  },
  {
   "cell_type": "code",
   "execution_count": 9,
   "id": "046952c2-da58-49a6-9d11-a38e2bbae16a",
   "metadata": {},
   "outputs": [],
   "source": [
    "X = 6 * np.random.rand(200,1) -3\n",
    "y= 0.8* X**2 + 0.9*X +2 + np.random.randn(200,1)"
   ]
  },
  {
   "cell_type": "code",
   "execution_count": 16,
   "id": "d6853c3f-1b80-431d-8532-c43bf4d4167e",
   "metadata": {},
   "outputs": [
    {
     "data": {
      "application/vnd.plotly.v1+json": {
       "config": {
        "plotlyServerURL": "https://plot.ly"
       },
       "data": [
        {
         "mode": "markers",
         "type": "scatter",
         "x": [
          1.5902950231190474,
          -0.8891327243695093,
          2.9535746681971986,
          0.02500617598749333,
          -0.5289806064266771,
          0.9438622005312856,
          -2.8655514571493383,
          -2.995264148289034,
          -1.2175881189535378,
          2.8268318730547524,
          -0.7912622288254516,
          -1.4671025589082862,
          -0.3744691255558239,
          -0.9271666091879549,
          2.8158793545749514,
          0.9367866497460771,
          2.6520372458963646,
          -1.8288604978531842,
          0.8033453819089065,
          -0.5877460652851445,
          0.31973186310824797,
          -2.6662113123552134,
          0.6012184589858682,
          -2.117866954260297,
          1.8200207529986203,
          0.7602496181411329,
          -2.0347198116343455,
          -2.0083942062219657,
          0.9097609661741064,
          -1.2879353523934933,
          -1.2601416201233762,
          2.1479322440139823,
          -2.485665016107003,
          -0.8832858339765224,
          -2.9166086172914256,
          -2.3212456961530723,
          0.06148493145136147,
          2.6990077704999598,
          -0.6745896399751703,
          -1.9954334389827035,
          -0.33882965471224846,
          -1.4604087205655234,
          -0.8385791015513133,
          0.3550233939949221,
          2.970740053746356,
          2.3153759573279054,
          1.8770832717449064,
          -2.0383910763151363,
          -0.17585537557991815,
          2.446517761496593,
          -2.285783795424248,
          2.7778048909620114,
          -1.547178208231487,
          0.8723630678231604,
          2.5025070211141447,
          2.387580339234491,
          2.426410301505319,
          -0.7078451666957264,
          -0.9977427699027039,
          1.647900839701796,
          -2.5981085793403538,
          1.968692730627767,
          -1.2656930915347486,
          1.1845356379223144,
          2.1525897390945756,
          1.4256649717170582,
          2.260891345127593,
          0.3347137660515491,
          -1.3549971175249726,
          0.331877842834154,
          -1.7056575607225557,
          -1.8009890162088862,
          0.26289494716167017,
          -0.10171886170952149,
          1.5915447890274024,
          -2.0458888336837884,
          -2.6065171510791805,
          -0.9048434483184558,
          -2.2886906233385043,
          -0.2681817432305875,
          -1.6173800954506117,
          -1.347871387113923,
          -2.904997904987974,
          2.455997925168635,
          -2.609018530396444,
          1.6394512483837422,
          -2.9379748583227108,
          -0.44013797541370536,
          0.3673786650027955,
          -1.148797578347367,
          1.6518633369826272,
          2.208193442410975,
          -1.7797971889609063,
          0.40338510688403506,
          -0.13778440132972847,
          2.6612344939727075,
          -0.9328080133546139,
          1.1594646082961262,
          -0.959660875326537,
          -0.806499052838455,
          -2.911695488062444,
          2.802544239015697,
          -0.03831552991890197,
          -0.6411355068203646,
          -2.2807439388760953,
          1.5452309804028657,
          -0.5119975234390806,
          0.07687839071158997,
          -2.0947599049711085,
          -1.176192440088814,
          1.4555720339908556,
          0.7241822415494448,
          -2.8415956991385665,
          0.7767678677270835,
          1.1641490942983976,
          0.17932122778072124,
          2.625883235709864,
          -1.3444418333514194,
          -2.6135274361088254,
          -2.282475838286075,
          -1.4420258263831658,
          -2.832083509299893,
          -0.9722494750884296,
          -2.429590887111905,
          -0.29751128687745654,
          1.077798374799161,
          -0.5232092204631646,
          0.20745738181529472,
          -2.8703949124182504,
          -1.3984594300465711,
          -0.4881355329235757,
          -1.9034995550611884,
          -1.9906429718364005,
          0.13508464259855302,
          1.8473441971329727,
          -2.2345470672148373,
          0.20624978647997594,
          -0.09582663042236916,
          2.9682339287136035,
          0.6320836850528773,
          -0.02599898033144843,
          -2.5935679192850625,
          -2.6309018765409107,
          -1.8875442777391978,
          -1.7539993747562432,
          -1.6665124498220723,
          -1.2337486016231507,
          -0.696515029627296,
          1.959220436310921,
          1.268279698256979,
          -1.1433792336114905,
          0.20821848882312022,
          2.4166914044650687,
          2.082805742318852,
          -1.279175027295255,
          -0.4657317009494881,
          -1.2653463482648073,
          1.1913480836109658,
          -1.3432755781991284,
          -2.2296451169149885,
          0.5390442423272699,
          1.9052833735587198,
          -0.5854115705556957,
          0.5172475429312162,
          -0.1285910466057434,
          -1.0899705476328174,
          -1.9122152148779614,
          -1.7922306802181698,
          -2.946058850605719,
          -1.8527947953394366,
          -1.419599159523665,
          1.6500614331807748,
          -2.3322256860739863,
          0.7130965785017569,
          -0.9417597123661845,
          -1.2366636080222817,
          -1.9453151142640286,
          -1.7087126381480577,
          1.9872810531666723,
          1.7365875339544026,
          -2.4910104517531746,
          -0.7008940435844417,
          2.8082256738318208,
          1.4607668198678274,
          0.07080652128345477,
          -0.3725444966601268,
          0.46206518122416806,
          -2.5149162502145472,
          0.929394644998117,
          0.2059966448304298,
          -1.160297497717006,
          -1.0376297662371368,
          0.7710541229543475,
          -1.1761391105014871,
          1.8525308145180972,
          0.07251578098397449,
          2.4051175513407754,
          -2.115239217045283,
          -0.2682676787036469,
          0.14710658472705163
         ],
         "y": [
          6.459780032295214,
          3.805443357767688,
          12.753931472297754,
          -0.5183476882039617,
          0.5852051854869271,
          3.6691309675770656,
          5.354410169092339,
          6.336634827258654,
          3.8098430389096825,
          11.703478917252315,
          1.6293065699153995,
          2.093123166293271,
          3.1569201723770774,
          3.2983493753239523,
          8.739680123534226,
          3.1365190419753897,
          10.688403453574757,
          2.056370755058234,
          3.4295411713884674,
          1.6522743900648904,
          1.3881365247847652,
          6.456837490539103,
          2.39102984173112,
          3.397603576892754,
          6.080970920261208,
          4.09152355242714,
          3.942080542182873,
          4.300776438889455,
          3.4147327948933457,
          3.019889258814041,
          2.147251847527906,
          9.756382320726875,
          4.798992890401928,
          1.3882266764388178,
          7.7728249971326795,
          2.650874496399456,
          1.8530523438462803,
          10.311654543060474,
          3.4716143205685643,
          1.912657586489764,
          1.9061105992489673,
          1.1121182884391185,
          2.2364563611022206,
          3.0140408114976296,
          12.46127885299942,
          9.652996399559678,
          5.719678474665862,
          3.561643668865085,
          1.5454687528221531,
          7.581758699709238,
          6.2017387825959345,
          9.21616366538045,
          2.3450316093452215,
          2.739611818953874,
          8.794393801677627,
          7.666627444724243,
          7.441114444554999,
          0.6024261854696509,
          2.190626095190581,
          5.454817842853649,
          6.579996415253188,
          5.5699555517881745,
          1.2550295100146496,
          4.108310349022758,
          7.736947118696749,
          3.8937758811674175,
          9.205492211760367,
          1.2622642584376491,
          1.5964614790437142,
          2.9537028703582946,
          3.670605051119141,
          1.6712324957206288,
          2.4469446256279332,
          2.5299353929513737,
          4.559280509190763,
          2.712607504869733,
          4.622095566524379,
          2.5888479688750126,
          4.642574624927555,
          2.68436401952179,
          1.9574662125460265,
          1.8438577963726812,
          6.079918951358329,
          9.319910631001264,
          5.928814282001026,
          6.7073353994261735,
          5.380831804902325,
          1.7628209773712644,
          1.9472023232497617,
          1.6227266121198456,
          5.460741720708184,
          8.853395838468256,
          4.485935482035831,
          2.293560855599354,
          1.172929358701645,
          9.309012984433046,
          2.7248209573933346,
          3.268929173176285,
          0.7726529035992509,
          -0.4626126942441253,
          6.265810872605101,
          10.008783518285,
          1.8179728557264516,
          2.738237845299818,
          3.286452701222743,
          3.0434981237909526,
          2.0221310656723754,
          3.4496754918869112,
          3.221066703975983,
          2.1602667287675033,
          6.512389305467045,
          4.9588055722745885,
          7.285814308035608,
          2.5827854295622923,
          5.814726723898605,
          2.9899527431652926,
          9.3002538117311,
          2.019948711440589,
          5.228304800580621,
          3.6584680450909364,
          1.179637903867696,
          5.543656514205405,
          2.290268142363201,
          4.978396071702413,
          1.8946442233135512,
          4.387902843988216,
          1.837276077998994,
          1.4117316588052837,
          6.7153393036698485,
          2.204749204402583,
          2.31932324834409,
          3.25839718182581,
          3.137210883718154,
          1.7406027902445755,
          7.287214634580815,
          4.042564398802382,
          2.3989886169090004,
          2.040043132460154,
          11.468388125667976,
          2.879938635206246,
          0.6031519282621467,
          6.0128848259512955,
          4.85646005368729,
          2.059325342592766,
          3.597999297861996,
          -0.19821847410620874,
          1.2740854564149209,
          0.9972541969660541,
          6.145518065167208,
          4.656661198945109,
          1.8138939690578102,
          3.7234286078729193,
          9.38513214118985,
          6.534644906718195,
          2.6455956213559566,
          0.10667705134647587,
          2.5298319328739494,
          4.350644728549533,
          2.352986307771529,
          4.052669713938007,
          3.0892970508386997,
          5.7846481183397875,
          1.5569046079108106,
          2.4937673354102565,
          2.2894382088078196,
          3.6961194101475954,
          3.2379344889038357,
          2.607850313571489,
          5.662263190666035,
          2.7647745871957614,
          2.6672542405250943,
          6.061487357955416,
          4.084068303313666,
          3.0838043694054957,
          0.2078876896151618,
          2.4903961073392336,
          1.7230216633422906,
          3.19153604701901,
          5.317957684861523,
          7.777173178003528,
          6.169345319023922,
          0.5683508994907098,
          10.560708893459786,
          4.5160324571296,
          0.12827772234284085,
          3.117289035946781,
          2.212422285437122,
          5.5958909787435145,
          1.3908043884020884,
          0.929206807597803,
          1.7533462725838158,
          -0.941759017789146,
          2.1868276683743977,
          1.9441221720524333,
          6.653575915801765,
          -0.11606703554542142,
          8.425111268522668,
          3.7718403638155165,
          0.04203674106517008,
          0.7754610850506227
         ]
        }
       ],
       "layout": {
        "autosize": true,
        "template": {
         "data": {
          "bar": [
           {
            "error_x": {
             "color": "#2a3f5f"
            },
            "error_y": {
             "color": "#2a3f5f"
            },
            "marker": {
             "line": {
              "color": "#E5ECF6",
              "width": 0.5
             },
             "pattern": {
              "fillmode": "overlay",
              "size": 10,
              "solidity": 0.2
             }
            },
            "type": "bar"
           }
          ],
          "barpolar": [
           {
            "marker": {
             "line": {
              "color": "#E5ECF6",
              "width": 0.5
             },
             "pattern": {
              "fillmode": "overlay",
              "size": 10,
              "solidity": 0.2
             }
            },
            "type": "barpolar"
           }
          ],
          "carpet": [
           {
            "aaxis": {
             "endlinecolor": "#2a3f5f",
             "gridcolor": "white",
             "linecolor": "white",
             "minorgridcolor": "white",
             "startlinecolor": "#2a3f5f"
            },
            "baxis": {
             "endlinecolor": "#2a3f5f",
             "gridcolor": "white",
             "linecolor": "white",
             "minorgridcolor": "white",
             "startlinecolor": "#2a3f5f"
            },
            "type": "carpet"
           }
          ],
          "choropleth": [
           {
            "colorbar": {
             "outlinewidth": 0,
             "ticks": ""
            },
            "type": "choropleth"
           }
          ],
          "contour": [
           {
            "colorbar": {
             "outlinewidth": 0,
             "ticks": ""
            },
            "colorscale": [
             [
              0,
              "#0d0887"
             ],
             [
              0.1111111111111111,
              "#46039f"
             ],
             [
              0.2222222222222222,
              "#7201a8"
             ],
             [
              0.3333333333333333,
              "#9c179e"
             ],
             [
              0.4444444444444444,
              "#bd3786"
             ],
             [
              0.5555555555555556,
              "#d8576b"
             ],
             [
              0.6666666666666666,
              "#ed7953"
             ],
             [
              0.7777777777777778,
              "#fb9f3a"
             ],
             [
              0.8888888888888888,
              "#fdca26"
             ],
             [
              1,
              "#f0f921"
             ]
            ],
            "type": "contour"
           }
          ],
          "contourcarpet": [
           {
            "colorbar": {
             "outlinewidth": 0,
             "ticks": ""
            },
            "type": "contourcarpet"
           }
          ],
          "heatmap": [
           {
            "colorbar": {
             "outlinewidth": 0,
             "ticks": ""
            },
            "colorscale": [
             [
              0,
              "#0d0887"
             ],
             [
              0.1111111111111111,
              "#46039f"
             ],
             [
              0.2222222222222222,
              "#7201a8"
             ],
             [
              0.3333333333333333,
              "#9c179e"
             ],
             [
              0.4444444444444444,
              "#bd3786"
             ],
             [
              0.5555555555555556,
              "#d8576b"
             ],
             [
              0.6666666666666666,
              "#ed7953"
             ],
             [
              0.7777777777777778,
              "#fb9f3a"
             ],
             [
              0.8888888888888888,
              "#fdca26"
             ],
             [
              1,
              "#f0f921"
             ]
            ],
            "type": "heatmap"
           }
          ],
          "heatmapgl": [
           {
            "colorbar": {
             "outlinewidth": 0,
             "ticks": ""
            },
            "colorscale": [
             [
              0,
              "#0d0887"
             ],
             [
              0.1111111111111111,
              "#46039f"
             ],
             [
              0.2222222222222222,
              "#7201a8"
             ],
             [
              0.3333333333333333,
              "#9c179e"
             ],
             [
              0.4444444444444444,
              "#bd3786"
             ],
             [
              0.5555555555555556,
              "#d8576b"
             ],
             [
              0.6666666666666666,
              "#ed7953"
             ],
             [
              0.7777777777777778,
              "#fb9f3a"
             ],
             [
              0.8888888888888888,
              "#fdca26"
             ],
             [
              1,
              "#f0f921"
             ]
            ],
            "type": "heatmapgl"
           }
          ],
          "histogram": [
           {
            "marker": {
             "pattern": {
              "fillmode": "overlay",
              "size": 10,
              "solidity": 0.2
             }
            },
            "type": "histogram"
           }
          ],
          "histogram2d": [
           {
            "colorbar": {
             "outlinewidth": 0,
             "ticks": ""
            },
            "colorscale": [
             [
              0,
              "#0d0887"
             ],
             [
              0.1111111111111111,
              "#46039f"
             ],
             [
              0.2222222222222222,
              "#7201a8"
             ],
             [
              0.3333333333333333,
              "#9c179e"
             ],
             [
              0.4444444444444444,
              "#bd3786"
             ],
             [
              0.5555555555555556,
              "#d8576b"
             ],
             [
              0.6666666666666666,
              "#ed7953"
             ],
             [
              0.7777777777777778,
              "#fb9f3a"
             ],
             [
              0.8888888888888888,
              "#fdca26"
             ],
             [
              1,
              "#f0f921"
             ]
            ],
            "type": "histogram2d"
           }
          ],
          "histogram2dcontour": [
           {
            "colorbar": {
             "outlinewidth": 0,
             "ticks": ""
            },
            "colorscale": [
             [
              0,
              "#0d0887"
             ],
             [
              0.1111111111111111,
              "#46039f"
             ],
             [
              0.2222222222222222,
              "#7201a8"
             ],
             [
              0.3333333333333333,
              "#9c179e"
             ],
             [
              0.4444444444444444,
              "#bd3786"
             ],
             [
              0.5555555555555556,
              "#d8576b"
             ],
             [
              0.6666666666666666,
              "#ed7953"
             ],
             [
              0.7777777777777778,
              "#fb9f3a"
             ],
             [
              0.8888888888888888,
              "#fdca26"
             ],
             [
              1,
              "#f0f921"
             ]
            ],
            "type": "histogram2dcontour"
           }
          ],
          "mesh3d": [
           {
            "colorbar": {
             "outlinewidth": 0,
             "ticks": ""
            },
            "type": "mesh3d"
           }
          ],
          "parcoords": [
           {
            "line": {
             "colorbar": {
              "outlinewidth": 0,
              "ticks": ""
             }
            },
            "type": "parcoords"
           }
          ],
          "pie": [
           {
            "automargin": true,
            "type": "pie"
           }
          ],
          "scatter": [
           {
            "fillpattern": {
             "fillmode": "overlay",
             "size": 10,
             "solidity": 0.2
            },
            "type": "scatter"
           }
          ],
          "scatter3d": [
           {
            "line": {
             "colorbar": {
              "outlinewidth": 0,
              "ticks": ""
             }
            },
            "marker": {
             "colorbar": {
              "outlinewidth": 0,
              "ticks": ""
             }
            },
            "type": "scatter3d"
           }
          ],
          "scattercarpet": [
           {
            "marker": {
             "colorbar": {
              "outlinewidth": 0,
              "ticks": ""
             }
            },
            "type": "scattercarpet"
           }
          ],
          "scattergeo": [
           {
            "marker": {
             "colorbar": {
              "outlinewidth": 0,
              "ticks": ""
             }
            },
            "type": "scattergeo"
           }
          ],
          "scattergl": [
           {
            "marker": {
             "colorbar": {
              "outlinewidth": 0,
              "ticks": ""
             }
            },
            "type": "scattergl"
           }
          ],
          "scattermapbox": [
           {
            "marker": {
             "colorbar": {
              "outlinewidth": 0,
              "ticks": ""
             }
            },
            "type": "scattermapbox"
           }
          ],
          "scatterpolar": [
           {
            "marker": {
             "colorbar": {
              "outlinewidth": 0,
              "ticks": ""
             }
            },
            "type": "scatterpolar"
           }
          ],
          "scatterpolargl": [
           {
            "marker": {
             "colorbar": {
              "outlinewidth": 0,
              "ticks": ""
             }
            },
            "type": "scatterpolargl"
           }
          ],
          "scatterternary": [
           {
            "marker": {
             "colorbar": {
              "outlinewidth": 0,
              "ticks": ""
             }
            },
            "type": "scatterternary"
           }
          ],
          "surface": [
           {
            "colorbar": {
             "outlinewidth": 0,
             "ticks": ""
            },
            "colorscale": [
             [
              0,
              "#0d0887"
             ],
             [
              0.1111111111111111,
              "#46039f"
             ],
             [
              0.2222222222222222,
              "#7201a8"
             ],
             [
              0.3333333333333333,
              "#9c179e"
             ],
             [
              0.4444444444444444,
              "#bd3786"
             ],
             [
              0.5555555555555556,
              "#d8576b"
             ],
             [
              0.6666666666666666,
              "#ed7953"
             ],
             [
              0.7777777777777778,
              "#fb9f3a"
             ],
             [
              0.8888888888888888,
              "#fdca26"
             ],
             [
              1,
              "#f0f921"
             ]
            ],
            "type": "surface"
           }
          ],
          "table": [
           {
            "cells": {
             "fill": {
              "color": "#EBF0F8"
             },
             "line": {
              "color": "white"
             }
            },
            "header": {
             "fill": {
              "color": "#C8D4E3"
             },
             "line": {
              "color": "white"
             }
            },
            "type": "table"
           }
          ]
         },
         "layout": {
          "annotationdefaults": {
           "arrowcolor": "#2a3f5f",
           "arrowhead": 0,
           "arrowwidth": 1
          },
          "autotypenumbers": "strict",
          "coloraxis": {
           "colorbar": {
            "outlinewidth": 0,
            "ticks": ""
           }
          },
          "colorscale": {
           "diverging": [
            [
             0,
             "#8e0152"
            ],
            [
             0.1,
             "#c51b7d"
            ],
            [
             0.2,
             "#de77ae"
            ],
            [
             0.3,
             "#f1b6da"
            ],
            [
             0.4,
             "#fde0ef"
            ],
            [
             0.5,
             "#f7f7f7"
            ],
            [
             0.6,
             "#e6f5d0"
            ],
            [
             0.7,
             "#b8e186"
            ],
            [
             0.8,
             "#7fbc41"
            ],
            [
             0.9,
             "#4d9221"
            ],
            [
             1,
             "#276419"
            ]
           ],
           "sequential": [
            [
             0,
             "#0d0887"
            ],
            [
             0.1111111111111111,
             "#46039f"
            ],
            [
             0.2222222222222222,
             "#7201a8"
            ],
            [
             0.3333333333333333,
             "#9c179e"
            ],
            [
             0.4444444444444444,
             "#bd3786"
            ],
            [
             0.5555555555555556,
             "#d8576b"
            ],
            [
             0.6666666666666666,
             "#ed7953"
            ],
            [
             0.7777777777777778,
             "#fb9f3a"
            ],
            [
             0.8888888888888888,
             "#fdca26"
            ],
            [
             1,
             "#f0f921"
            ]
           ],
           "sequentialminus": [
            [
             0,
             "#0d0887"
            ],
            [
             0.1111111111111111,
             "#46039f"
            ],
            [
             0.2222222222222222,
             "#7201a8"
            ],
            [
             0.3333333333333333,
             "#9c179e"
            ],
            [
             0.4444444444444444,
             "#bd3786"
            ],
            [
             0.5555555555555556,
             "#d8576b"
            ],
            [
             0.6666666666666666,
             "#ed7953"
            ],
            [
             0.7777777777777778,
             "#fb9f3a"
            ],
            [
             0.8888888888888888,
             "#fdca26"
            ],
            [
             1,
             "#f0f921"
            ]
           ]
          },
          "colorway": [
           "#636efa",
           "#EF553B",
           "#00cc96",
           "#ab63fa",
           "#FFA15A",
           "#19d3f3",
           "#FF6692",
           "#B6E880",
           "#FF97FF",
           "#FECB52"
          ],
          "font": {
           "color": "#2a3f5f"
          },
          "geo": {
           "bgcolor": "white",
           "lakecolor": "white",
           "landcolor": "#E5ECF6",
           "showlakes": true,
           "showland": true,
           "subunitcolor": "white"
          },
          "hoverlabel": {
           "align": "left"
          },
          "hovermode": "closest",
          "mapbox": {
           "style": "light"
          },
          "paper_bgcolor": "white",
          "plot_bgcolor": "#E5ECF6",
          "polar": {
           "angularaxis": {
            "gridcolor": "white",
            "linecolor": "white",
            "ticks": ""
           },
           "bgcolor": "#E5ECF6",
           "radialaxis": {
            "gridcolor": "white",
            "linecolor": "white",
            "ticks": ""
           }
          },
          "scene": {
           "xaxis": {
            "backgroundcolor": "#E5ECF6",
            "gridcolor": "white",
            "gridwidth": 2,
            "linecolor": "white",
            "showbackground": true,
            "ticks": "",
            "zerolinecolor": "white"
           },
           "yaxis": {
            "backgroundcolor": "#E5ECF6",
            "gridcolor": "white",
            "gridwidth": 2,
            "linecolor": "white",
            "showbackground": true,
            "ticks": "",
            "zerolinecolor": "white"
           },
           "zaxis": {
            "backgroundcolor": "#E5ECF6",
            "gridcolor": "white",
            "gridwidth": 2,
            "linecolor": "white",
            "showbackground": true,
            "ticks": "",
            "zerolinecolor": "white"
           }
          },
          "shapedefaults": {
           "line": {
            "color": "#2a3f5f"
           }
          },
          "ternary": {
           "aaxis": {
            "gridcolor": "white",
            "linecolor": "white",
            "ticks": ""
           },
           "baxis": {
            "gridcolor": "white",
            "linecolor": "white",
            "ticks": ""
           },
           "bgcolor": "#E5ECF6",
           "caxis": {
            "gridcolor": "white",
            "linecolor": "white",
            "ticks": ""
           }
          },
          "title": {
           "x": 0.05
          },
          "xaxis": {
           "automargin": true,
           "gridcolor": "white",
           "linecolor": "white",
           "ticks": "",
           "title": {
            "standoff": 15
           },
           "zerolinecolor": "white",
           "zerolinewidth": 2
          },
          "yaxis": {
           "automargin": true,
           "gridcolor": "white",
           "linecolor": "white",
           "ticks": "",
           "title": {
            "standoff": 15
           },
           "zerolinecolor": "white",
           "zerolinewidth": 2
          }
         }
        },
        "xaxis": {
         "autorange": true,
         "range": [
          -3.3944612133202927,
          3.3699371187776146
         ],
         "title": {
          "text": "X"
         },
         "type": "linear"
        },
        "yaxis": {
         "autorange": true,
         "range": [
          -2.0719859028934047,
          13.884158357402013
         ],
         "title": {
          "text": "y"
         },
         "type": "linear"
        }
       }
      },
      "image/png": "[encoded data removed]",
      "text/html": [
       "<div>                            <div id=\"d03019f8-5161-4f60-bcb6-39f359f5f71f\" class=\"plotly-graph-div\" style=\"height:525px; width:100%;\"></div>            <script type=\"text/javascript\">                require([\"plotly\"], function(Plotly) {                    window.PLOTLYENV=window.PLOTLYENV || {};                                    if (document.getElementById(\"d03019f8-5161-4f60-bcb6-39f359f5f71f\")) {                    Plotly.newPlot(                        \"d03019f8-5161-4f60-bcb6-39f359f5f71f\",                        [{\"mode\":\"markers\",\"x\":[1.5902950231190474,-0.8891327243695093,2.9535746681971986,0.02500617598749333,-0.5289806064266771,0.9438622005312856,-2.8655514571493383,-2.995264148289034,-1.2175881189535378,2.8268318730547524,-0.7912622288254516,-1.4671025589082862,-0.3744691255558239,-0.9271666091879549,2.8158793545749514,0.9367866497460771,2.6520372458963646,-1.8288604978531842,0.8033453819089065,-0.5877460652851445,0.31973186310824797,-2.6662113123552134,0.6012184589858682,-2.117866954260297,1.8200207529986203,0.7602496181411329,-2.0347198116343455,-2.0083942062219657,0.9097609661741064,-1.2879353523934933,-1.2601416201233762,2.1479322440139823,-2.485665016107003,-0.8832858339765224,-2.9166086172914256,-2.3212456961530723,0.06148493145136147,2.6990077704999598,-0.6745896399751703,-1.9954334389827035,-0.33882965471224846,-1.4604087205655234,-0.8385791015513133,0.3550233939949221,2.970740053746356,2.3153759573279054,1.8770832717449064,-2.0383910763151363,-0.17585537557991815,2.446517761496593,-2.285783795424248,2.7778048909620114,-1.547178208231487,0.8723630678231604,2.5025070211141447,2.387580339234491,2.426410301505319,-0.7078451666957264,-0.9977427699027039,1.647900839701796,-2.5981085793403538,1.968692730627767,-1.2656930915347486,1.1845356379223144,2.1525897390945756,1.4256649717170582,2.260891345127593,0.3347137660515491,-1.3549971175249726,0.331877842834154,-1.7056575607225557,-1.8009890162088862,0.26289494716167017,-0.10171886170952149,1.5915447890274024,-2.0458888336837884,-2.6065171510791805,-0.9048434483184558,-2.2886906233385043,-0.2681817432305875,-1.6173800954506117,-1.347871387113923,-2.904997904987974,2.455997925168635,-2.609018530396444,1.6394512483837422,-2.9379748583227108,-0.44013797541370536,0.3673786650027955,-1.148797578347367,1.6518633369826272,2.208193442410975,-1.7797971889609063,0.40338510688403506,-0.13778440132972847,2.6612344939727075,-0.9328080133546139,1.1594646082961262,-0.959660875326537,-0.806499052838455,-2.911695488062444,2.802544239015697,-0.03831552991890197,-0.6411355068203646,-2.2807439388760953,1.5452309804028657,-0.5119975234390806,0.07687839071158997,-2.0947599049711085,-1.176192440088814,1.4555720339908556,0.7241822415494448,-2.8415956991385665,0.7767678677270835,1.1641490942983976,0.17932122778072124,2.625883235709864,-1.3444418333514194,-2.6135274361088254,-2.282475838286075,-1.4420258263831658,-2.832083509299893,-0.9722494750884296,-2.429590887111905,-0.29751128687745654,1.077798374799161,-0.5232092204631646,0.20745738181529472,-2.8703949124182504,-1.3984594300465711,-0.4881355329235757,-1.9034995550611884,-1.9906429718364005,0.13508464259855302,1.8473441971329727,-2.2345470672148373,0.20624978647997594,-0.09582663042236916,2.9682339287136035,0.6320836850528773,-0.02599898033144843,-2.5935679192850625,-2.6309018765409107,-1.8875442777391978,-1.7539993747562432,-1.6665124498220723,-1.2337486016231507,-0.696515029627296,1.959220436310921,1.268279698256979,-1.1433792336114905,0.20821848882312022,2.4166914044650687,2.082805742318852,-1.279175027295255,-0.4657317009494881,-1.2653463482648073,1.1913480836109658,-1.3432755781991284,-2.2296451169149885,0.5390442423272699,1.9052833735587198,-0.5854115705556957,0.5172475429312162,-0.1285910466057434,-1.0899705476328174,-1.9122152148779614,-1.7922306802181698,-2.946058850605719,-1.8527947953394366,-1.419599159523665,1.6500614331807748,-2.3322256860739863,0.7130965785017569,-0.9417597123661845,-1.2366636080222817,-1.9453151142640286,-1.7087126381480577,1.9872810531666723,1.7365875339544026,-2.4910104517531746,-0.7008940435844417,2.8082256738318208,1.4607668198678274,0.07080652128345477,-0.3725444966601268,0.46206518122416806,-2.5149162502145472,0.929394644998117,0.2059966448304298,-1.160297497717006,-1.0376297662371368,0.7710541229543475,-1.1761391105014871,1.8525308145180972,0.07251578098397449,2.4051175513407754,-2.115239217045283,-0.2682676787036469,0.14710658472705163],\"y\":[6.459780032295214,3.805443357767688,12.753931472297754,-0.5183476882039617,0.5852051854869271,3.6691309675770656,5.354410169092339,6.336634827258654,3.8098430389096825,11.703478917252315,1.6293065699153995,2.093123166293271,3.1569201723770774,3.2983493753239523,8.739680123534226,3.1365190419753897,10.688403453574757,2.056370755058234,3.4295411713884674,1.6522743900648904,1.3881365247847652,6.456837490539103,2.39102984173112,3.397603576892754,6.080970920261208,4.09152355242714,3.942080542182873,4.300776438889455,3.4147327948933457,3.019889258814041,2.147251847527906,9.756382320726875,4.798992890401928,1.3882266764388178,7.7728249971326795,2.650874496399456,1.8530523438462803,10.311654543060474,3.4716143205685643,1.912657586489764,1.9061105992489673,1.1121182884391185,2.2364563611022206,3.0140408114976296,12.46127885299942,9.652996399559678,5.719678474665862,3.561643668865085,1.5454687528221531,7.581758699709238,6.2017387825959345,9.21616366538045,2.3450316093452215,2.739611818953874,8.794393801677627,7.666627444724243,7.441114444554999,0.6024261854696509,2.190626095190581,5.454817842853649,6.579996415253188,5.5699555517881745,1.2550295100146496,4.108310349022758,7.736947118696749,3.8937758811674175,9.205492211760367,1.2622642584376491,1.5964614790437142,2.9537028703582946,3.670605051119141,1.6712324957206288,2.4469446256279332,2.5299353929513737,4.559280509190763,2.712607504869733,4.622095566524379,2.5888479688750126,4.642574624927555,2.68436401952179,1.9574662125460265,1.8438577963726812,6.079918951358329,9.319910631001264,5.928814282001026,6.7073353994261735,5.380831804902325,1.7628209773712644,1.9472023232497617,1.6227266121198456,5.460741720708184,8.853395838468256,4.485935482035831,2.293560855599354,1.172929358701645,9.309012984433046,2.7248209573933346,3.268929173176285,0.7726529035992509,-0.4626126942441253,6.265810872605101,10.008783518285,1.8179728557264516,2.738237845299818,3.286452701222743,3.0434981237909526,2.0221310656723754,3.4496754918869112,3.221066703975983,2.1602667287675033,6.512389305467045,4.9588055722745885,7.285814308035608,2.5827854295622923,5.814726723898605,2.9899527431652926,9.3002538117311,2.019948711440589,5.228304800580621,3.6584680450909364,1.179637903867696,5.543656514205405,2.290268142363201,4.978396071702413,1.8946442233135512,4.387902843988216,1.837276077998994,1.4117316588052837,6.7153393036698485,2.204749204402583,2.31932324834409,3.25839718182581,3.137210883718154,1.7406027902445755,7.287214634580815,4.042564398802382,2.3989886169090004,2.040043132460154,11.468388125667976,2.879938635206246,0.6031519282621467,6.0128848259512955,4.85646005368729,2.059325342592766,3.597999297861996,-0.19821847410620874,1.2740854564149209,0.9972541969660541,6.145518065167208,4.656661198945109,1.8138939690578102,3.7234286078729193,9.38513214118985,6.534644906718195,2.6455956213559566,0.10667705134647587,2.5298319328739494,4.350644728549533,2.352986307771529,4.052669713938007,3.0892970508386997,5.7846481183397875,1.5569046079108106,2.4937673354102565,2.2894382088078196,3.6961194101475954,3.2379344889038357,2.607850313571489,5.662263190666035,2.7647745871957614,2.6672542405250943,6.061487357955416,4.084068303313666,3.0838043694054957,0.2078876896151618,2.4903961073392336,1.7230216633422906,3.19153604701901,5.317957684861523,7.777173178003528,6.169345319023922,0.5683508994907098,10.560708893459786,4.5160324571296,0.12827772234284085,3.117289035946781,2.212422285437122,5.5958909787435145,1.3908043884020884,0.929206807597803,1.7533462725838158,-0.941759017789146,2.1868276683743977,1.9441221720524333,6.653575915801765,-0.11606703554542142,8.425111268522668,3.7718403638155165,0.04203674106517008,0.7754610850506227],\"type\":\"scatter\"}],                        {\"template\":{\"data\":{\"histogram2dcontour\":[{\"type\":\"histogram2dcontour\",\"colorbar\":{\"outlinewidth\":0,\"ticks\":\"\"},\"colorscale\":[[0.0,\"#0d0887\"],[0.1111111111111111,\"#46039f\"],[0.2222222222222222,\"#7201a8\"],[0.3333333333333333,\"#9c179e\"],[0.4444444444444444,\"#bd3786\"],[0.5555555555555556,\"#d8576b\"],[0.6666666666666666,\"#ed7953\"],[0.7777777777777778,\"#fb9f3a\"],[0.8888888888888888,\"#fdca26\"],[1.0,\"#f0f921\"]]}],\"choropleth\":[{\"type\":\"choropleth\",\"colorbar\":{\"outlinewidth\":0,\"ticks\":\"\"}}],\"histogram2d\":[{\"type\":\"histogram2d\",\"colorbar\":{\"outlinewidth\":0,\"ticks\":\"\"},\"colorscale\":[[0.0,\"#0d0887\"],[0.1111111111111111,\"#46039f\"],[0.2222222222222222,\"#7201a8\"],[0.3333333333333333,\"#9c179e\"],[0.4444444444444444,\"#bd3786\"],[0.5555555555555556,\"#d8576b\"],[0.6666666666666666,\"#ed7953\"],[0.7777777777777778,\"#fb9f3a\"],[0.8888888888888888,\"#fdca26\"],[1.0,\"#f0f921\"]]}],\"heatmap\":[{\"type\":\"heatmap\",\"colorbar\":{\"outlinewidth\":0,\"ticks\":\"\"},\"colorscale\":[[0.0,\"#0d0887\"],[0.1111111111111111,\"#46039f\"],[0.2222222222222222,\"#7201a8\"],[0.3333333333333333,\"#9c179e\"],[0.4444444444444444,\"#bd3786\"],[0.5555555555555556,\"#d8576b\"],[0.6666666666666666,\"#ed7953\"],[0.7777777777777778,\"#fb9f3a\"],[0.8888888888888888,\"#fdca26\"],[1.0,\"#f0f921\"]]}],\"heatmapgl\":[{\"type\":\"heatmapgl\",\"colorbar\":{\"outlinewidth\":0,\"ticks\":\"\"},\"colorscale\":[[0.0,\"#0d0887\"],[0.1111111111111111,\"#46039f\"],[0.2222222222222222,\"#7201a8\"],[0.3333333333333333,\"#9c179e\"],[0.4444444444444444,\"#bd3786\"],[0.5555555555555556,\"#d8576b\"],[0.6666666666666666,\"#ed7953\"],[0.7777777777777778,\"#fb9f3a\"],[0.8888888888888888,\"#fdca26\"],[1.0,\"#f0f921\"]]}],\"contourcarpet\":[{\"type\":\"contourcarpet\",\"colorbar\":{\"outlinewidth\":0,\"ticks\":\"\"}}],\"contour\":[{\"type\":\"contour\",\"colorbar\":{\"outlinewidth\":0,\"ticks\":\"\"},\"colorscale\":[[0.0,\"#0d0887\"],[0.1111111111111111,\"#46039f\"],[0.2222222222222222,\"#7201a8\"],[0.3333333333333333,\"#9c179e\"],[0.4444444444444444,\"#bd3786\"],[0.5555555555555556,\"#d8576b\"],[0.6666666666666666,\"#ed7953\"],[0.7777777777777778,\"#fb9f3a\"],[0.8888888888888888,\"#fdca26\"],[1.0,\"#f0f921\"]]}],\"surface\":[{\"type\":\"surface\",\"colorbar\":{\"outlinewidth\":0,\"ticks\":\"\"},\"colorscale\":[[0.0,\"#0d0887\"],[0.1111111111111111,\"#46039f\"],[0.2222222222222222,\"#7201a8\"],[0.3333333333333333,\"#9c179e\"],[0.4444444444444444,\"#bd3786\"],[0.5555555555555556,\"#d8576b\"],[0.6666666666666666,\"#ed7953\"],[0.7777777777777778,\"#fb9f3a\"],[0.8888888888888888,\"#fdca26\"],[1.0,\"#f0f921\"]]}],\"mesh3d\":[{\"type\":\"mesh3d\",\"colorbar\":{\"outlinewidth\":0,\"ticks\":\"\"}}],\"scatter\":[{\"fillpattern\":{\"fillmode\":\"overlay\",\"size\":10,\"solidity\":0.2},\"type\":\"scatter\"}],\"parcoords\":[{\"type\":\"parcoords\",\"line\":{\"colorbar\":{\"outlinewidth\":0,\"ticks\":\"\"}}}],\"scatterpolargl\":[{\"type\":\"scatterpolargl\",\"marker\":{\"colorbar\":{\"outlinewidth\":0,\"ticks\":\"\"}}}],\"bar\":[{\"error_x\":{\"color\":\"#2a3f5f\"},\"error_y\":{\"color\":\"#2a3f5f\"},\"marker\":{\"line\":{\"color\":\"#E5ECF6\",\"width\":0.5},\"pattern\":{\"fillmode\":\"overlay\",\"size\":10,\"solidity\":0.2}},\"type\":\"bar\"}],\"scattergeo\":[{\"type\":\"scattergeo\",\"marker\":{\"colorbar\":{\"outlinewidth\":0,\"ticks\":\"\"}}}],\"scatterpolar\":[{\"type\":\"scatterpolar\",\"marker\":{\"colorbar\":{\"outlinewidth\":0,\"ticks\":\"\"}}}],\"histogram\":[{\"marker\":{\"pattern\":{\"fillmode\":\"overlay\",\"size\":10,\"solidity\":0.2}},\"type\":\"histogram\"}],\"scattergl\":[{\"type\":\"scattergl\",\"marker\":{\"colorbar\":{\"outlinewidth\":0,\"ticks\":\"\"}}}],\"scatter3d\":[{\"type\":\"scatter3d\",\"line\":{\"colorbar\":{\"outlinewidth\":0,\"ticks\":\"\"}},\"marker\":{\"colorbar\":{\"outlinewidth\":0,\"ticks\":\"\"}}}],\"scattermapbox\":[{\"type\":\"scattermapbox\",\"marker\":{\"colorbar\":{\"outlinewidth\":0,\"ticks\":\"\"}}}],\"scatterternary\":[{\"type\":\"scatterternary\",\"marker\":{\"colorbar\":{\"outlinewidth\":0,\"ticks\":\"\"}}}],\"scattercarpet\":[{\"type\":\"scattercarpet\",\"marker\":{\"colorbar\":{\"outlinewidth\":0,\"ticks\":\"\"}}}],\"carpet\":[{\"aaxis\":{\"endlinecolor\":\"#2a3f5f\",\"gridcolor\":\"white\",\"linecolor\":\"white\",\"minorgridcolor\":\"white\",\"startlinecolor\":\"#2a3f5f\"},\"baxis\":{\"endlinecolor\":\"#2a3f5f\",\"gridcolor\":\"white\",\"linecolor\":\"white\",\"minorgridcolor\":\"white\",\"startlinecolor\":\"#2a3f5f\"},\"type\":\"carpet\"}],\"table\":[{\"cells\":{\"fill\":{\"color\":\"#EBF0F8\"},\"line\":{\"color\":\"white\"}},\"header\":{\"fill\":{\"color\":\"#C8D4E3\"},\"line\":{\"color\":\"white\"}},\"type\":\"table\"}],\"barpolar\":[{\"marker\":{\"line\":{\"color\":\"#E5ECF6\",\"width\":0.5},\"pattern\":{\"fillmode\":\"overlay\",\"size\":10,\"solidity\":0.2}},\"type\":\"barpolar\"}],\"pie\":[{\"automargin\":true,\"type\":\"pie\"}]},\"layout\":{\"autotypenumbers\":\"strict\",\"colorway\":[\"#636efa\",\"#EF553B\",\"#00cc96\",\"#ab63fa\",\"#FFA15A\",\"#19d3f3\",\"#FF6692\",\"#B6E880\",\"#FF97FF\",\"#FECB52\"],\"font\":{\"color\":\"#2a3f5f\"},\"hovermode\":\"closest\",\"hoverlabel\":{\"align\":\"left\"},\"paper_bgcolor\":\"white\",\"plot_bgcolor\":\"#E5ECF6\",\"polar\":{\"bgcolor\":\"#E5ECF6\",\"angularaxis\":{\"gridcolor\":\"white\",\"linecolor\":\"white\",\"ticks\":\"\"},\"radialaxis\":{\"gridcolor\":\"white\",\"linecolor\":\"white\",\"ticks\":\"\"}},\"ternary\":{\"bgcolor\":\"#E5ECF6\",\"aaxis\":{\"gridcolor\":\"white\",\"linecolor\":\"white\",\"ticks\":\"\"},\"baxis\":{\"gridcolor\":\"white\",\"linecolor\":\"white\",\"ticks\":\"\"},\"caxis\":{\"gridcolor\":\"white\",\"linecolor\":\"white\",\"ticks\":\"\"}},\"coloraxis\":{\"colorbar\":{\"outlinewidth\":0,\"ticks\":\"\"}},\"colorscale\":{\"sequential\":[[0.0,\"#0d0887\"],[0.1111111111111111,\"#46039f\"],[0.2222222222222222,\"#7201a8\"],[0.3333333333333333,\"#9c179e\"],[0.4444444444444444,\"#bd3786\"],[0.5555555555555556,\"#d8576b\"],[0.6666666666666666,\"#ed7953\"],[0.7777777777777778,\"#fb9f3a\"],[0.8888888888888888,\"#fdca26\"],[1.0,\"#f0f921\"]],\"sequentialminus\":[[0.0,\"#0d0887\"],[0.1111111111111111,\"#46039f\"],[0.2222222222222222,\"#7201a8\"],[0.3333333333333333,\"#9c179e\"],[0.4444444444444444,\"#bd3786\"],[0.5555555555555556,\"#d8576b\"],[0.6666666666666666,\"#ed7953\"],[0.7777777777777778,\"#fb9f3a\"],[0.8888888888888888,\"#fdca26\"],[1.0,\"#f0f921\"]],\"diverging\":[[0,\"#8e0152\"],[0.1,\"#c51b7d\"],[0.2,\"#de77ae\"],[0.3,\"#f1b6da\"],[0.4,\"#fde0ef\"],[0.5,\"#f7f7f7\"],[0.6,\"#e6f5d0\"],[0.7,\"#b8e186\"],[0.8,\"#7fbc41\"],[0.9,\"#4d9221\"],[1,\"#276419\"]]},\"xaxis\":{\"gridcolor\":\"white\",\"linecolor\":\"white\",\"ticks\":\"\",\"title\":{\"standoff\":15},\"zerolinecolor\":\"white\",\"automargin\":true,\"zerolinewidth\":2},\"yaxis\":{\"gridcolor\":\"white\",\"linecolor\":\"white\",\"ticks\":\"\",\"title\":{\"standoff\":15},\"zerolinecolor\":\"white\",\"automargin\":true,\"zerolinewidth\":2},\"scene\":{\"xaxis\":{\"backgroundcolor\":\"#E5ECF6\",\"gridcolor\":\"white\",\"linecolor\":\"white\",\"showbackground\":true,\"ticks\":\"\",\"zerolinecolor\":\"white\",\"gridwidth\":2},\"yaxis\":{\"backgroundcolor\":\"#E5ECF6\",\"gridcolor\":\"white\",\"linecolor\":\"white\",\"showbackground\":true,\"ticks\":\"\",\"zerolinecolor\":\"white\",\"gridwidth\":2},\"zaxis\":{\"backgroundcolor\":\"#E5ECF6\",\"gridcolor\":\"white\",\"linecolor\":\"white\",\"showbackground\":true,\"ticks\":\"\",\"zerolinecolor\":\"white\",\"gridwidth\":2}},\"shapedefaults\":{\"line\":{\"color\":\"#2a3f5f\"}},\"annotationdefaults\":{\"arrowcolor\":\"#2a3f5f\",\"arrowhead\":0,\"arrowwidth\":1},\"geo\":{\"bgcolor\":\"white\",\"landcolor\":\"#E5ECF6\",\"subunitcolor\":\"white\",\"showland\":true,\"showlakes\":true,\"lakecolor\":\"white\"},\"title\":{\"x\":0.05},\"mapbox\":{\"style\":\"light\"}}},\"xaxis\":{\"title\":{\"text\":\"X\"}},\"yaxis\":{\"title\":{\"text\":\"y\"}}},                        {\"responsive\": true}                    ).then(function(){\n",
       "                            \n",
       "var gd = document.getElementById('d03019f8-5161-4f60-bcb6-39f359f5f71f');\n",
       "var x = new MutationObserver(function (mutations, observer) {{\n",
       "        var display = window.getComputedStyle(gd).display;\n",
       "        if (!display || display === 'none') {{\n",
       "            console.log([gd, 'removed!']);\n",
       "            Plotly.purge(gd);\n",
       "            observer.disconnect();\n",
       "        }}\n",
       "}});\n",
       "\n",
       "// Listen for the removal of the full notebook cells\n",
       "var notebookContainer = gd.closest('#notebook-container');\n",
       "if (notebookContainer) {{\n",
       "    x.observe(notebookContainer, {childList: true});\n",
       "}}\n",
       "\n",
       "// Listen for the clearing of the current output cell\n",
       "var outputEl = gd.closest('.output');\n",
       "if (outputEl) {{\n",
       "    x.observe(outputEl, {childList: true});\n",
       "}}\n",
       "\n",
       "                        })                };                });            </script>        </div>"
      ]
     },
     "metadata": {},
     "output_type": "display_data"
    }
   ],
   "source": [
    "fig = go.Figure()\n",
    "fig.add_trace(go.Scatter(x=X.ravel(),y=y.ravel(),mode = 'markers'))\n",
    "fig.update_layout(\n",
    "    xaxis_title = 'X',\n",
    "    yaxis_title = 'y'\n",
    ")\n",
    "fig.show()"
   ]
  },
  {
   "cell_type": "code",
   "execution_count": 17,
   "id": "b040ecb0-482c-45e1-977c-014e07c64da4",
   "metadata": {},
   "outputs": [],
   "source": [
    "X_train,X_test,y_train,y_test = train_test_split(X,y,test_sXize = 0.2,random_state = 2)"
   ]
  },
  {
   "cell_type": "code",
   "execution_count": 18,
   "id": "9852f57d-af47-4dd4-8833-41ad4ec2773a",
   "metadata": {},
   "outputs": [
    {
     "name": "stdout",
     "output_type": "stream",
     "text": [
      "(160, 1)\n",
      "(40, 1)\n",
      "(160, 1)\n",
      "(40, 1)\n"
     ]
    }
   ],
   "source": [
    "print(X_train.shape)\n",
    "print(X_test.shape)\n",
    "print(y_train.shape)\n",
    "print(y_test.shape)"
   ]
  },
  {
   "cell_type": "code",
   "execution_count": 19,
   "id": "9fd7357b-d141-4f40-a0f1-2d8a8167d6ce",
   "metadata": {},
   "outputs": [
    {
     "name": "stdout",
     "output_type": "stream",
     "text": [
      "R2 Score of lr 0.2771949904382832\n"
     ]
    }
   ],
   "source": [
    "lr = LinearRegression()\n",
    "lr.fit(X_train,y_train)\n",
    "predict = lr.predict(X_test)\n",
    "print('R2 Score of lr', r2_score(y_test,predict))"
   ]
  },
  {
   "cell_type": "code",
   "execution_count": 24,
   "id": "00f54111-881f-4694-8786-5b6407621cc4",
   "metadata": {},
   "outputs": [
    {
     "data": {
      "application/vnd.plotly.v1+json": {
       "config": {
        "plotlyServerURL": "https://plot.ly"
       },
       "data": [
        {
         "mode": "lines",
         "type": "scatter",
         "x": [
          -0.09582663042236916,
          0.5172475429312162,
          0.7241822415494448,
          -2.429590887111905,
          -1.176192440088814,
          -2.5935679192850625,
          -1.4604087205655234,
          -0.4881355329235757,
          -0.02599898033144843,
          0.9438622005312856,
          -2.2296451169149885,
          -2.911695488062444,
          -1.4671025589082862,
          -2.5149162502145472,
          1.8200207529986203,
          -1.148797578347367,
          2.260891345127593,
          -1.2175881189535378,
          -2.3322256860739863,
          -1.2366636080222817,
          0.9097609661741064,
          0.13508464259855302,
          -0.13778440132972847,
          -0.8385791015513133,
          -1.8527947953394366,
          -2.904997904987974,
          0.07080652128345477,
          -0.5119975234390806,
          -2.0947599049711085,
          -1.8875442777391978,
          -2.4910104517531746,
          -1.9122152148779614,
          -1.2337486016231507,
          -0.2681817432305875,
          -0.8891327243695093,
          -2.282475838286075,
          0.7710541229543475,
          1.268279698256979,
          0.5390442423272699,
          0.929394644998117,
          -0.696515029627296,
          0.06148493145136147,
          1.6500614331807748,
          1.7365875339544026,
          -1.2656930915347486,
          1.5902950231190474,
          -2.0083942062219657,
          1.1913480836109658,
          -0.959660875326537,
          -2.6135274361088254,
          0.31973186310824797,
          -1.3432755781991284,
          -1.2653463482648073,
          -2.6309018765409107,
          -0.9048434483184558,
          -1.2601416201233762,
          -1.279175027295255,
          -1.8288604978531842,
          1.647900839701796,
          -0.7008940435844417,
          1.1641490942983976,
          0.20745738181529472,
          0.6320836850528773,
          -1.0376297662371368,
          0.40338510688403506,
          0.20821848882312022,
          -2.6662113123552134,
          2.387580339234491,
          2.6520372458963646,
          2.4166914044650687,
          2.208193442410975,
          -0.806499052838455,
          -1.4420258263831658,
          -2.115239217045283,
          1.5915447890274024,
          -1.160297497717006,
          1.9052833735587198,
          -1.7539993747562432,
          2.4051175513407754,
          -0.44013797541370536,
          1.6518633369826272,
          -2.609018530396444,
          0.8033453819089065,
          1.1594646082961262,
          2.802544239015697,
          1.077798374799161,
          -0.1285910466057434,
          -2.2345470672148373,
          1.968692730627767,
          -1.347871387113923,
          -1.3549971175249726,
          -1.3984594300465711,
          2.426410301505319,
          -0.5877460652851445,
          -2.9379748583227108,
          -1.7056575607225557,
          -2.5981085793403538,
          -2.9166086172914256,
          -0.33882965471224846,
          2.9682339287136035,
          -2.6065171510791805,
          2.082805742318852,
          -2.0347198116343455,
          -2.485665016107003,
          0.07251578098397449,
          -0.9328080133546139,
          2.455997925168635,
          1.4555720339908556,
          1.5452309804028657,
          -0.10171886170952149,
          -1.3444418333514194,
          -1.1433792336114905,
          -1.6665124498220723,
          -0.4657317009494881,
          -0.2682676787036469,
          0.20624978647997594,
          -1.9954334389827035,
          2.446517761496593,
          0.46206518122416806,
          -1.9906429718364005,
          -2.285783795424248,
          -1.547178208231487,
          -1.6173800954506117,
          -0.3725444966601268,
          -2.832083509299893,
          0.2059966448304298,
          1.8770832717449064,
          0.3673786650027955,
          0.331877842834154,
          0.3347137660515491,
          1.4607668198678274,
          -0.9977427699027039,
          -0.8832858339765224,
          -0.6745896399751703,
          -0.6411355068203646,
          2.7778048909620114,
          0.07687839071158997,
          -1.419599159523665,
          -0.5289806064266771,
          -0.03831552991890197,
          -1.7922306802181698,
          2.6990077704999598,
          2.625883235709864,
          -0.29751128687745654,
          1.959220436310921,
          2.1479322440139823,
          1.1845356379223144,
          -2.0383910763151363,
          1.8525308145180972,
          2.6612344939727075,
          -1.7087126381480577,
          -0.5854115705556957,
          -2.995264148289034,
          -2.2807439388760953,
          -2.0458888336837884,
          0.3550233939949221,
          0.6012184589858682,
          0.26289494716167017,
          0.9367866497460771,
          -2.946058850605719
         ],
         "y": [
          3.9617637536023125,
          4.3649109818165766,
          4.500987746742014,
          2.427119770406367,
          3.251333432843574,
          2.3192912418454634,
          3.06443760413694,
          3.703788041166087,
          4.007681237669342,
          4.64544557975315,
          2.5586007339692594,
          2.110095922346699,
          3.060035849029173,
          2.371011251851359,
          5.221592655026716,
          3.2693478315222277,
          5.511501714881157,
          3.224112333146823,
          2.4911454831651443,
          3.2115686135136357,
          4.623021183640393,
          4.1136071091502915,
          3.9341730316659715,
          3.4733422656329767,
          2.806411144516786,
          2.114500139926829,
          4.071338901534805,
          3.68809679897368,
          2.6472989725931626,
          2.783560471433116,
          2.386731301409527,
          2.7673372795956013,
          3.2134854725188164,
          3.848425940630838,
          3.440099056570913,
          2.523860143334348,
          4.531809904795434,
          4.858777050359545,
          4.379244123429231,
          4.635931959434864,
          3.566761201406622,
          4.065209181401918,
          5.109830275086714,
          5.166728378466707,
          3.1924793151494177,
          5.070528892637504,
          2.7040915983093075,
          4.8081881191101115,
          3.393720934958205,
          2.3061662004822296,
          4.2350280046656845,
          3.1414623814468854,
          3.192707327670993,
          2.29474106172022,
          3.4297679496860627,
          3.1961298690453077,
          3.1836138217571914,
          2.8221499345526753,
          5.108409505283962,
          3.563881635742523,
          4.790302522834525,
          4.161198200867469,
          4.440425290537042,
          3.3424499083455412,
          4.2900369657753386,
          4.161698691988961,
          2.271522172722696,
          5.5948102590008135,
          5.768712657008637,
          5.6139532041258295,
          5.476848463551556,
          3.494437564181964,
          3.0765258850632664,
          2.6338321226469708,
          5.071350717603828,
          3.2617856786538444,
          5.27765991514479,
          2.8713773455076175,
          5.606342433668326,
          3.735350424825656,
          5.111015176612172,
          2.3091311807721064,
          4.553044091634311,
          4.787222083909665,
          5.867683515250821,
          4.733519747220281,
          3.9402184265562687,
          2.55537729419293,
          5.319356838056092,
          3.1384402550779553,
          3.1337544950360625,
          3.105174411929611,
          5.620344186772584,
          3.638285836428206,
          2.0928150520374995,
          2.903166106446484,
          2.3163053804356757,
          2.1068651314952636,
          3.8019690665185895,
          5.9766382584917634,
          2.3107760455899333,
          5.394395628411252,
          2.6867803245444897,
          2.3902463696639336,
          4.072462881862982,
          3.4113789237369256,
          5.639800508679058,
          4.9819373289990105,
          5.040895538790971,
          3.9578891217638534,
          3.1406954717441575,
          3.272910843563379,
          2.9289072706376698,
          3.7185204229141635,
          3.8483694309142735,
          4.16040410655817,
          2.712614380078856,
          5.633566513065616,
          4.328623992190473,
          2.7157645104151564,
          2.5216848865558554,
          3.007379453644715,
          2.961215877558992,
          3.779798755532206,
          2.162447415796848,
          4.160237644882249,
          5.259116004186332,
          4.26635973735308,
          4.243014995919387,
          4.244879851159116,
          4.985353332508034,
          3.368678923875682,
          3.4439438730026857,
          3.581178967559486,
          3.603177840844093,
          5.851415337550374,
          4.075331660382632,
          3.091273282646557,
          3.6769290102613774,
          3.9995820825537636,
          2.84623708434855,
          5.799599681164502,
          5.751514221367972,
          3.8291393277870034,
          5.313128017197798,
          5.437221716644691,
          4.803708369813681,
          2.6843661628583018,
          5.242970722739076,
          5.774760612101728,
          2.901157139098645,
          3.639820960757959,
          2.055142581951297,
          2.5249990111533265,
          2.6794357641685953,
          4.25823511968502,
          4.420128838854768,
          4.197653008099168,
          4.640792816986219,
          2.087499155163272
         ]
        },
        {
         "mode": "markers",
         "type": "scatter",
         "x": [
          -0.09582663042236916,
          0.5172475429312162,
          0.7241822415494448,
          -2.429590887111905,
          -1.176192440088814,
          -2.5935679192850625,
          -1.4604087205655234,
          -0.4881355329235757,
          -0.02599898033144843,
          0.9438622005312856,
          -2.2296451169149885,
          -2.911695488062444,
          -1.4671025589082862,
          -2.5149162502145472,
          1.8200207529986203,
          -1.148797578347367,
          2.260891345127593,
          -1.2175881189535378,
          -2.3322256860739863,
          -1.2366636080222817,
          0.9097609661741064,
          0.13508464259855302,
          -0.13778440132972847,
          -0.8385791015513133,
          -1.8527947953394366,
          -2.904997904987974,
          0.07080652128345477,
          -0.5119975234390806,
          -2.0947599049711085,
          -1.8875442777391978,
          -2.4910104517531746,
          -1.9122152148779614,
          -1.2337486016231507,
          -0.2681817432305875,
          -0.8891327243695093,
          -2.282475838286075,
          0.7710541229543475,
          1.268279698256979,
          0.5390442423272699,
          0.929394644998117,
          -0.696515029627296,
          0.06148493145136147,
          1.6500614331807748,
          1.7365875339544026,
          -1.2656930915347486,
          1.5902950231190474,
          -2.0083942062219657,
          1.1913480836109658,
          -0.959660875326537,
          -2.6135274361088254,
          0.31973186310824797,
          -1.3432755781991284,
          -1.2653463482648073,
          -2.6309018765409107,
          -0.9048434483184558,
          -1.2601416201233762,
          -1.279175027295255,
          -1.8288604978531842,
          1.647900839701796,
          -0.7008940435844417,
          1.1641490942983976,
          0.20745738181529472,
          0.6320836850528773,
          -1.0376297662371368,
          0.40338510688403506,
          0.20821848882312022,
          -2.6662113123552134,
          2.387580339234491,
          2.6520372458963646,
          2.4166914044650687,
          2.208193442410975,
          -0.806499052838455,
          -1.4420258263831658,
          -2.115239217045283,
          1.5915447890274024,
          -1.160297497717006,
          1.9052833735587198,
          -1.7539993747562432,
          2.4051175513407754,
          -0.44013797541370536,
          1.6518633369826272,
          -2.609018530396444,
          0.8033453819089065,
          1.1594646082961262,
          2.802544239015697,
          1.077798374799161,
          -0.1285910466057434,
          -2.2345470672148373,
          1.968692730627767,
          -1.347871387113923,
          -1.3549971175249726,
          -1.3984594300465711,
          2.426410301505319,
          -0.5877460652851445,
          -2.9379748583227108,
          -1.7056575607225557,
          -2.5981085793403538,
          -2.9166086172914256,
          -0.33882965471224846,
          2.9682339287136035,
          -2.6065171510791805,
          2.082805742318852,
          -2.0347198116343455,
          -2.485665016107003,
          0.07251578098397449,
          -0.9328080133546139,
          2.455997925168635,
          1.4555720339908556,
          1.5452309804028657,
          -0.10171886170952149,
          -1.3444418333514194,
          -1.1433792336114905,
          -1.6665124498220723,
          -0.4657317009494881,
          -0.2682676787036469,
          0.20624978647997594,
          -1.9954334389827035,
          2.446517761496593,
          0.46206518122416806,
          -1.9906429718364005,
          -2.285783795424248,
          -1.547178208231487,
          -1.6173800954506117,
          -0.3725444966601268,
          -2.832083509299893,
          0.2059966448304298,
          1.8770832717449064,
          0.3673786650027955,
          0.331877842834154,
          0.3347137660515491,
          1.4607668198678274,
          -0.9977427699027039,
          -0.8832858339765224,
          -0.6745896399751703,
          -0.6411355068203646,
          2.7778048909620114,
          0.07687839071158997,
          -1.419599159523665,
          -0.5289806064266771,
          -0.03831552991890197,
          -1.7922306802181698,
          2.6990077704999598,
          2.625883235709864,
          -0.29751128687745654,
          1.959220436310921,
          2.1479322440139823,
          1.1845356379223144,
          -2.0383910763151363,
          1.8525308145180972,
          2.6612344939727075,
          -1.7087126381480577,
          -0.5854115705556957,
          -2.995264148289034,
          -2.2807439388760953,
          -2.0458888336837884,
          0.3550233939949221,
          0.6012184589858682,
          0.26289494716167017,
          0.9367866497460771,
          -2.946058850605719
         ],
         "y": [
          2.040043132460154,
          2.4937673354102565,
          4.9588055722745885,
          4.978396071702413,
          2.1602667287675033,
          6.0128848259512955,
          1.1121182884391185,
          2.31932324834409,
          0.6031519282621467,
          3.6691309675770656,
          4.052669713938007,
          6.265810872605101,
          2.093123166293271,
          5.5958909787435145,
          6.080970920261208,
          1.6227266121198456,
          9.205492211760367,
          3.8098430389096825,
          4.084068303313666,
          2.4903961073392336,
          3.4147327948933457,
          1.7406027902445755,
          1.172929358701645,
          2.2364563611022206,
          2.7647745871957614,
          6.079918951358329,
          0.12827772234284085,
          2.0221310656723754,
          3.221066703975983,
          2.059325342592766,
          6.169345319023922,
          3.2379344889038357,
          1.2740854564149209,
          2.68436401952179,
          3.805443357767688,
          3.6584680450909364,
          2.1868276683743977,
          4.656661198945109,
          3.0892970508386997,
          1.3908043884020884,
          0.9972541969660541,
          1.8530523438462803,
          6.061487357955416,
          7.777173178003528,
          1.2550295100146496,
          6.459780032295214,
          4.300776438889455,
          4.350644728549533,
          0.7726529035992509,
          5.228304800580621,
          1.3881365247847652,
          2.352986307771529,
          2.5298319328739494,
          4.85646005368729,
          2.5888479688750126,
          2.147251847527906,
          2.6455956213559566,
          2.056370755058234,
          5.454817842853649,
          0.5683508994907098,
          5.814726723898605,
          1.4117316588052837,
          2.879938635206246,
          -0.941759017789146,
          2.293560855599354,
          3.7234286078729193,
          6.456837490539103,
          7.666627444724243,
          10.688403453574757,
          9.38513214118985,
          8.853395838468256,
          -0.4626126942441253,
          1.179637903867696,
          3.7718403638155165,
          4.559280509190763,
          1.7533462725838158,
          5.7846481183397875,
          3.597999297861996,
          8.425111268522668,
          1.7628209773712644,
          5.460741720708184,
          5.928814282001026,
          3.4295411713884674,
          3.268929173176285,
          10.008783518285,
          4.387902843988216,
          2.2894382088078196,
          4.042564398802382,
          5.5699555517881745,
          1.8438577963726812,
          1.5964614790437142,
          2.204749204402583,
          7.441114444554999,
          1.6522743900648904,
          5.380831804902325,
          3.670605051119141,
          6.579996415253188,
          7.7728249971326795,
          1.9061105992489673,
          11.468388125667976,
          4.622095566524379,
          6.534644906718195,
          3.942080542182873,
          4.798992890401928,
          -0.11606703554542142,
          2.7248209573933346,
          9.319910631001264,
          6.512389305467045,
          3.0434981237909526,
          2.5299353929513737,
          2.019948711440589,
          1.8138939690578102,
          -0.19821847410620874,
          0.10667705134647587,
          0.04203674106517008,
          2.3989886169090004,
          1.912657586489764,
          7.581758699709238,
          2.212422285437122,
          3.137210883718154,
          6.2017387825959345,
          2.3450316093452215,
          1.9574662125460265,
          3.117289035946781,
          5.543656514205405,
          0.929206807597803,
          5.719678474665862,
          1.9472023232497617,
          2.9537028703582946,
          1.2622642584376491,
          4.5160324571296,
          2.190626095190581,
          1.3882266764388178,
          3.4716143205685643,
          2.738237845299818,
          9.21616366538045,
          3.4496754918869112,
          2.6672542405250943,
          0.5852051854869271,
          1.8179728557264516,
          2.607850313571489,
          10.311654543060474,
          9.3002538117311,
          1.8946442233135512,
          6.145518065167208,
          9.756382320726875,
          4.108310349022758,
          3.561643668865085,
          6.653575915801765,
          9.309012984433046,
          3.19153604701901,
          1.5569046079108106,
          6.336634827258654,
          3.286452701222743,
          2.712607504869733,
          3.0140408114976296,
          2.39102984173112,
          2.4469446256279332,
          3.1365190419753897,
          5.662263190666035
         ]
        }
       ],
       "layout": {
        "autosize": true,
        "template": {
         "data": {
          "bar": [
           {
            "error_x": {
             "color": "#2a3f5f"
            },
            "error_y": {
             "color": "#2a3f5f"
            },
            "marker": {
             "line": {
              "color": "#E5ECF6",
              "width": 0.5
             },
             "pattern": {
              "fillmode": "overlay",
              "size": 10,
              "solidity": 0.2
             }
            },
            "type": "bar"
           }
          ],
          "barpolar": [
           {
            "marker": {
             "line": {
              "color": "#E5ECF6",
              "width": 0.5
             },
             "pattern": {
              "fillmode": "overlay",
              "size": 10,
              "solidity": 0.2
             }
            },
            "type": "barpolar"
           }
          ],
          "carpet": [
           {
            "aaxis": {
             "endlinecolor": "#2a3f5f",
             "gridcolor": "white",
             "linecolor": "white",
             "minorgridcolor": "white",
             "startlinecolor": "#2a3f5f"
            },
            "baxis": {
             "endlinecolor": "#2a3f5f",
             "gridcolor": "white",
             "linecolor": "white",
             "minorgridcolor": "white",
             "startlinecolor": "#2a3f5f"
            },
            "type": "carpet"
           }
          ],
          "choropleth": [
           {
            "colorbar": {
             "outlinewidth": 0,
             "ticks": ""
            },
            "type": "choropleth"
           }
          ],
          "contour": [
           {
            "colorbar": {
             "outlinewidth": 0,
             "ticks": ""
            },
            "colorscale": [
             [
              0,
              "#0d0887"
             ],
             [
              0.1111111111111111,
              "#46039f"
             ],
             [
              0.2222222222222222,
              "#7201a8"
             ],
             [
              0.3333333333333333,
              "#9c179e"
             ],
             [
              0.4444444444444444,
              "#bd3786"
             ],
             [
              0.5555555555555556,
              "#d8576b"
             ],
             [
              0.6666666666666666,
              "#ed7953"
             ],
             [
              0.7777777777777778,
              "#fb9f3a"
             ],
             [
              0.8888888888888888,
              "#fdca26"
             ],
             [
              1,
              "#f0f921"
             ]
            ],
            "type": "contour"
           }
          ],
          "contourcarpet": [
           {
            "colorbar": {
             "outlinewidth": 0,
             "ticks": ""
            },
            "type": "contourcarpet"
           }
          ],
          "heatmap": [
           {
            "colorbar": {
             "outlinewidth": 0,
             "ticks": ""
            },
            "colorscale": [
             [
              0,
              "#0d0887"
             ],
             [
              0.1111111111111111,
              "#46039f"
             ],
             [
              0.2222222222222222,
              "#7201a8"
             ],
             [
              0.3333333333333333,
              "#9c179e"
             ],
             [
              0.4444444444444444,
              "#bd3786"
             ],
             [
              0.5555555555555556,
              "#d8576b"
             ],
             [
              0.6666666666666666,
              "#ed7953"
             ],
             [
              0.7777777777777778,
              "#fb9f3a"
             ],
             [
              0.8888888888888888,
              "#fdca26"
             ],
             [
              1,
              "#f0f921"
             ]
            ],
            "type": "heatmap"
           }
          ],
          "heatmapgl": [
           {
            "colorbar": {
             "outlinewidth": 0,
             "ticks": ""
            },
            "colorscale": [
             [
              0,
              "#0d0887"
             ],
             [
              0.1111111111111111,
              "#46039f"
             ],
             [
              0.2222222222222222,
              "#7201a8"
             ],
             [
              0.3333333333333333,
              "#9c179e"
             ],
             [
              0.4444444444444444,
              "#bd3786"
             ],
             [
              0.5555555555555556,
              "#d8576b"
             ],
             [
              0.6666666666666666,
              "#ed7953"
             ],
             [
              0.7777777777777778,
              "#fb9f3a"
             ],
             [
              0.8888888888888888,
              "#fdca26"
             ],
             [
              1,
              "#f0f921"
             ]
            ],
            "type": "heatmapgl"
           }
          ],
          "histogram": [
           {
            "marker": {
             "pattern": {
              "fillmode": "overlay",
              "size": 10,
              "solidity": 0.2
             }
            },
            "type": "histogram"
           }
          ],
          "histogram2d": [
           {
            "colorbar": {
             "outlinewidth": 0,
             "ticks": ""
            },
            "colorscale": [
             [
              0,
              "#0d0887"
             ],
             [
              0.1111111111111111,
              "#46039f"
             ],
             [
              0.2222222222222222,
              "#7201a8"
             ],
             [
              0.3333333333333333,
              "#9c179e"
             ],
             [
              0.4444444444444444,
              "#bd3786"
             ],
             [
              0.5555555555555556,
              "#d8576b"
             ],
             [
              0.6666666666666666,
              "#ed7953"
             ],
             [
              0.7777777777777778,
              "#fb9f3a"
             ],
             [
              0.8888888888888888,
              "#fdca26"
             ],
             [
              1,
              "#f0f921"
             ]
            ],
            "type": "histogram2d"
           }
          ],
          "histogram2dcontour": [
           {
            "colorbar": {
             "outlinewidth": 0,
             "ticks": ""
            },
            "colorscale": [
             [
              0,
              "#0d0887"
             ],
             [
              0.1111111111111111,
              "#46039f"
             ],
             [
              0.2222222222222222,
              "#7201a8"
             ],
             [
              0.3333333333333333,
              "#9c179e"
             ],
             [
              0.4444444444444444,
              "#bd3786"
             ],
             [
              0.5555555555555556,
              "#d8576b"
             ],
             [
              0.6666666666666666,
              "#ed7953"
             ],
             [
              0.7777777777777778,
              "#fb9f3a"
             ],
             [
              0.8888888888888888,
              "#fdca26"
             ],
             [
              1,
              "#f0f921"
             ]
            ],
            "type": "histogram2dcontour"
           }
          ],
          "mesh3d": [
           {
            "colorbar": {
             "outlinewidth": 0,
             "ticks": ""
            },
            "type": "mesh3d"
           }
          ],
          "parcoords": [
           {
            "line": {
             "colorbar": {
              "outlinewidth": 0,
              "ticks": ""
             }
            },
            "type": "parcoords"
           }
          ],
          "pie": [
           {
            "automargin": true,
            "type": "pie"
           }
          ],
          "scatter": [
           {
            "fillpattern": {
             "fillmode": "overlay",
             "size": 10,
             "solidity": 0.2
            },
            "type": "scatter"
           }
          ],
          "scatter3d": [
           {
            "line": {
             "colorbar": {
              "outlinewidth": 0,
              "ticks": ""
             }
            },
            "marker": {
             "colorbar": {
              "outlinewidth": 0,
              "ticks": ""
             }
            },
            "type": "scatter3d"
           }
          ],
          "scattercarpet": [
           {
            "marker": {
             "colorbar": {
              "outlinewidth": 0,
              "ticks": ""
             }
            },
            "type": "scattercarpet"
           }
          ],
          "scattergeo": [
           {
            "marker": {
             "colorbar": {
              "outlinewidth": 0,
              "ticks": ""
             }
            },
            "type": "scattergeo"
           }
          ],
          "scattergl": [
           {
            "marker": {
             "colorbar": {
              "outlinewidth": 0,
              "ticks": ""
             }
            },
            "type": "scattergl"
           }
          ],
          "scattermapbox": [
           {
            "marker": {
             "colorbar": {
              "outlinewidth": 0,
              "ticks": ""
             }
            },
            "type": "scattermapbox"
           }
          ],
          "scatterpolar": [
           {
            "marker": {
             "colorbar": {
              "outlinewidth": 0,
              "ticks": ""
             }
            },
            "type": "scatterpolar"
           }
          ],
          "scatterpolargl": [
           {
            "marker": {
             "colorbar": {
              "outlinewidth": 0,
              "ticks": ""
             }
            },
            "type": "scatterpolargl"
           }
          ],
          "scatterternary": [
           {
            "marker": {
             "colorbar": {
              "outlinewidth": 0,
              "ticks": ""
             }
            },
            "type": "scatterternary"
           }
          ],
          "surface": [
           {
            "colorbar": {
             "outlinewidth": 0,
             "ticks": ""
            },
            "colorscale": [
             [
              0,
              "#0d0887"
             ],
             [
              0.1111111111111111,
              "#46039f"
             ],
             [
              0.2222222222222222,
              "#7201a8"
             ],
             [
              0.3333333333333333,
              "#9c179e"
             ],
             [
              0.4444444444444444,
              "#bd3786"
             ],
             [
              0.5555555555555556,
              "#d8576b"
             ],
             [
              0.6666666666666666,
              "#ed7953"
             ],
             [
              0.7777777777777778,
              "#fb9f3a"
             ],
             [
              0.8888888888888888,
              "#fdca26"
             ],
             [
              1,
              "#f0f921"
             ]
            ],
            "type": "surface"
           }
          ],
          "table": [
           {
            "cells": {
             "fill": {
              "color": "#EBF0F8"
             },
             "line": {
              "color": "white"
             }
            },
            "header": {
             "fill": {
              "color": "#C8D4E3"
             },
             "line": {
              "color": "white"
             }
            },
            "type": "table"
           }
          ]
         },
         "layout": {
          "annotationdefaults": {
           "arrowcolor": "#2a3f5f",
           "arrowhead": 0,
           "arrowwidth": 1
          },
          "autotypenumbers": "strict",
          "coloraxis": {
           "colorbar": {
            "outlinewidth": 0,
            "ticks": ""
           }
          },
          "colorscale": {
           "diverging": [
            [
             0,
             "#8e0152"
            ],
            [
             0.1,
             "#c51b7d"
            ],
            [
             0.2,
             "#de77ae"
            ],
            [
             0.3,
             "#f1b6da"
            ],
            [
             0.4,
             "#fde0ef"
            ],
            [
             0.5,
             "#f7f7f7"
            ],
            [
             0.6,
             "#e6f5d0"
            ],
            [
             0.7,
             "#b8e186"
            ],
            [
             0.8,
             "#7fbc41"
            ],
            [
             0.9,
             "#4d9221"
            ],
            [
             1,
             "#276419"
            ]
           ],
           "sequential": [
            [
             0,
             "#0d0887"
            ],
            [
             0.1111111111111111,
             "#46039f"
            ],
            [
             0.2222222222222222,
             "#7201a8"
            ],
            [
             0.3333333333333333,
             "#9c179e"
            ],
            [
             0.4444444444444444,
             "#bd3786"
            ],
            [
             0.5555555555555556,
             "#d8576b"
            ],
            [
             0.6666666666666666,
             "#ed7953"
            ],
            [
             0.7777777777777778,
             "#fb9f3a"
            ],
            [
             0.8888888888888888,
             "#fdca26"
            ],
            [
             1,
             "#f0f921"
            ]
           ],
           "sequentialminus": [
            [
             0,
             "#0d0887"
            ],
            [
             0.1111111111111111,
             "#46039f"
            ],
            [
             0.2222222222222222,
             "#7201a8"
            ],
            [
             0.3333333333333333,
             "#9c179e"
            ],
            [
             0.4444444444444444,
             "#bd3786"
            ],
            [
             0.5555555555555556,
             "#d8576b"
            ],
            [
             0.6666666666666666,
             "#ed7953"
            ],
            [
             0.7777777777777778,
             "#fb9f3a"
            ],
            [
             0.8888888888888888,
             "#fdca26"
            ],
            [
             1,
             "#f0f921"
            ]
           ]
          },
          "colorway": [
           "#636efa",
           "#EF553B",
           "#00cc96",
           "#ab63fa",
           "#FFA15A",
           "#19d3f3",
           "#FF6692",
           "#B6E880",
           "#FF97FF",
           "#FECB52"
          ],
          "font": {
           "color": "#2a3f5f"
          },
          "geo": {
           "bgcolor": "white",
           "lakecolor": "white",
           "landcolor": "#E5ECF6",
           "showlakes": true,
           "showland": true,
           "subunitcolor": "white"
          },
          "hoverlabel": {
           "align": "left"
          },
          "hovermode": "closest",
          "mapbox": {
           "style": "light"
          },
          "paper_bgcolor": "white",
          "plot_bgcolor": "#E5ECF6",
          "polar": {
           "angularaxis": {
            "gridcolor": "white",
            "linecolor": "white",
            "ticks": ""
           },
           "bgcolor": "#E5ECF6",
           "radialaxis": {
            "gridcolor": "white",
            "linecolor": "white",
            "ticks": ""
           }
          },
          "scene": {
           "xaxis": {
            "backgroundcolor": "#E5ECF6",
            "gridcolor": "white",
            "gridwidth": 2,
            "linecolor": "white",
            "showbackground": true,
            "ticks": "",
            "zerolinecolor": "white"
           },
           "yaxis": {
            "backgroundcolor": "#E5ECF6",
            "gridcolor": "white",
            "gridwidth": 2,
            "linecolor": "white",
            "showbackground": true,
            "ticks": "",
            "zerolinecolor": "white"
           },
           "zaxis": {
            "backgroundcolor": "#E5ECF6",
            "gridcolor": "white",
            "gridwidth": 2,
            "linecolor": "white",
            "showbackground": true,
            "ticks": "",
            "zerolinecolor": "white"
           }
          },
          "shapedefaults": {
           "line": {
            "color": "#2a3f5f"
           }
          },
          "ternary": {
           "aaxis": {
            "gridcolor": "white",
            "linecolor": "white",
            "ticks": ""
           },
           "baxis": {
            "gridcolor": "white",
            "linecolor": "white",
            "ticks": ""
           },
           "bgcolor": "#E5ECF6",
           "caxis": {
            "gridcolor": "white",
            "linecolor": "white",
            "ticks": ""
           }
          },
          "title": {
           "x": 0.05
          },
          "xaxis": {
           "automargin": true,
           "gridcolor": "white",
           "linecolor": "white",
           "ticks": "",
           "title": {
            "standoff": 15
           },
           "zerolinecolor": "white",
           "zerolinewidth": 2
          },
          "yaxis": {
           "automargin": true,
           "gridcolor": "white",
           "linecolor": "white",
           "ticks": "",
           "title": {
            "standoff": 15
           },
           "zerolinecolor": "white",
           "zerolinewidth": 2
          }
         }
        },
        "xaxis": {
         "autorange": true,
         "range": [
          -3.3992880888293064,
          3.372257869253876
         ],
         "title": {
          "text": "X"
         },
         "type": "linear"
        },
        "yaxis": {
         "autorange": true,
         "range": [
          -1.9658973742880346,
          12.492526482166864
         ],
         "title": {
          "text": "y"
         },
         "type": "linear"
        }
       }
      },
      "image/png": "[encoded data removed]",
      "text/html": [
       "<div>                            <div id=\"967beb06-8ae8-4bcb-9b13-d2562c6e7c6b\" class=\"plotly-graph-div\" style=\"height:525px; width:100%;\"></div>            <script type=\"text/javascript\">                require([\"plotly\"], function(Plotly) {                    window.PLOTLYENV=window.PLOTLYENV || {};                                    if (document.getElementById(\"967beb06-8ae8-4bcb-9b13-d2562c6e7c6b\")) {                    Plotly.newPlot(                        \"967beb06-8ae8-4bcb-9b13-d2562c6e7c6b\",                        [{\"mode\":\"lines\",\"x\":[-0.09582663042236916,0.5172475429312162,0.7241822415494448,-2.429590887111905,-1.176192440088814,-2.5935679192850625,-1.4604087205655234,-0.4881355329235757,-0.02599898033144843,0.9438622005312856,-2.2296451169149885,-2.911695488062444,-1.4671025589082862,-2.5149162502145472,1.8200207529986203,-1.148797578347367,2.260891345127593,-1.2175881189535378,-2.3322256860739863,-1.2366636080222817,0.9097609661741064,0.13508464259855302,-0.13778440132972847,-0.8385791015513133,-1.8527947953394366,-2.904997904987974,0.07080652128345477,-0.5119975234390806,-2.0947599049711085,-1.8875442777391978,-2.4910104517531746,-1.9122152148779614,-1.2337486016231507,-0.2681817432305875,-0.8891327243695093,-2.282475838286075,0.7710541229543475,1.268279698256979,0.5390442423272699,0.929394644998117,-0.696515029627296,0.06148493145136147,1.6500614331807748,1.7365875339544026,-1.2656930915347486,1.5902950231190474,-2.0083942062219657,1.1913480836109658,-0.959660875326537,-2.6135274361088254,0.31973186310824797,-1.3432755781991284,-1.2653463482648073,-2.6309018765409107,-0.9048434483184558,-1.2601416201233762,-1.279175027295255,-1.8288604978531842,1.647900839701796,-0.7008940435844417,1.1641490942983976,0.20745738181529472,0.6320836850528773,-1.0376297662371368,0.40338510688403506,0.20821848882312022,-2.6662113123552134,2.387580339234491,2.6520372458963646,2.4166914044650687,2.208193442410975,-0.806499052838455,-1.4420258263831658,-2.115239217045283,1.5915447890274024,-1.160297497717006,1.9052833735587198,-1.7539993747562432,2.4051175513407754,-0.44013797541370536,1.6518633369826272,-2.609018530396444,0.8033453819089065,1.1594646082961262,2.802544239015697,1.077798374799161,-0.1285910466057434,-2.2345470672148373,1.968692730627767,-1.347871387113923,-1.3549971175249726,-1.3984594300465711,2.426410301505319,-0.5877460652851445,-2.9379748583227108,-1.7056575607225557,-2.5981085793403538,-2.9166086172914256,-0.33882965471224846,2.9682339287136035,-2.6065171510791805,2.082805742318852,-2.0347198116343455,-2.485665016107003,0.07251578098397449,-0.9328080133546139,2.455997925168635,1.4555720339908556,1.5452309804028657,-0.10171886170952149,-1.3444418333514194,-1.1433792336114905,-1.6665124498220723,-0.4657317009494881,-0.2682676787036469,0.20624978647997594,-1.9954334389827035,2.446517761496593,0.46206518122416806,-1.9906429718364005,-2.285783795424248,-1.547178208231487,-1.6173800954506117,-0.3725444966601268,-2.832083509299893,0.2059966448304298,1.8770832717449064,0.3673786650027955,0.331877842834154,0.3347137660515491,1.4607668198678274,-0.9977427699027039,-0.8832858339765224,-0.6745896399751703,-0.6411355068203646,2.7778048909620114,0.07687839071158997,-1.419599159523665,-0.5289806064266771,-0.03831552991890197,-1.7922306802181698,2.6990077704999598,2.625883235709864,-0.29751128687745654,1.959220436310921,2.1479322440139823,1.1845356379223144,-2.0383910763151363,1.8525308145180972,2.6612344939727075,-1.7087126381480577,-0.5854115705556957,-2.995264148289034,-2.2807439388760953,-2.0458888336837884,0.3550233939949221,0.6012184589858682,0.26289494716167017,0.9367866497460771,-2.946058850605719],\"y\":[3.9617637536023125,4.3649109818165766,4.500987746742014,2.427119770406367,3.251333432843574,2.3192912418454634,3.06443760413694,3.703788041166087,4.007681237669342,4.64544557975315,2.5586007339692594,2.110095922346699,3.060035849029173,2.371011251851359,5.221592655026716,3.2693478315222277,5.511501714881157,3.224112333146823,2.4911454831651443,3.2115686135136357,4.623021183640393,4.1136071091502915,3.9341730316659715,3.4733422656329767,2.806411144516786,2.114500139926829,4.071338901534805,3.68809679897368,2.6472989725931626,2.783560471433116,2.386731301409527,2.7673372795956013,3.2134854725188164,3.848425940630838,3.440099056570913,2.523860143334348,4.531809904795434,4.858777050359545,4.379244123429231,4.635931959434864,3.566761201406622,4.065209181401918,5.109830275086714,5.166728378466707,3.1924793151494177,5.070528892637504,2.7040915983093075,4.8081881191101115,3.393720934958205,2.3061662004822296,4.2350280046656845,3.1414623814468854,3.192707327670993,2.29474106172022,3.4297679496860627,3.1961298690453077,3.1836138217571914,2.8221499345526753,5.108409505283962,3.563881635742523,4.790302522834525,4.161198200867469,4.440425290537042,3.3424499083455412,4.2900369657753386,4.161698691988961,2.271522172722696,5.5948102590008135,5.768712657008637,5.6139532041258295,5.476848463551556,3.494437564181964,3.0765258850632664,2.6338321226469708,5.071350717603828,3.2617856786538444,5.27765991514479,2.8713773455076175,5.606342433668326,3.735350424825656,5.111015176612172,2.3091311807721064,4.553044091634311,4.787222083909665,5.867683515250821,4.733519747220281,3.9402184265562687,2.55537729419293,5.319356838056092,3.1384402550779553,3.1337544950360625,3.105174411929611,5.620344186772584,3.638285836428206,2.0928150520374995,2.903166106446484,2.3163053804356757,2.1068651314952636,3.8019690665185895,5.9766382584917634,2.3107760455899333,5.394395628411252,2.6867803245444897,2.3902463696639336,4.072462881862982,3.4113789237369256,5.639800508679058,4.9819373289990105,5.040895538790971,3.9578891217638534,3.1406954717441575,3.272910843563379,2.9289072706376698,3.7185204229141635,3.8483694309142735,4.16040410655817,2.712614380078856,5.633566513065616,4.328623992190473,2.7157645104151564,2.5216848865558554,3.007379453644715,2.961215877558992,3.779798755532206,2.162447415796848,4.160237644882249,5.259116004186332,4.26635973735308,4.243014995919387,4.244879851159116,4.985353332508034,3.368678923875682,3.4439438730026857,3.581178967559486,3.603177840844093,5.851415337550374,4.075331660382632,3.091273282646557,3.6769290102613774,3.9995820825537636,2.84623708434855,5.799599681164502,5.751514221367972,3.8291393277870034,5.313128017197798,5.437221716644691,4.803708369813681,2.6843661628583018,5.242970722739076,5.774760612101728,2.901157139098645,3.639820960757959,2.055142581951297,2.5249990111533265,2.6794357641685953,4.25823511968502,4.420128838854768,4.197653008099168,4.640792816986219,2.087499155163272],\"type\":\"scatter\"},{\"mode\":\"markers\",\"x\":[-0.09582663042236916,0.5172475429312162,0.7241822415494448,-2.429590887111905,-1.176192440088814,-2.5935679192850625,-1.4604087205655234,-0.4881355329235757,-0.02599898033144843,0.9438622005312856,-2.2296451169149885,-2.911695488062444,-1.4671025589082862,-2.5149162502145472,1.8200207529986203,-1.148797578347367,2.260891345127593,-1.2175881189535378,-2.3322256860739863,-1.2366636080222817,0.9097609661741064,0.13508464259855302,-0.13778440132972847,-0.8385791015513133,-1.8527947953394366,-2.904997904987974,0.07080652128345477,-0.5119975234390806,-2.0947599049711085,-1.8875442777391978,-2.4910104517531746,-1.9122152148779614,-1.2337486016231507,-0.2681817432305875,-0.8891327243695093,-2.282475838286075,0.7710541229543475,1.268279698256979,0.5390442423272699,0.929394644998117,-0.696515029627296,0.06148493145136147,1.6500614331807748,1.7365875339544026,-1.2656930915347486,1.5902950231190474,-2.0083942062219657,1.1913480836109658,-0.959660875326537,-2.6135274361088254,0.31973186310824797,-1.3432755781991284,-1.2653463482648073,-2.6309018765409107,-0.9048434483184558,-1.2601416201233762,-1.279175027295255,-1.8288604978531842,1.647900839701796,-0.7008940435844417,1.1641490942983976,0.20745738181529472,0.6320836850528773,-1.0376297662371368,0.40338510688403506,0.20821848882312022,-2.6662113123552134,2.387580339234491,2.6520372458963646,2.4166914044650687,2.208193442410975,-0.806499052838455,-1.4420258263831658,-2.115239217045283,1.5915447890274024,-1.160297497717006,1.9052833735587198,-1.7539993747562432,2.4051175513407754,-0.44013797541370536,1.6518633369826272,-2.609018530396444,0.8033453819089065,1.1594646082961262,2.802544239015697,1.077798374799161,-0.1285910466057434,-2.2345470672148373,1.968692730627767,-1.347871387113923,-1.3549971175249726,-1.3984594300465711,2.426410301505319,-0.5877460652851445,-2.9379748583227108,-1.7056575607225557,-2.5981085793403538,-2.9166086172914256,-0.33882965471224846,2.9682339287136035,-2.6065171510791805,2.082805742318852,-2.0347198116343455,-2.485665016107003,0.07251578098397449,-0.9328080133546139,2.455997925168635,1.4555720339908556,1.5452309804028657,-0.10171886170952149,-1.3444418333514194,-1.1433792336114905,-1.6665124498220723,-0.4657317009494881,-0.2682676787036469,0.20624978647997594,-1.9954334389827035,2.446517761496593,0.46206518122416806,-1.9906429718364005,-2.285783795424248,-1.547178208231487,-1.6173800954506117,-0.3725444966601268,-2.832083509299893,0.2059966448304298,1.8770832717449064,0.3673786650027955,0.331877842834154,0.3347137660515491,1.4607668198678274,-0.9977427699027039,-0.8832858339765224,-0.6745896399751703,-0.6411355068203646,2.7778048909620114,0.07687839071158997,-1.419599159523665,-0.5289806064266771,-0.03831552991890197,-1.7922306802181698,2.6990077704999598,2.625883235709864,-0.29751128687745654,1.959220436310921,2.1479322440139823,1.1845356379223144,-2.0383910763151363,1.8525308145180972,2.6612344939727075,-1.7087126381480577,-0.5854115705556957,-2.995264148289034,-2.2807439388760953,-2.0458888336837884,0.3550233939949221,0.6012184589858682,0.26289494716167017,0.9367866497460771,-2.946058850605719],\"y\":[2.040043132460154,2.4937673354102565,4.9588055722745885,4.978396071702413,2.1602667287675033,6.0128848259512955,1.1121182884391185,2.31932324834409,0.6031519282621467,3.6691309675770656,4.052669713938007,6.265810872605101,2.093123166293271,5.5958909787435145,6.080970920261208,1.6227266121198456,9.205492211760367,3.8098430389096825,4.084068303313666,2.4903961073392336,3.4147327948933457,1.7406027902445755,1.172929358701645,2.2364563611022206,2.7647745871957614,6.079918951358329,0.12827772234284085,2.0221310656723754,3.221066703975983,2.059325342592766,6.169345319023922,3.2379344889038357,1.2740854564149209,2.68436401952179,3.805443357767688,3.6584680450909364,2.1868276683743977,4.656661198945109,3.0892970508386997,1.3908043884020884,0.9972541969660541,1.8530523438462803,6.061487357955416,7.777173178003528,1.2550295100146496,6.459780032295214,4.300776438889455,4.350644728549533,0.7726529035992509,5.228304800580621,1.3881365247847652,2.352986307771529,2.5298319328739494,4.85646005368729,2.5888479688750126,2.147251847527906,2.6455956213559566,2.056370755058234,5.454817842853649,0.5683508994907098,5.814726723898605,1.4117316588052837,2.879938635206246,-0.941759017789146,2.293560855599354,3.7234286078729193,6.456837490539103,7.666627444724243,10.688403453574757,9.38513214118985,8.853395838468256,-0.4626126942441253,1.179637903867696,3.7718403638155165,4.559280509190763,1.7533462725838158,5.7846481183397875,3.597999297861996,8.425111268522668,1.7628209773712644,5.460741720708184,5.928814282001026,3.4295411713884674,3.268929173176285,10.008783518285,4.387902843988216,2.2894382088078196,4.042564398802382,5.5699555517881745,1.8438577963726812,1.5964614790437142,2.204749204402583,7.441114444554999,1.6522743900648904,5.380831804902325,3.670605051119141,6.579996415253188,7.7728249971326795,1.9061105992489673,11.468388125667976,4.622095566524379,6.534644906718195,3.942080542182873,4.798992890401928,-0.11606703554542142,2.7248209573933346,9.319910631001264,6.512389305467045,3.0434981237909526,2.5299353929513737,2.019948711440589,1.8138939690578102,-0.19821847410620874,0.10667705134647587,0.04203674106517008,2.3989886169090004,1.912657586489764,7.581758699709238,2.212422285437122,3.137210883718154,6.2017387825959345,2.3450316093452215,1.9574662125460265,3.117289035946781,5.543656514205405,0.929206807597803,5.719678474665862,1.9472023232497617,2.9537028703582946,1.2622642584376491,4.5160324571296,2.190626095190581,1.3882266764388178,3.4716143205685643,2.738237845299818,9.21616366538045,3.4496754918869112,2.6672542405250943,0.5852051854869271,1.8179728557264516,2.607850313571489,10.311654543060474,9.3002538117311,1.8946442233135512,6.145518065167208,9.756382320726875,4.108310349022758,3.561643668865085,6.653575915801765,9.309012984433046,3.19153604701901,1.5569046079108106,6.336634827258654,3.286452701222743,2.712607504869733,3.0140408114976296,2.39102984173112,2.4469446256279332,3.1365190419753897,5.662263190666035],\"type\":\"scatter\"}],                        {\"template\":{\"data\":{\"histogram2dcontour\":[{\"type\":\"histogram2dcontour\",\"colorbar\":{\"outlinewidth\":0,\"ticks\":\"\"},\"colorscale\":[[0.0,\"#0d0887\"],[0.1111111111111111,\"#46039f\"],[0.2222222222222222,\"#7201a8\"],[0.3333333333333333,\"#9c179e\"],[0.4444444444444444,\"#bd3786\"],[0.5555555555555556,\"#d8576b\"],[0.6666666666666666,\"#ed7953\"],[0.7777777777777778,\"#fb9f3a\"],[0.8888888888888888,\"#fdca26\"],[1.0,\"#f0f921\"]]}],\"choropleth\":[{\"type\":\"choropleth\",\"colorbar\":{\"outlinewidth\":0,\"ticks\":\"\"}}],\"histogram2d\":[{\"type\":\"histogram2d\",\"colorbar\":{\"outlinewidth\":0,\"ticks\":\"\"},\"colorscale\":[[0.0,\"#0d0887\"],[0.1111111111111111,\"#46039f\"],[0.2222222222222222,\"#7201a8\"],[0.3333333333333333,\"#9c179e\"],[0.4444444444444444,\"#bd3786\"],[0.5555555555555556,\"#d8576b\"],[0.6666666666666666,\"#ed7953\"],[0.7777777777777778,\"#fb9f3a\"],[0.8888888888888888,\"#fdca26\"],[1.0,\"#f0f921\"]]}],\"heatmap\":[{\"type\":\"heatmap\",\"colorbar\":{\"outlinewidth\":0,\"ticks\":\"\"},\"colorscale\":[[0.0,\"#0d0887\"],[0.1111111111111111,\"#46039f\"],[0.2222222222222222,\"#7201a8\"],[0.3333333333333333,\"#9c179e\"],[0.4444444444444444,\"#bd3786\"],[0.5555555555555556,\"#d8576b\"],[0.6666666666666666,\"#ed7953\"],[0.7777777777777778,\"#fb9f3a\"],[0.8888888888888888,\"#fdca26\"],[1.0,\"#f0f921\"]]}],\"heatmapgl\":[{\"type\":\"heatmapgl\",\"colorbar\":{\"outlinewidth\":0,\"ticks\":\"\"},\"colorscale\":[[0.0,\"#0d0887\"],[0.1111111111111111,\"#46039f\"],[0.2222222222222222,\"#7201a8\"],[0.3333333333333333,\"#9c179e\"],[0.4444444444444444,\"#bd3786\"],[0.5555555555555556,\"#d8576b\"],[0.6666666666666666,\"#ed7953\"],[0.7777777777777778,\"#fb9f3a\"],[0.8888888888888888,\"#fdca26\"],[1.0,\"#f0f921\"]]}],\"contourcarpet\":[{\"type\":\"contourcarpet\",\"colorbar\":{\"outlinewidth\":0,\"ticks\":\"\"}}],\"contour\":[{\"type\":\"contour\",\"colorbar\":{\"outlinewidth\":0,\"ticks\":\"\"},\"colorscale\":[[0.0,\"#0d0887\"],[0.1111111111111111,\"#46039f\"],[0.2222222222222222,\"#7201a8\"],[0.3333333333333333,\"#9c179e\"],[0.4444444444444444,\"#bd3786\"],[0.5555555555555556,\"#d8576b\"],[0.6666666666666666,\"#ed7953\"],[0.7777777777777778,\"#fb9f3a\"],[0.8888888888888888,\"#fdca26\"],[1.0,\"#f0f921\"]]}],\"surface\":[{\"type\":\"surface\",\"colorbar\":{\"outlinewidth\":0,\"ticks\":\"\"},\"colorscale\":[[0.0,\"#0d0887\"],[0.1111111111111111,\"#46039f\"],[0.2222222222222222,\"#7201a8\"],[0.3333333333333333,\"#9c179e\"],[0.4444444444444444,\"#bd3786\"],[0.5555555555555556,\"#d8576b\"],[0.6666666666666666,\"#ed7953\"],[0.7777777777777778,\"#fb9f3a\"],[0.8888888888888888,\"#fdca26\"],[1.0,\"#f0f921\"]]}],\"mesh3d\":[{\"type\":\"mesh3d\",\"colorbar\":{\"outlinewidth\":0,\"ticks\":\"\"}}],\"scatter\":[{\"fillpattern\":{\"fillmode\":\"overlay\",\"size\":10,\"solidity\":0.2},\"type\":\"scatter\"}],\"parcoords\":[{\"type\":\"parcoords\",\"line\":{\"colorbar\":{\"outlinewidth\":0,\"ticks\":\"\"}}}],\"scatterpolargl\":[{\"type\":\"scatterpolargl\",\"marker\":{\"colorbar\":{\"outlinewidth\":0,\"ticks\":\"\"}}}],\"bar\":[{\"error_x\":{\"color\":\"#2a3f5f\"},\"error_y\":{\"color\":\"#2a3f5f\"},\"marker\":{\"line\":{\"color\":\"#E5ECF6\",\"width\":0.5},\"pattern\":{\"fillmode\":\"overlay\",\"size\":10,\"solidity\":0.2}},\"type\":\"bar\"}],\"scattergeo\":[{\"type\":\"scattergeo\",\"marker\":{\"colorbar\":{\"outlinewidth\":0,\"ticks\":\"\"}}}],\"scatterpolar\":[{\"type\":\"scatterpolar\",\"marker\":{\"colorbar\":{\"outlinewidth\":0,\"ticks\":\"\"}}}],\"histogram\":[{\"marker\":{\"pattern\":{\"fillmode\":\"overlay\",\"size\":10,\"solidity\":0.2}},\"type\":\"histogram\"}],\"scattergl\":[{\"type\":\"scattergl\",\"marker\":{\"colorbar\":{\"outlinewidth\":0,\"ticks\":\"\"}}}],\"scatter3d\":[{\"type\":\"scatter3d\",\"line\":{\"colorbar\":{\"outlinewidth\":0,\"ticks\":\"\"}},\"marker\":{\"colorbar\":{\"outlinewidth\":0,\"ticks\":\"\"}}}],\"scattermapbox\":[{\"type\":\"scattermapbox\",\"marker\":{\"colorbar\":{\"outlinewidth\":0,\"ticks\":\"\"}}}],\"scatterternary\":[{\"type\":\"scatterternary\",\"marker\":{\"colorbar\":{\"outlinewidth\":0,\"ticks\":\"\"}}}],\"scattercarpet\":[{\"type\":\"scattercarpet\",\"marker\":{\"colorbar\":{\"outlinewidth\":0,\"ticks\":\"\"}}}],\"carpet\":[{\"aaxis\":{\"endlinecolor\":\"#2a3f5f\",\"gridcolor\":\"white\",\"linecolor\":\"white\",\"minorgridcolor\":\"white\",\"startlinecolor\":\"#2a3f5f\"},\"baxis\":{\"endlinecolor\":\"#2a3f5f\",\"gridcolor\":\"white\",\"linecolor\":\"white\",\"minorgridcolor\":\"white\",\"startlinecolor\":\"#2a3f5f\"},\"type\":\"carpet\"}],\"table\":[{\"cells\":{\"fill\":{\"color\":\"#EBF0F8\"},\"line\":{\"color\":\"white\"}},\"header\":{\"fill\":{\"color\":\"#C8D4E3\"},\"line\":{\"color\":\"white\"}},\"type\":\"table\"}],\"barpolar\":[{\"marker\":{\"line\":{\"color\":\"#E5ECF6\",\"width\":0.5},\"pattern\":{\"fillmode\":\"overlay\",\"size\":10,\"solidity\":0.2}},\"type\":\"barpolar\"}],\"pie\":[{\"automargin\":true,\"type\":\"pie\"}]},\"layout\":{\"autotypenumbers\":\"strict\",\"colorway\":[\"#636efa\",\"#EF553B\",\"#00cc96\",\"#ab63fa\",\"#FFA15A\",\"#19d3f3\",\"#FF6692\",\"#B6E880\",\"#FF97FF\",\"#FECB52\"],\"font\":{\"color\":\"#2a3f5f\"},\"hovermode\":\"closest\",\"hoverlabel\":{\"align\":\"left\"},\"paper_bgcolor\":\"white\",\"plot_bgcolor\":\"#E5ECF6\",\"polar\":{\"bgcolor\":\"#E5ECF6\",\"angularaxis\":{\"gridcolor\":\"white\",\"linecolor\":\"white\",\"ticks\":\"\"},\"radialaxis\":{\"gridcolor\":\"white\",\"linecolor\":\"white\",\"ticks\":\"\"}},\"ternary\":{\"bgcolor\":\"#E5ECF6\",\"aaxis\":{\"gridcolor\":\"white\",\"linecolor\":\"white\",\"ticks\":\"\"},\"baxis\":{\"gridcolor\":\"white\",\"linecolor\":\"white\",\"ticks\":\"\"},\"caxis\":{\"gridcolor\":\"white\",\"linecolor\":\"white\",\"ticks\":\"\"}},\"coloraxis\":{\"colorbar\":{\"outlinewidth\":0,\"ticks\":\"\"}},\"colorscale\":{\"sequential\":[[0.0,\"#0d0887\"],[0.1111111111111111,\"#46039f\"],[0.2222222222222222,\"#7201a8\"],[0.3333333333333333,\"#9c179e\"],[0.4444444444444444,\"#bd3786\"],[0.5555555555555556,\"#d8576b\"],[0.6666666666666666,\"#ed7953\"],[0.7777777777777778,\"#fb9f3a\"],[0.8888888888888888,\"#fdca26\"],[1.0,\"#f0f921\"]],\"sequentialminus\":[[0.0,\"#0d0887\"],[0.1111111111111111,\"#46039f\"],[0.2222222222222222,\"#7201a8\"],[0.3333333333333333,\"#9c179e\"],[0.4444444444444444,\"#bd3786\"],[0.5555555555555556,\"#d8576b\"],[0.6666666666666666,\"#ed7953\"],[0.7777777777777778,\"#fb9f3a\"],[0.8888888888888888,\"#fdca26\"],[1.0,\"#f0f921\"]],\"diverging\":[[0,\"#8e0152\"],[0.1,\"#c51b7d\"],[0.2,\"#de77ae\"],[0.3,\"#f1b6da\"],[0.4,\"#fde0ef\"],[0.5,\"#f7f7f7\"],[0.6,\"#e6f5d0\"],[0.7,\"#b8e186\"],[0.8,\"#7fbc41\"],[0.9,\"#4d9221\"],[1,\"#276419\"]]},\"xaxis\":{\"gridcolor\":\"white\",\"linecolor\":\"white\",\"ticks\":\"\",\"title\":{\"standoff\":15},\"zerolinecolor\":\"white\",\"automargin\":true,\"zerolinewidth\":2},\"yaxis\":{\"gridcolor\":\"white\",\"linecolor\":\"white\",\"ticks\":\"\",\"title\":{\"standoff\":15},\"zerolinecolor\":\"white\",\"automargin\":true,\"zerolinewidth\":2},\"scene\":{\"xaxis\":{\"backgroundcolor\":\"#E5ECF6\",\"gridcolor\":\"white\",\"linecolor\":\"white\",\"showbackground\":true,\"ticks\":\"\",\"zerolinecolor\":\"white\",\"gridwidth\":2},\"yaxis\":{\"backgroundcolor\":\"#E5ECF6\",\"gridcolor\":\"white\",\"linecolor\":\"white\",\"showbackground\":true,\"ticks\":\"\",\"zerolinecolor\":\"white\",\"gridwidth\":2},\"zaxis\":{\"backgroundcolor\":\"#E5ECF6\",\"gridcolor\":\"white\",\"linecolor\":\"white\",\"showbackground\":true,\"ticks\":\"\",\"zerolinecolor\":\"white\",\"gridwidth\":2}},\"shapedefaults\":{\"line\":{\"color\":\"#2a3f5f\"}},\"annotationdefaults\":{\"arrowcolor\":\"#2a3f5f\",\"arrowhead\":0,\"arrowwidth\":1},\"geo\":{\"bgcolor\":\"white\",\"landcolor\":\"#E5ECF6\",\"subunitcolor\":\"white\",\"showland\":true,\"showlakes\":true,\"lakecolor\":\"white\"},\"title\":{\"x\":0.05},\"mapbox\":{\"style\":\"light\"}}},\"xaxis\":{\"title\":{\"text\":\"X\"}},\"yaxis\":{\"title\":{\"text\":\"y\"}}},                        {\"responsive\": true}                    ).then(function(){\n",
       "                            \n",
       "var gd = document.getElementById('967beb06-8ae8-4bcb-9b13-d2562c6e7c6b');\n",
       "var x = new MutationObserver(function (mutations, observer) {{\n",
       "        var display = window.getComputedStyle(gd).display;\n",
       "        if (!display || display === 'none') {{\n",
       "            console.log([gd, 'removed!']);\n",
       "            Plotly.purge(gd);\n",
       "            observer.disconnect();\n",
       "        }}\n",
       "}});\n",
       "\n",
       "// Listen for the removal of the full notebook cells\n",
       "var notebookContainer = gd.closest('#notebook-container');\n",
       "if (notebookContainer) {{\n",
       "    x.observe(notebookContainer, {childList: true});\n",
       "}}\n",
       "\n",
       "// Listen for the clearing of the current output cell\n",
       "var outputEl = gd.closest('.output');\n",
       "if (outputEl) {{\n",
       "    x.observe(outputEl, {childList: true});\n",
       "}}\n",
       "\n",
       "                        })                };                });            </script>        </div>"
      ]
     },
     "metadata": {},
     "output_type": "display_data"
    }
   ],
   "source": [
    "fig = go.Figure()\n",
    "fig.add_trace(go.Scatter(x=X_train.ravel(),y=lr.predict(X_train).ravel(),mode = 'lines'))\n",
    "fig.add_trace(go.Scatter(x=X_train.ravel(),y=y_train.ravel(),mode = 'markers'))\n",
    "fig.update_layout(\n",
    "    xaxis_title = 'X',\n",
    "    yaxis_title = 'y',\n",
    ")"
   ]
  },
  {
   "cell_type": "code",
   "execution_count": 28,
   "id": "c1b1b4b7-d02e-4d2a-9c7a-3a1936c01fde",
   "metadata": {},
   "outputs": [
    {
     "name": "stdout",
     "output_type": "stream",
     "text": [
      "(160, 1)\n",
      "(160, 3)\n",
      "(40, 1)\n",
      "(40, 3)\n",
      "[ 1.         -0.09582663  0.00918274]\n",
      "[-0.09582663]\n",
      "[ 1.         -2.8415957   8.07466612]\n",
      "[-2.8415957]\n"
     ]
    }
   ],
   "source": [
    "poly = PolynomialFeatures(degree=2)\n",
    "\n",
    "X_train_poly = poly.fit_transform(X_train)\n",
    "X_test_poly = poly.transform(X_test)\n",
    "\n",
    "print(X_train.shape)\n",
    "print(X_train_poly.shape)\n",
    "print(X_test.shape)\n",
    "print(X_test_poly.shape)\n",
    "print(X_train_poly[0])\n",
    "print(X_train[0])\n",
    "print(X_test_poly[0])\n",
    "print(X_test[0])"
   ]
  },
  {
   "cell_type": "code",
   "execution_count": 31,
   "id": "79066384-1c46-48dc-be5b-77a5b6642759",
   "metadata": {},
   "outputs": [
    {
     "name": "stdout",
     "output_type": "stream",
     "text": [
      "R2 Score of plr 0.894131173644322\n"
     ]
    }
   ],
   "source": [
    "plr = LinearRegression()\n",
    "plr.fit(X_train_poly,y_train)\n",
    "plrPredict = plr.predict(X_test_poly)\n",
    "print('R2 Score of plr',r2_score(y_test,plrPredict))"
   ]
  },
  {
   "cell_type": "code",
   "execution_count": 32,
   "id": "e247e8a1-2f25-42ef-966b-c2f1c1592df7",
   "metadata": {},
   "outputs": [
    {
     "name": "stdout",
     "output_type": "stream",
     "text": [
      "coef =  [[0.         0.8540878  0.82146657]] \n",
      "intercept =  [1.81154863]\n"
     ]
    }
   ],
   "source": [
    "print('coef = ',plr.coef_,'\\nintercept = ',plr.intercept_)"
   ]
  },
  {
   "cell_type": "code",
   "execution_count": 39,
   "id": "82407b4d-1730-4466-b20e-aba7c0677fbd",
   "metadata": {},
   "outputs": [
    {
     "data": {
      "application/vnd.plotly.v1+json": {
       "config": {
        "plotlyServerURL": "https://plot.ly"
       },
       "data": [
        {
         "mode": "markers",
         "type": "scatter",
         "x": [
          -0.09582663042236916,
          0.5172475429312162,
          0.7241822415494448,
          -2.429590887111905,
          -1.176192440088814,
          -2.5935679192850625,
          -1.4604087205655234,
          -0.4881355329235757,
          -0.02599898033144843,
          0.9438622005312856,
          -2.2296451169149885,
          -2.911695488062444,
          -1.4671025589082862,
          -2.5149162502145472,
          1.8200207529986203,
          -1.148797578347367,
          2.260891345127593,
          -1.2175881189535378,
          -2.3322256860739863,
          -1.2366636080222817,
          0.9097609661741064,
          0.13508464259855302,
          -0.13778440132972847,
          -0.8385791015513133,
          -1.8527947953394366,
          -2.904997904987974,
          0.07080652128345477,
          -0.5119975234390806,
          -2.0947599049711085,
          -1.8875442777391978,
          -2.4910104517531746,
          -1.9122152148779614,
          -1.2337486016231507,
          -0.2681817432305875,
          -0.8891327243695093,
          -2.282475838286075,
          0.7710541229543475,
          1.268279698256979,
          0.5390442423272699,
          0.929394644998117,
          -0.696515029627296,
          0.06148493145136147,
          1.6500614331807748,
          1.7365875339544026,
          -1.2656930915347486,
          1.5902950231190474,
          -2.0083942062219657,
          1.1913480836109658,
          -0.959660875326537,
          -2.6135274361088254,
          0.31973186310824797,
          -1.3432755781991284,
          -1.2653463482648073,
          -2.6309018765409107,
          -0.9048434483184558,
          -1.2601416201233762,
          -1.279175027295255,
          -1.8288604978531842,
          1.647900839701796,
          -0.7008940435844417,
          1.1641490942983976,
          0.20745738181529472,
          0.6320836850528773,
          -1.0376297662371368,
          0.40338510688403506,
          0.20821848882312022,
          -2.6662113123552134,
          2.387580339234491,
          2.6520372458963646,
          2.4166914044650687,
          2.208193442410975,
          -0.806499052838455,
          -1.4420258263831658,
          -2.115239217045283,
          1.5915447890274024,
          -1.160297497717006,
          1.9052833735587198,
          -1.7539993747562432,
          2.4051175513407754,
          -0.44013797541370536,
          1.6518633369826272,
          -2.609018530396444,
          0.8033453819089065,
          1.1594646082961262,
          2.802544239015697,
          1.077798374799161,
          -0.1285910466057434,
          -2.2345470672148373,
          1.968692730627767,
          -1.347871387113923,
          -1.3549971175249726,
          -1.3984594300465711,
          2.426410301505319,
          -0.5877460652851445,
          -2.9379748583227108,
          -1.7056575607225557,
          -2.5981085793403538,
          -2.9166086172914256,
          -0.33882965471224846,
          2.9682339287136035,
          -2.6065171510791805,
          2.082805742318852,
          -2.0347198116343455,
          -2.485665016107003,
          0.07251578098397449,
          -0.9328080133546139,
          2.455997925168635,
          1.4555720339908556,
          1.5452309804028657,
          -0.10171886170952149,
          -1.3444418333514194,
          -1.1433792336114905,
          -1.6665124498220723,
          -0.4657317009494881,
          -0.2682676787036469,
          0.20624978647997594,
          -1.9954334389827035,
          2.446517761496593,
          0.46206518122416806,
          -1.9906429718364005,
          -2.285783795424248,
          -1.547178208231487,
          -1.6173800954506117,
          -0.3725444966601268,
          -2.832083509299893,
          0.2059966448304298,
          1.8770832717449064,
          0.3673786650027955,
          0.331877842834154,
          0.3347137660515491,
          1.4607668198678274,
          -0.9977427699027039,
          -0.8832858339765224,
          -0.6745896399751703,
          -0.6411355068203646,
          2.7778048909620114,
          0.07687839071158997,
          -1.419599159523665,
          -0.5289806064266771,
          -0.03831552991890197,
          -1.7922306802181698,
          2.6990077704999598,
          2.625883235709864,
          -0.29751128687745654,
          1.959220436310921,
          2.1479322440139823,
          1.1845356379223144,
          -2.0383910763151363,
          1.8525308145180972,
          2.6612344939727075,
          -1.7087126381480577,
          -0.5854115705556957,
          -2.995264148289034,
          -2.2807439388760953,
          -2.0458888336837884,
          0.3550233939949221,
          0.6012184589858682,
          0.26289494716167017,
          0.9367866497460771,
          -2.946058850605719
         ],
         "y": [
          2.040043132460154,
          2.4937673354102565,
          4.9588055722745885,
          4.978396071702413,
          2.1602667287675033,
          6.0128848259512955,
          1.1121182884391185,
          2.31932324834409,
          0.6031519282621467,
          3.6691309675770656,
          4.052669713938007,
          6.265810872605101,
          2.093123166293271,
          5.5958909787435145,
          6.080970920261208,
          1.6227266121198456,
          9.205492211760367,
          3.8098430389096825,
          4.084068303313666,
          2.4903961073392336,
          3.4147327948933457,
          1.7406027902445755,
          1.172929358701645,
          2.2364563611022206,
          2.7647745871957614,
          6.079918951358329,
          0.12827772234284085,
          2.0221310656723754,
          3.221066703975983,
          2.059325342592766,
          6.169345319023922,
          3.2379344889038357,
          1.2740854564149209,
          2.68436401952179,
          3.805443357767688,
          3.6584680450909364,
          2.1868276683743977,
          4.656661198945109,
          3.0892970508386997,
          1.3908043884020884,
          0.9972541969660541,
          1.8530523438462803,
          6.061487357955416,
          7.777173178003528,
          1.2550295100146496,
          6.459780032295214,
          4.300776438889455,
          4.350644728549533,
          0.7726529035992509,
          5.228304800580621,
          1.3881365247847652,
          2.352986307771529,
          2.5298319328739494,
          4.85646005368729,
          2.5888479688750126,
          2.147251847527906,
          2.6455956213559566,
          2.056370755058234,
          5.454817842853649,
          0.5683508994907098,
          5.814726723898605,
          1.4117316588052837,
          2.879938635206246,
          -0.941759017789146,
          2.293560855599354,
          3.7234286078729193,
          6.456837490539103,
          7.666627444724243,
          10.688403453574757,
          9.38513214118985,
          8.853395838468256,
          -0.4626126942441253,
          1.179637903867696,
          3.7718403638155165,
          4.559280509190763,
          1.7533462725838158,
          5.7846481183397875,
          3.597999297861996,
          8.425111268522668,
          1.7628209773712644,
          5.460741720708184,
          5.928814282001026,
          3.4295411713884674,
          3.268929173176285,
          10.008783518285,
          4.387902843988216,
          2.2894382088078196,
          4.042564398802382,
          5.5699555517881745,
          1.8438577963726812,
          1.5964614790437142,
          2.204749204402583,
          7.441114444554999,
          1.6522743900648904,
          5.380831804902325,
          3.670605051119141,
          6.579996415253188,
          7.7728249971326795,
          1.9061105992489673,
          11.468388125667976,
          4.622095566524379,
          6.534644906718195,
          3.942080542182873,
          4.798992890401928,
          -0.11606703554542142,
          2.7248209573933346,
          9.319910631001264,
          6.512389305467045,
          3.0434981237909526,
          2.5299353929513737,
          2.019948711440589,
          1.8138939690578102,
          -0.19821847410620874,
          0.10667705134647587,
          0.04203674106517008,
          2.3989886169090004,
          1.912657586489764,
          7.581758699709238,
          2.212422285437122,
          3.137210883718154,
          6.2017387825959345,
          2.3450316093452215,
          1.9574662125460265,
          3.117289035946781,
          5.543656514205405,
          0.929206807597803,
          5.719678474665862,
          1.9472023232497617,
          2.9537028703582946,
          1.2622642584376491,
          4.5160324571296,
          2.190626095190581,
          1.3882266764388178,
          3.4716143205685643,
          2.738237845299818,
          9.21616366538045,
          3.4496754918869112,
          2.6672542405250943,
          0.5852051854869271,
          1.8179728557264516,
          2.607850313571489,
          10.311654543060474,
          9.3002538117311,
          1.8946442233135512,
          6.145518065167208,
          9.756382320726875,
          4.108310349022758,
          3.561643668865085,
          6.653575915801765,
          9.309012984433046,
          3.19153604701901,
          1.5569046079108106,
          6.336634827258654,
          3.286452701222743,
          2.712607504869733,
          3.0140408114976296,
          2.39102984173112,
          2.4469446256279332,
          3.1365190419753897,
          5.662263190666035
         ]
        },
        {
         "mode": "lines",
         "type": "scatter",
         "x": [
          -0.09582663042236916,
          0.5172475429312162,
          0.7241822415494448,
          -2.429590887111905,
          -1.176192440088814,
          -2.5935679192850625,
          -1.4604087205655234,
          -0.4881355329235757,
          -0.02599898033144843,
          0.9438622005312856,
          -2.2296451169149885,
          -2.911695488062444,
          -1.4671025589082862,
          -2.5149162502145472,
          1.8200207529986203,
          -1.148797578347367,
          2.260891345127593,
          -1.2175881189535378,
          -2.3322256860739863,
          -1.2366636080222817,
          0.9097609661741064,
          0.13508464259855302,
          -0.13778440132972847,
          -0.8385791015513133,
          -1.8527947953394366,
          -2.904997904987974,
          0.07080652128345477,
          -0.5119975234390806,
          -2.0947599049711085,
          -1.8875442777391978,
          -2.4910104517531746,
          -1.9122152148779614,
          -1.2337486016231507,
          -0.2681817432305875,
          -0.8891327243695093,
          -2.282475838286075,
          0.7710541229543475,
          1.268279698256979,
          0.5390442423272699,
          0.929394644998117,
          -0.696515029627296,
          0.06148493145136147,
          1.6500614331807748,
          1.7365875339544026,
          -1.2656930915347486,
          1.5902950231190474,
          -2.0083942062219657,
          1.1913480836109658,
          -0.959660875326537,
          -2.6135274361088254,
          0.31973186310824797,
          -1.3432755781991284,
          -1.2653463482648073,
          -2.6309018765409107,
          -0.9048434483184558,
          -1.2601416201233762,
          -1.279175027295255,
          -1.8288604978531842,
          1.647900839701796,
          -0.7008940435844417,
          1.1641490942983976,
          0.20745738181529472,
          0.6320836850528773,
          -1.0376297662371368,
          0.40338510688403506,
          0.20821848882312022,
          -2.6662113123552134,
          2.387580339234491,
          2.6520372458963646,
          2.4166914044650687,
          2.208193442410975,
          -0.806499052838455,
          -1.4420258263831658,
          -2.115239217045283,
          1.5915447890274024,
          -1.160297497717006,
          1.9052833735587198,
          -1.7539993747562432,
          2.4051175513407754,
          -0.44013797541370536,
          1.6518633369826272,
          -2.609018530396444,
          0.8033453819089065,
          1.1594646082961262,
          2.802544239015697,
          1.077798374799161,
          -0.1285910466057434,
          -2.2345470672148373,
          1.968692730627767,
          -1.347871387113923,
          -1.3549971175249726,
          -1.3984594300465711,
          2.426410301505319,
          -0.5877460652851445,
          -2.9379748583227108,
          -1.7056575607225557,
          -2.5981085793403538,
          -2.9166086172914256,
          -0.33882965471224846,
          2.9682339287136035,
          -2.6065171510791805,
          2.082805742318852,
          -2.0347198116343455,
          -2.485665016107003,
          0.07251578098397449,
          -0.9328080133546139,
          2.455997925168635,
          1.4555720339908556,
          1.5452309804028657,
          -0.10171886170952149,
          -1.3444418333514194,
          -1.1433792336114905,
          -1.6665124498220723,
          -0.4657317009494881,
          -0.2682676787036469,
          0.20624978647997594,
          -1.9954334389827035,
          2.446517761496593,
          0.46206518122416806,
          -1.9906429718364005,
          -2.285783795424248,
          -1.547178208231487,
          -1.6173800954506117,
          -0.3725444966601268,
          -2.832083509299893,
          0.2059966448304298,
          1.8770832717449064,
          0.3673786650027955,
          0.331877842834154,
          0.3347137660515491,
          1.4607668198678274,
          -0.9977427699027039,
          -0.8832858339765224,
          -0.6745896399751703,
          -0.6411355068203646,
          2.7778048909620114,
          0.07687839071158997,
          -1.419599159523665,
          -0.5289806064266771,
          -0.03831552991890197,
          -1.7922306802181698,
          2.6990077704999598,
          2.625883235709864,
          -0.29751128687745654,
          1.959220436310921,
          2.1479322440139823,
          1.1845356379223144,
          -2.0383910763151363,
          1.8525308145180972,
          2.6612344939727075,
          -1.7087126381480577,
          -0.5854115705556957,
          -2.995264148289034,
          -2.2807439388760953,
          -2.0458888336837884,
          0.3550233939949221,
          0.6012184589858682,
          0.26289494716167017,
          0.9367866497460771,
          -2.946058850605719
         ],
         "y": [
          1.7372475924432658,
          2.473102739598012,
          2.86087371321139,
          4.5855094960382,
          1.9434174173093617,
          5.122086497327247,
          2.3162500385445446,
          1.590374043112874,
          1.7898984878301607,
          3.349514558066257,
          3.9910069706300284,
          6.289074517157604,
          2.3266306078397223,
          4.859204211012842,
          6.087094088833336,
          1.9144935446205993,
          7.94158126560629,
          1.9894627795182194,
          4.287807083913684,
          2.0116284588790796,
          3.2684635192594813,
          1.9419127847193172,
          1.7094638217412685,
          1.6729959946528474,
          3.0490695429110035,
          6.262792321138312,
          1.8761420926947399,
          1.5895982438821874,
          3.627050738135673,
          3.126160426085217,
          4.781316402503678,
          3.182096536283063,
          2.0082025298196404,
          1.6415789418112152,
          1.7015673712579023,
          4.1417049520805,
          2.958478523555156,
          4.216127265538854,
          2.510632213672139,
          3.314895062196704,
          1.615184339332956,
          1.8671676313488406,
          5.4574552589209535,
          5.772073395913096,
          2.04650780673848,
          5.247320606242247,
          3.409710062262256,
          3.994980430129093,
          1.7484428026747403,
          5.190415248241289,
          2.168604981859691,
          2.1465188282718146,
          2.046083019707565,
          5.250427183713236,
          1.7113017933342212,
          2.039730564954584,
          2.063177361450361,
          2.997125679954901,
          5.449756516491474,
          1.6164710558510826,
          3.9191210890430925,
          2.024090193534988,
          2.679603959756189,
          1.8097746683547298,
          2.289743597219979,
          2.025000136261583,
          5.373915354694369,
          8.533554836020768,
          9.854243423253225,
          8.673306476923946,
          7.7031078906146355,
          1.6570429420029467,
          2.2881211742416028,
          3.6803847188825296,
          5.251654623008251,
          1.9264851616959209,
          6.4208376173254385,
          2.8407324223815804,
          8.617577880093858,
          1.5947678422955964,
          5.463881764380835,
          5.174922381535527,
          3.0278209140877843,
          3.906178515721243,
          10.657174777656593,
          3.6863391761346636,
          1.7153040775169694,
          4.004796631630938,
          6.676785028178135,
          2.152753500249953,
          2.162488875020045,
          2.223674454389,
          8.72027337700358,
          1.5933337679552064,
          6.39291011313887,
          2.7446335015430288,
          5.137573330703919,
          6.308401142320475,
          1.616467266973943,
          11.584140521772778,
          5.166341898988168,
          7.154035126675336,
          3.47466047015486,
          4.764028810606529,
          1.8778031893554075,
          1.7296320470025832,
          8.864211927963222,
          4.795167920662898,
          5.092759159170121,
          1.7331712833121875,
          2.1480976837550747,
          1.90891883277585,
          2.669630014942264,
          1.591953910959081,
          1.6415434150097825,
          2.022648403910206,
          3.3781515948631875,
          8.81793602044614,
          2.381579455888232,
          3.36655703209197,
          4.1512933463345885,
          2.4565167619816126,
          2.5790535291600323,
          1.6073737769138239,
          5.981435149705798,
          2.0223464731405483,
          6.309132062907851,
          2.236193215449132,
          2.185480161464634,
          2.1894551914513922,
          4.812049741979425,
          1.7771509861664339,
          1.6980481583258238,
          1.6092156155911013,
          1.6016303449014815,
          10.522638292045135,
          1.8820646306808297,
          2.254556494488954,
          1.5896159222229398,
          1.780029783750388,
          2.9194515082356762,
          10.100828927249243,
          9.718511353523105,
          1.6301583141976004,
          6.638131084636241,
          7.436000162133926,
          3.9758660913927297,
          3.4838086620318065,
          6.2129394366946755,
          9.902241680620424,
          2.7505930508255236,
          1.5930778560107755,
          6.623205595260979,
          4.136692064980233,
          3.502560640383575,
          2.21830875130646,
          2.6219722773053245,
          2.0928586371085065,
          3.332540467614969,
          6.425079949879691
         ]
        }
       ],
       "layout": {
        "autosize": true,
        "template": {
         "data": {
          "bar": [
           {
            "error_x": {
             "color": "#2a3f5f"
            },
            "error_y": {
             "color": "#2a3f5f"
            },
            "marker": {
             "line": {
              "color": "#E5ECF6",
              "width": 0.5
             },
             "pattern": {
              "fillmode": "overlay",
              "size": 10,
              "solidity": 0.2
             }
            },
            "type": "bar"
           }
          ],
          "barpolar": [
           {
            "marker": {
             "line": {
              "color": "#E5ECF6",
              "width": 0.5
             },
             "pattern": {
              "fillmode": "overlay",
              "size": 10,
              "solidity": 0.2
             }
            },
            "type": "barpolar"
           }
          ],
          "carpet": [
           {
            "aaxis": {
             "endlinecolor": "#2a3f5f",
             "gridcolor": "white",
             "linecolor": "white",
             "minorgridcolor": "white",
             "startlinecolor": "#2a3f5f"
            },
            "baxis": {
             "endlinecolor": "#2a3f5f",
             "gridcolor": "white",
             "linecolor": "white",
             "minorgridcolor": "white",
             "startlinecolor": "#2a3f5f"
            },
            "type": "carpet"
           }
          ],
          "choropleth": [
           {
            "colorbar": {
             "outlinewidth": 0,
             "ticks": ""
            },
            "type": "choropleth"
           }
          ],
          "contour": [
           {
            "colorbar": {
             "outlinewidth": 0,
             "ticks": ""
            },
            "colorscale": [
             [
              0,
              "#0d0887"
             ],
             [
              0.1111111111111111,
              "#46039f"
             ],
             [
              0.2222222222222222,
              "#7201a8"
             ],
             [
              0.3333333333333333,
              "#9c179e"
             ],
             [
              0.4444444444444444,
              "#bd3786"
             ],
             [
              0.5555555555555556,
              "#d8576b"
             ],
             [
              0.6666666666666666,
              "#ed7953"
             ],
             [
              0.7777777777777778,
              "#fb9f3a"
             ],
             [
              0.8888888888888888,
              "#fdca26"
             ],
             [
              1,
              "#f0f921"
             ]
            ],
            "type": "contour"
           }
          ],
          "contourcarpet": [
           {
            "colorbar": {
             "outlinewidth": 0,
             "ticks": ""
            },
            "type": "contourcarpet"
           }
          ],
          "heatmap": [
           {
            "colorbar": {
             "outlinewidth": 0,
             "ticks": ""
            },
            "colorscale": [
             [
              0,
              "#0d0887"
             ],
             [
              0.1111111111111111,
              "#46039f"
             ],
             [
              0.2222222222222222,
              "#7201a8"
             ],
             [
              0.3333333333333333,
              "#9c179e"
             ],
             [
              0.4444444444444444,
              "#bd3786"
             ],
             [
              0.5555555555555556,
              "#d8576b"
             ],
             [
              0.6666666666666666,
              "#ed7953"
             ],
             [
              0.7777777777777778,
              "#fb9f3a"
             ],
             [
              0.8888888888888888,
              "#fdca26"
             ],
             [
              1,
              "#f0f921"
             ]
            ],
            "type": "heatmap"
           }
          ],
          "heatmapgl": [
           {
            "colorbar": {
             "outlinewidth": 0,
             "ticks": ""
            },
            "colorscale": [
             [
              0,
              "#0d0887"
             ],
             [
              0.1111111111111111,
              "#46039f"
             ],
             [
              0.2222222222222222,
              "#7201a8"
             ],
             [
              0.3333333333333333,
              "#9c179e"
             ],
             [
              0.4444444444444444,
              "#bd3786"
             ],
             [
              0.5555555555555556,
              "#d8576b"
             ],
             [
              0.6666666666666666,
              "#ed7953"
             ],
             [
              0.7777777777777778,
              "#fb9f3a"
             ],
             [
              0.8888888888888888,
              "#fdca26"
             ],
             [
              1,
              "#f0f921"
             ]
            ],
            "type": "heatmapgl"
           }
          ],
          "histogram": [
           {
            "marker": {
             "pattern": {
              "fillmode": "overlay",
              "size": 10,
              "solidity": 0.2
             }
            },
            "type": "histogram"
           }
          ],
          "histogram2d": [
           {
            "colorbar": {
             "outlinewidth": 0,
             "ticks": ""
            },
            "colorscale": [
             [
              0,
              "#0d0887"
             ],
             [
              0.1111111111111111,
              "#46039f"
             ],
             [
              0.2222222222222222,
              "#7201a8"
             ],
             [
              0.3333333333333333,
              "#9c179e"
             ],
             [
              0.4444444444444444,
              "#bd3786"
             ],
             [
              0.5555555555555556,
              "#d8576b"
             ],
             [
              0.6666666666666666,
              "#ed7953"
             ],
             [
              0.7777777777777778,
              "#fb9f3a"
             ],
             [
              0.8888888888888888,
              "#fdca26"
             ],
             [
              1,
              "#f0f921"
             ]
            ],
            "type": "histogram2d"
           }
          ],
          "histogram2dcontour": [
           {
            "colorbar": {
             "outlinewidth": 0,
             "ticks": ""
            },
            "colorscale": [
             [
              0,
              "#0d0887"
             ],
             [
              0.1111111111111111,
              "#46039f"
             ],
             [
              0.2222222222222222,
              "#7201a8"
             ],
             [
              0.3333333333333333,
              "#9c179e"
             ],
             [
              0.4444444444444444,
              "#bd3786"
             ],
             [
              0.5555555555555556,
              "#d8576b"
             ],
             [
              0.6666666666666666,
              "#ed7953"
             ],
             [
              0.7777777777777778,
              "#fb9f3a"
             ],
             [
              0.8888888888888888,
              "#fdca26"
             ],
             [
              1,
              "#f0f921"
             ]
            ],
            "type": "histogram2dcontour"
           }
          ],
          "mesh3d": [
           {
            "colorbar": {
             "outlinewidth": 0,
             "ticks": ""
            },
            "type": "mesh3d"
           }
          ],
          "parcoords": [
           {
            "line": {
             "colorbar": {
              "outlinewidth": 0,
              "ticks": ""
             }
            },
            "type": "parcoords"
           }
          ],
          "pie": [
           {
            "automargin": true,
            "type": "pie"
           }
          ],
          "scatter": [
           {
            "fillpattern": {
             "fillmode": "overlay",
             "size": 10,
             "solidity": 0.2
            },
            "type": "scatter"
           }
          ],
          "scatter3d": [
           {
            "line": {
             "colorbar": {
              "outlinewidth": 0,
              "ticks": ""
             }
            },
            "marker": {
             "colorbar": {
              "outlinewidth": 0,
              "ticks": ""
             }
            },
            "type": "scatter3d"
           }
          ],
          "scattercarpet": [
           {
            "marker": {
             "colorbar": {
              "outlinewidth": 0,
              "ticks": ""
             }
            },
            "type": "scattercarpet"
           }
          ],
          "scattergeo": [
           {
            "marker": {
             "colorbar": {
              "outlinewidth": 0,
              "ticks": ""
             }
            },
            "type": "scattergeo"
           }
          ],
          "scattergl": [
           {
            "marker": {
             "colorbar": {
              "outlinewidth": 0,
              "ticks": ""
             }
            },
            "type": "scattergl"
           }
          ],
          "scattermapbox": [
           {
            "marker": {
             "colorbar": {
              "outlinewidth": 0,
              "ticks": ""
             }
            },
            "type": "scattermapbox"
           }
          ],
          "scatterpolar": [
           {
            "marker": {
             "colorbar": {
              "outlinewidth": 0,
              "ticks": ""
             }
            },
            "type": "scatterpolar"
           }
          ],
          "scatterpolargl": [
           {
            "marker": {
             "colorbar": {
              "outlinewidth": 0,
              "ticks": ""
             }
            },
            "type": "scatterpolargl"
           }
          ],
          "scatterternary": [
           {
            "marker": {
             "colorbar": {
              "outlinewidth": 0,
              "ticks": ""
             }
            },
            "type": "scatterternary"
           }
          ],
          "surface": [
           {
            "colorbar": {
             "outlinewidth": 0,
             "ticks": ""
            },
            "colorscale": [
             [
              0,
              "#0d0887"
             ],
             [
              0.1111111111111111,
              "#46039f"
             ],
             [
              0.2222222222222222,
              "#7201a8"
             ],
             [
              0.3333333333333333,
              "#9c179e"
             ],
             [
              0.4444444444444444,
              "#bd3786"
             ],
             [
              0.5555555555555556,
              "#d8576b"
             ],
             [
              0.6666666666666666,
              "#ed7953"
             ],
             [
              0.7777777777777778,
              "#fb9f3a"
             ],
             [
              0.8888888888888888,
              "#fdca26"
             ],
             [
              1,
              "#f0f921"
             ]
            ],
            "type": "surface"
           }
          ],
          "table": [
           {
            "cells": {
             "fill": {
              "color": "#EBF0F8"
             },
             "line": {
              "color": "white"
             }
            },
            "header": {
             "fill": {
              "color": "#C8D4E3"
             },
             "line": {
              "color": "white"
             }
            },
            "type": "table"
           }
          ]
         },
         "layout": {
          "annotationdefaults": {
           "arrowcolor": "#2a3f5f",
           "arrowhead": 0,
           "arrowwidth": 1
          },
          "autotypenumbers": "strict",
          "coloraxis": {
           "colorbar": {
            "outlinewidth": 0,
            "ticks": ""
           }
          },
          "colorscale": {
           "diverging": [
            [
             0,
             "#8e0152"
            ],
            [
             0.1,
             "#c51b7d"
            ],
            [
             0.2,
             "#de77ae"
            ],
            [
             0.3,
             "#f1b6da"
            ],
            [
             0.4,
             "#fde0ef"
            ],
            [
             0.5,
             "#f7f7f7"
            ],
            [
             0.6,
             "#e6f5d0"
            ],
            [
             0.7,
             "#b8e186"
            ],
            [
             0.8,
             "#7fbc41"
            ],
            [
             0.9,
             "#4d9221"
            ],
            [
             1,
             "#276419"
            ]
           ],
           "sequential": [
            [
             0,
             "#0d0887"
            ],
            [
             0.1111111111111111,
             "#46039f"
            ],
            [
             0.2222222222222222,
             "#7201a8"
            ],
            [
             0.3333333333333333,
             "#9c179e"
            ],
            [
             0.4444444444444444,
             "#bd3786"
            ],
            [
             0.5555555555555556,
             "#d8576b"
            ],
            [
             0.6666666666666666,
             "#ed7953"
            ],
            [
             0.7777777777777778,
             "#fb9f3a"
            ],
            [
             0.8888888888888888,
             "#fdca26"
            ],
            [
             1,
             "#f0f921"
            ]
           ],
           "sequentialminus": [
            [
             0,
             "#0d0887"
            ],
            [
             0.1111111111111111,
             "#46039f"
            ],
            [
             0.2222222222222222,
             "#7201a8"
            ],
            [
             0.3333333333333333,
             "#9c179e"
            ],
            [
             0.4444444444444444,
             "#bd3786"
            ],
            [
             0.5555555555555556,
             "#d8576b"
            ],
            [
             0.6666666666666666,
             "#ed7953"
            ],
            [
             0.7777777777777778,
             "#fb9f3a"
            ],
            [
             0.8888888888888888,
             "#fdca26"
            ],
            [
             1,
             "#f0f921"
            ]
           ]
          },
          "colorway": [
           "#636efa",
           "#EF553B",
           "#00cc96",
           "#ab63fa",
           "#FFA15A",
           "#19d3f3",
           "#FF6692",
           "#B6E880",
           "#FF97FF",
           "#FECB52"
          ],
          "font": {
           "color": "#2a3f5f"
          },
          "geo": {
           "bgcolor": "white",
           "lakecolor": "white",
           "landcolor": "#E5ECF6",
           "showlakes": true,
           "showland": true,
           "subunitcolor": "white"
          },
          "hoverlabel": {
           "align": "left"
          },
          "hovermode": "closest",
          "mapbox": {
           "style": "light"
          },
          "paper_bgcolor": "white",
          "plot_bgcolor": "#E5ECF6",
          "polar": {
           "angularaxis": {
            "gridcolor": "white",
            "linecolor": "white",
            "ticks": ""
           },
           "bgcolor": "#E5ECF6",
           "radialaxis": {
            "gridcolor": "white",
            "linecolor": "white",
            "ticks": ""
           }
          },
          "scene": {
           "xaxis": {
            "backgroundcolor": "#E5ECF6",
            "gridcolor": "white",
            "gridwidth": 2,
            "linecolor": "white",
            "showbackground": true,
            "ticks": "",
            "zerolinecolor": "white"
           },
           "yaxis": {
            "backgroundcolor": "#E5ECF6",
            "gridcolor": "white",
            "gridwidth": 2,
            "linecolor": "white",
            "showbackground": true,
            "ticks": "",
            "zerolinecolor": "white"
           },
           "zaxis": {
            "backgroundcolor": "#E5ECF6",
            "gridcolor": "white",
            "gridwidth": 2,
            "linecolor": "white",
            "showbackground": true,
            "ticks": "",
            "zerolinecolor": "white"
           }
          },
          "shapedefaults": {
           "line": {
            "color": "#2a3f5f"
           }
          },
          "ternary": {
           "aaxis": {
            "gridcolor": "white",
            "linecolor": "white",
            "ticks": ""
           },
           "baxis": {
            "gridcolor": "white",
            "linecolor": "white",
            "ticks": ""
           },
           "bgcolor": "#E5ECF6",
           "caxis": {
            "gridcolor": "white",
            "linecolor": "white",
            "ticks": ""
           }
          },
          "title": {
           "x": 0.05
          },
          "xaxis": {
           "automargin": true,
           "gridcolor": "white",
           "linecolor": "white",
           "ticks": "",
           "title": {
            "standoff": 15
           },
           "zerolinecolor": "white",
           "zerolinewidth": 2
          },
          "yaxis": {
           "automargin": true,
           "gridcolor": "white",
           "linecolor": "white",
           "ticks": "",
           "title": {
            "standoff": 15
           },
           "zerolinecolor": "white",
           "zerolinewidth": 2
          }
         }
        },
        "xaxis": {
         "autorange": true,
         "range": [
          -3.3992880888293064,
          3.372257869253876
         ],
         "type": "linear"
        },
        "yaxis": {
         "autorange": true,
         "range": [
          -1.9658973742880346,
          12.492526482166864
         ],
         "type": "linear"
        }
       }
      },
      "image/png": "[encoded data removed]",
      "text/html": [
       "<div>                            <div id=\"bf1a4b65-e951-41d0-a3ba-e4c73ba05767\" class=\"plotly-graph-div\" style=\"height:525px; width:100%;\"></div>            <script type=\"text/javascript\">                require([\"plotly\"], function(Plotly) {                    window.PLOTLYENV=window.PLOTLYENV || {};                                    if (document.getElementById(\"bf1a4b65-e951-41d0-a3ba-e4c73ba05767\")) {                    Plotly.newPlot(                        \"bf1a4b65-e951-41d0-a3ba-e4c73ba05767\",                        [{\"mode\":\"markers\",\"x\":[-0.09582663042236916,0.5172475429312162,0.7241822415494448,-2.429590887111905,-1.176192440088814,-2.5935679192850625,-1.4604087205655234,-0.4881355329235757,-0.02599898033144843,0.9438622005312856,-2.2296451169149885,-2.911695488062444,-1.4671025589082862,-2.5149162502145472,1.8200207529986203,-1.148797578347367,2.260891345127593,-1.2175881189535378,-2.3322256860739863,-1.2366636080222817,0.9097609661741064,0.13508464259855302,-0.13778440132972847,-0.8385791015513133,-1.8527947953394366,-2.904997904987974,0.07080652128345477,-0.5119975234390806,-2.0947599049711085,-1.8875442777391978,-2.4910104517531746,-1.9122152148779614,-1.2337486016231507,-0.2681817432305875,-0.8891327243695093,-2.282475838286075,0.7710541229543475,1.268279698256979,0.5390442423272699,0.929394644998117,-0.696515029627296,0.06148493145136147,1.6500614331807748,1.7365875339544026,-1.2656930915347486,1.5902950231190474,-2.0083942062219657,1.1913480836109658,-0.959660875326537,-2.6135274361088254,0.31973186310824797,-1.3432755781991284,-1.2653463482648073,-2.6309018765409107,-0.9048434483184558,-1.2601416201233762,-1.279175027295255,-1.8288604978531842,1.647900839701796,-0.7008940435844417,1.1641490942983976,0.20745738181529472,0.6320836850528773,-1.0376297662371368,0.40338510688403506,0.20821848882312022,-2.6662113123552134,2.387580339234491,2.6520372458963646,2.4166914044650687,2.208193442410975,-0.806499052838455,-1.4420258263831658,-2.115239217045283,1.5915447890274024,-1.160297497717006,1.9052833735587198,-1.7539993747562432,2.4051175513407754,-0.44013797541370536,1.6518633369826272,-2.609018530396444,0.8033453819089065,1.1594646082961262,2.802544239015697,1.077798374799161,-0.1285910466057434,-2.2345470672148373,1.968692730627767,-1.347871387113923,-1.3549971175249726,-1.3984594300465711,2.426410301505319,-0.5877460652851445,-2.9379748583227108,-1.7056575607225557,-2.5981085793403538,-2.9166086172914256,-0.33882965471224846,2.9682339287136035,-2.6065171510791805,2.082805742318852,-2.0347198116343455,-2.485665016107003,0.07251578098397449,-0.9328080133546139,2.455997925168635,1.4555720339908556,1.5452309804028657,-0.10171886170952149,-1.3444418333514194,-1.1433792336114905,-1.6665124498220723,-0.4657317009494881,-0.2682676787036469,0.20624978647997594,-1.9954334389827035,2.446517761496593,0.46206518122416806,-1.9906429718364005,-2.285783795424248,-1.547178208231487,-1.6173800954506117,-0.3725444966601268,-2.832083509299893,0.2059966448304298,1.8770832717449064,0.3673786650027955,0.331877842834154,0.3347137660515491,1.4607668198678274,-0.9977427699027039,-0.8832858339765224,-0.6745896399751703,-0.6411355068203646,2.7778048909620114,0.07687839071158997,-1.419599159523665,-0.5289806064266771,-0.03831552991890197,-1.7922306802181698,2.6990077704999598,2.625883235709864,-0.29751128687745654,1.959220436310921,2.1479322440139823,1.1845356379223144,-2.0383910763151363,1.8525308145180972,2.6612344939727075,-1.7087126381480577,-0.5854115705556957,-2.995264148289034,-2.2807439388760953,-2.0458888336837884,0.3550233939949221,0.6012184589858682,0.26289494716167017,0.9367866497460771,-2.946058850605719],\"y\":[2.040043132460154,2.4937673354102565,4.9588055722745885,4.978396071702413,2.1602667287675033,6.0128848259512955,1.1121182884391185,2.31932324834409,0.6031519282621467,3.6691309675770656,4.052669713938007,6.265810872605101,2.093123166293271,5.5958909787435145,6.080970920261208,1.6227266121198456,9.205492211760367,3.8098430389096825,4.084068303313666,2.4903961073392336,3.4147327948933457,1.7406027902445755,1.172929358701645,2.2364563611022206,2.7647745871957614,6.079918951358329,0.12827772234284085,2.0221310656723754,3.221066703975983,2.059325342592766,6.169345319023922,3.2379344889038357,1.2740854564149209,2.68436401952179,3.805443357767688,3.6584680450909364,2.1868276683743977,4.656661198945109,3.0892970508386997,1.3908043884020884,0.9972541969660541,1.8530523438462803,6.061487357955416,7.777173178003528,1.2550295100146496,6.459780032295214,4.300776438889455,4.350644728549533,0.7726529035992509,5.228304800580621,1.3881365247847652,2.352986307771529,2.5298319328739494,4.85646005368729,2.5888479688750126,2.147251847527906,2.6455956213559566,2.056370755058234,5.454817842853649,0.5683508994907098,5.814726723898605,1.4117316588052837,2.879938635206246,-0.941759017789146,2.293560855599354,3.7234286078729193,6.456837490539103,7.666627444724243,10.688403453574757,9.38513214118985,8.853395838468256,-0.4626126942441253,1.179637903867696,3.7718403638155165,4.559280509190763,1.7533462725838158,5.7846481183397875,3.597999297861996,8.425111268522668,1.7628209773712644,5.460741720708184,5.928814282001026,3.4295411713884674,3.268929173176285,10.008783518285,4.387902843988216,2.2894382088078196,4.042564398802382,5.5699555517881745,1.8438577963726812,1.5964614790437142,2.204749204402583,7.441114444554999,1.6522743900648904,5.380831804902325,3.670605051119141,6.579996415253188,7.7728249971326795,1.9061105992489673,11.468388125667976,4.622095566524379,6.534644906718195,3.942080542182873,4.798992890401928,-0.11606703554542142,2.7248209573933346,9.319910631001264,6.512389305467045,3.0434981237909526,2.5299353929513737,2.019948711440589,1.8138939690578102,-0.19821847410620874,0.10667705134647587,0.04203674106517008,2.3989886169090004,1.912657586489764,7.581758699709238,2.212422285437122,3.137210883718154,6.2017387825959345,2.3450316093452215,1.9574662125460265,3.117289035946781,5.543656514205405,0.929206807597803,5.719678474665862,1.9472023232497617,2.9537028703582946,1.2622642584376491,4.5160324571296,2.190626095190581,1.3882266764388178,3.4716143205685643,2.738237845299818,9.21616366538045,3.4496754918869112,2.6672542405250943,0.5852051854869271,1.8179728557264516,2.607850313571489,10.311654543060474,9.3002538117311,1.8946442233135512,6.145518065167208,9.756382320726875,4.108310349022758,3.561643668865085,6.653575915801765,9.309012984433046,3.19153604701901,1.5569046079108106,6.336634827258654,3.286452701222743,2.712607504869733,3.0140408114976296,2.39102984173112,2.4469446256279332,3.1365190419753897,5.662263190666035],\"type\":\"scatter\"},{\"mode\":\"lines\",\"x\":[-0.09582663042236916,0.5172475429312162,0.7241822415494448,-2.429590887111905,-1.176192440088814,-2.5935679192850625,-1.4604087205655234,-0.4881355329235757,-0.02599898033144843,0.9438622005312856,-2.2296451169149885,-2.911695488062444,-1.4671025589082862,-2.5149162502145472,1.8200207529986203,-1.148797578347367,2.260891345127593,-1.2175881189535378,-2.3322256860739863,-1.2366636080222817,0.9097609661741064,0.13508464259855302,-0.13778440132972847,-0.8385791015513133,-1.8527947953394366,-2.904997904987974,0.07080652128345477,-0.5119975234390806,-2.0947599049711085,-1.8875442777391978,-2.4910104517531746,-1.9122152148779614,-1.2337486016231507,-0.2681817432305875,-0.8891327243695093,-2.282475838286075,0.7710541229543475,1.268279698256979,0.5390442423272699,0.929394644998117,-0.696515029627296,0.06148493145136147,1.6500614331807748,1.7365875339544026,-1.2656930915347486,1.5902950231190474,-2.0083942062219657,1.1913480836109658,-0.959660875326537,-2.6135274361088254,0.31973186310824797,-1.3432755781991284,-1.2653463482648073,-2.6309018765409107,-0.9048434483184558,-1.2601416201233762,-1.279175027295255,-1.8288604978531842,1.647900839701796,-0.7008940435844417,1.1641490942983976,0.20745738181529472,0.6320836850528773,-1.0376297662371368,0.40338510688403506,0.20821848882312022,-2.6662113123552134,2.387580339234491,2.6520372458963646,2.4166914044650687,2.208193442410975,-0.806499052838455,-1.4420258263831658,-2.115239217045283,1.5915447890274024,-1.160297497717006,1.9052833735587198,-1.7539993747562432,2.4051175513407754,-0.44013797541370536,1.6518633369826272,-2.609018530396444,0.8033453819089065,1.1594646082961262,2.802544239015697,1.077798374799161,-0.1285910466057434,-2.2345470672148373,1.968692730627767,-1.347871387113923,-1.3549971175249726,-1.3984594300465711,2.426410301505319,-0.5877460652851445,-2.9379748583227108,-1.7056575607225557,-2.5981085793403538,-2.9166086172914256,-0.33882965471224846,2.9682339287136035,-2.6065171510791805,2.082805742318852,-2.0347198116343455,-2.485665016107003,0.07251578098397449,-0.9328080133546139,2.455997925168635,1.4555720339908556,1.5452309804028657,-0.10171886170952149,-1.3444418333514194,-1.1433792336114905,-1.6665124498220723,-0.4657317009494881,-0.2682676787036469,0.20624978647997594,-1.9954334389827035,2.446517761496593,0.46206518122416806,-1.9906429718364005,-2.285783795424248,-1.547178208231487,-1.6173800954506117,-0.3725444966601268,-2.832083509299893,0.2059966448304298,1.8770832717449064,0.3673786650027955,0.331877842834154,0.3347137660515491,1.4607668198678274,-0.9977427699027039,-0.8832858339765224,-0.6745896399751703,-0.6411355068203646,2.7778048909620114,0.07687839071158997,-1.419599159523665,-0.5289806064266771,-0.03831552991890197,-1.7922306802181698,2.6990077704999598,2.625883235709864,-0.29751128687745654,1.959220436310921,2.1479322440139823,1.1845356379223144,-2.0383910763151363,1.8525308145180972,2.6612344939727075,-1.7087126381480577,-0.5854115705556957,-2.995264148289034,-2.2807439388760953,-2.0458888336837884,0.3550233939949221,0.6012184589858682,0.26289494716167017,0.9367866497460771,-2.946058850605719],\"y\":[1.7372475924432658,2.473102739598012,2.86087371321139,4.5855094960382,1.9434174173093617,5.122086497327247,2.3162500385445446,1.590374043112874,1.7898984878301607,3.349514558066257,3.9910069706300284,6.289074517157604,2.3266306078397223,4.859204211012842,6.087094088833336,1.9144935446205993,7.94158126560629,1.9894627795182194,4.287807083913684,2.0116284588790796,3.2684635192594813,1.9419127847193172,1.7094638217412685,1.6729959946528474,3.0490695429110035,6.262792321138312,1.8761420926947399,1.5895982438821874,3.627050738135673,3.126160426085217,4.781316402503678,3.182096536283063,2.0082025298196404,1.6415789418112152,1.7015673712579023,4.1417049520805,2.958478523555156,4.216127265538854,2.510632213672139,3.314895062196704,1.615184339332956,1.8671676313488406,5.4574552589209535,5.772073395913096,2.04650780673848,5.247320606242247,3.409710062262256,3.994980430129093,1.7484428026747403,5.190415248241289,2.168604981859691,2.1465188282718146,2.046083019707565,5.250427183713236,1.7113017933342212,2.039730564954584,2.063177361450361,2.997125679954901,5.449756516491474,1.6164710558510826,3.9191210890430925,2.024090193534988,2.679603959756189,1.8097746683547298,2.289743597219979,2.025000136261583,5.373915354694369,8.533554836020768,9.854243423253225,8.673306476923946,7.7031078906146355,1.6570429420029467,2.2881211742416028,3.6803847188825296,5.251654623008251,1.9264851616959209,6.4208376173254385,2.8407324223815804,8.617577880093858,1.5947678422955964,5.463881764380835,5.174922381535527,3.0278209140877843,3.906178515721243,10.657174777656593,3.6863391761346636,1.7153040775169694,4.004796631630938,6.676785028178135,2.152753500249953,2.162488875020045,2.223674454389,8.72027337700358,1.5933337679552064,6.39291011313887,2.7446335015430288,5.137573330703919,6.308401142320475,1.616467266973943,11.584140521772778,5.166341898988168,7.154035126675336,3.47466047015486,4.764028810606529,1.8778031893554075,1.7296320470025832,8.864211927963222,4.795167920662898,5.092759159170121,1.7331712833121875,2.1480976837550747,1.90891883277585,2.669630014942264,1.591953910959081,1.6415434150097825,2.022648403910206,3.3781515948631875,8.81793602044614,2.381579455888232,3.36655703209197,4.1512933463345885,2.4565167619816126,2.5790535291600323,1.6073737769138239,5.981435149705798,2.0223464731405483,6.309132062907851,2.236193215449132,2.185480161464634,2.1894551914513922,4.812049741979425,1.7771509861664339,1.6980481583258238,1.6092156155911013,1.6016303449014815,10.522638292045135,1.8820646306808297,2.254556494488954,1.5896159222229398,1.780029783750388,2.9194515082356762,10.100828927249243,9.718511353523105,1.6301583141976004,6.638131084636241,7.436000162133926,3.9758660913927297,3.4838086620318065,6.2129394366946755,9.902241680620424,2.7505930508255236,1.5930778560107755,6.623205595260979,4.136692064980233,3.502560640383575,2.21830875130646,2.6219722773053245,2.0928586371085065,3.332540467614969,6.425079949879691],\"type\":\"scatter\"}],                        {\"template\":{\"data\":{\"histogram2dcontour\":[{\"type\":\"histogram2dcontour\",\"colorbar\":{\"outlinewidth\":0,\"ticks\":\"\"},\"colorscale\":[[0.0,\"#0d0887\"],[0.1111111111111111,\"#46039f\"],[0.2222222222222222,\"#7201a8\"],[0.3333333333333333,\"#9c179e\"],[0.4444444444444444,\"#bd3786\"],[0.5555555555555556,\"#d8576b\"],[0.6666666666666666,\"#ed7953\"],[0.7777777777777778,\"#fb9f3a\"],[0.8888888888888888,\"#fdca26\"],[1.0,\"#f0f921\"]]}],\"choropleth\":[{\"type\":\"choropleth\",\"colorbar\":{\"outlinewidth\":0,\"ticks\":\"\"}}],\"histogram2d\":[{\"type\":\"histogram2d\",\"colorbar\":{\"outlinewidth\":0,\"ticks\":\"\"},\"colorscale\":[[0.0,\"#0d0887\"],[0.1111111111111111,\"#46039f\"],[0.2222222222222222,\"#7201a8\"],[0.3333333333333333,\"#9c179e\"],[0.4444444444444444,\"#bd3786\"],[0.5555555555555556,\"#d8576b\"],[0.6666666666666666,\"#ed7953\"],[0.7777777777777778,\"#fb9f3a\"],[0.8888888888888888,\"#fdca26\"],[1.0,\"#f0f921\"]]}],\"heatmap\":[{\"type\":\"heatmap\",\"colorbar\":{\"outlinewidth\":0,\"ticks\":\"\"},\"colorscale\":[[0.0,\"#0d0887\"],[0.1111111111111111,\"#46039f\"],[0.2222222222222222,\"#7201a8\"],[0.3333333333333333,\"#9c179e\"],[0.4444444444444444,\"#bd3786\"],[0.5555555555555556,\"#d8576b\"],[0.6666666666666666,\"#ed7953\"],[0.7777777777777778,\"#fb9f3a\"],[0.8888888888888888,\"#fdca26\"],[1.0,\"#f0f921\"]]}],\"heatmapgl\":[{\"type\":\"heatmapgl\",\"colorbar\":{\"outlinewidth\":0,\"ticks\":\"\"},\"colorscale\":[[0.0,\"#0d0887\"],[0.1111111111111111,\"#46039f\"],[0.2222222222222222,\"#7201a8\"],[0.3333333333333333,\"#9c179e\"],[0.4444444444444444,\"#bd3786\"],[0.5555555555555556,\"#d8576b\"],[0.6666666666666666,\"#ed7953\"],[0.7777777777777778,\"#fb9f3a\"],[0.8888888888888888,\"#fdca26\"],[1.0,\"#f0f921\"]]}],\"contourcarpet\":[{\"type\":\"contourcarpet\",\"colorbar\":{\"outlinewidth\":0,\"ticks\":\"\"}}],\"contour\":[{\"type\":\"contour\",\"colorbar\":{\"outlinewidth\":0,\"ticks\":\"\"},\"colorscale\":[[0.0,\"#0d0887\"],[0.1111111111111111,\"#46039f\"],[0.2222222222222222,\"#7201a8\"],[0.3333333333333333,\"#9c179e\"],[0.4444444444444444,\"#bd3786\"],[0.5555555555555556,\"#d8576b\"],[0.6666666666666666,\"#ed7953\"],[0.7777777777777778,\"#fb9f3a\"],[0.8888888888888888,\"#fdca26\"],[1.0,\"#f0f921\"]]}],\"surface\":[{\"type\":\"surface\",\"colorbar\":{\"outlinewidth\":0,\"ticks\":\"\"},\"colorscale\":[[0.0,\"#0d0887\"],[0.1111111111111111,\"#46039f\"],[0.2222222222222222,\"#7201a8\"],[0.3333333333333333,\"#9c179e\"],[0.4444444444444444,\"#bd3786\"],[0.5555555555555556,\"#d8576b\"],[0.6666666666666666,\"#ed7953\"],[0.7777777777777778,\"#fb9f3a\"],[0.8888888888888888,\"#fdca26\"],[1.0,\"#f0f921\"]]}],\"mesh3d\":[{\"type\":\"mesh3d\",\"colorbar\":{\"outlinewidth\":0,\"ticks\":\"\"}}],\"scatter\":[{\"fillpattern\":{\"fillmode\":\"overlay\",\"size\":10,\"solidity\":0.2},\"type\":\"scatter\"}],\"parcoords\":[{\"type\":\"parcoords\",\"line\":{\"colorbar\":{\"outlinewidth\":0,\"ticks\":\"\"}}}],\"scatterpolargl\":[{\"type\":\"scatterpolargl\",\"marker\":{\"colorbar\":{\"outlinewidth\":0,\"ticks\":\"\"}}}],\"bar\":[{\"error_x\":{\"color\":\"#2a3f5f\"},\"error_y\":{\"color\":\"#2a3f5f\"},\"marker\":{\"line\":{\"color\":\"#E5ECF6\",\"width\":0.5},\"pattern\":{\"fillmode\":\"overlay\",\"size\":10,\"solidity\":0.2}},\"type\":\"bar\"}],\"scattergeo\":[{\"type\":\"scattergeo\",\"marker\":{\"colorbar\":{\"outlinewidth\":0,\"ticks\":\"\"}}}],\"scatterpolar\":[{\"type\":\"scatterpolar\",\"marker\":{\"colorbar\":{\"outlinewidth\":0,\"ticks\":\"\"}}}],\"histogram\":[{\"marker\":{\"pattern\":{\"fillmode\":\"overlay\",\"size\":10,\"solidity\":0.2}},\"type\":\"histogram\"}],\"scattergl\":[{\"type\":\"scattergl\",\"marker\":{\"colorbar\":{\"outlinewidth\":0,\"ticks\":\"\"}}}],\"scatter3d\":[{\"type\":\"scatter3d\",\"line\":{\"colorbar\":{\"outlinewidth\":0,\"ticks\":\"\"}},\"marker\":{\"colorbar\":{\"outlinewidth\":0,\"ticks\":\"\"}}}],\"scattermapbox\":[{\"type\":\"scattermapbox\",\"marker\":{\"colorbar\":{\"outlinewidth\":0,\"ticks\":\"\"}}}],\"scatterternary\":[{\"type\":\"scatterternary\",\"marker\":{\"colorbar\":{\"outlinewidth\":0,\"ticks\":\"\"}}}],\"scattercarpet\":[{\"type\":\"scattercarpet\",\"marker\":{\"colorbar\":{\"outlinewidth\":0,\"ticks\":\"\"}}}],\"carpet\":[{\"aaxis\":{\"endlinecolor\":\"#2a3f5f\",\"gridcolor\":\"white\",\"linecolor\":\"white\",\"minorgridcolor\":\"white\",\"startlinecolor\":\"#2a3f5f\"},\"baxis\":{\"endlinecolor\":\"#2a3f5f\",\"gridcolor\":\"white\",\"linecolor\":\"white\",\"minorgridcolor\":\"white\",\"startlinecolor\":\"#2a3f5f\"},\"type\":\"carpet\"}],\"table\":[{\"cells\":{\"fill\":{\"color\":\"#EBF0F8\"},\"line\":{\"color\":\"white\"}},\"header\":{\"fill\":{\"color\":\"#C8D4E3\"},\"line\":{\"color\":\"white\"}},\"type\":\"table\"}],\"barpolar\":[{\"marker\":{\"line\":{\"color\":\"#E5ECF6\",\"width\":0.5},\"pattern\":{\"fillmode\":\"overlay\",\"size\":10,\"solidity\":0.2}},\"type\":\"barpolar\"}],\"pie\":[{\"automargin\":true,\"type\":\"pie\"}]},\"layout\":{\"autotypenumbers\":\"strict\",\"colorway\":[\"#636efa\",\"#EF553B\",\"#00cc96\",\"#ab63fa\",\"#FFA15A\",\"#19d3f3\",\"#FF6692\",\"#B6E880\",\"#FF97FF\",\"#FECB52\"],\"font\":{\"color\":\"#2a3f5f\"},\"hovermode\":\"closest\",\"hoverlabel\":{\"align\":\"left\"},\"paper_bgcolor\":\"white\",\"plot_bgcolor\":\"#E5ECF6\",\"polar\":{\"bgcolor\":\"#E5ECF6\",\"angularaxis\":{\"gridcolor\":\"white\",\"linecolor\":\"white\",\"ticks\":\"\"},\"radialaxis\":{\"gridcolor\":\"white\",\"linecolor\":\"white\",\"ticks\":\"\"}},\"ternary\":{\"bgcolor\":\"#E5ECF6\",\"aaxis\":{\"gridcolor\":\"white\",\"linecolor\":\"white\",\"ticks\":\"\"},\"baxis\":{\"gridcolor\":\"white\",\"linecolor\":\"white\",\"ticks\":\"\"},\"caxis\":{\"gridcolor\":\"white\",\"linecolor\":\"white\",\"ticks\":\"\"}},\"coloraxis\":{\"colorbar\":{\"outlinewidth\":0,\"ticks\":\"\"}},\"colorscale\":{\"sequential\":[[0.0,\"#0d0887\"],[0.1111111111111111,\"#46039f\"],[0.2222222222222222,\"#7201a8\"],[0.3333333333333333,\"#9c179e\"],[0.4444444444444444,\"#bd3786\"],[0.5555555555555556,\"#d8576b\"],[0.6666666666666666,\"#ed7953\"],[0.7777777777777778,\"#fb9f3a\"],[0.8888888888888888,\"#fdca26\"],[1.0,\"#f0f921\"]],\"sequentialminus\":[[0.0,\"#0d0887\"],[0.1111111111111111,\"#46039f\"],[0.2222222222222222,\"#7201a8\"],[0.3333333333333333,\"#9c179e\"],[0.4444444444444444,\"#bd3786\"],[0.5555555555555556,\"#d8576b\"],[0.6666666666666666,\"#ed7953\"],[0.7777777777777778,\"#fb9f3a\"],[0.8888888888888888,\"#fdca26\"],[1.0,\"#f0f921\"]],\"diverging\":[[0,\"#8e0152\"],[0.1,\"#c51b7d\"],[0.2,\"#de77ae\"],[0.3,\"#f1b6da\"],[0.4,\"#fde0ef\"],[0.5,\"#f7f7f7\"],[0.6,\"#e6f5d0\"],[0.7,\"#b8e186\"],[0.8,\"#7fbc41\"],[0.9,\"#4d9221\"],[1,\"#276419\"]]},\"xaxis\":{\"gridcolor\":\"white\",\"linecolor\":\"white\",\"ticks\":\"\",\"title\":{\"standoff\":15},\"zerolinecolor\":\"white\",\"automargin\":true,\"zerolinewidth\":2},\"yaxis\":{\"gridcolor\":\"white\",\"linecolor\":\"white\",\"ticks\":\"\",\"title\":{\"standoff\":15},\"zerolinecolor\":\"white\",\"automargin\":true,\"zerolinewidth\":2},\"scene\":{\"xaxis\":{\"backgroundcolor\":\"#E5ECF6\",\"gridcolor\":\"white\",\"linecolor\":\"white\",\"showbackground\":true,\"ticks\":\"\",\"zerolinecolor\":\"white\",\"gridwidth\":2},\"yaxis\":{\"backgroundcolor\":\"#E5ECF6\",\"gridcolor\":\"white\",\"linecolor\":\"white\",\"showbackground\":true,\"ticks\":\"\",\"zerolinecolor\":\"white\",\"gridwidth\":2},\"zaxis\":{\"backgroundcolor\":\"#E5ECF6\",\"gridcolor\":\"white\",\"linecolor\":\"white\",\"showbackground\":true,\"ticks\":\"\",\"zerolinecolor\":\"white\",\"gridwidth\":2}},\"shapedefaults\":{\"line\":{\"color\":\"#2a3f5f\"}},\"annotationdefaults\":{\"arrowcolor\":\"#2a3f5f\",\"arrowhead\":0,\"arrowwidth\":1},\"geo\":{\"bgcolor\":\"white\",\"landcolor\":\"#E5ECF6\",\"subunitcolor\":\"white\",\"showland\":true,\"showlakes\":true,\"lakecolor\":\"white\"},\"title\":{\"x\":0.05},\"mapbox\":{\"style\":\"light\"}}}},                        {\"responsive\": true}                    ).then(function(){\n",
       "                            \n",
       "var gd = document.getElementById('bf1a4b65-e951-41d0-a3ba-e4c73ba05767');\n",
       "var x = new MutationObserver(function (mutations, observer) {{\n",
       "        var display = window.getComputedStyle(gd).display;\n",
       "        if (!display || display === 'none') {{\n",
       "            console.log([gd, 'removed!']);\n",
       "            Plotly.purge(gd);\n",
       "            observer.disconnect();\n",
       "        }}\n",
       "}});\n",
       "\n",
       "// Listen for the removal of the full notebook cells\n",
       "var notebookContainer = gd.closest('#notebook-container');\n",
       "if (notebookContainer) {{\n",
       "    x.observe(notebookContainer, {childList: true});\n",
       "}}\n",
       "\n",
       "// Listen for the clearing of the current output cell\n",
       "var outputEl = gd.closest('.output');\n",
       "if (outputEl) {{\n",
       "    x.observe(outputEl, {childList: true});\n",
       "}}\n",
       "\n",
       "                        })                };                });            </script>        </div>"
      ]
     },
     "metadata": {},
     "output_type": "display_data"
    }
   ],
   "source": [
    "fig = go.Figure()\n",
    "fig.add_trace(go.Scatter(x=X_train.ravel(),y = y_train.ravel(),mode = 'markers'))\n",
    "fig.add_trace(go.Scatter(x=X_train.ravel(),y = plr.predict(X_train_poly).ravel(),mode = 'lines'))"
   ]
  },
  {
   "cell_type": "code",
   "execution_count": 37,
   "id": "074174c4-a942-4ebc-85bf-34ea2fddffc6",
   "metadata": {},
   "outputs": [
    {
     "data": {
      "text/plain": [
       "array([[ 1.73724759],\n",
       "       [ 2.47310274],\n",
       "       [ 2.86087371],\n",
       "       [ 4.5855095 ],\n",
       "       [ 1.94341742],\n",
       "       [ 5.1220865 ],\n",
       "       [ 2.31625004],\n",
       "       [ 1.59037404],\n",
       "       [ 1.78989849],\n",
       "       [ 3.34951456],\n",
       "       [ 3.99100697],\n",
       "       [ 6.28907452],\n",
       "       [ 2.32663061],\n",
       "       [ 4.85920421],\n",
       "       [ 6.08709409],\n",
       "       [ 1.91449354],\n",
       "       [ 7.94158127],\n",
       "       [ 1.98946278],\n",
       "       [ 4.28780708],\n",
       "       [ 2.01162846],\n",
       "       [ 3.26846352],\n",
       "       [ 1.94191278],\n",
       "       [ 1.70946382],\n",
       "       [ 1.67299599],\n",
       "       [ 3.04906954],\n",
       "       [ 6.26279232],\n",
       "       [ 1.87614209],\n",
       "       [ 1.58959824],\n",
       "       [ 3.62705074],\n",
       "       [ 3.12616043],\n",
       "       [ 4.7813164 ],\n",
       "       [ 3.18209654],\n",
       "       [ 2.00820253],\n",
       "       [ 1.64157894],\n",
       "       [ 1.70156737],\n",
       "       [ 4.14170495],\n",
       "       [ 2.95847852],\n",
       "       [ 4.21612727],\n",
       "       [ 2.51063221],\n",
       "       [ 3.31489506],\n",
       "       [ 1.61518434],\n",
       "       [ 1.86716763],\n",
       "       [ 5.45745526],\n",
       "       [ 5.7720734 ],\n",
       "       [ 2.04650781],\n",
       "       [ 5.24732061],\n",
       "       [ 3.40971006],\n",
       "       [ 3.99498043],\n",
       "       [ 1.7484428 ],\n",
       "       [ 5.19041525],\n",
       "       [ 2.16860498],\n",
       "       [ 2.14651883],\n",
       "       [ 2.04608302],\n",
       "       [ 5.25042718],\n",
       "       [ 1.71130179],\n",
       "       [ 2.03973056],\n",
       "       [ 2.06317736],\n",
       "       [ 2.99712568],\n",
       "       [ 5.44975652],\n",
       "       [ 1.61647106],\n",
       "       [ 3.91912109],\n",
       "       [ 2.02409019],\n",
       "       [ 2.67960396],\n",
       "       [ 1.80977467],\n",
       "       [ 2.2897436 ],\n",
       "       [ 2.02500014],\n",
       "       [ 5.37391535],\n",
       "       [ 8.53355484],\n",
       "       [ 9.85424342],\n",
       "       [ 8.67330648],\n",
       "       [ 7.70310789],\n",
       "       [ 1.65704294],\n",
       "       [ 2.28812117],\n",
       "       [ 3.68038472],\n",
       "       [ 5.25165462],\n",
       "       [ 1.92648516],\n",
       "       [ 6.42083762],\n",
       "       [ 2.84073242],\n",
       "       [ 8.61757788],\n",
       "       [ 1.59476784],\n",
       "       [ 5.46388176],\n",
       "       [ 5.17492238],\n",
       "       [ 3.02782091],\n",
       "       [ 3.90617852],\n",
       "       [10.65717478],\n",
       "       [ 3.68633918],\n",
       "       [ 1.71530408],\n",
       "       [ 4.00479663],\n",
       "       [ 6.67678503],\n",
       "       [ 2.1527535 ],\n",
       "       [ 2.16248888],\n",
       "       [ 2.22367445],\n",
       "       [ 8.72027338],\n",
       "       [ 1.59333377],\n",
       "       [ 6.39291011],\n",
       "       [ 2.7446335 ],\n",
       "       [ 5.13757333],\n",
       "       [ 6.30840114],\n",
       "       [ 1.61646727],\n",
       "       [11.58414052],\n",
       "       [ 5.1663419 ],\n",
       "       [ 7.15403513],\n",
       "       [ 3.47466047],\n",
       "       [ 4.76402881],\n",
       "       [ 1.87780319],\n",
       "       [ 1.72963205],\n",
       "       [ 8.86421193],\n",
       "       [ 4.79516792],\n",
       "       [ 5.09275916],\n",
       "       [ 1.73317128],\n",
       "       [ 2.14809768],\n",
       "       [ 1.90891883],\n",
       "       [ 2.66963001],\n",
       "       [ 1.59195391],\n",
       "       [ 1.64154342],\n",
       "       [ 2.0226484 ],\n",
       "       [ 3.37815159],\n",
       "       [ 8.81793602],\n",
       "       [ 2.38157946],\n",
       "       [ 3.36655703],\n",
       "       [ 4.15129335],\n",
       "       [ 2.45651676],\n",
       "       [ 2.57905353],\n",
       "       [ 1.60737378],\n",
       "       [ 5.98143515],\n",
       "       [ 2.02234647],\n",
       "       [ 6.30913206],\n",
       "       [ 2.23619322],\n",
       "       [ 2.18548016],\n",
       "       [ 2.18945519],\n",
       "       [ 4.81204974],\n",
       "       [ 1.77715099],\n",
       "       [ 1.69804816],\n",
       "       [ 1.60921562],\n",
       "       [ 1.60163034],\n",
       "       [10.52263829],\n",
       "       [ 1.88206463],\n",
       "       [ 2.25455649],\n",
       "       [ 1.58961592],\n",
       "       [ 1.78002978],\n",
       "       [ 2.91945151],\n",
       "       [10.10082893],\n",
       "       [ 9.71851135],\n",
       "       [ 1.63015831],\n",
       "       [ 6.63813108],\n",
       "       [ 7.43600016],\n",
       "       [ 3.97586609],\n",
       "       [ 3.48380866],\n",
       "       [ 6.21293944],\n",
       "       [ 9.90224168],\n",
       "       [ 2.75059305],\n",
       "       [ 1.59307786],\n",
       "       [ 6.6232056 ],\n",
       "       [ 4.13669206],\n",
       "       [ 3.50256064],\n",
       "       [ 2.21830875],\n",
       "       [ 2.62197228],\n",
       "       [ 2.09285864],\n",
       "       [ 3.33254047],\n",
       "       [ 6.42507995]])"
      ]
     },
     "execution_count": 37,
     "metadata": {},
     "output_type": "execute_result"
    }
   ],
   "source": [
    "plr.predict(X_train_poly)"
   ]
  },
  {
   "cell_type": "code",
   "execution_count": 40,
   "id": "73ad4ef9-e7c9-4ed0-8880-d2375454b14b",
   "metadata": {},
   "outputs": [],
   "source": [
    "X_new=np.linspace(-3, 3, 200).reshape(200, 1)\n",
    "X_new_poly = poly.transform(X_new)\n",
    "y_new = plr.predict(X_new_poly)"
   ]
  },
  {
   "cell_type": "code",
   "execution_count": 42,
   "id": "18c7c527-2d3e-4442-b984-75590e17c35e",
   "metadata": {},
   "outputs": [
    {
     "data": {
      "image/png": "[encoded data removed]",
      "text/plain": [
       "<Figure size 640x480 with 1 Axes>"
      ]
     },
     "metadata": {},
     "output_type": "display_data"
    }
   ],
   "source": [
    "import matplotlib.pyplot as plt\n",
    "plt.plot(X_train, plr.predict(X_train_poly), \"r-\", linewidth=2, label=\"Predictions\")\n",
    "plt.plot(X_train, y_train, \"b.\",label='Training points')\n",
    "plt.plot(X_test, y_test, \"g.\",label='Testing points')\n",
    "plt.xlabel(\"X\")\n",
    "plt.ylabel(\"y\")\n",
    "plt.legend()\n",
    "plt.show()"
   ]
  },
  {
   "cell_type": "code",
   "execution_count": null,
   "id": "459a364e-c544-40f2-bd4b-a68ae31efee0",
   "metadata": {},
   "outputs": [],
   "source": []
  }
 ],
 "metadata": {
  "kernelspec": {
   "display_name": "Python 3 (ipykernel)",
   "language": "python",
   "name": "python3"
  },
  "language_info": {
   "codemirror_mode": {
    "name": "ipython",
    "version": 3
   },
   "file_extension": ".py",
   "mimetype": "text/x-python",
   "name": "python",
   "nbconvert_exporter": "python",
   "pygments_lexer": "ipython3",
   "version": "3.9.2"
  }
 },
 "nbformat": 4,
 "nbformat_minor": 5
}
