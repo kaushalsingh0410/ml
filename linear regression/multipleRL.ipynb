{
 "cells": [
  {
   "cell_type": "code",
   "execution_count": 1,
   "id": "ccccfc0e-2a7b-4720-946d-f9457cd0fe0f",
   "metadata": {},
   "outputs": [
    {
     "name": "stdout",
     "output_type": "stream",
     "text": [
      "ritu\n"
     ]
    }
   ],
   "source": [
    "print('ritu')"
   ]
  },
  {
   "cell_type": "code",
   "execution_count": 2,
   "id": "613ae7db-4fa3-4e3e-b8d9-26a05aeb7f75",
   "metadata": {},
   "outputs": [],
   "source": [
    "import numpy as np\n",
    "from sklearn.datasets import load_diabetes\n",
    "from sklearn.model_selection import train_test_split\n",
    "from sklearn.linear_model import LinearRegression\n",
    "from sklearn.metrics import mean_absolute_error,mean_squared_error,r2_score"
   ]
  },
  {
   "cell_type": "code",
   "execution_count": 3,
   "id": "792c754d-b950-4531-b711-e58fd99cd887",
   "metadata": {},
   "outputs": [],
   "source": [
    "X,y = load_diabetes(return_X_y = True)"
   ]
  },
  {
   "cell_type": "code",
   "execution_count": 4,
   "id": "ccdafa1d-7b1f-4519-ae3d-1f40025588b4",
   "metadata": {},
   "outputs": [
    {
     "data": {
      "text/plain": [
       "(442, 10)"
      ]
     },
     "execution_count": 4,
     "metadata": {},
     "output_type": "execute_result"
    }
   ],
   "source": [
    "X.shape"
   ]
  },
  {
   "cell_type": "code",
   "execution_count": 5,
   "id": "be65e4c4-ae4f-4538-999a-e1b77b7fc8a9",
   "metadata": {},
   "outputs": [
    {
     "data": {
      "text/plain": [
       "(442,)"
      ]
     },
     "execution_count": 5,
     "metadata": {},
     "output_type": "execute_result"
    }
   ],
   "source": [
    "y.shape"
   ]
  },
  {
   "cell_type": "markdown",
   "id": "ba1e3095-bb62-4cf9-8700-051962b47530",
   "metadata": {},
   "source": [
    "# SKlearn Linear Regression"
   ]
  },
  {
   "cell_type": "code",
   "execution_count": 6,
   "id": "cc6cc4da-b002-48d6-95a5-2193e9b8cbf8",
   "metadata": {},
   "outputs": [],
   "source": [
    "X_train,X_test,y_train,y_test = train_test_split(X,y,test_size = 0.2,random_state = 2)"
   ]
  },
  {
   "cell_type": "code",
   "execution_count": 7,
   "id": "7168e2d6-0e56-409f-86a7-2b574788218d",
   "metadata": {},
   "outputs": [
    {
     "data": {
      "text/plain": [
       "array([[-0.00188202, -0.04464164, -0.06979687, ..., -0.03949338,\n",
       "        -0.06291688,  0.04034337],\n",
       "       [-0.00914709, -0.04464164,  0.01103904, ..., -0.03949338,\n",
       "         0.01703607, -0.0052198 ],\n",
       "       [ 0.02354575,  0.05068012, -0.02021751, ..., -0.03949338,\n",
       "        -0.09643495, -0.01764613],\n",
       "       ...,\n",
       "       [ 0.06350368,  0.05068012, -0.00405033, ..., -0.00259226,\n",
       "         0.08449153, -0.01764613],\n",
       "       [-0.05273755,  0.05068012, -0.01806189, ...,  0.1081111 ,\n",
       "         0.03606033, -0.04249877],\n",
       "       [ 0.00175052,  0.05068012,  0.05954058, ...,  0.1081111 ,\n",
       "         0.06898589,  0.12732762]])"
      ]
     },
     "metadata": {},
     "output_type": "display_data"
    },
    {
     "data": {
      "text/plain": [
       "array([ 48., 276.,  47., 175.,  60.,  81., 242., 197., 137., 129., 138.,\n",
       "       160., 116., 101., 147., 100., 144.,  69., 219., 107., 168., 236.,\n",
       "       109., 321., 128.,  43.,  72.,  55., 141., 283.,  59., 150., 346.,\n",
       "       124., 186., 308., 272., 190.,  63.,  91.,  72.,  65., 158.,  90.,\n",
       "       185.,  45., 199., 206.,  61., 139., 296., 281., 122.,  95.,  40.,\n",
       "       127., 145., 108., 185.,  53., 132., 101., 263.,  94., 295., 259.,\n",
       "       232., 124.,  77., 102.,  96.,  83., 263.,  71., 246.,  66., 115.,\n",
       "       222.,  93., 129., 128., 163.,  99.,  92., 179., 140.,  94.,  97.,\n",
       "       174.,  61., 202., 135.,  88., 152.,  69.,  31., 248., 275.,  64.,\n",
       "        94.,  99., 109.,  90.,  37., 164., 274., 200.,  49., 214.,  85.,\n",
       "       154., 134., 164., 189.,  64., 150., 245.,  67., 265., 151.,  75.,\n",
       "       208., 292.,  90.,  59.,  44., 277.,  67.,  72., 182., 135., 275.,\n",
       "        95., 332., 214.,  53., 141., 102.,  88.,  74., 103., 292.,  70.,\n",
       "       138., 139.,  98.,  72.,  25.,  72., 264.,  93.,  52., 177., 245.,\n",
       "       270.,  42., 113., 134.,  50.,  71., 118.,  96., 181.,  97., 183.,\n",
       "       216., 283.,  90.,  71., 102., 248.,  97., 259., 297.,  78., 118.,\n",
       "       191.,  83., 103., 113., 146., 229.,  60., 144., 196., 265., 230.,\n",
       "       156.,  71.,  88., 310.,  53., 172., 262., 104., 265.,  75., 259.,\n",
       "       180., 167., 109., 181., 129.,  63., 281., 140., 206., 144., 110.,\n",
       "       221., 257., 275., 178., 246.,  49., 261., 182., 121., 173., 230.,\n",
       "       252., 190., 197., 118., 152., 242., 185.,  69., 215., 272.,  39.,\n",
       "       198., 104.,  66., 128.,  84.,  48., 125.,  52., 151.,  85., 209.,\n",
       "       303., 225., 143.,  96., 262., 273.,  63., 217.,  96.,  60., 241.,\n",
       "       170., 196., 104., 155., 235., 126.,  84., 180., 166.,  77., 258.,\n",
       "        53., 114., 178., 113., 279., 161., 144.,  51.,  57., 249.,  52.,\n",
       "       168.,  55., 131.,  78., 280., 220.,  65.,  89., 336., 310., 170.,\n",
       "       137.,  80.,  92., 150., 210.,  91., 233., 182., 101., 111., 168.,\n",
       "       258.,  51.,  90., 127.,  85.,  85., 142., 202., 310., 120., 107.,\n",
       "       155., 257.,  59., 143.,  59., 173.,  70.,  71., 198.,  72.,  42.,\n",
       "       192., 248., 153.,  52., 170.,  87., 252., 311., 225.,  58.,  39.,\n",
       "       302., 122., 220., 200., 275., 121., 293., 214., 219., 191., 142.,\n",
       "        49.,  48., 162., 172., 116., 281.,  42.,  83.,  68., 202., 171.,\n",
       "       268.])"
      ]
     },
     "metadata": {},
     "output_type": "display_data"
    },
    {
     "data": {
      "text/plain": [
       "array([[ 0.06713621, -0.04464164,  0.00349435,  0.03564379,  0.0493413 ,\n",
       "         0.03125356,  0.07072993, -0.03949338, -0.00061174,  0.01963284],\n",
       "       [-0.07816532,  0.05068012,  0.07786339,  0.05285804,  0.07823631,\n",
       "         0.0644473 ,  0.02655027, -0.00259226,  0.04067283, -0.00936191],\n",
       "       [ 0.04170844,  0.05068012, -0.01482845, -0.01713512, -0.00569682,\n",
       "         0.00839372, -0.01394774, -0.00185424, -0.01189685,  0.00306441],\n",
       "       [-0.04547248, -0.04464164, -0.04824063, -0.01944183, -0.00019301,\n",
       "        -0.01603186,  0.06704829, -0.03949338, -0.02479543,  0.01963284],\n",
       "       [ 0.0090156 ,  0.05068012,  0.06924089,  0.05974375,  0.01769438,\n",
       "        -0.02323427, -0.04708248,  0.03430886,  0.10329702,  0.07348023],\n",
       "       [ 0.03444337,  0.05068012,  0.12528712,  0.02875809, -0.05385517,\n",
       "        -0.01290037, -0.10230705,  0.1081111 ,  0.00027248,  0.02791705],\n",
       "       [-0.03457486, -0.04464164, -0.05901875,  0.00121528, -0.05385517,\n",
       "        -0.07803525,  0.06704829, -0.0763945 , -0.02139531,  0.01549073],\n",
       "       [-0.04910502, -0.04464164, -0.05686312, -0.04354178, -0.04559945,\n",
       "        -0.04327577,  0.00077881, -0.03949338, -0.01189685,  0.01549073],\n",
       "       [ 0.03081083, -0.04464164, -0.03315126, -0.02288468, -0.0469754 ,\n",
       "        -0.08116674,  0.10386467, -0.0763945 , -0.03980883, -0.05492509],\n",
       "       [-0.03094232,  0.05068012,  0.05954058,  0.00121528,  0.01219057,\n",
       "         0.03156671, -0.04340085,  0.03430886,  0.01482098,  0.00720652],\n",
       "       [-0.00914709,  0.05068012,  0.00133873, -0.00222757,  0.07961226,\n",
       "         0.07008397,  0.03391355, -0.00259226,  0.02671684,  0.08176444],\n",
       "       [ 0.03807591,  0.05068012, -0.01806189,  0.06662945, -0.05110326,\n",
       "        -0.01665815, -0.07653559,  0.03430886, -0.01189685, -0.01350402],\n",
       "       [ 0.0090156 ,  0.05068012,  0.03043966,  0.04252949, -0.00294491,\n",
       "         0.03689023, -0.06549067,  0.07120998, -0.02364686,  0.01549073],\n",
       "       [ 0.05987114, -0.04464164, -0.00081689, -0.08485599,  0.0754844 ,\n",
       "         0.07947843,  0.00446045,  0.03430886,  0.02337142,  0.02791705],\n",
       "       [ 0.02354575, -0.04464164,  0.11019775,  0.0631866 ,  0.01356652,\n",
       "        -0.03294187, -0.02499266,  0.02065544,  0.09924058,  0.02377494],\n",
       "       [ 0.0090156 , -0.04464164, -0.03207344, -0.02632753,  0.04246153,\n",
       "        -0.01039518,  0.15908923, -0.0763945 , -0.01189685, -0.03835666],\n",
       "       [-0.04547248, -0.04464164,  0.03906215,  0.00121528,  0.01631843,\n",
       "         0.01528299, -0.02867429,  0.02655962,  0.04452873, -0.02593034],\n",
       "       [-0.06726771, -0.04464164, -0.05901875,  0.03220094, -0.05110326,\n",
       "        -0.04953874, -0.01026611, -0.03949338,  0.00200444,  0.02377494],\n",
       "       [-0.03457486,  0.05068012, -0.02560657, -0.01713512,  0.00118295,\n",
       "        -0.00287962,  0.00814208, -0.01550765,  0.01482098,  0.04034337],\n",
       "       [ 0.04170844,  0.05068012, -0.01590626,  0.01729339, -0.03734373,\n",
       "        -0.01383982, -0.02499266, -0.01107952, -0.04688253,  0.01549073],\n",
       "       [ 0.00538306, -0.04464164,  0.05846277, -0.04354178, -0.07311851,\n",
       "        -0.07239858,  0.019187  , -0.0763945 , -0.05140387, -0.02593034],\n",
       "       [-0.0382074 ,  0.05068012,  0.07139652, -0.05731319,  0.15391371,\n",
       "         0.15588665,  0.00077881,  0.071948  ,  0.05028067,  0.06933812],\n",
       "       [ 0.0090156 ,  0.05068012, -0.03961813,  0.02875809,  0.03833367,\n",
       "         0.0735286 , -0.07285395,  0.1081111 ,  0.01556846, -0.04664087],\n",
       "       [ 0.04170844,  0.05068012,  0.01211685,  0.03908664,  0.05484511,\n",
       "         0.0444058 ,  0.00446045, -0.00259226,  0.04560437, -0.0010777 ],\n",
       "       [ 0.03081083, -0.04464164, -0.02021751, -0.00567042, -0.00432087,\n",
       "        -0.02949724,  0.0780932 , -0.03949338, -0.01090325, -0.0010777 ],\n",
       "       [-0.02730979, -0.04464164,  0.04768465, -0.04698463,  0.03420581,\n",
       "         0.05724488, -0.08021722,  0.13025177,  0.04506655,  0.13146972],\n",
       "       [ 0.01628068,  0.05068012,  0.07247433,  0.076958  , -0.00844872,\n",
       "         0.00557539, -0.00658447, -0.00259226, -0.02364686,  0.06105391],\n",
       "       [ 0.0090156 , -0.04464164, -0.02452876, -0.02632753,  0.0988756 ,\n",
       "         0.0941964 ,  0.07072993, -0.00259226, -0.02139531,  0.00720652],\n",
       "       [ 0.00175052, -0.04464164, -0.03961813, -0.10093411, -0.02908802,\n",
       "        -0.03012354,  0.04495846, -0.05019471, -0.06833155, -0.12948301],\n",
       "       [-0.04547248,  0.05068012,  0.06385183,  0.0700723 ,  0.13327442,\n",
       "         0.13146107, -0.03971921,  0.1081111 ,  0.07574055,  0.08590655],\n",
       "       [-0.02004471, -0.04464164,  0.08540807, -0.03665608,  0.09199583,\n",
       "         0.08949918, -0.06180903,  0.14501222,  0.08094556,  0.05276969],\n",
       "       [-0.00188202, -0.04464164, -0.06656343,  0.00121528, -0.00294491,\n",
       "         0.0030702 ,  0.01182372, -0.00259226, -0.02029232, -0.02593034],\n",
       "       [-0.09632802, -0.04464164, -0.06979687, -0.06764174, -0.01945635,\n",
       "        -0.01070833,  0.01550536, -0.03949338, -0.04688253, -0.07977773],\n",
       "       [-0.00551455,  0.05068012, -0.03315126, -0.01599898,  0.00806271,\n",
       "         0.01622244,  0.01550536, -0.00259226, -0.02832317, -0.07563562],\n",
       "       [-0.01641217,  0.05068012,  0.00241654,  0.01498668,  0.02182224,\n",
       "        -0.01008203, -0.02499266,  0.03430886,  0.08553071,  0.08176444],\n",
       "       [-0.00551455, -0.04464164,  0.00888341, -0.05042748,  0.0259501 ,\n",
       "         0.04722413, -0.04340085,  0.07120998,  0.01482098,  0.00306441],\n",
       "       [ 0.04534098,  0.05068012,  0.01966154,  0.03908664,  0.02044629,\n",
       "         0.02593004,  0.00814208, -0.00259226, -0.00330084,  0.01963284],\n",
       "       [ 0.03807591,  0.05068012,  0.0164281 ,  0.02187239,  0.03970963,\n",
       "         0.04503209, -0.04340085,  0.07120998,  0.0497702 ,  0.01549073],\n",
       "       [ 0.01628068, -0.04464164, -0.02884001, -0.00911327, -0.00432087,\n",
       "        -0.00976889,  0.04495846, -0.03949338, -0.03074792, -0.04249877],\n",
       "       [ 0.05987114, -0.04464164, -0.02129532,  0.08728655,  0.04521344,\n",
       "         0.03156671, -0.04708248,  0.07120998,  0.07912244,  0.13561183],\n",
       "       [-0.06000263,  0.05068012,  0.05415152, -0.01944183, -0.04972731,\n",
       "        -0.04891244,  0.02286863, -0.03949338, -0.04398377, -0.0052198 ],\n",
       "       [ 0.03807591,  0.05068012, -0.02452876,  0.00465813, -0.02633611,\n",
       "        -0.02636575,  0.01550536, -0.03949338, -0.01599887, -0.02593034],\n",
       "       [-0.07453279,  0.05068012,  0.05522933, -0.04009893,  0.05346915,\n",
       "         0.05317395, -0.04340085,  0.07120998,  0.06123763, -0.03421455],\n",
       "       [-0.04547248,  0.05068012, -0.02452876,  0.05974375,  0.0053108 ,\n",
       "         0.01496984, -0.05444576,  0.07120998,  0.04234098,  0.01549073],\n",
       "       [ 0.08529891,  0.05068012,  0.04445121, -0.00567042, -0.04559945,\n",
       "        -0.03419447, -0.03235593, -0.00259226,  0.00286131, -0.02593034],\n",
       "       [-0.06726771,  0.05068012, -0.01267283, -0.04009893, -0.01532849,\n",
       "         0.00463594, -0.0581274 ,  0.03430886,  0.01919647, -0.03421455],\n",
       "       [ 0.0562386 ,  0.05068012,  0.02181716,  0.0563009 , -0.00707277,\n",
       "         0.01810133, -0.03235593, -0.00259226, -0.02364686,  0.02377494],\n",
       "       [ 0.02354575,  0.05068012,  0.06169621,  0.06205046,  0.02457414,\n",
       "        -0.03607336, -0.09126214,  0.15534454,  0.13339674,  0.08176444],\n",
       "       [ 0.01628068,  0.05068012, -0.046085  ,  0.01154383, -0.03321588,\n",
       "        -0.01603186, -0.01026611, -0.00259226, -0.04398377, -0.04249877],\n",
       "       [ 0.08166637,  0.05068012,  0.00672779, -0.00453428,  0.10988322,\n",
       "         0.11705624, -0.03235593,  0.09187461,  0.05471997,  0.00720652],\n",
       "       [-0.02730979,  0.05068012,  0.06061839,  0.10794366,  0.01219057,\n",
       "        -0.0175976 , -0.00290283, -0.00259226,  0.07020738,  0.13561183],\n",
       "       [-0.05273755, -0.04464164,  0.05415152, -0.02632753, -0.05523112,\n",
       "        -0.03388132, -0.01394774, -0.03949338, -0.07409261, -0.05906719],\n",
       "       [-0.04910502, -0.04464164,  0.00457217,  0.01154383, -0.03734373,\n",
       "        -0.01853704, -0.01762938, -0.00259226, -0.03980883, -0.02178823],\n",
       "       [ 0.07803383,  0.05068012, -0.02452876, -0.04240564,  0.00668676,\n",
       "         0.05286081, -0.06917231,  0.08080427, -0.03712884,  0.0569118 ],\n",
       "       [ 0.05987114,  0.05068012,  0.02289497,  0.04941519,  0.01631843,\n",
       "         0.01183836, -0.01394774, -0.00259226,  0.03954249,  0.01963284],\n",
       "       [ 0.02354575,  0.05068012, -0.03099563, -0.00567042, -0.01670444,\n",
       "         0.01778818, -0.03235593, -0.00259226, -0.07409261, -0.03421455],\n",
       "       [ 0.04170844,  0.05068012, -0.03854032,  0.05285804,  0.07686035,\n",
       "         0.11642994, -0.03971921,  0.07120998, -0.02251653, -0.01350402],\n",
       "       [-0.04183994, -0.04464164, -0.04931844, -0.03665608, -0.00707277,\n",
       "        -0.02260797,  0.08545648, -0.03949338, -0.0664902 ,  0.00720652],\n",
       "       [-0.00914709, -0.04464164, -0.01590626,  0.0700723 ,  0.01219057,\n",
       "         0.02217226,  0.01550536, -0.00259226, -0.03324559,  0.04862759],\n",
       "       [-0.06363517, -0.04464164,  0.03582872, -0.02288468, -0.03046397,\n",
       "        -0.01885019, -0.00658447, -0.00259226, -0.02595311, -0.05492509],\n",
       "       [ 0.05260606,  0.05068012, -0.02452876,  0.0563009 , -0.00707277,\n",
       "        -0.00507166, -0.02131102, -0.00259226,  0.02671684, -0.03835666],\n",
       "       [ 0.05987114,  0.05068012,  0.04121778,  0.01154383,  0.04108558,\n",
       "         0.07071027, -0.03603757,  0.03430886, -0.01090325, -0.03007245],\n",
       "       [ 0.04170844, -0.04464164, -0.00836158, -0.02632753,  0.02457414,\n",
       "         0.01622244,  0.07072993, -0.03949338, -0.04835926, -0.03007245],\n",
       "       [-0.00551455, -0.04464164,  0.0433734 ,  0.08728655,  0.01356652,\n",
       "         0.00714113, -0.01394774, -0.00259226,  0.04234098, -0.01764613],\n",
       "       [-0.00914709,  0.05068012, -0.01806189, -0.03321323, -0.0208323 ,\n",
       "         0.01215151, -0.07285395,  0.07120998,  0.00027248,  0.01963284],\n",
       "       [ 0.06350368,  0.05068012, -0.00189471,  0.06662945,  0.09061988,\n",
       "         0.10891438,  0.02286863,  0.01770335, -0.03581619,  0.00306441],\n",
       "       [ 0.01628068,  0.05068012,  0.00996123, -0.04354178, -0.09650971,\n",
       "        -0.09463212, -0.03971921, -0.03949338,  0.01703607,  0.00720652],\n",
       "       [ 0.01264814, -0.04464164, -0.02021751, -0.01599898,  0.01219057,\n",
       "         0.02123281, -0.07653559,  0.1081111 ,  0.0598794 , -0.02178823],\n",
       "       [ 0.01628068, -0.04464164, -0.046085  , -0.00567042, -0.07587041,\n",
       "        -0.06143838, -0.01394774, -0.03949338, -0.05140387,  0.01963284],\n",
       "       [-0.00188202,  0.05068012, -0.03315126, -0.01830569,  0.03145391,\n",
       "         0.04284006, -0.01394774,  0.01991742,  0.01022672,  0.02791705],\n",
       "       [ 0.07440129, -0.04464164,  0.114509  ,  0.02875809,  0.02457414,\n",
       "         0.02499059,  0.019187  , -0.00259226, -0.00061174, -0.0052198 ],\n",
       "       [-0.00551455, -0.04464164,  0.06492964,  0.03564379, -0.00156896,\n",
       "         0.01496984, -0.01394774,  0.00072884, -0.01811369,  0.03205916],\n",
       "       [ 0.05260606, -0.04464164, -0.02129532, -0.07452744, -0.04009564,\n",
       "        -0.0376391 , -0.00658447, -0.03949338, -0.00061174, -0.05492509],\n",
       "       [-0.02367725,  0.05068012, -0.02560657,  0.04252949, -0.05385517,\n",
       "        -0.04765985, -0.02131102, -0.03949338,  0.00114758,  0.01963284],\n",
       "       [ 0.01628068, -0.04464164, -0.04716281, -0.00222757, -0.01945635,\n",
       "        -0.04296262,  0.03391355, -0.03949338,  0.02736405,  0.02791705],\n",
       "       [-0.05273755, -0.04464164, -0.01267283, -0.06075604, -0.00019301,\n",
       "         0.00808058,  0.01182372, -0.00259226, -0.02712902, -0.05078298],\n",
       "       [-0.09632802, -0.04464164, -0.03638469, -0.07452744, -0.03871969,\n",
       "        -0.02761835,  0.01550536, -0.03949338, -0.07409261, -0.0010777 ],\n",
       "       [-0.00551455,  0.05068012,  0.00133873, -0.08485599, -0.01120063,\n",
       "        -0.01665815,  0.0486401 , -0.03949338, -0.04117617, -0.08806194],\n",
       "       [ 0.00175052,  0.05068012,  0.01103904, -0.01944183, -0.01670444,\n",
       "        -0.00381907, -0.04708248,  0.03430886,  0.02405509,  0.02377494],\n",
       "       [-0.10359309,  0.05068012, -0.046085  , -0.02632753, -0.02496016,\n",
       "        -0.02480001,  0.03023191, -0.03949338, -0.03980883, -0.05492509],\n",
       "       [-0.04547248, -0.04464164,  0.01535029, -0.07452744, -0.04972731,\n",
       "        -0.01728445, -0.02867429, -0.00259226, -0.10436552, -0.07563562],\n",
       "       [ 0.00175052,  0.05068012, -0.05794093, -0.04354178, -0.09650971,\n",
       "        -0.04703355, -0.09862541,  0.03430886, -0.0611758 , -0.07149352],\n",
       "       [-0.0382074 , -0.04464164,  0.06708527, -0.06075604, -0.02908802,\n",
       "        -0.02323427, -0.01026611, -0.00259226, -0.00149595,  0.01963284],\n",
       "       [-0.05273755,  0.05068012,  0.09834182,  0.08728655,  0.06034892,\n",
       "         0.04878988, -0.0581274 ,  0.1081111 ,  0.08449153,  0.04034337],\n",
       "       [ 0.0090156 , -0.04464164,  0.0164281 ,  0.00465813,  0.00943866,\n",
       "         0.01058576, -0.02867429,  0.03430886,  0.03896821,  0.1190434 ],\n",
       "       [-0.05273755, -0.04464164,  0.07139652, -0.07452744, -0.01532849,\n",
       "        -0.00131388,  0.00446045, -0.02141183, -0.04688253,  0.00306441],\n",
       "       [ 0.03081083, -0.04464164,  0.10480869,  0.076958  , -0.01120063,\n",
       "        -0.01133463, -0.0581274 ,  0.03430886,  0.05710826,  0.03620126],\n",
       "       [ 0.02354575, -0.04464164,  0.0703187 ,  0.02531524, -0.03459183,\n",
       "        -0.01446611, -0.03235593, -0.00259226, -0.01919845, -0.00936191],\n",
       "       [ 0.0562386 ,  0.05068012, -0.03099563,  0.00810098,  0.01907033,\n",
       "         0.02123281,  0.03391355, -0.03949338, -0.02952643, -0.05906719]])"
      ]
     },
     "metadata": {},
     "output_type": "display_data"
    },
    {
     "data": {
      "text/plain": [
       "array([ 73., 233.,  97., 111., 277., 341.,  64.,  68.,  65., 178., 142.,\n",
       "        77., 244., 115., 258.,  87., 220.,  86.,  74., 132., 136., 220.,\n",
       "        91., 235., 148., 317., 131.,  84.,  65., 217., 306.,  79., 158.,\n",
       "        54., 123., 174., 237., 212., 179., 281., 187., 200.,  68., 163.,\n",
       "       141., 202., 178., 242.,  47., 131., 243., 142., 200.,  89., 232.,\n",
       "        55., 253., 128., 104., 184., 110., 198.,  81., 195., 150.,  63.,\n",
       "       151., 233., 178.,  84., 237., 109., 131., 252., 200., 160., 200.,\n",
       "        51., 111.,  77., 201.,  88.,  78., 243., 268.,  55., 270., 288.,\n",
       "        91.])"
      ]
     },
     "metadata": {},
     "output_type": "display_data"
    }
   ],
   "source": [
    "display(X_train)\n",
    "display(y_train)\n",
    "display(X_test)\n",
    "display(y_test)"
   ]
  },
  {
   "cell_type": "code",
   "execution_count": 8,
   "id": "1d610fb0-89bc-4fe3-9948-7ff32a255166",
   "metadata": {},
   "outputs": [
    {
     "name": "stdout",
     "output_type": "stream",
     "text": [
      "(353, 10)\n",
      "(353,)\n",
      "(89, 10)\n",
      "(89,)\n"
     ]
    }
   ],
   "source": [
    "print(X_train.shape)\n",
    "print(y_train.shape)\n",
    "print(X_test.shape)\n",
    "print(y_test.shape)"
   ]
  },
  {
   "cell_type": "code",
   "execution_count": 9,
   "id": "6642d7dc-3bea-4145-b7fc-92616cb7f98c",
   "metadata": {},
   "outputs": [],
   "source": [
    "lr = LinearRegression()"
   ]
  },
  {
   "cell_type": "code",
   "execution_count": 10,
   "id": "ec864356-9732-41a9-9fec-9ec5df531a6c",
   "metadata": {},
   "outputs": [
    {
     "data": {
      "text/html": [
       "<style>#sk-container-id-1 {\n",
       "  /* Definition of color scheme common for light and dark mode */\n",
       "  --sklearn-color-text: black;\n",
       "  --sklearn-color-line: gray;\n",
       "  /* Definition of color scheme for unfitted estimators */\n",
       "  --sklearn-color-unfitted-level-0: #fff5e6;\n",
       "  --sklearn-color-unfitted-level-1: #f6e4d2;\n",
       "  --sklearn-color-unfitted-level-2: #ffe0b3;\n",
       "  --sklearn-color-unfitted-level-3: chocolate;\n",
       "  /* Definition of color scheme for fitted estimators */\n",
       "  --sklearn-color-fitted-level-0: #f0f8ff;\n",
       "  --sklearn-color-fitted-level-1: #d4ebff;\n",
       "  --sklearn-color-fitted-level-2: #b3dbfd;\n",
       "  --sklearn-color-fitted-level-3: cornflowerblue;\n",
       "\n",
       "  /* Specific color for light theme */\n",
       "  --sklearn-color-text-on-default-background: var(--sg-text-color, var(--theme-code-foreground, var(--jp-content-font-color1, black)));\n",
       "  --sklearn-color-background: var(--sg-background-color, var(--theme-background, var(--jp-layout-color0, white)));\n",
       "  --sklearn-color-border-box: var(--sg-text-color, var(--theme-code-foreground, var(--jp-content-font-color1, black)));\n",
       "  --sklearn-color-icon: #696969;\n",
       "\n",
       "  @media (prefers-color-scheme: dark) {\n",
       "    /* Redefinition of color scheme for dark theme */\n",
       "    --sklearn-color-text-on-default-background: var(--sg-text-color, var(--theme-code-foreground, var(--jp-content-font-color1, white)));\n",
       "    --sklearn-color-background: var(--sg-background-color, var(--theme-background, var(--jp-layout-color0, #111)));\n",
       "    --sklearn-color-border-box: var(--sg-text-color, var(--theme-code-foreground, var(--jp-content-font-color1, white)));\n",
       "    --sklearn-color-icon: #878787;\n",
       "  }\n",
       "}\n",
       "\n",
       "#sk-container-id-1 {\n",
       "  color: var(--sklearn-color-text);\n",
       "}\n",
       "\n",
       "#sk-container-id-1 pre {\n",
       "  padding: 0;\n",
       "}\n",
       "\n",
       "#sk-container-id-1 input.sk-hidden--visually {\n",
       "  border: 0;\n",
       "  clip: rect(1px 1px 1px 1px);\n",
       "  clip: rect(1px, 1px, 1px, 1px);\n",
       "  height: 1px;\n",
       "  margin: -1px;\n",
       "  overflow: hidden;\n",
       "  padding: 0;\n",
       "  position: absolute;\n",
       "  width: 1px;\n",
       "}\n",
       "\n",
       "#sk-container-id-1 div.sk-dashed-wrapped {\n",
       "  border: 1px dashed var(--sklearn-color-line);\n",
       "  margin: 0 0.4em 0.5em 0.4em;\n",
       "  box-sizing: border-box;\n",
       "  padding-bottom: 0.4em;\n",
       "  background-color: var(--sklearn-color-background);\n",
       "}\n",
       "\n",
       "#sk-container-id-1 div.sk-container {\n",
       "  /* jupyter's `normalize.less` sets `[hidden] { display: none; }`\n",
       "     but bootstrap.min.css set `[hidden] { display: none !important; }`\n",
       "     so we also need the `!important` here to be able to override the\n",
       "     default hidden behavior on the sphinx rendered scikit-learn.org.\n",
       "     See: https://github.com/scikit-learn/scikit-learn/issues/21755 */\n",
       "  display: inline-block !important;\n",
       "  position: relative;\n",
       "}\n",
       "\n",
       "#sk-container-id-1 div.sk-text-repr-fallback {\n",
       "  display: none;\n",
       "}\n",
       "\n",
       "div.sk-parallel-item,\n",
       "div.sk-serial,\n",
       "div.sk-item {\n",
       "  /* draw centered vertical line to link estimators */\n",
       "  background-image: linear-gradient(var(--sklearn-color-text-on-default-background), var(--sklearn-color-text-on-default-background));\n",
       "  background-size: 2px 100%;\n",
       "  background-repeat: no-repeat;\n",
       "  background-position: center center;\n",
       "}\n",
       "\n",
       "/* Parallel-specific style estimator block */\n",
       "\n",
       "#sk-container-id-1 div.sk-parallel-item::after {\n",
       "  content: \"\";\n",
       "  width: 100%;\n",
       "  border-bottom: 2px solid var(--sklearn-color-text-on-default-background);\n",
       "  flex-grow: 1;\n",
       "}\n",
       "\n",
       "#sk-container-id-1 div.sk-parallel {\n",
       "  display: flex;\n",
       "  align-items: stretch;\n",
       "  justify-content: center;\n",
       "  background-color: var(--sklearn-color-background);\n",
       "  position: relative;\n",
       "}\n",
       "\n",
       "#sk-container-id-1 div.sk-parallel-item {\n",
       "  display: flex;\n",
       "  flex-direction: column;\n",
       "}\n",
       "\n",
       "#sk-container-id-1 div.sk-parallel-item:first-child::after {\n",
       "  align-self: flex-end;\n",
       "  width: 50%;\n",
       "}\n",
       "\n",
       "#sk-container-id-1 div.sk-parallel-item:last-child::after {\n",
       "  align-self: flex-start;\n",
       "  width: 50%;\n",
       "}\n",
       "\n",
       "#sk-container-id-1 div.sk-parallel-item:only-child::after {\n",
       "  width: 0;\n",
       "}\n",
       "\n",
       "/* Serial-specific style estimator block */\n",
       "\n",
       "#sk-container-id-1 div.sk-serial {\n",
       "  display: flex;\n",
       "  flex-direction: column;\n",
       "  align-items: center;\n",
       "  background-color: var(--sklearn-color-background);\n",
       "  padding-right: 1em;\n",
       "  padding-left: 1em;\n",
       "}\n",
       "\n",
       "\n",
       "/* Toggleable style: style used for estimator/Pipeline/ColumnTransformer box that is\n",
       "clickable and can be expanded/collapsed.\n",
       "- Pipeline and ColumnTransformer use this feature and define the default style\n",
       "- Estimators will overwrite some part of the style using the `sk-estimator` class\n",
       "*/\n",
       "\n",
       "/* Pipeline and ColumnTransformer style (default) */\n",
       "\n",
       "#sk-container-id-1 div.sk-toggleable {\n",
       "  /* Default theme specific background. It is overwritten whether we have a\n",
       "  specific estimator or a Pipeline/ColumnTransformer */\n",
       "  background-color: var(--sklearn-color-background);\n",
       "}\n",
       "\n",
       "/* Toggleable label */\n",
       "#sk-container-id-1 label.sk-toggleable__label {\n",
       "  cursor: pointer;\n",
       "  display: block;\n",
       "  width: 100%;\n",
       "  margin-bottom: 0;\n",
       "  padding: 0.5em;\n",
       "  box-sizing: border-box;\n",
       "  text-align: center;\n",
       "}\n",
       "\n",
       "#sk-container-id-1 label.sk-toggleable__label-arrow:before {\n",
       "  /* Arrow on the left of the label */\n",
       "  content: \"▸\";\n",
       "  float: left;\n",
       "  margin-right: 0.25em;\n",
       "  color: var(--sklearn-color-icon);\n",
       "}\n",
       "\n",
       "#sk-container-id-1 label.sk-toggleable__label-arrow:hover:before {\n",
       "  color: var(--sklearn-color-text);\n",
       "}\n",
       "\n",
       "/* Toggleable content - dropdown */\n",
       "\n",
       "#sk-container-id-1 div.sk-toggleable__content {\n",
       "  max-height: 0;\n",
       "  max-width: 0;\n",
       "  overflow: hidden;\n",
       "  text-align: left;\n",
       "  /* unfitted */\n",
       "  background-color: var(--sklearn-color-unfitted-level-0);\n",
       "}\n",
       "\n",
       "#sk-container-id-1 div.sk-toggleable__content.fitted {\n",
       "  /* fitted */\n",
       "  background-color: var(--sklearn-color-fitted-level-0);\n",
       "}\n",
       "\n",
       "#sk-container-id-1 div.sk-toggleable__content pre {\n",
       "  margin: 0.2em;\n",
       "  border-radius: 0.25em;\n",
       "  color: var(--sklearn-color-text);\n",
       "  /* unfitted */\n",
       "  background-color: var(--sklearn-color-unfitted-level-0);\n",
       "}\n",
       "\n",
       "#sk-container-id-1 div.sk-toggleable__content.fitted pre {\n",
       "  /* unfitted */\n",
       "  background-color: var(--sklearn-color-fitted-level-0);\n",
       "}\n",
       "\n",
       "#sk-container-id-1 input.sk-toggleable__control:checked~div.sk-toggleable__content {\n",
       "  /* Expand drop-down */\n",
       "  max-height: 200px;\n",
       "  max-width: 100%;\n",
       "  overflow: auto;\n",
       "}\n",
       "\n",
       "#sk-container-id-1 input.sk-toggleable__control:checked~label.sk-toggleable__label-arrow:before {\n",
       "  content: \"▾\";\n",
       "}\n",
       "\n",
       "/* Pipeline/ColumnTransformer-specific style */\n",
       "\n",
       "#sk-container-id-1 div.sk-label input.sk-toggleable__control:checked~label.sk-toggleable__label {\n",
       "  color: var(--sklearn-color-text);\n",
       "  background-color: var(--sklearn-color-unfitted-level-2);\n",
       "}\n",
       "\n",
       "#sk-container-id-1 div.sk-label.fitted input.sk-toggleable__control:checked~label.sk-toggleable__label {\n",
       "  background-color: var(--sklearn-color-fitted-level-2);\n",
       "}\n",
       "\n",
       "/* Estimator-specific style */\n",
       "\n",
       "/* Colorize estimator box */\n",
       "#sk-container-id-1 div.sk-estimator input.sk-toggleable__control:checked~label.sk-toggleable__label {\n",
       "  /* unfitted */\n",
       "  background-color: var(--sklearn-color-unfitted-level-2);\n",
       "}\n",
       "\n",
       "#sk-container-id-1 div.sk-estimator.fitted input.sk-toggleable__control:checked~label.sk-toggleable__label {\n",
       "  /* fitted */\n",
       "  background-color: var(--sklearn-color-fitted-level-2);\n",
       "}\n",
       "\n",
       "#sk-container-id-1 div.sk-label label.sk-toggleable__label,\n",
       "#sk-container-id-1 div.sk-label label {\n",
       "  /* The background is the default theme color */\n",
       "  color: var(--sklearn-color-text-on-default-background);\n",
       "}\n",
       "\n",
       "/* On hover, darken the color of the background */\n",
       "#sk-container-id-1 div.sk-label:hover label.sk-toggleable__label {\n",
       "  color: var(--sklearn-color-text);\n",
       "  background-color: var(--sklearn-color-unfitted-level-2);\n",
       "}\n",
       "\n",
       "/* Label box, darken color on hover, fitted */\n",
       "#sk-container-id-1 div.sk-label.fitted:hover label.sk-toggleable__label.fitted {\n",
       "  color: var(--sklearn-color-text);\n",
       "  background-color: var(--sklearn-color-fitted-level-2);\n",
       "}\n",
       "\n",
       "/* Estimator label */\n",
       "\n",
       "#sk-container-id-1 div.sk-label label {\n",
       "  font-family: monospace;\n",
       "  font-weight: bold;\n",
       "  display: inline-block;\n",
       "  line-height: 1.2em;\n",
       "}\n",
       "\n",
       "#sk-container-id-1 div.sk-label-container {\n",
       "  text-align: center;\n",
       "}\n",
       "\n",
       "/* Estimator-specific */\n",
       "#sk-container-id-1 div.sk-estimator {\n",
       "  font-family: monospace;\n",
       "  border: 1px dotted var(--sklearn-color-border-box);\n",
       "  border-radius: 0.25em;\n",
       "  box-sizing: border-box;\n",
       "  margin-bottom: 0.5em;\n",
       "  /* unfitted */\n",
       "  background-color: var(--sklearn-color-unfitted-level-0);\n",
       "}\n",
       "\n",
       "#sk-container-id-1 div.sk-estimator.fitted {\n",
       "  /* fitted */\n",
       "  background-color: var(--sklearn-color-fitted-level-0);\n",
       "}\n",
       "\n",
       "/* on hover */\n",
       "#sk-container-id-1 div.sk-estimator:hover {\n",
       "  /* unfitted */\n",
       "  background-color: var(--sklearn-color-unfitted-level-2);\n",
       "}\n",
       "\n",
       "#sk-container-id-1 div.sk-estimator.fitted:hover {\n",
       "  /* fitted */\n",
       "  background-color: var(--sklearn-color-fitted-level-2);\n",
       "}\n",
       "\n",
       "/* Specification for estimator info (e.g. \"i\" and \"?\") */\n",
       "\n",
       "/* Common style for \"i\" and \"?\" */\n",
       "\n",
       ".sk-estimator-doc-link,\n",
       "a:link.sk-estimator-doc-link,\n",
       "a:visited.sk-estimator-doc-link {\n",
       "  float: right;\n",
       "  font-size: smaller;\n",
       "  line-height: 1em;\n",
       "  font-family: monospace;\n",
       "  background-color: var(--sklearn-color-background);\n",
       "  border-radius: 1em;\n",
       "  height: 1em;\n",
       "  width: 1em;\n",
       "  text-decoration: none !important;\n",
       "  margin-left: 1ex;\n",
       "  /* unfitted */\n",
       "  border: var(--sklearn-color-unfitted-level-1) 1pt solid;\n",
       "  color: var(--sklearn-color-unfitted-level-1);\n",
       "}\n",
       "\n",
       ".sk-estimator-doc-link.fitted,\n",
       "a:link.sk-estimator-doc-link.fitted,\n",
       "a:visited.sk-estimator-doc-link.fitted {\n",
       "  /* fitted */\n",
       "  border: var(--sklearn-color-fitted-level-1) 1pt solid;\n",
       "  color: var(--sklearn-color-fitted-level-1);\n",
       "}\n",
       "\n",
       "/* On hover */\n",
       "div.sk-estimator:hover .sk-estimator-doc-link:hover,\n",
       ".sk-estimator-doc-link:hover,\n",
       "div.sk-label-container:hover .sk-estimator-doc-link:hover,\n",
       ".sk-estimator-doc-link:hover {\n",
       "  /* unfitted */\n",
       "  background-color: var(--sklearn-color-unfitted-level-3);\n",
       "  color: var(--sklearn-color-background);\n",
       "  text-decoration: none;\n",
       "}\n",
       "\n",
       "div.sk-estimator.fitted:hover .sk-estimator-doc-link.fitted:hover,\n",
       ".sk-estimator-doc-link.fitted:hover,\n",
       "div.sk-label-container:hover .sk-estimator-doc-link.fitted:hover,\n",
       ".sk-estimator-doc-link.fitted:hover {\n",
       "  /* fitted */\n",
       "  background-color: var(--sklearn-color-fitted-level-3);\n",
       "  color: var(--sklearn-color-background);\n",
       "  text-decoration: none;\n",
       "}\n",
       "\n",
       "/* Span, style for the box shown on hovering the info icon */\n",
       ".sk-estimator-doc-link span {\n",
       "  display: none;\n",
       "  z-index: 9999;\n",
       "  position: relative;\n",
       "  font-weight: normal;\n",
       "  right: .2ex;\n",
       "  padding: .5ex;\n",
       "  margin: .5ex;\n",
       "  width: min-content;\n",
       "  min-width: 20ex;\n",
       "  max-width: 50ex;\n",
       "  color: var(--sklearn-color-text);\n",
       "  box-shadow: 2pt 2pt 4pt #999;\n",
       "  /* unfitted */\n",
       "  background: var(--sklearn-color-unfitted-level-0);\n",
       "  border: .5pt solid var(--sklearn-color-unfitted-level-3);\n",
       "}\n",
       "\n",
       ".sk-estimator-doc-link.fitted span {\n",
       "  /* fitted */\n",
       "  background: var(--sklearn-color-fitted-level-0);\n",
       "  border: var(--sklearn-color-fitted-level-3);\n",
       "}\n",
       "\n",
       ".sk-estimator-doc-link:hover span {\n",
       "  display: block;\n",
       "}\n",
       "\n",
       "/* \"?\"-specific style due to the `<a>` HTML tag */\n",
       "\n",
       "#sk-container-id-1 a.estimator_doc_link {\n",
       "  float: right;\n",
       "  font-size: 1rem;\n",
       "  line-height: 1em;\n",
       "  font-family: monospace;\n",
       "  background-color: var(--sklearn-color-background);\n",
       "  border-radius: 1rem;\n",
       "  height: 1rem;\n",
       "  width: 1rem;\n",
       "  text-decoration: none;\n",
       "  /* unfitted */\n",
       "  color: var(--sklearn-color-unfitted-level-1);\n",
       "  border: var(--sklearn-color-unfitted-level-1) 1pt solid;\n",
       "}\n",
       "\n",
       "#sk-container-id-1 a.estimator_doc_link.fitted {\n",
       "  /* fitted */\n",
       "  border: var(--sklearn-color-fitted-level-1) 1pt solid;\n",
       "  color: var(--sklearn-color-fitted-level-1);\n",
       "}\n",
       "\n",
       "/* On hover */\n",
       "#sk-container-id-1 a.estimator_doc_link:hover {\n",
       "  /* unfitted */\n",
       "  background-color: var(--sklearn-color-unfitted-level-3);\n",
       "  color: var(--sklearn-color-background);\n",
       "  text-decoration: none;\n",
       "}\n",
       "\n",
       "#sk-container-id-1 a.estimator_doc_link.fitted:hover {\n",
       "  /* fitted */\n",
       "  background-color: var(--sklearn-color-fitted-level-3);\n",
       "}\n",
       "</style><div id=\"sk-container-id-1\" class=\"sk-top-container\"><div class=\"sk-text-repr-fallback\"><pre>LinearRegression()</pre><b>In a Jupyter environment, please rerun this cell to show the HTML representation or trust the notebook. <br />On GitHub, the HTML representation is unable to render, please try loading this page with nbviewer.org.</b></div><div class=\"sk-container\" hidden><div class=\"sk-item\"><div class=\"sk-estimator fitted sk-toggleable\"><input class=\"sk-toggleable__control sk-hidden--visually\" id=\"sk-estimator-id-1\" type=\"checkbox\" checked><label for=\"sk-estimator-id-1\" class=\"sk-toggleable__label fitted sk-toggleable__label-arrow fitted\">&nbsp;&nbsp;LinearRegression<a class=\"sk-estimator-doc-link fitted\" rel=\"noreferrer\" target=\"_blank\" href=\"https://scikit-learn.org/1.5/modules/generated/sklearn.linear_model.LinearRegression.html\">?<span>Documentation for LinearRegression</span></a><span class=\"sk-estimator-doc-link fitted\">i<span>Fitted</span></span></label><div class=\"sk-toggleable__content fitted\"><pre>LinearRegression()</pre></div> </div></div></div></div>"
      ],
      "text/plain": [
       "LinearRegression()"
      ]
     },
     "execution_count": 10,
     "metadata": {},
     "output_type": "execute_result"
    }
   ],
   "source": [
    "lr.fit(X_train,y_train)"
   ]
  },
  {
   "cell_type": "code",
   "execution_count": 11,
   "id": "3b41cb3c-fb5f-4db8-b598-ba22328ad63b",
   "metadata": {},
   "outputs": [],
   "source": [
    "predict = lr.predict(X_test)"
   ]
  },
  {
   "cell_type": "code",
   "execution_count": 12,
   "id": "fc1589a5-4d8d-4bba-9597-599555570dcb",
   "metadata": {},
   "outputs": [
    {
     "name": "stdout",
     "output_type": "stream",
     "text": [
      "y_test =  73.0 predict =  154.12138809538374\n",
      "y_test =  233.0 predict =  204.81835117652128\n",
      "y_test =  97.0 predict =  124.93755352869645\n",
      "y_test =  111.0 predict =  106.08950892826041\n",
      "y_test =  277.0 predict =  258.53485759855664\n",
      "y_test =  341.0 predict =  256.3310074008199\n",
      "y_test =  64.0 predict =  118.75087616091697\n",
      "y_test =  68.0 predict =  119.52440696107092\n",
      "y_test =  65.0 predict =  101.50816734991383\n",
      "y_test =  178.0 predict =  190.54048660815047\n",
      "y_test =  142.0 predict =  141.70656811061912\n",
      "y_test =  77.0 predict =  172.5188396146561\n",
      "y_test =  244.0 predict =  174.33861648821426\n",
      "y_test =  115.0 predict =  134.80942706126186\n",
      "y_test =  258.0 predict =  294.1399453657883\n",
      "y_test =  87.0 predict =  94.11798038458227\n",
      "y_test =  220.0 predict =  211.97059794859274\n",
      "y_test =  86.0 predict =  156.49579378119398\n",
      "y_test =  74.0 predict =  134.21000428481707\n",
      "y_test =  132.0 predict =  119.62664644088312\n",
      "y_test =  136.0 predict =  148.87842251198728\n",
      "y_test =  220.0 predict =  165.0087340928784\n",
      "y_test =  91.0 predict =  151.10021037547662\n",
      "y_test =  235.0 predict =  176.04063756372494\n",
      "y_test =  148.0 predict =  133.27769647287855\n",
      "y_test =  317.0 predict =  221.29555392247312\n",
      "y_test =  131.0 predict =  197.173249414096\n",
      "y_test =  84.0 predict =  96.15776879970161\n",
      "y_test =  65.0 predict =  50.26012710959077\n",
      "y_test =  217.0 predict =  230.48580316679613\n",
      "y_test =  306.0 predict =  242.0607386593835\n",
      "y_test =  79.0 predict =  114.11129217711564\n",
      "y_test =  158.0 predict =  67.07532416760324\n",
      "y_test =  54.0 predict =  94.5294382473276\n",
      "y_test =  123.0 predict =  201.21415375235506\n",
      "y_test =  174.0 predict =  167.0513620126931\n",
      "y_test =  237.0 predict =  159.88126799729832\n",
      "y_test =  212.0 predict =  192.7874665875178\n",
      "y_test =  179.0 predict =  114.49551325245065\n",
      "y_test =  281.0 predict =  233.48234551299328\n",
      "y_test =  187.0 predict =  140.82563044691454\n",
      "y_test =  200.0 predict =  121.06804090464465\n",
      "y_test =  68.0 predict =  192.27480771511543\n",
      "y_test =  163.0 predict =  191.12738845238863\n",
      "y_test =  141.0 predict =  179.1686578786644\n",
      "y_test =  202.0 predict =  148.3493560131741\n",
      "y_test =  178.0 predict =  163.47414621761723\n",
      "y_test =  242.0 predict =  276.81647883846273\n",
      "y_test =  47.0 predict =  100.17926431639194\n",
      "y_test =  131.0 predict =  164.10555297563144\n",
      "y_test =  243.0 predict =  255.80762188692853\n",
      "y_test =  142.0 predict =  136.9466203974692\n",
      "y_test =  200.0 predict =  152.37503698927486\n",
      "y_test =  89.0 predict =  107.92237882178222\n",
      "y_test =  232.0 predict =  194.21924677997163\n",
      "y_test =  55.0 predict =  77.34670792324704\n",
      "y_test =  253.0 predict =  118.50482478968173\n",
      "y_test =  128.0 predict =  68.38335762826217\n",
      "y_test =  104.0 predict =  154.2925852895303\n",
      "y_test =  184.0 predict =  162.48840259273192\n",
      "y_test =  110.0 predict =  168.36788325871754\n",
      "y_test =  198.0 predict =  156.8779032227417\n",
      "y_test =  81.0 predict =  97.1419179691222\n",
      "y_test =  195.0 predict =  238.16712149650385\n",
      "y_test =  150.0 predict =  145.46179903815946\n",
      "y_test =  63.0 predict =  117.65702432598289\n",
      "y_test =  151.0 predict =  168.88784310744063\n",
      "y_test =  233.0 predict =  198.38683887355106\n",
      "y_test =  178.0 predict =  118.24053714311353\n",
      "y_test =  84.0 predict =  124.64552811949477\n",
      "y_test =  237.0 predict =  223.1770036781399\n",
      "y_test =  109.0 predict =  200.6301238598485\n",
      "y_test =  131.0 predict =  129.54414665715046\n",
      "y_test =  252.0 predict =  158.1584764970044\n",
      "y_test =  200.0 predict =  154.33256500297165\n",
      "y_test =  160.0 predict =  114.47070768978242\n",
      "y_test =  200.0 predict =  70.44906407019921\n",
      "y_test =  51.0 predict =  76.3973879022132\n",
      "y_test =  111.0 predict =  172.41584590630973\n",
      "y_test =  77.0 predict =  80.56270076704186\n",
      "y_test =  201.0 predict =  80.27228340046096\n",
      "y_test =  88.0 predict =  89.46150247599772\n",
      "y_test =  78.0 predict =  186.2157205231604\n",
      "y_test =  243.0 predict =  275.4627540336113\n",
      "y_test =  268.0 predict =  208.26784221748065\n",
      "y_test =  55.0 predict =  143.79451509378293\n",
      "y_test =  270.0 predict =  291.28766846438407\n",
      "y_test =  288.0 predict =  206.32474844138187\n",
      "y_test =  91.0 predict =  94.22935404453371\n"
     ]
    }
   ],
   "source": [
    "for i in range(y_test.shape[0]):\n",
    "    print('y_test = ',y_test[i],'predict = ',predict[i])"
   ]
  },
  {
   "cell_type": "code",
   "execution_count": 13,
   "id": "553670a4-f661-4c12-9238-86b70dfaa9aa",
   "metadata": {},
   "outputs": [
    {
     "data": {
      "text/plain": [
       "array([154.1213881])"
      ]
     },
     "execution_count": 13,
     "metadata": {},
     "output_type": "execute_result"
    }
   ],
   "source": [
    "# lr.predict(np.array([73]).reshape(1,1))\n",
    "lr.predict(X_test[0].reshape(1,10))"
   ]
  },
  {
   "cell_type": "code",
   "execution_count": 14,
   "id": "7670af76-d2d5-4d4b-89cf-fe3f27b7bed6",
   "metadata": {},
   "outputs": [
    {
     "name": "stdout",
     "output_type": "stream",
     "text": [
      "coef =  [  -9.15865318 -205.45432163  516.69374454  340.61999905 -895.5520019\n",
      "  561.22067904  153.89310954  126.73139688  861.12700152   52.42112238] \n",
      "intercept =  151.88331005254167\n"
     ]
    }
   ],
   "source": [
    "print('coef = ',lr.coef_,'\\nintercept = ',lr.intercept_)"
   ]
  },
  {
   "cell_type": "markdown",
   "id": "6acd3f16-aaea-4f35-8ef9-8c951da667aa",
   "metadata": {},
   "source": [
    "# Making our own Linear Regression class"
   ]
  },
  {
   "cell_type": "code",
   "execution_count": 15,
   "id": "dc3c081a-82ee-45b9-9ba0-e4c29eabddef",
   "metadata": {},
   "outputs": [],
   "source": [
    "class MeraLR:\n",
    "    def __init__(self):\n",
    "        self.coef_ = None\n",
    "        self.intercept_ = None\n",
    "\n",
    "    def fit(self,X_train,y_train):\n",
    "        X_train = np.insert(X_train,0,1,axis = 1)\n",
    "        betas = np.linalg.inv(np.dot(X_train.T,X_train)).dot(X_train.T).dot(y_train)\n",
    "        self.coef_ = betas[1:]\n",
    "        self.intercept_ = betas[0]\n",
    "    def predict(self,X_test):\n",
    "        return np.dot(X_test,self.coef_) + self.intercept_"
   ]
  },
  {
   "cell_type": "code",
   "execution_count": 16,
   "id": "cf52b25f-4782-4de8-83df-5349cecff370",
   "metadata": {},
   "outputs": [],
   "source": [
    "mlr = MeraLR()"
   ]
  },
  {
   "cell_type": "code",
   "execution_count": 17,
   "id": "ba047510-d7dc-4a81-b6c4-520dcd58431e",
   "metadata": {},
   "outputs": [],
   "source": [
    "mlr.fit(X_train,y_train)"
   ]
  },
  {
   "cell_type": "code",
   "execution_count": 18,
   "id": "161dde45-7b3f-4a0a-96d7-7a06ddb410e7",
   "metadata": {},
   "outputs": [],
   "source": [
    "mpredict = mlr.predict(X_test)"
   ]
  },
  {
   "cell_type": "code",
   "execution_count": 19,
   "id": "f298d0a1-0ab5-4951-9cd8-cf6364ae8b69",
   "metadata": {},
   "outputs": [
    {
     "data": {
      "text/plain": [
       "array([154.1213881 , 204.81835118, 124.93755353, 106.08950893,\n",
       "       258.5348576 , 256.3310074 , 118.75087616, 119.52440696,\n",
       "       101.50816735, 190.54048661, 141.70656811, 172.51883961,\n",
       "       174.33861649, 134.80942706, 294.13994537,  94.11798038,\n",
       "       211.97059795, 156.49579378, 134.21000428, 119.62664644,\n",
       "       148.87842251, 165.00873409, 151.10021038, 176.04063756,\n",
       "       133.27769647, 221.29555392, 197.17324941,  96.1577688 ,\n",
       "        50.26012711, 230.48580317, 242.06073866, 114.11129218,\n",
       "        67.07532417,  94.52943825, 201.21415375, 167.05136201,\n",
       "       159.881268  , 192.78746659, 114.49551325, 233.48234551,\n",
       "       140.82563045, 121.0680409 , 192.27480772, 191.12738845,\n",
       "       179.16865788, 148.34935601, 163.47414622, 276.81647884,\n",
       "       100.17926432, 164.10555298, 255.80762189, 136.9466204 ,\n",
       "       152.37503699, 107.92237882, 194.21924678,  77.34670792,\n",
       "       118.50482479,  68.38335763, 154.29258529, 162.48840259,\n",
       "       168.36788326, 156.87790322,  97.14191797, 238.1671215 ,\n",
       "       145.46179904, 117.65702433, 168.88784311, 198.38683887,\n",
       "       118.24053714, 124.64552812, 223.17700368, 200.63012386,\n",
       "       129.54414666, 158.1584765 , 154.332565  , 114.47070769,\n",
       "        70.44906407,  76.3973879 , 172.41584591,  80.56270077,\n",
       "        80.2722834 ,  89.46150248, 186.21572052, 275.46275403,\n",
       "       208.26784222, 143.79451509, 291.28766846, 206.32474844,\n",
       "        94.22935404])"
      ]
     },
     "execution_count": 19,
     "metadata": {},
     "output_type": "execute_result"
    }
   ],
   "source": [
    "mpredict"
   ]
  },
  {
   "cell_type": "code",
   "execution_count": 20,
   "id": "6c1e9c22-ff9e-4f16-9ee4-97d1a40c8ae5",
   "metadata": {},
   "outputs": [
    {
     "data": {
      "text/plain": [
       "np.float64(154.12138809538385)"
      ]
     },
     "execution_count": 20,
     "metadata": {},
     "output_type": "execute_result"
    }
   ],
   "source": [
    "mlr.predict(X_test[0])"
   ]
  },
  {
   "cell_type": "code",
   "execution_count": 21,
   "id": "b98bc007-2520-4a82-a09c-4834c1b0895e",
   "metadata": {},
   "outputs": [
    {
     "name": "stdout",
     "output_type": "stream",
     "text": [
      "y_test =  73.0 mpredict =  154.12138809538385\n",
      "y_test =  233.0 mpredict =  204.81835117652116\n",
      "y_test =  97.0 mpredict =  124.93755352869651\n",
      "y_test =  111.0 mpredict =  106.08950892826053\n",
      "y_test =  277.0 mpredict =  258.53485759855596\n",
      "y_test =  341.0 mpredict =  256.33100740082045\n",
      "y_test =  64.0 mpredict =  118.75087616091687\n",
      "y_test =  68.0 mpredict =  119.52440696107081\n",
      "y_test =  65.0 mpredict =  101.50816734991386\n",
      "y_test =  178.0 mpredict =  190.54048660815056\n",
      "y_test =  142.0 mpredict =  141.7065681106191\n",
      "y_test =  77.0 mpredict =  172.51883961465632\n",
      "y_test =  244.0 mpredict =  174.33861648821474\n",
      "y_test =  115.0 mpredict =  134.80942706126206\n",
      "y_test =  258.0 mpredict =  294.13994536578775\n",
      "y_test =  87.0 mpredict =  94.11798038458235\n",
      "y_test =  220.0 mpredict =  211.97059794859274\n",
      "y_test =  86.0 mpredict =  156.49579378119384\n",
      "y_test =  74.0 mpredict =  134.210004284817\n",
      "y_test =  132.0 mpredict =  119.62664644088319\n",
      "y_test =  136.0 mpredict =  148.87842251198708\n",
      "y_test =  220.0 mpredict =  165.00873409287854\n",
      "y_test =  91.0 mpredict =  151.1002103754772\n",
      "y_test =  235.0 mpredict =  176.04063756372477\n",
      "y_test =  148.0 mpredict =  133.2776964728787\n",
      "y_test =  317.0 mpredict =  221.29555392247363\n",
      "y_test =  131.0 mpredict =  197.1732494140962\n",
      "y_test =  84.0 mpredict =  96.15776879970194\n",
      "y_test =  65.0 mpredict =  50.260127109590755\n",
      "y_test =  217.0 mpredict =  230.48580316679625\n",
      "y_test =  306.0 mpredict =  242.0607386593838\n",
      "y_test =  79.0 mpredict =  114.11129217711587\n",
      "y_test =  158.0 mpredict =  67.07532416760318\n",
      "y_test =  54.0 mpredict =  94.52943824732775\n",
      "y_test =  123.0 mpredict =  201.21415375235463\n",
      "y_test =  174.0 mpredict =  167.0513620126935\n",
      "y_test =  237.0 mpredict =  159.88126799729844\n",
      "y_test =  212.0 mpredict =  192.78746658751794\n",
      "y_test =  179.0 mpredict =  114.49551325245073\n",
      "y_test =  281.0 mpredict =  233.4823455129933\n",
      "y_test =  187.0 mpredict =  140.82563044691446\n",
      "y_test =  200.0 mpredict =  121.06804090464456\n",
      "y_test =  68.0 mpredict =  192.27480771511537\n",
      "y_test =  163.0 mpredict =  191.12738845238886\n",
      "y_test =  141.0 mpredict =  179.1686578786644\n",
      "y_test =  202.0 mpredict =  148.3493560131741\n",
      "y_test =  178.0 mpredict =  163.47414621761732\n",
      "y_test =  242.0 mpredict =  276.8164788384621\n",
      "y_test =  47.0 mpredict =  100.17926431639209\n",
      "y_test =  131.0 mpredict =  164.1055529756317\n",
      "y_test =  243.0 mpredict =  255.8076218869282\n",
      "y_test =  142.0 mpredict =  136.94662039746916\n",
      "y_test =  200.0 mpredict =  152.37503698927503\n",
      "y_test =  89.0 mpredict =  107.92237882178271\n",
      "y_test =  232.0 mpredict =  194.21924677997146\n",
      "y_test =  55.0 mpredict =  77.34670792324712\n",
      "y_test =  253.0 mpredict =  118.50482478968226\n",
      "y_test =  128.0 mpredict =  68.38335762826237\n",
      "y_test =  104.0 mpredict =  154.29258528953062\n",
      "y_test =  184.0 mpredict =  162.4884025927321\n",
      "y_test =  110.0 mpredict =  168.36788325871746\n",
      "y_test =  198.0 mpredict =  156.87790322274193\n",
      "y_test =  81.0 mpredict =  97.14191796912237\n",
      "y_test =  195.0 mpredict =  238.1671214965038\n",
      "y_test =  150.0 mpredict =  145.46179903815977\n",
      "y_test =  63.0 mpredict =  117.65702432598326\n",
      "y_test =  151.0 mpredict =  168.88784310744023\n",
      "y_test =  233.0 mpredict =  198.38683887355137\n",
      "y_test =  178.0 mpredict =  118.24053714311351\n",
      "y_test =  84.0 mpredict =  124.64552811949487\n",
      "y_test =  237.0 mpredict =  223.17700367814012\n",
      "y_test =  109.0 mpredict =  200.6301238598487\n",
      "y_test =  131.0 mpredict =  129.5441466571503\n",
      "y_test =  252.0 mpredict =  158.1584764970042\n",
      "y_test =  200.0 mpredict =  154.3325650029715\n",
      "y_test =  160.0 mpredict =  114.47070768978259\n",
      "y_test =  200.0 mpredict =  70.4490640701992\n",
      "y_test =  51.0 mpredict =  76.39738790221315\n",
      "y_test =  111.0 mpredict =  172.41584590630978\n",
      "y_test =  77.0 mpredict =  80.56270076704178\n",
      "y_test =  201.0 mpredict =  80.27228340046108\n",
      "y_test =  88.0 mpredict =  89.46150247599786\n",
      "y_test =  78.0 mpredict =  186.21572052316048\n",
      "y_test =  243.0 mpredict =  275.46275403361136\n",
      "y_test =  268.0 mpredict =  208.26784221748076\n",
      "y_test =  55.0 mpredict =  143.794515093783\n",
      "y_test =  270.0 mpredict =  291.28766846438407\n",
      "y_test =  288.0 mpredict =  206.324748441382\n",
      "y_test =  91.0 mpredict =  94.2293540445337\n"
     ]
    }
   ],
   "source": [
    "for i in range(y_test.shape[0]):\n",
    "    print('y_test = ',y_test[i],'mpredict = ',mpredict[i])"
   ]
  },
  {
   "cell_type": "code",
   "execution_count": 22,
   "id": "c58cbdcd-2b29-4287-a304-e6a170c9865a",
   "metadata": {},
   "outputs": [
    {
     "name": "stdout",
     "output_type": "stream",
     "text": [
      "predict =  154.12138809538374 mpredict =  154.12138809538385\n",
      "predict =  204.81835117652128 mpredict =  204.81835117652116\n",
      "predict =  124.93755352869645 mpredict =  124.93755352869651\n",
      "predict =  106.08950892826041 mpredict =  106.08950892826053\n",
      "predict =  258.53485759855664 mpredict =  258.53485759855596\n",
      "predict =  256.3310074008199 mpredict =  256.33100740082045\n",
      "predict =  118.75087616091697 mpredict =  118.75087616091687\n",
      "predict =  119.52440696107092 mpredict =  119.52440696107081\n",
      "predict =  101.50816734991383 mpredict =  101.50816734991386\n",
      "predict =  190.54048660815047 mpredict =  190.54048660815056\n",
      "predict =  141.70656811061912 mpredict =  141.7065681106191\n",
      "predict =  172.5188396146561 mpredict =  172.51883961465632\n",
      "predict =  174.33861648821426 mpredict =  174.33861648821474\n",
      "predict =  134.80942706126186 mpredict =  134.80942706126206\n",
      "predict =  294.1399453657883 mpredict =  294.13994536578775\n",
      "predict =  94.11798038458227 mpredict =  94.11798038458235\n",
      "predict =  211.97059794859274 mpredict =  211.97059794859274\n",
      "predict =  156.49579378119398 mpredict =  156.49579378119384\n",
      "predict =  134.21000428481707 mpredict =  134.210004284817\n",
      "predict =  119.62664644088312 mpredict =  119.62664644088319\n",
      "predict =  148.87842251198728 mpredict =  148.87842251198708\n",
      "predict =  165.0087340928784 mpredict =  165.00873409287854\n",
      "predict =  151.10021037547662 mpredict =  151.1002103754772\n",
      "predict =  176.04063756372494 mpredict =  176.04063756372477\n",
      "predict =  133.27769647287855 mpredict =  133.2776964728787\n",
      "predict =  221.29555392247312 mpredict =  221.29555392247363\n",
      "predict =  197.173249414096 mpredict =  197.1732494140962\n",
      "predict =  96.15776879970161 mpredict =  96.15776879970194\n",
      "predict =  50.26012710959077 mpredict =  50.260127109590755\n",
      "predict =  230.48580316679613 mpredict =  230.48580316679625\n",
      "predict =  242.0607386593835 mpredict =  242.0607386593838\n",
      "predict =  114.11129217711564 mpredict =  114.11129217711587\n",
      "predict =  67.07532416760324 mpredict =  67.07532416760318\n",
      "predict =  94.5294382473276 mpredict =  94.52943824732775\n",
      "predict =  201.21415375235506 mpredict =  201.21415375235463\n",
      "predict =  167.0513620126931 mpredict =  167.0513620126935\n",
      "predict =  159.88126799729832 mpredict =  159.88126799729844\n",
      "predict =  192.7874665875178 mpredict =  192.78746658751794\n",
      "predict =  114.49551325245065 mpredict =  114.49551325245073\n",
      "predict =  233.48234551299328 mpredict =  233.4823455129933\n",
      "predict =  140.82563044691454 mpredict =  140.82563044691446\n",
      "predict =  121.06804090464465 mpredict =  121.06804090464456\n",
      "predict =  192.27480771511543 mpredict =  192.27480771511537\n",
      "predict =  191.12738845238863 mpredict =  191.12738845238886\n",
      "predict =  179.1686578786644 mpredict =  179.1686578786644\n",
      "predict =  148.3493560131741 mpredict =  148.3493560131741\n",
      "predict =  163.47414621761723 mpredict =  163.47414621761732\n",
      "predict =  276.81647883846273 mpredict =  276.8164788384621\n",
      "predict =  100.17926431639194 mpredict =  100.17926431639209\n",
      "predict =  164.10555297563144 mpredict =  164.1055529756317\n",
      "predict =  255.80762188692853 mpredict =  255.8076218869282\n",
      "predict =  136.9466203974692 mpredict =  136.94662039746916\n",
      "predict =  152.37503698927486 mpredict =  152.37503698927503\n",
      "predict =  107.92237882178222 mpredict =  107.92237882178271\n",
      "predict =  194.21924677997163 mpredict =  194.21924677997146\n",
      "predict =  77.34670792324704 mpredict =  77.34670792324712\n",
      "predict =  118.50482478968173 mpredict =  118.50482478968226\n",
      "predict =  68.38335762826217 mpredict =  68.38335762826237\n",
      "predict =  154.2925852895303 mpredict =  154.29258528953062\n",
      "predict =  162.48840259273192 mpredict =  162.4884025927321\n",
      "predict =  168.36788325871754 mpredict =  168.36788325871746\n",
      "predict =  156.8779032227417 mpredict =  156.87790322274193\n",
      "predict =  97.1419179691222 mpredict =  97.14191796912237\n",
      "predict =  238.16712149650385 mpredict =  238.1671214965038\n",
      "predict =  145.46179903815946 mpredict =  145.46179903815977\n",
      "predict =  117.65702432598289 mpredict =  117.65702432598326\n",
      "predict =  168.88784310744063 mpredict =  168.88784310744023\n",
      "predict =  198.38683887355106 mpredict =  198.38683887355137\n",
      "predict =  118.24053714311353 mpredict =  118.24053714311351\n",
      "predict =  124.64552811949477 mpredict =  124.64552811949487\n",
      "predict =  223.1770036781399 mpredict =  223.17700367814012\n",
      "predict =  200.6301238598485 mpredict =  200.6301238598487\n",
      "predict =  129.54414665715046 mpredict =  129.5441466571503\n",
      "predict =  158.1584764970044 mpredict =  158.1584764970042\n",
      "predict =  154.33256500297165 mpredict =  154.3325650029715\n",
      "predict =  114.47070768978242 mpredict =  114.47070768978259\n",
      "predict =  70.44906407019921 mpredict =  70.4490640701992\n",
      "predict =  76.3973879022132 mpredict =  76.39738790221315\n",
      "predict =  172.41584590630973 mpredict =  172.41584590630978\n",
      "predict =  80.56270076704186 mpredict =  80.56270076704178\n",
      "predict =  80.27228340046096 mpredict =  80.27228340046108\n",
      "predict =  89.46150247599772 mpredict =  89.46150247599786\n",
      "predict =  186.2157205231604 mpredict =  186.21572052316048\n",
      "predict =  275.4627540336113 mpredict =  275.46275403361136\n",
      "predict =  208.26784221748065 mpredict =  208.26784221748076\n",
      "predict =  143.79451509378293 mpredict =  143.794515093783\n",
      "predict =  291.28766846438407 mpredict =  291.28766846438407\n",
      "predict =  206.32474844138187 mpredict =  206.324748441382\n",
      "predict =  94.22935404453371 mpredict =  94.2293540445337\n"
     ]
    }
   ],
   "source": [
    "for i in range(predict.shape[0]):\n",
    "    print('predict = ',predict[i],'mpredict = ',mpredict[i])"
   ]
  },
  {
   "cell_type": "code",
   "execution_count": 23,
   "id": "7218f569-e645-40f2-a2d3-eddf14a0ee92",
   "metadata": {},
   "outputs": [
    {
     "data": {
      "text/plain": [
       "array([  -9.15865318, -205.45432163,  516.69374454,  340.61999905,\n",
       "       -895.5520019 ,  561.22067904,  153.89310954,  126.73139688,\n",
       "        861.12700152,   52.42112238])"
      ]
     },
     "execution_count": 23,
     "metadata": {},
     "output_type": "execute_result"
    }
   ],
   "source": [
    "mlr.coef_"
   ]
  },
  {
   "cell_type": "code",
   "execution_count": 24,
   "id": "aac66cc4-8196-4308-aec2-d6e7cfbe5abd",
   "metadata": {},
   "outputs": [
    {
     "data": {
      "text/plain": [
       "np.float64(151.8833100525417)"
      ]
     },
     "execution_count": 24,
     "metadata": {},
     "output_type": "execute_result"
    }
   ],
   "source": [
    "mlr.intercept_"
   ]
  },
  {
   "cell_type": "code",
   "execution_count": 25,
   "id": "0db7b972-e29c-42f7-ba40-8df7b275a5f1",
   "metadata": {},
   "outputs": [
    {
     "data": {
      "text/plain": [
       "array([  -9.15865318, -205.45432163,  516.69374454,  340.61999905,\n",
       "       -895.5520019 ,  561.22067904,  153.89310954,  126.73139688,\n",
       "        861.12700152,   52.42112238])"
      ]
     },
     "execution_count": 25,
     "metadata": {},
     "output_type": "execute_result"
    }
   ],
   "source": [
    "lr.coef_"
   ]
  },
  {
   "cell_type": "code",
   "execution_count": 26,
   "id": "b4154c3b-c0e3-4e0d-b987-f94adec69db6",
   "metadata": {},
   "outputs": [
    {
     "data": {
      "text/plain": [
       "np.float64(151.88331005254167)"
      ]
     },
     "execution_count": 26,
     "metadata": {},
     "output_type": "execute_result"
    }
   ],
   "source": [
    "lr.intercept_"
   ]
  },
  {
   "cell_type": "code",
   "execution_count": 27,
   "id": "b8f671ef-4e34-4627-bbfb-d5f5775881f2",
   "metadata": {},
   "outputs": [
    {
     "name": "stdout",
     "output_type": "stream",
     "text": [
      "MAE of lr 45.21303419046903\n",
      "MAE of mlr 45.213034190469\n"
     ]
    }
   ],
   "source": [
    "print('MAE of lr',mean_absolute_error(y_test,predict))\n",
    "print('MAE of mlr',mean_absolute_error(y_test,mpredict))"
   ]
  },
  {
   "cell_type": "code",
   "execution_count": 28,
   "id": "7a0b8a3b-de3f-4834-a5c8-7c48314e5547",
   "metadata": {},
   "outputs": [
    {
     "name": "stdout",
     "output_type": "stream",
     "text": [
      "MSE of lr 3094.4566715660626\n",
      "MSE of mlr 3094.456671566058\n"
     ]
    }
   ],
   "source": [
    "print('MSE of lr',mean_squared_error(y_test,predict))\n",
    "print('MSE of mlr',mean_squared_error(y_test,mpredict))"
   ]
  },
  {
   "cell_type": "code",
   "execution_count": 29,
   "id": "cbebf2a8-1219-46f6-a90d-86471f9ac6dd",
   "metadata": {},
   "outputs": [
    {
     "name": "stdout",
     "output_type": "stream",
     "text": [
      "R2 of lr 0.4399338661568968\n",
      "R2 of mlr 0.43993386615689756\n"
     ]
    }
   ],
   "source": [
    "print('R2 of lr',r2_score(y_test,predict))\n",
    "print('R2 of mlr',r2_score(y_test,mpredict))"
   ]
  },
  {
   "cell_type": "code",
   "execution_count": null,
   "id": "fe4a7620-e696-436f-8399-e7f2cbf1aafc",
   "metadata": {},
   "outputs": [],
   "source": []
  },
  {
   "cell_type": "code",
   "execution_count": 37,
   "id": "ca004875-4e91-4a3c-a40d-d1cfb15e9bb9",
   "metadata": {},
   "outputs": [
    {
     "data": {
      "text/plain": [
       "(10,)"
      ]
     },
     "execution_count": 37,
     "metadata": {},
     "output_type": "execute_result"
    }
   ],
   "source": [
    "mlr.coef_.shape"
   ]
  },
  {
   "cell_type": "code",
   "execution_count": 38,
   "id": "b2458145-1178-4356-8a7d-8f50c87ae599",
   "metadata": {},
   "outputs": [
    {
     "data": {
      "text/plain": [
       "array([  -9.15865318, -205.45432163,  516.69374454,  340.61999905,\n",
       "       -895.5520019 ,  561.22067904,  153.89310954,  126.73139688,\n",
       "        861.12700152,   52.42112238])"
      ]
     },
     "execution_count": 38,
     "metadata": {},
     "output_type": "execute_result"
    }
   ],
   "source": [
    "mlr.coef_"
   ]
  },
  {
   "cell_type": "code",
   "execution_count": 41,
   "id": "5468569a-f556-458f-a70d-666b53fd8064",
   "metadata": {},
   "outputs": [
    {
     "data": {
      "text/plain": [
       "(353, 10)"
      ]
     },
     "execution_count": 41,
     "metadata": {},
     "output_type": "execute_result"
    }
   ],
   "source": [
    "X_train.shape"
   ]
  },
  {
   "cell_type": "code",
   "execution_count": 42,
   "id": "6af4f0a1-2c5a-40d5-b603-513ce06d5558",
   "metadata": {},
   "outputs": [
    {
     "data": {
      "text/plain": [
       "(10, 353)"
      ]
     },
     "execution_count": 42,
     "metadata": {},
     "output_type": "execute_result"
    }
   ],
   "source": [
    "X_train.T.shape"
   ]
  }
 ],
 "metadata": {
  "kernelspec": {
   "display_name": "Python 3 (ipykernel)",
   "language": "python",
   "name": "python3"
  },
  "language_info": {
   "codemirror_mode": {
    "name": "ipython",
    "version": 3
   },
   "file_extension": ".py",
   "mimetype": "text/x-python",
   "name": "python",
   "nbconvert_exporter": "python",
   "pygments_lexer": "ipython3",
   "version": "3.9.2"
  }
 },
 "nbformat": 4,
 "nbformat_minor": 5
}
